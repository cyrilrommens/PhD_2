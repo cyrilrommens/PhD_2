{
 "cells": [
  {
   "cell_type": "markdown",
   "id": "079ffce2",
   "metadata": {},
   "source": [
    "# Summarize relevant code from 'Compute information metrics'"
   ]
  },
  {
   "cell_type": "markdown",
   "id": "b8e21753",
   "metadata": {},
   "source": [
    "Import libraries"
   ]
  },
  {
   "cell_type": "code",
   "execution_count": 2,
   "id": "d30f4b66",
   "metadata": {},
   "outputs": [],
   "source": [
    "import numpy as np\n",
    "import pandas as pd\n",
    "import os\n",
    "import glob\n",
    "from collections import defaultdict\n",
    "import hoi\n",
    "from hoi.plot import plot_landscape\n",
    "from hoi.utils import get_nbest_mult\n",
    "from numpy import random\n",
    "import matplotlib.pyplot as plt\n",
    "from hoi.metrics import InfoTopo, TC, DTC, Sinfo, Oinfo, RedundancyphiID, SynergyphiID\n",
    "from hoi.core import entropy_hist"
   ]
  },
  {
   "cell_type": "markdown",
   "id": "0a260ab9",
   "metadata": {},
   "source": [
    "Define functions"
   ]
  },
  {
   "cell_type": "code",
   "execution_count": 6,
   "id": "4e596ee8",
   "metadata": {},
   "outputs": [],
   "source": [
    "# Function to compute a desired information metric\n",
    "def compute_information_metric(metric, data):\n",
    "    data_array=np.array(np.array(data)).astype(float)\n",
    "    model = metric(data_array)\n",
    "    metric_results = model.fit(minsize=2,maxsize=4)\n",
    "    return metric_results, model\n",
    "\n",
    "# Function to divide list into list per order\n",
    "def divide_list_into_orders(hoi, model):\n",
    "    minsize = None\n",
    "    maxsize = None\n",
    "\n",
    "    # get orders\n",
    "    if model:\n",
    "        orders = model.order\n",
    "\n",
    "    # get computed orders\n",
    "    if minsize is None:\n",
    "        minsize = orders.min()\n",
    "    if maxsize is None:\n",
    "        maxsize = orders.max()   \n",
    "\n",
    "    # order selection\n",
    "    keep = np.logical_and(orders >= minsize, orders <= maxsize)\n",
    "    hoi = hoi[keep]\n",
    "    orders = orders[keep]\n",
    "\n",
    "    # Group the values per order\n",
    "    grouped = defaultdict(list)\n",
    "    for o, h in zip(orders, hoi):\n",
    "        grouped[o].append(h.item())  # Convert from NumPy array to float\n",
    "\n",
    "    # Sort each list\n",
    "    for key in grouped:\n",
    "        grouped[key] = sorted(grouped[key])\n",
    "\n",
    "    return grouped\n",
    "\n",
    "# Obtain information metric analysis\n",
    "def analyse_information_metric(metric, data):\n",
    "    # Compute information metric\n",
    "    metric_values, model = compute_information_metric(metric, data)\n",
    "    \n",
    "    # Divide list into lists per order\n",
    "    divided_dict = divide_list_into_orders(metric_values, model)\n",
    "\n",
    "    return divided_dict\n",
    "\n",
    "# Sliding timewindow to compute metrics per timestep for one simulation\n",
    "def sliding_window(metric, timeseries, windowsize, stepsize):\n",
    "    metric_dict_list = []\n",
    "    for i in np.arange(0, len(timeseries)-windowsize, stepsize):\n",
    "        metric_dict_step = dict(analyse_information_metric(metric, timeseries[i:i+windowsize]))\n",
    "        metric_dict_list.append(metric_dict_step)\n",
    "    return metric_dict_list\n",
    "\n",
    "# Average the metric values for one simulation\n",
    "def average_metric_data(metric):\n",
    "    # Get all key-index combinations\n",
    "    all_key_indices = set()\n",
    "    for sim in metric:\n",
    "        for d in sim:\n",
    "            for k, v in d.items():\n",
    "                for i in range(len(v)):\n",
    "                    all_key_indices.add((k, i))\n",
    "    \n",
    "    sorted_keys = sorted(all_key_indices)  # sort by key then index\n",
    "\n",
    "    data = []\n",
    "    for t in range(len(metric[0])):  # number of timesteps\n",
    "        averaged_dict = {}\n",
    "        for k, idx in sorted_keys:\n",
    "            values = [sim[t].get(k, [0.0] * (idx + 1))[idx] for sim in metric]\n",
    "            averaged_dict[(k, idx)] = np.mean(values)\n",
    "        sorted_values = [averaged_dict[(k, idx)] for k, idx in sorted_keys]\n",
    "        data.append(sorted_values)\n",
    "\n",
    "    # Compute label positions per key\n",
    "    key_indices = defaultdict(list)\n",
    "    for idx, (k, _) in enumerate(sorted_keys):\n",
    "        key_indices[k].append(idx)\n",
    "\n",
    "    label_positions = {k: max(idxs) for k, idxs in key_indices.items()}\n",
    "    labels = [f\"{k}\" for k in label_positions.keys()]  # optional: add count\n",
    "\n",
    "    return np.array(data), labels, label_positions\n",
    "\n",
    "# Average the metric value from multiple simulations\n",
    "def compute_averages(metric):\n",
    "    num_simulations = len(metric)\n",
    "    sim_averages = []\n",
    "\n",
    "    # Compute average per timestep for each simulation\n",
    "    for sim in metric:\n",
    "        avg = [np.mean([v for lst in d.values() for v in lst]) for d in sim]\n",
    "        sim_averages.append(avg)\n",
    "\n",
    "    # Compute average across simulations at each timestep\n",
    "    avg_combined = [\n",
    "        np.mean([sim_avg[i] for sim_avg in sim_averages])\n",
    "        for i in range(len(sim_averages[0]))\n",
    "    ]\n",
    "\n",
    "    return (*sim_averages, avg_combined)"
   ]
  },
  {
   "cell_type": "markdown",
   "id": "0e50c8b8",
   "metadata": {},
   "source": [
    "Check desired dataset for length to estimate computational cost"
   ]
  },
  {
   "cell_type": "code",
   "execution_count": 4,
   "id": "31055dfd",
   "metadata": {},
   "outputs": [
    {
     "data": {
      "text/html": [
       "<div>\n",
       "<style scoped>\n",
       "    .dataframe tbody tr th:only-of-type {\n",
       "        vertical-align: middle;\n",
       "    }\n",
       "\n",
       "    .dataframe tbody tr th {\n",
       "        vertical-align: top;\n",
       "    }\n",
       "\n",
       "    .dataframe thead th {\n",
       "        text-align: right;\n",
       "    }\n",
       "</style>\n",
       "<table border=\"1\" class=\"dataframe\">\n",
       "  <thead>\n",
       "    <tr style=\"text-align: right;\">\n",
       "      <th></th>\n",
       "      <th>feature_0</th>\n",
       "      <th>feature_1</th>\n",
       "      <th>feature_2</th>\n",
       "      <th>feature_3</th>\n",
       "      <th>feature_4</th>\n",
       "      <th>feature_5</th>\n",
       "      <th>feature_6</th>\n",
       "      <th>feature_7</th>\n",
       "      <th>feature_8</th>\n",
       "      <th>feature_9</th>\n",
       "    </tr>\n",
       "  </thead>\n",
       "  <tbody>\n",
       "    <tr>\n",
       "      <th>0</th>\n",
       "      <td>2.888620</td>\n",
       "      <td>2.963583</td>\n",
       "      <td>2.941034</td>\n",
       "      <td>2.907475</td>\n",
       "      <td>2.997698</td>\n",
       "      <td>2.819780</td>\n",
       "      <td>2.871828</td>\n",
       "      <td>3.002295</td>\n",
       "      <td>3.017301</td>\n",
       "      <td>2.981392</td>\n",
       "    </tr>\n",
       "    <tr>\n",
       "      <th>1</th>\n",
       "      <td>1.024123</td>\n",
       "      <td>1.247070</td>\n",
       "      <td>1.161374</td>\n",
       "      <td>1.131673</td>\n",
       "      <td>1.089949</td>\n",
       "      <td>1.301919</td>\n",
       "      <td>1.327699</td>\n",
       "      <td>1.280846</td>\n",
       "      <td>1.257297</td>\n",
       "      <td>1.238579</td>\n",
       "    </tr>\n",
       "    <tr>\n",
       "      <th>2</th>\n",
       "      <td>-1.261368</td>\n",
       "      <td>-1.386216</td>\n",
       "      <td>-1.259535</td>\n",
       "      <td>-1.396076</td>\n",
       "      <td>-1.242805</td>\n",
       "      <td>-1.306014</td>\n",
       "      <td>-1.261035</td>\n",
       "      <td>-1.174956</td>\n",
       "      <td>-1.373322</td>\n",
       "      <td>-1.301050</td>\n",
       "    </tr>\n",
       "    <tr>\n",
       "      <th>3</th>\n",
       "      <td>-1.194970</td>\n",
       "      <td>-1.166117</td>\n",
       "      <td>-1.377412</td>\n",
       "      <td>-1.196743</td>\n",
       "      <td>-1.369570</td>\n",
       "      <td>-1.509440</td>\n",
       "      <td>-1.277335</td>\n",
       "      <td>-1.322489</td>\n",
       "      <td>-1.117772</td>\n",
       "      <td>-1.375818</td>\n",
       "    </tr>\n",
       "    <tr>\n",
       "      <th>4</th>\n",
       "      <td>0.547018</td>\n",
       "      <td>0.400023</td>\n",
       "      <td>0.470189</td>\n",
       "      <td>0.428333</td>\n",
       "      <td>0.472502</td>\n",
       "      <td>0.365688</td>\n",
       "      <td>0.600215</td>\n",
       "      <td>0.363679</td>\n",
       "      <td>0.414373</td>\n",
       "      <td>0.603948</td>\n",
       "    </tr>\n",
       "  </tbody>\n",
       "</table>\n",
       "</div>"
      ],
      "text/plain": [
       "   feature_0  feature_1  feature_2  feature_3  feature_4  feature_5  \\\n",
       "0   2.888620   2.963583   2.941034   2.907475   2.997698   2.819780   \n",
       "1   1.024123   1.247070   1.161374   1.131673   1.089949   1.301919   \n",
       "2  -1.261368  -1.386216  -1.259535  -1.396076  -1.242805  -1.306014   \n",
       "3  -1.194970  -1.166117  -1.377412  -1.196743  -1.369570  -1.509440   \n",
       "4   0.547018   0.400023   0.470189   0.428333   0.472502   0.365688   \n",
       "\n",
       "   feature_6  feature_7  feature_8  feature_9  \n",
       "0   2.871828   3.002295   3.017301   2.981392  \n",
       "1   1.327699   1.280846   1.257297   1.238579  \n",
       "2  -1.261035  -1.174956  -1.373322  -1.301050  \n",
       "3  -1.277335  -1.322489  -1.117772  -1.375818  \n",
       "4   0.600215   0.363679   0.414373   0.603948  "
      ]
     },
     "execution_count": 4,
     "metadata": {},
     "output_type": "execute_result"
    }
   ],
   "source": [
    "# Define the directory path (use raw string or double backslashes for Windows paths)\n",
    "directory = r'Data\\Artificial_data\\Redundant_timeseries'\n",
    "\n",
    "# Use glob to get all CSV file paths\n",
    "csv_files = glob.glob(os.path.join(directory, '*.csv'))\n",
    "\n",
    "df = pd.read_csv(csv_files[0])\n",
    "\n",
    "df.head()"
   ]
  },
  {
   "cell_type": "markdown",
   "id": "a3707b6e",
   "metadata": {},
   "source": [
    "Import metric data and visualise"
   ]
  },
  {
   "cell_type": "markdown",
   "id": "2a9848e3",
   "metadata": {},
   "source": [
    "Import stored timeseries data and compute metrics"
   ]
  },
  {
   "cell_type": "code",
   "execution_count": 7,
   "id": "666e88e3",
   "metadata": {},
   "outputs": [
    {
     "name": "stderr",
     "output_type": "stream",
     "text": [
      "Compute entropy with gc\n",
      "    Copnorm and demean the data\n",
      "Get list of multiplets\n"
     ]
    },
    {
     "data": {
      "application/vnd.jupyter.widget-view+json": {
       "model_id": "455a8ecc701148d49bfeb3cb00d36c86",
       "version_major": 2,
       "version_minor": 0
      },
      "text/plain": [
       "  0%|          |  0/4 [00:00<?,       ?it/s]"
      ]
     },
     "metadata": {},
     "output_type": "display_data"
    },
    {
     "name": "stderr",
     "output_type": "stream",
     "text": [
      "Get list of multiplets\n"
     ]
    },
    {
     "data": {
      "application/vnd.jupyter.widget-view+json": {
       "model_id": "16320084b3dd49b49f6d457ec8e1afed",
       "version_major": 2,
       "version_minor": 0
      },
      "text/plain": [
       "  0%|          | 0/375 [00:00<?, ?it/s]"
      ]
     },
     "metadata": {},
     "output_type": "display_data"
    },
    {
     "name": "stderr",
     "output_type": "stream",
     "text": [
      "Compute entropy with gc\n",
      "    Copnorm and demean the data\n",
      "Get list of multiplets\n"
     ]
    },
    {
     "data": {
      "application/vnd.jupyter.widget-view+json": {
       "model_id": "4a6fcfc3ea174aeb9ac2a5339b75d192",
       "version_major": 2,
       "version_minor": 0
      },
      "text/plain": [
       "  0%|          |  0/4 [00:00<?,       ?it/s]"
      ]
     },
     "metadata": {},
     "output_type": "display_data"
    },
    {
     "name": "stderr",
     "output_type": "stream",
     "text": [
      "Get list of multiplets\n"
     ]
    },
    {
     "data": {
      "application/vnd.jupyter.widget-view+json": {
       "model_id": "d5926e6c59cf4a1c832cbe6538d9168f",
       "version_major": 2,
       "version_minor": 0
      },
      "text/plain": [
       "  0%|          | 0/375 [00:00<?, ?it/s]"
      ]
     },
     "metadata": {},
     "output_type": "display_data"
    },
    {
     "name": "stderr",
     "output_type": "stream",
     "text": [
      "Compute entropy with gc\n",
      "    Copnorm and demean the data\n",
      "Get list of multiplets\n"
     ]
    },
    {
     "data": {
      "application/vnd.jupyter.widget-view+json": {
       "model_id": "1a68230812bf4bbca508a98c21a29fd6",
       "version_major": 2,
       "version_minor": 0
      },
      "text/plain": [
       "  0%|          |  0/4 [00:00<?,       ?it/s]"
      ]
     },
     "metadata": {},
     "output_type": "display_data"
    },
    {
     "name": "stderr",
     "output_type": "stream",
     "text": [
      "Get list of multiplets\n"
     ]
    },
    {
     "data": {
      "application/vnd.jupyter.widget-view+json": {
       "model_id": "0e37581210cf4ed1bfeb6c1832f1f6b7",
       "version_major": 2,
       "version_minor": 0
      },
      "text/plain": [
       "  0%|          | 0/375 [00:00<?, ?it/s]"
      ]
     },
     "metadata": {},
     "output_type": "display_data"
    },
    {
     "name": "stderr",
     "output_type": "stream",
     "text": [
      "Compute entropy with gc\n",
      "    Copnorm and demean the data\n",
      "Get list of multiplets\n"
     ]
    },
    {
     "data": {
      "application/vnd.jupyter.widget-view+json": {
       "model_id": "0cb4b5a421d14690bf216164da5efce2",
       "version_major": 2,
       "version_minor": 0
      },
      "text/plain": [
       "  0%|          |  0/4 [00:00<?,       ?it/s]"
      ]
     },
     "metadata": {},
     "output_type": "display_data"
    },
    {
     "name": "stderr",
     "output_type": "stream",
     "text": [
      "Get list of multiplets\n"
     ]
    },
    {
     "data": {
      "application/vnd.jupyter.widget-view+json": {
       "model_id": "4f30f739ab304d2690d68a1df81168f5",
       "version_major": 2,
       "version_minor": 0
      },
      "text/plain": [
       "  0%|          | 0/375 [00:00<?, ?it/s]"
      ]
     },
     "metadata": {},
     "output_type": "display_data"
    },
    {
     "name": "stderr",
     "output_type": "stream",
     "text": [
      "Compute entropy with gc\n",
      "    Copnorm and demean the data\n",
      "Get list of multiplets\n"
     ]
    },
    {
     "data": {
      "application/vnd.jupyter.widget-view+json": {
       "model_id": "8910a5f34b26413097b3f6c76d7345ee",
       "version_major": 2,
       "version_minor": 0
      },
      "text/plain": [
       "  0%|          |  0/4 [00:00<?,       ?it/s]"
      ]
     },
     "metadata": {},
     "output_type": "display_data"
    },
    {
     "name": "stderr",
     "output_type": "stream",
     "text": [
      "Get list of multiplets\n"
     ]
    },
    {
     "data": {
      "application/vnd.jupyter.widget-view+json": {
       "model_id": "b81c6ba7e975414991620d821d8d1263",
       "version_major": 2,
       "version_minor": 0
      },
      "text/plain": [
       "  0%|          | 0/375 [00:00<?, ?it/s]"
      ]
     },
     "metadata": {},
     "output_type": "display_data"
    },
    {
     "name": "stderr",
     "output_type": "stream",
     "text": [
      "Compute entropy with gc\n",
      "    Copnorm and demean the data\n",
      "Get list of multiplets\n"
     ]
    },
    {
     "data": {
      "application/vnd.jupyter.widget-view+json": {
       "model_id": "ae11a6f0dc18434a84a11e14a391021a",
       "version_major": 2,
       "version_minor": 0
      },
      "text/plain": [
       "  0%|          |  0/4 [00:00<?,       ?it/s]"
      ]
     },
     "metadata": {},
     "output_type": "display_data"
    },
    {
     "name": "stderr",
     "output_type": "stream",
     "text": [
      "Get list of multiplets\n"
     ]
    },
    {
     "data": {
      "application/vnd.jupyter.widget-view+json": {
       "model_id": "d3e8a1773af44d4b9c5eacc15ec0db5d",
       "version_major": 2,
       "version_minor": 0
      },
      "text/plain": [
       "  0%|          | 0/375 [00:00<?, ?it/s]"
      ]
     },
     "metadata": {},
     "output_type": "display_data"
    },
    {
     "name": "stderr",
     "output_type": "stream",
     "text": [
      "Compute entropy with gc\n",
      "    Copnorm and demean the data\n",
      "Get list of multiplets\n"
     ]
    },
    {
     "data": {
      "application/vnd.jupyter.widget-view+json": {
       "model_id": "1fec66fa904648dc8476c12cc46af74d",
       "version_major": 2,
       "version_minor": 0
      },
      "text/plain": [
       "  0%|          |  0/4 [00:00<?,       ?it/s]"
      ]
     },
     "metadata": {},
     "output_type": "display_data"
    },
    {
     "name": "stderr",
     "output_type": "stream",
     "text": [
      "Get list of multiplets\n"
     ]
    },
    {
     "data": {
      "application/vnd.jupyter.widget-view+json": {
       "model_id": "06fc2c2be2c7407fa57d66fee958234b",
       "version_major": 2,
       "version_minor": 0
      },
      "text/plain": [
       "  0%|          | 0/375 [00:00<?, ?it/s]"
      ]
     },
     "metadata": {},
     "output_type": "display_data"
    },
    {
     "name": "stderr",
     "output_type": "stream",
     "text": [
      "Compute entropy with gc\n",
      "    Copnorm and demean the data\n",
      "Get list of multiplets\n"
     ]
    },
    {
     "data": {
      "application/vnd.jupyter.widget-view+json": {
       "model_id": "c3f04d3810784ebbb209ee4fdef162c9",
       "version_major": 2,
       "version_minor": 0
      },
      "text/plain": [
       "  0%|          |  0/4 [00:00<?,       ?it/s]"
      ]
     },
     "metadata": {},
     "output_type": "display_data"
    },
    {
     "name": "stderr",
     "output_type": "stream",
     "text": [
      "Get list of multiplets\n"
     ]
    },
    {
     "data": {
      "application/vnd.jupyter.widget-view+json": {
       "model_id": "605a85619d264e259ec6c2cf406f260a",
       "version_major": 2,
       "version_minor": 0
      },
      "text/plain": [
       "  0%|          | 0/375 [00:00<?, ?it/s]"
      ]
     },
     "metadata": {},
     "output_type": "display_data"
    },
    {
     "name": "stderr",
     "output_type": "stream",
     "text": [
      "Compute entropy with gc\n",
      "    Copnorm and demean the data\n",
      "Get list of multiplets\n"
     ]
    },
    {
     "data": {
      "application/vnd.jupyter.widget-view+json": {
       "model_id": "6397c3d09e5544a2a57953bcbcc2a307",
       "version_major": 2,
       "version_minor": 0
      },
      "text/plain": [
       "  0%|          |  0/4 [00:00<?,       ?it/s]"
      ]
     },
     "metadata": {},
     "output_type": "display_data"
    },
    {
     "name": "stderr",
     "output_type": "stream",
     "text": [
      "Get list of multiplets\n"
     ]
    },
    {
     "data": {
      "application/vnd.jupyter.widget-view+json": {
       "model_id": "95e3e8ffdcc947e28c5564381054c2ea",
       "version_major": 2,
       "version_minor": 0
      },
      "text/plain": [
       "  0%|          | 0/375 [00:00<?, ?it/s]"
      ]
     },
     "metadata": {},
     "output_type": "display_data"
    },
    {
     "name": "stderr",
     "output_type": "stream",
     "text": [
      "Compute entropy with gc\n",
      "    Copnorm and demean the data\n",
      "Get list of multiplets\n"
     ]
    },
    {
     "data": {
      "application/vnd.jupyter.widget-view+json": {
       "model_id": "69e26359b0d6491b833e70155a1c200d",
       "version_major": 2,
       "version_minor": 0
      },
      "text/plain": [
       "  0%|          |  0/4 [00:00<?,       ?it/s]"
      ]
     },
     "metadata": {},
     "output_type": "display_data"
    },
    {
     "name": "stderr",
     "output_type": "stream",
     "text": [
      "Get list of multiplets\n"
     ]
    },
    {
     "data": {
      "application/vnd.jupyter.widget-view+json": {
       "model_id": "a7b5dddfb3774f3e8fabfb8918ac00d1",
       "version_major": 2,
       "version_minor": 0
      },
      "text/plain": [
       "  0%|          | 0/375 [00:00<?, ?it/s]"
      ]
     },
     "metadata": {},
     "output_type": "display_data"
    },
    {
     "name": "stderr",
     "output_type": "stream",
     "text": [
      "Compute entropy with gc\n",
      "    Copnorm and demean the data\n",
      "Get list of multiplets\n"
     ]
    },
    {
     "data": {
      "application/vnd.jupyter.widget-view+json": {
       "model_id": "5177e6105af14b06a841af607b6166b6",
       "version_major": 2,
       "version_minor": 0
      },
      "text/plain": [
       "  0%|          |  0/4 [00:00<?,       ?it/s]"
      ]
     },
     "metadata": {},
     "output_type": "display_data"
    },
    {
     "name": "stderr",
     "output_type": "stream",
     "text": [
      "Get list of multiplets\n"
     ]
    },
    {
     "data": {
      "application/vnd.jupyter.widget-view+json": {
       "model_id": "9bf72c71d0e24c8abc5a35a29a8f9a5c",
       "version_major": 2,
       "version_minor": 0
      },
      "text/plain": [
       "  0%|          | 0/375 [00:00<?, ?it/s]"
      ]
     },
     "metadata": {},
     "output_type": "display_data"
    },
    {
     "name": "stderr",
     "output_type": "stream",
     "text": [
      "Compute entropy with gc\n",
      "    Copnorm and demean the data\n",
      "Get list of multiplets\n"
     ]
    },
    {
     "data": {
      "application/vnd.jupyter.widget-view+json": {
       "model_id": "218f797af983431d9515021749617477",
       "version_major": 2,
       "version_minor": 0
      },
      "text/plain": [
       "  0%|          |  0/4 [00:00<?,       ?it/s]"
      ]
     },
     "metadata": {},
     "output_type": "display_data"
    },
    {
     "name": "stderr",
     "output_type": "stream",
     "text": [
      "Get list of multiplets\n"
     ]
    },
    {
     "data": {
      "application/vnd.jupyter.widget-view+json": {
       "model_id": "75705475b5a8420e8b13869eae305ea5",
       "version_major": 2,
       "version_minor": 0
      },
      "text/plain": [
       "  0%|          | 0/375 [00:00<?, ?it/s]"
      ]
     },
     "metadata": {},
     "output_type": "display_data"
    },
    {
     "name": "stderr",
     "output_type": "stream",
     "text": [
      "Compute entropy with gc\n",
      "    Copnorm and demean the data\n",
      "Get list of multiplets\n"
     ]
    },
    {
     "data": {
      "application/vnd.jupyter.widget-view+json": {
       "model_id": "21d64d61b526476a8ff2f6c873a3ba2e",
       "version_major": 2,
       "version_minor": 0
      },
      "text/plain": [
       "  0%|          |  0/4 [00:00<?,       ?it/s]"
      ]
     },
     "metadata": {},
     "output_type": "display_data"
    },
    {
     "name": "stderr",
     "output_type": "stream",
     "text": [
      "Get list of multiplets\n"
     ]
    },
    {
     "data": {
      "application/vnd.jupyter.widget-view+json": {
       "model_id": "b956e005393046a5853fea2e2183cdb1",
       "version_major": 2,
       "version_minor": 0
      },
      "text/plain": [
       "  0%|          | 0/375 [00:00<?, ?it/s]"
      ]
     },
     "metadata": {},
     "output_type": "display_data"
    },
    {
     "name": "stderr",
     "output_type": "stream",
     "text": [
      "Compute entropy with gc\n",
      "    Copnorm and demean the data\n",
      "Get list of multiplets\n"
     ]
    },
    {
     "data": {
      "application/vnd.jupyter.widget-view+json": {
       "model_id": "c05ea18118174b929e3c04a19dc6b51e",
       "version_major": 2,
       "version_minor": 0
      },
      "text/plain": [
       "  0%|          |  0/4 [00:00<?,       ?it/s]"
      ]
     },
     "metadata": {},
     "output_type": "display_data"
    },
    {
     "name": "stderr",
     "output_type": "stream",
     "text": [
      "Get list of multiplets\n"
     ]
    },
    {
     "data": {
      "application/vnd.jupyter.widget-view+json": {
       "model_id": "877d799229674a9dad77d40d2a7dd852",
       "version_major": 2,
       "version_minor": 0
      },
      "text/plain": [
       "  0%|          | 0/375 [00:00<?, ?it/s]"
      ]
     },
     "metadata": {},
     "output_type": "display_data"
    },
    {
     "name": "stderr",
     "output_type": "stream",
     "text": [
      "Compute entropy with gc\n",
      "    Copnorm and demean the data\n",
      "Get list of multiplets\n"
     ]
    },
    {
     "data": {
      "application/vnd.jupyter.widget-view+json": {
       "model_id": "c9ec0fe6148842b4a6249e60326e1e28",
       "version_major": 2,
       "version_minor": 0
      },
      "text/plain": [
       "  0%|          |  0/4 [00:00<?,       ?it/s]"
      ]
     },
     "metadata": {},
     "output_type": "display_data"
    },
    {
     "name": "stderr",
     "output_type": "stream",
     "text": [
      "Get list of multiplets\n"
     ]
    },
    {
     "data": {
      "application/vnd.jupyter.widget-view+json": {
       "model_id": "2cc681c366f84edf9370ac8ab507ac85",
       "version_major": 2,
       "version_minor": 0
      },
      "text/plain": [
       "  0%|          | 0/375 [00:00<?, ?it/s]"
      ]
     },
     "metadata": {},
     "output_type": "display_data"
    },
    {
     "name": "stderr",
     "output_type": "stream",
     "text": [
      "    Copnorm and demean the data\n",
      "Get list of multiplets\n"
     ]
    },
    {
     "data": {
      "application/vnd.jupyter.widget-view+json": {
       "model_id": "c4c7a54e3bf94870944db90b1419bad9",
       "version_major": 2,
       "version_minor": 0
      },
      "text/plain": [
       "  0%|          |  0/3 [00:00<?,       ?it/s]"
      ]
     },
     "metadata": {},
     "output_type": "display_data"
    },
    {
     "name": "stderr",
     "output_type": "stream",
     "text": [
      "    Copnorm and demean the data\n",
      "Get list of multiplets\n"
     ]
    },
    {
     "data": {
      "application/vnd.jupyter.widget-view+json": {
       "model_id": "2a7a80b9546543279b012a7ab3846624",
       "version_major": 2,
       "version_minor": 0
      },
      "text/plain": [
       "  0%|          |  0/3 [00:00<?,       ?it/s]"
      ]
     },
     "metadata": {},
     "output_type": "display_data"
    },
    {
     "name": "stderr",
     "output_type": "stream",
     "text": [
      "    Copnorm and demean the data\n",
      "Get list of multiplets\n"
     ]
    },
    {
     "data": {
      "application/vnd.jupyter.widget-view+json": {
       "model_id": "ab82b5a861cd407db6e7329283e95374",
       "version_major": 2,
       "version_minor": 0
      },
      "text/plain": [
       "  0%|          |  0/3 [00:00<?,       ?it/s]"
      ]
     },
     "metadata": {},
     "output_type": "display_data"
    },
    {
     "name": "stderr",
     "output_type": "stream",
     "text": [
      "    Copnorm and demean the data\n",
      "Get list of multiplets\n"
     ]
    },
    {
     "data": {
      "application/vnd.jupyter.widget-view+json": {
       "model_id": "bd13f8672d494c56b1d46c1133dfe257",
       "version_major": 2,
       "version_minor": 0
      },
      "text/plain": [
       "  0%|          |  0/3 [00:00<?,       ?it/s]"
      ]
     },
     "metadata": {},
     "output_type": "display_data"
    },
    {
     "name": "stderr",
     "output_type": "stream",
     "text": [
      "    Copnorm and demean the data\n",
      "Get list of multiplets\n"
     ]
    },
    {
     "data": {
      "application/vnd.jupyter.widget-view+json": {
       "model_id": "52d3f5629ba64de9ab46dbfbb5996d64",
       "version_major": 2,
       "version_minor": 0
      },
      "text/plain": [
       "  0%|          |  0/3 [00:00<?,       ?it/s]"
      ]
     },
     "metadata": {},
     "output_type": "display_data"
    },
    {
     "name": "stderr",
     "output_type": "stream",
     "text": [
      "    Copnorm and demean the data\n",
      "Get list of multiplets\n"
     ]
    },
    {
     "data": {
      "application/vnd.jupyter.widget-view+json": {
       "model_id": "c01fb5ba225c41a795e0afec4ce332fa",
       "version_major": 2,
       "version_minor": 0
      },
      "text/plain": [
       "  0%|          |  0/3 [00:00<?,       ?it/s]"
      ]
     },
     "metadata": {},
     "output_type": "display_data"
    },
    {
     "name": "stderr",
     "output_type": "stream",
     "text": [
      "    Copnorm and demean the data\n",
      "Get list of multiplets\n"
     ]
    },
    {
     "data": {
      "application/vnd.jupyter.widget-view+json": {
       "model_id": "05dc4c4e4eb5455cba027bb3895ca66a",
       "version_major": 2,
       "version_minor": 0
      },
      "text/plain": [
       "  0%|          |  0/3 [00:00<?,       ?it/s]"
      ]
     },
     "metadata": {},
     "output_type": "display_data"
    },
    {
     "name": "stderr",
     "output_type": "stream",
     "text": [
      "    Copnorm and demean the data\n",
      "Get list of multiplets\n"
     ]
    },
    {
     "data": {
      "application/vnd.jupyter.widget-view+json": {
       "model_id": "72810be7a63e4ab982eff19d0f75227b",
       "version_major": 2,
       "version_minor": 0
      },
      "text/plain": [
       "  0%|          |  0/3 [00:00<?,       ?it/s]"
      ]
     },
     "metadata": {},
     "output_type": "display_data"
    },
    {
     "name": "stderr",
     "output_type": "stream",
     "text": [
      "    Copnorm and demean the data\n",
      "Get list of multiplets\n"
     ]
    },
    {
     "data": {
      "application/vnd.jupyter.widget-view+json": {
       "model_id": "d8d336043eaf4326a8e3133cdf3ad101",
       "version_major": 2,
       "version_minor": 0
      },
      "text/plain": [
       "  0%|          |  0/3 [00:00<?,       ?it/s]"
      ]
     },
     "metadata": {},
     "output_type": "display_data"
    },
    {
     "name": "stderr",
     "output_type": "stream",
     "text": [
      "    Copnorm and demean the data\n",
      "Get list of multiplets\n"
     ]
    },
    {
     "data": {
      "application/vnd.jupyter.widget-view+json": {
       "model_id": "e967fdf130c9406dbe597f3576fb1958",
       "version_major": 2,
       "version_minor": 0
      },
      "text/plain": [
       "  0%|          |  0/3 [00:00<?,       ?it/s]"
      ]
     },
     "metadata": {},
     "output_type": "display_data"
    },
    {
     "name": "stderr",
     "output_type": "stream",
     "text": [
      "    Copnorm and demean the data\n",
      "Get list of multiplets\n"
     ]
    },
    {
     "data": {
      "application/vnd.jupyter.widget-view+json": {
       "model_id": "5a90813c68ff4407a474210261c1c34d",
       "version_major": 2,
       "version_minor": 0
      },
      "text/plain": [
       "  0%|          |  0/3 [00:00<?,       ?it/s]"
      ]
     },
     "metadata": {},
     "output_type": "display_data"
    },
    {
     "name": "stderr",
     "output_type": "stream",
     "text": [
      "    Copnorm and demean the data\n",
      "Get list of multiplets\n"
     ]
    },
    {
     "data": {
      "application/vnd.jupyter.widget-view+json": {
       "model_id": "4b2cf2c9be0e444481cd47fc528a3253",
       "version_major": 2,
       "version_minor": 0
      },
      "text/plain": [
       "  0%|          |  0/3 [00:00<?,       ?it/s]"
      ]
     },
     "metadata": {},
     "output_type": "display_data"
    },
    {
     "name": "stderr",
     "output_type": "stream",
     "text": [
      "    Copnorm and demean the data\n",
      "Get list of multiplets\n"
     ]
    },
    {
     "data": {
      "application/vnd.jupyter.widget-view+json": {
       "model_id": "2de620f8649440db900128a405573b86",
       "version_major": 2,
       "version_minor": 0
      },
      "text/plain": [
       "  0%|          |  0/3 [00:00<?,       ?it/s]"
      ]
     },
     "metadata": {},
     "output_type": "display_data"
    },
    {
     "name": "stderr",
     "output_type": "stream",
     "text": [
      "    Copnorm and demean the data\n",
      "Get list of multiplets\n"
     ]
    },
    {
     "data": {
      "application/vnd.jupyter.widget-view+json": {
       "model_id": "2733a35681084a4b9da443d8d9741489",
       "version_major": 2,
       "version_minor": 0
      },
      "text/plain": [
       "  0%|          |  0/3 [00:00<?,       ?it/s]"
      ]
     },
     "metadata": {},
     "output_type": "display_data"
    },
    {
     "name": "stderr",
     "output_type": "stream",
     "text": [
      "    Copnorm and demean the data\n",
      "Get list of multiplets\n"
     ]
    },
    {
     "data": {
      "application/vnd.jupyter.widget-view+json": {
       "model_id": "8625b1bf593441f6be478d645c2955a1",
       "version_major": 2,
       "version_minor": 0
      },
      "text/plain": [
       "  0%|          |  0/3 [00:00<?,       ?it/s]"
      ]
     },
     "metadata": {},
     "output_type": "display_data"
    },
    {
     "name": "stderr",
     "output_type": "stream",
     "text": [
      "    Copnorm and demean the data\n",
      "Get list of multiplets\n"
     ]
    },
    {
     "data": {
      "application/vnd.jupyter.widget-view+json": {
       "model_id": "c738995b0cb845a6aa6b45514c568294",
       "version_major": 2,
       "version_minor": 0
      },
      "text/plain": [
       "  0%|          |  0/3 [00:00<?,       ?it/s]"
      ]
     },
     "metadata": {},
     "output_type": "display_data"
    },
    {
     "name": "stderr",
     "output_type": "stream",
     "text": [
      "    Copnorm and demean the data\n",
      "Get list of multiplets\n"
     ]
    },
    {
     "data": {
      "application/vnd.jupyter.widget-view+json": {
       "model_id": "311df4423ac943f3b7eca52efb61bd02",
       "version_major": 2,
       "version_minor": 0
      },
      "text/plain": [
       "  0%|          |  0/3 [00:00<?,       ?it/s]"
      ]
     },
     "metadata": {},
     "output_type": "display_data"
    },
    {
     "name": "stderr",
     "output_type": "stream",
     "text": [
      "    Copnorm and demean the data\n",
      "Get list of multiplets\n"
     ]
    },
    {
     "data": {
      "application/vnd.jupyter.widget-view+json": {
       "model_id": "34f95934669e4949bd9e342e671729e0",
       "version_major": 2,
       "version_minor": 0
      },
      "text/plain": [
       "  0%|          |  0/3 [00:00<?,       ?it/s]"
      ]
     },
     "metadata": {},
     "output_type": "display_data"
    },
    {
     "name": "stderr",
     "output_type": "stream",
     "text": [
      "    Copnorm and demean the data\n",
      "Get list of multiplets\n"
     ]
    },
    {
     "data": {
      "application/vnd.jupyter.widget-view+json": {
       "model_id": "4ccfac3365dd4fe2ac6d4bd3488551de",
       "version_major": 2,
       "version_minor": 0
      },
      "text/plain": [
       "  0%|          |  0/3 [00:00<?,       ?it/s]"
      ]
     },
     "metadata": {},
     "output_type": "display_data"
    },
    {
     "name": "stderr",
     "output_type": "stream",
     "text": [
      "    Copnorm and demean the data\n",
      "Get list of multiplets\n"
     ]
    },
    {
     "data": {
      "application/vnd.jupyter.widget-view+json": {
       "model_id": "9bd4d513d23a4df1bcc659543f23edae",
       "version_major": 2,
       "version_minor": 0
      },
      "text/plain": [
       "  0%|          |  0/3 [00:00<?,       ?it/s]"
      ]
     },
     "metadata": {},
     "output_type": "display_data"
    },
    {
     "name": "stderr",
     "output_type": "stream",
     "text": [
      "    Copnorm and demean the data\n",
      "Get list of multiplets\n"
     ]
    },
    {
     "data": {
      "application/vnd.jupyter.widget-view+json": {
       "model_id": "cc4bb27af9ec455185fc3cc870857ec7",
       "version_major": 2,
       "version_minor": 0
      },
      "text/plain": [
       "  0%|          |  0/3 [00:00<?,       ?it/s]"
      ]
     },
     "metadata": {},
     "output_type": "display_data"
    },
    {
     "name": "stderr",
     "output_type": "stream",
     "text": [
      "    Copnorm and demean the data\n",
      "Get list of multiplets\n"
     ]
    },
    {
     "data": {
      "application/vnd.jupyter.widget-view+json": {
       "model_id": "d6483a35299b499294bd331c86982fe5",
       "version_major": 2,
       "version_minor": 0
      },
      "text/plain": [
       "  0%|          |  0/3 [00:00<?,       ?it/s]"
      ]
     },
     "metadata": {},
     "output_type": "display_data"
    },
    {
     "name": "stderr",
     "output_type": "stream",
     "text": [
      "    Copnorm and demean the data\n",
      "Get list of multiplets\n"
     ]
    },
    {
     "data": {
      "application/vnd.jupyter.widget-view+json": {
       "model_id": "2c1862b304d44acaa50d56d72cf05e23",
       "version_major": 2,
       "version_minor": 0
      },
      "text/plain": [
       "  0%|          |  0/3 [00:00<?,       ?it/s]"
      ]
     },
     "metadata": {},
     "output_type": "display_data"
    },
    {
     "name": "stderr",
     "output_type": "stream",
     "text": [
      "    Copnorm and demean the data\n",
      "Get list of multiplets\n"
     ]
    },
    {
     "data": {
      "application/vnd.jupyter.widget-view+json": {
       "model_id": "9ab68be911144dbf9927c1b56bae5a65",
       "version_major": 2,
       "version_minor": 0
      },
      "text/plain": [
       "  0%|          |  0/3 [00:00<?,       ?it/s]"
      ]
     },
     "metadata": {},
     "output_type": "display_data"
    },
    {
     "name": "stderr",
     "output_type": "stream",
     "text": [
      "    Copnorm and demean the data\n",
      "Get list of multiplets\n"
     ]
    },
    {
     "data": {
      "application/vnd.jupyter.widget-view+json": {
       "model_id": "b659b0ee702c4798bb3d50a7919a9b38",
       "version_major": 2,
       "version_minor": 0
      },
      "text/plain": [
       "  0%|          |  0/3 [00:00<?,       ?it/s]"
      ]
     },
     "metadata": {},
     "output_type": "display_data"
    },
    {
     "name": "stderr",
     "output_type": "stream",
     "text": [
      "    Copnorm and demean the data\n",
      "Get list of multiplets\n"
     ]
    },
    {
     "data": {
      "application/vnd.jupyter.widget-view+json": {
       "model_id": "c529bf00b6ae4b6dafae41c628a477a3",
       "version_major": 2,
       "version_minor": 0
      },
      "text/plain": [
       "  0%|          |  0/3 [00:00<?,       ?it/s]"
      ]
     },
     "metadata": {},
     "output_type": "display_data"
    },
    {
     "name": "stderr",
     "output_type": "stream",
     "text": [
      "    Copnorm and demean the data\n",
      "Get list of multiplets\n"
     ]
    },
    {
     "data": {
      "application/vnd.jupyter.widget-view+json": {
       "model_id": "395437c0683345ce9f615a38664cfe65",
       "version_major": 2,
       "version_minor": 0
      },
      "text/plain": [
       "  0%|          |  0/3 [00:00<?,       ?it/s]"
      ]
     },
     "metadata": {},
     "output_type": "display_data"
    },
    {
     "name": "stderr",
     "output_type": "stream",
     "text": [
      "    Copnorm and demean the data\n",
      "Get list of multiplets\n"
     ]
    },
    {
     "data": {
      "application/vnd.jupyter.widget-view+json": {
       "model_id": "61113a496e7d48809e4d9cc929d81870",
       "version_major": 2,
       "version_minor": 0
      },
      "text/plain": [
       "  0%|          |  0/3 [00:00<?,       ?it/s]"
      ]
     },
     "metadata": {},
     "output_type": "display_data"
    },
    {
     "name": "stderr",
     "output_type": "stream",
     "text": [
      "    Copnorm and demean the data\n",
      "Get list of multiplets\n"
     ]
    },
    {
     "data": {
      "application/vnd.jupyter.widget-view+json": {
       "model_id": "599928f350734364b26a6e1a1ea67a75",
       "version_major": 2,
       "version_minor": 0
      },
      "text/plain": [
       "  0%|          |  0/3 [00:00<?,       ?it/s]"
      ]
     },
     "metadata": {},
     "output_type": "display_data"
    },
    {
     "name": "stderr",
     "output_type": "stream",
     "text": [
      "    Copnorm and demean the data\n",
      "Get list of multiplets\n"
     ]
    },
    {
     "data": {
      "application/vnd.jupyter.widget-view+json": {
       "model_id": "3615517336a84d6890e863f9cce60bd8",
       "version_major": 2,
       "version_minor": 0
      },
      "text/plain": [
       "  0%|          |  0/3 [00:00<?,       ?it/s]"
      ]
     },
     "metadata": {},
     "output_type": "display_data"
    },
    {
     "name": "stderr",
     "output_type": "stream",
     "text": [
      "    Copnorm and demean the data\n",
      "Get list of multiplets\n"
     ]
    },
    {
     "data": {
      "application/vnd.jupyter.widget-view+json": {
       "model_id": "654e37afe20b4438800ef44ba1716d36",
       "version_major": 2,
       "version_minor": 0
      },
      "text/plain": [
       "  0%|          |  0/3 [00:00<?,       ?it/s]"
      ]
     },
     "metadata": {},
     "output_type": "display_data"
    },
    {
     "name": "stderr",
     "output_type": "stream",
     "text": [
      "    Copnorm and demean the data\n",
      "Get list of multiplets\n"
     ]
    },
    {
     "data": {
      "application/vnd.jupyter.widget-view+json": {
       "model_id": "2beb0729200b468baf2493052695b5d3",
       "version_major": 2,
       "version_minor": 0
      },
      "text/plain": [
       "  0%|          |  0/3 [00:00<?,       ?it/s]"
      ]
     },
     "metadata": {},
     "output_type": "display_data"
    },
    {
     "name": "stderr",
     "output_type": "stream",
     "text": [
      "    Copnorm and demean the data\n",
      "Get list of multiplets\n"
     ]
    },
    {
     "data": {
      "application/vnd.jupyter.widget-view+json": {
       "model_id": "ae60e6cf529d4cc0bc898ada03fed829",
       "version_major": 2,
       "version_minor": 0
      },
      "text/plain": [
       "  0%|          |  0/3 [00:00<?,       ?it/s]"
      ]
     },
     "metadata": {},
     "output_type": "display_data"
    },
    {
     "name": "stderr",
     "output_type": "stream",
     "text": [
      "    Copnorm and demean the data\n",
      "Get list of multiplets\n"
     ]
    },
    {
     "data": {
      "application/vnd.jupyter.widget-view+json": {
       "model_id": "d47a1eddceda4f7a93e68ea8fbd7475d",
       "version_major": 2,
       "version_minor": 0
      },
      "text/plain": [
       "  0%|          |  0/3 [00:00<?,       ?it/s]"
      ]
     },
     "metadata": {},
     "output_type": "display_data"
    },
    {
     "name": "stderr",
     "output_type": "stream",
     "text": [
      "    Copnorm and demean the data\n",
      "Get list of multiplets\n"
     ]
    },
    {
     "data": {
      "application/vnd.jupyter.widget-view+json": {
       "model_id": "1350bc2653ee4c53988a53fa7680305a",
       "version_major": 2,
       "version_minor": 0
      },
      "text/plain": [
       "  0%|          |  0/3 [00:00<?,       ?it/s]"
      ]
     },
     "metadata": {},
     "output_type": "display_data"
    },
    {
     "name": "stderr",
     "output_type": "stream",
     "text": [
      "    Copnorm and demean the data\n",
      "Get list of multiplets\n"
     ]
    },
    {
     "data": {
      "application/vnd.jupyter.widget-view+json": {
       "model_id": "25123b996b1c48598cee2f3c81628e0e",
       "version_major": 2,
       "version_minor": 0
      },
      "text/plain": [
       "  0%|          |  0/3 [00:00<?,       ?it/s]"
      ]
     },
     "metadata": {},
     "output_type": "display_data"
    },
    {
     "name": "stderr",
     "output_type": "stream",
     "text": [
      "    Copnorm and demean the data\n",
      "Get list of multiplets\n"
     ]
    },
    {
     "data": {
      "application/vnd.jupyter.widget-view+json": {
       "model_id": "8acbb7e0f9634d97bb0d73ee8dc307c3",
       "version_major": 2,
       "version_minor": 0
      },
      "text/plain": [
       "  0%|          |  0/3 [00:00<?,       ?it/s]"
      ]
     },
     "metadata": {},
     "output_type": "display_data"
    },
    {
     "name": "stderr",
     "output_type": "stream",
     "text": [
      "    Copnorm and demean the data\n",
      "Get list of multiplets\n"
     ]
    },
    {
     "data": {
      "application/vnd.jupyter.widget-view+json": {
       "model_id": "764c76e1a8d7487387cee60eab347f45",
       "version_major": 2,
       "version_minor": 0
      },
      "text/plain": [
       "  0%|          |  0/3 [00:00<?,       ?it/s]"
      ]
     },
     "metadata": {},
     "output_type": "display_data"
    },
    {
     "name": "stderr",
     "output_type": "stream",
     "text": [
      "    Copnorm and demean the data\n",
      "Get list of multiplets\n"
     ]
    },
    {
     "data": {
      "application/vnd.jupyter.widget-view+json": {
       "model_id": "d5b85e1fd960497e9098a86009111439",
       "version_major": 2,
       "version_minor": 0
      },
      "text/plain": [
       "  0%|          |  0/3 [00:00<?,       ?it/s]"
      ]
     },
     "metadata": {},
     "output_type": "display_data"
    },
    {
     "name": "stderr",
     "output_type": "stream",
     "text": [
      "    Copnorm and demean the data\n",
      "Get list of multiplets\n"
     ]
    },
    {
     "data": {
      "application/vnd.jupyter.widget-view+json": {
       "model_id": "fd7b2e8e1a7b447486e53387436765c0",
       "version_major": 2,
       "version_minor": 0
      },
      "text/plain": [
       "  0%|          |  0/3 [00:00<?,       ?it/s]"
      ]
     },
     "metadata": {},
     "output_type": "display_data"
    },
    {
     "name": "stderr",
     "output_type": "stream",
     "text": [
      "    Copnorm and demean the data\n",
      "Get list of multiplets\n"
     ]
    },
    {
     "data": {
      "application/vnd.jupyter.widget-view+json": {
       "model_id": "83f6950c241b42ffaa2ada829ac3baa6",
       "version_major": 2,
       "version_minor": 0
      },
      "text/plain": [
       "  0%|          |  0/3 [00:00<?,       ?it/s]"
      ]
     },
     "metadata": {},
     "output_type": "display_data"
    },
    {
     "name": "stderr",
     "output_type": "stream",
     "text": [
      "    Copnorm and demean the data\n",
      "Get list of multiplets\n"
     ]
    },
    {
     "data": {
      "application/vnd.jupyter.widget-view+json": {
       "model_id": "ace60b40fe3b475da5ac7a4af6575af2",
       "version_major": 2,
       "version_minor": 0
      },
      "text/plain": [
       "  0%|          |  0/3 [00:00<?,       ?it/s]"
      ]
     },
     "metadata": {},
     "output_type": "display_data"
    },
    {
     "name": "stderr",
     "output_type": "stream",
     "text": [
      "    Copnorm and demean the data\n",
      "Get list of multiplets\n"
     ]
    },
    {
     "data": {
      "application/vnd.jupyter.widget-view+json": {
       "model_id": "c8e914ea2897465586a4ce2861c2439d",
       "version_major": 2,
       "version_minor": 0
      },
      "text/plain": [
       "  0%|          |  0/3 [00:00<?,       ?it/s]"
      ]
     },
     "metadata": {},
     "output_type": "display_data"
    },
    {
     "name": "stderr",
     "output_type": "stream",
     "text": [
      "    Copnorm and demean the data\n",
      "Get list of multiplets\n"
     ]
    },
    {
     "data": {
      "application/vnd.jupyter.widget-view+json": {
       "model_id": "195ecef5d4a440aa921c904e3a173333",
       "version_major": 2,
       "version_minor": 0
      },
      "text/plain": [
       "  0%|          |  0/3 [00:00<?,       ?it/s]"
      ]
     },
     "metadata": {},
     "output_type": "display_data"
    },
    {
     "name": "stderr",
     "output_type": "stream",
     "text": [
      "    Copnorm and demean the data\n",
      "Get list of multiplets\n"
     ]
    },
    {
     "data": {
      "application/vnd.jupyter.widget-view+json": {
       "model_id": "bc49956726404361992b2cc4fe4248f2",
       "version_major": 2,
       "version_minor": 0
      },
      "text/plain": [
       "  0%|          |  0/3 [00:00<?,       ?it/s]"
      ]
     },
     "metadata": {},
     "output_type": "display_data"
    }
   ],
   "source": [
    "# Define the directory path (use raw string or double backslashes for Windows paths)\n",
    "directory = r'Data\\Artificial_data\\Redundant_timeseries'\n",
    "\n",
    "# Use glob to get all CSV file paths\n",
    "csv_files = glob.glob(os.path.join(directory, '*.csv'))\n",
    "\n",
    "# Loop through and load each CSV file into a DataFrame\n",
    "metric_dicts = []\n",
    "metrics_types = [InfoTopo, TC, DTC, Sinfo, Oinfo, RedundancyphiID, SynergyphiID]\n",
    "\n",
    "for metric in metrics_types[:4]:\n",
    "    metric_sims = []\n",
    "    for file in csv_files:\n",
    "        df = pd.read_csv(file)\n",
    "        df = df[:100]\n",
    "\n",
    "        windowsize = int(len(df) / 2)\n",
    "        stepsize = int(len(df) / 10)\n",
    "\n",
    "        metric_dict_list = sliding_window(metric, df, windowsize, stepsize)\n",
    "\n",
    "        metric_sims.append(metric_dict_list)\n",
    "    metric_dicts.append(tuple(metric_sims))\n",
    "\n",
    "metrics = metric_dicts"
   ]
  },
  {
   "cell_type": "markdown",
   "id": "2985178e",
   "metadata": {},
   "source": [
    "Plot the metric results for this data"
   ]
  },
  {
   "cell_type": "code",
   "execution_count": 9,
   "id": "38f0f84d",
   "metadata": {},
   "outputs": [
    {
     "data": {
      "image/png": "[encoded data removed]",
      "text/plain": [
       "<Figure size 2400x1000 with 8 Axes>"
      ]
     },
     "metadata": {},
     "output_type": "display_data"
    }
   ],
   "source": [
    "# Prepare data for all metrics\n",
    "prepared_data = [average_metric_data(m) for m in metrics]\n",
    "averages = [compute_averages(m) for m in metrics]\n",
    "\n",
    "timesteps = list(range(1, len(metrics[0][0]) + 1))  # assumes same length for all metrics\n",
    "\n",
    "# Adjust all font sizes globally\n",
    "fontsize_standard = 20\n",
    "plt.rcParams.update({\n",
    "    'font.size': fontsize_standard+2,\n",
    "    'axes.titlesize': fontsize_standard+4,\n",
    "    'axes.labelsize': fontsize_standard+2,\n",
    "    'xtick.labelsize': fontsize_standard,\n",
    "    'ytick.labelsize': fontsize_standard,\n",
    "    'legend.fontsize': fontsize_standard\n",
    "})\n",
    "\n",
    "# Setup figure with 2 rows and len(metrics) columns\n",
    "fig, axs = plt.subplots(2, len(metrics), figsize=(6 * len(metrics), 10), sharey='row')\n",
    "\n",
    "# If only one metric, axs will be 1D, fix to 2D for consistent indexing\n",
    "if len(metrics) == 1:\n",
    "    axs = np.array(axs).reshape(2, 1)\n",
    "\n",
    "# Top row: line plots\n",
    "for i, (ax, average_tuple, title) in enumerate(zip(\n",
    "    axs[0],\n",
    "    averages,\n",
    "    [f\"{metrics_types[i].__name__}\" for i in range(len(metrics))]\n",
    ")):\n",
    "    *individual_sim_avgs, avg_combined = average_tuple  # unpack arbitrary-length tuple\n",
    "\n",
    "    # Plot each simulation average in gray\n",
    "    for j, avg_sim in enumerate(individual_sim_avgs):\n",
    "        ax.plot(timesteps, avg_sim, color='grey', linestyle='--', marker='o', label=f'Simulation {j+1}' if i == 0 else \"\")\n",
    "\n",
    "    # Plot combined average in red\n",
    "    ax.plot(timesteps, avg_combined, color='red', marker='o', linewidth=2, label='Average' if i == 0 else \"\")\n",
    "\n",
    "    ax.set_title(title)\n",
    "    ax.set_xticklabels([])\n",
    "\n",
    "    if i == 0:\n",
    "        ax.set_ylabel(\"Average Value\")\n",
    "    else:\n",
    "        ax.set_yticklabels([])\n",
    "\n",
    "    ax.grid(True)\n",
    "\n",
    "# Bottom row: heatmaps\n",
    "for i, (ax, (data, labels, label_positions), title) in enumerate(zip(\n",
    "    axs[1],\n",
    "    prepared_data,\n",
    "    [f\"Heatmap: Metric {i+1}\" for i in range(len(metrics))]\n",
    ")):\n",
    "    cax = ax.imshow(data.T, aspect='auto', cmap='viridis', origin='lower')\n",
    "    ax.set_xlabel(\"Time\")\n",
    "    ax.set_xticks(np.arange(data.shape[0]))\n",
    "    ax.set_xticklabels(np.arange(data.shape[0]))\n",
    "\n",
    "    if i == 0:\n",
    "        ax.set_ylabel(\"Order\")\n",
    "        yticks = list(label_positions.values())\n",
    "        ylabels = labels\n",
    "        ax.set_yticks(yticks)\n",
    "        ax.set_yticklabels(ylabels)\n",
    "\n",
    "plt.tight_layout(h_pad=0.1)\n",
    "plt.show()"
   ]
  },
  {
   "cell_type": "markdown",
   "id": "478a9e3a",
   "metadata": {},
   "source": [
    "# Compute information metrics"
   ]
  },
  {
   "cell_type": "code",
   "execution_count": 61,
   "id": "f0f2d72e",
   "metadata": {},
   "outputs": [],
   "source": [
    "# Import libraries\n",
    "import numpy as np\n",
    "import pandas as pd\n",
    "from collections import defaultdict\n",
    "import hoi\n",
    "from hoi.plot import plot_landscape\n",
    "from hoi.utils import get_nbest_mult\n",
    "from numpy import random\n",
    "import matplotlib.pyplot as plt\n",
    "from hoi.metrics import InfoTopo, TC, DTC, Sinfo, Oinfo, RedundancyphiID, SynergyphiID\n",
    "from hoi.core import entropy_hist"
   ]
  },
  {
   "cell_type": "code",
   "execution_count": 104,
   "id": "e7503a2f",
   "metadata": {},
   "outputs": [],
   "source": [
    "# Define functions\n",
    "# Function to compute a desired information metric\n",
    "def compute_information_metric(metric, data):\n",
    "    data_array=np.array(np.array(data)).astype(float)\n",
    "    model = metric(data_array)\n",
    "    metric_results = model.fit(minsize=2,maxsize=5)\n",
    "    return metric_results, model\n",
    "\n",
    "# Function to divide list into list per order\n",
    "def divide_list_into_orders(hoi, model):\n",
    "    minsize = None\n",
    "    maxsize = None\n",
    "\n",
    "    # get orders\n",
    "    if model:\n",
    "        orders = model.order\n",
    "\n",
    "    # get computed orders\n",
    "    if minsize is None:\n",
    "        minsize = orders.min()\n",
    "    if maxsize is None:\n",
    "        maxsize = orders.max()   \n",
    "\n",
    "    # order selection\n",
    "    keep = np.logical_and(orders >= minsize, orders <= maxsize)\n",
    "    hoi = hoi[keep]\n",
    "    orders = orders[keep]\n",
    "\n",
    "    # Group the values per order\n",
    "    grouped = defaultdict(list)\n",
    "    for o, h in zip(orders, hoi):\n",
    "        grouped[o].append(h.item())  # Convert from NumPy array to float\n",
    "\n",
    "    # Sort each list\n",
    "    for key in grouped:\n",
    "        grouped[key] = sorted(grouped[key])\n",
    "\n",
    "    return grouped\n",
    "\n",
    "# Obtain information metric analysis\n",
    "def analyse_information_metric(metric, data):\n",
    "    # Compute information metric\n",
    "    metric_values, model = compute_information_metric(metric, data)\n",
    "    \n",
    "    # Divide list into lists per order\n",
    "    divided_dict = divide_list_into_orders(metric_values, model)\n",
    "\n",
    "    return divided_dict"
   ]
  },
  {
   "cell_type": "code",
   "execution_count": 114,
   "id": "6df41c1a",
   "metadata": {},
   "outputs": [],
   "source": [
    "# Example timeseries\n",
    "n_timesteps = 20\n",
    "n_variables = 3\n",
    "\n",
    "data = np.random.randn(n_timesteps, n_variables)\n",
    "columns = [f'X{i+1}' for i in range(n_variables)]\n",
    "df_1 = pd.DataFrame(data, columns=columns)"
   ]
  },
  {
   "cell_type": "code",
   "execution_count": 115,
   "id": "f1ec6c9e",
   "metadata": {},
   "outputs": [],
   "source": [
    "# Example timeseries\n",
    "n_timesteps = 20\n",
    "n_variables = 3\n",
    "\n",
    "data = np.random.randn(n_timesteps, n_variables)\n",
    "columns = [f'X{i+1}' for i in range(n_variables)]\n",
    "df_2 = pd.DataFrame(data, columns=columns)"
   ]
  },
  {
   "cell_type": "code",
   "execution_count": 124,
   "id": "10a95d5a",
   "metadata": {},
   "outputs": [
    {
     "name": "stderr",
     "output_type": "stream",
     "text": [
      "Compute entropy with gc\n",
      "    Copnorm and demean the data\n",
      "Get list of multiplets\n"
     ]
    },
    {
     "data": {
      "application/vnd.jupyter.widget-view+json": {
       "model_id": "93f1d9ec42444139989bce230c8e3261",
       "version_major": 2,
       "version_minor": 0
      },
      "text/plain": [
       "  0%|          |  0/3 [00:00<?,       ?it/s]"
      ]
     },
     "metadata": {},
     "output_type": "display_data"
    },
    {
     "name": "stderr",
     "output_type": "stream",
     "text": [
      "Get list of multiplets\n"
     ]
    },
    {
     "data": {
      "application/vnd.jupyter.widget-view+json": {
       "model_id": "a7f68631dac248e08485ab27465472f1",
       "version_major": 2,
       "version_minor": 0
      },
      "text/plain": [
       "  0%|          | 0/4 [00:00<?, ?it/s]"
      ]
     },
     "metadata": {},
     "output_type": "display_data"
    },
    {
     "name": "stderr",
     "output_type": "stream",
     "text": [
      "Compute entropy with gc\n",
      "    Copnorm and demean the data\n",
      "Get list of multiplets\n"
     ]
    },
    {
     "data": {
      "application/vnd.jupyter.widget-view+json": {
       "model_id": "e818d8241f6a44b4881de62a80cf489d",
       "version_major": 2,
       "version_minor": 0
      },
      "text/plain": [
       "  0%|          |  0/3 [00:00<?,       ?it/s]"
      ]
     },
     "metadata": {},
     "output_type": "display_data"
    },
    {
     "name": "stderr",
     "output_type": "stream",
     "text": [
      "Get list of multiplets\n"
     ]
    },
    {
     "data": {
      "application/vnd.jupyter.widget-view+json": {
       "model_id": "8aa72f6592ce4742a6f9d40f1fcc4966",
       "version_major": 2,
       "version_minor": 0
      },
      "text/plain": [
       "  0%|          | 0/4 [00:00<?, ?it/s]"
      ]
     },
     "metadata": {},
     "output_type": "display_data"
    },
    {
     "name": "stderr",
     "output_type": "stream",
     "text": [
      "Compute entropy with gc\n",
      "    Copnorm and demean the data\n",
      "Get list of multiplets\n"
     ]
    },
    {
     "data": {
      "application/vnd.jupyter.widget-view+json": {
       "model_id": "7c85c44788144ae2a5e1299346e21623",
       "version_major": 2,
       "version_minor": 0
      },
      "text/plain": [
       "  0%|          |  0/3 [00:00<?,       ?it/s]"
      ]
     },
     "metadata": {},
     "output_type": "display_data"
    },
    {
     "name": "stderr",
     "output_type": "stream",
     "text": [
      "Get list of multiplets\n"
     ]
    },
    {
     "data": {
      "application/vnd.jupyter.widget-view+json": {
       "model_id": "2b609842b57745998d1a5c5029f6349f",
       "version_major": 2,
       "version_minor": 0
      },
      "text/plain": [
       "  0%|          | 0/4 [00:00<?, ?it/s]"
      ]
     },
     "metadata": {},
     "output_type": "display_data"
    },
    {
     "name": "stderr",
     "output_type": "stream",
     "text": [
      "Compute entropy with gc\n",
      "    Copnorm and demean the data\n",
      "Get list of multiplets\n"
     ]
    },
    {
     "data": {
      "application/vnd.jupyter.widget-view+json": {
       "model_id": "40a7d30f3c3c48038f66acbe44d2de19",
       "version_major": 2,
       "version_minor": 0
      },
      "text/plain": [
       "  0%|          |  0/3 [00:00<?,       ?it/s]"
      ]
     },
     "metadata": {},
     "output_type": "display_data"
    },
    {
     "name": "stderr",
     "output_type": "stream",
     "text": [
      "Get list of multiplets\n"
     ]
    },
    {
     "data": {
      "application/vnd.jupyter.widget-view+json": {
       "model_id": "937c4ec88709499cb422ee24f0cfe990",
       "version_major": 2,
       "version_minor": 0
      },
      "text/plain": [
       "  0%|          | 0/4 [00:00<?, ?it/s]"
      ]
     },
     "metadata": {},
     "output_type": "display_data"
    },
    {
     "name": "stderr",
     "output_type": "stream",
     "text": [
      "    Copnorm and demean the data\n",
      "Get list of multiplets\n"
     ]
    },
    {
     "data": {
      "application/vnd.jupyter.widget-view+json": {
       "model_id": "ad2cd26d129c4932b0dd90c629b86f15",
       "version_major": 2,
       "version_minor": 0
      },
      "text/plain": [
       "  0%|          |  0/2 [00:00<?,       ?it/s]"
      ]
     },
     "metadata": {},
     "output_type": "display_data"
    },
    {
     "name": "stderr",
     "output_type": "stream",
     "text": [
      "    Copnorm and demean the data\n",
      "Get list of multiplets\n"
     ]
    },
    {
     "data": {
      "application/vnd.jupyter.widget-view+json": {
       "model_id": "c3aa7b1d67ef433793ea84c54f968dc8",
       "version_major": 2,
       "version_minor": 0
      },
      "text/plain": [
       "  0%|          |  0/2 [00:00<?,       ?it/s]"
      ]
     },
     "metadata": {},
     "output_type": "display_data"
    },
    {
     "name": "stderr",
     "output_type": "stream",
     "text": [
      "    Copnorm and demean the data\n",
      "Get list of multiplets\n"
     ]
    },
    {
     "data": {
      "application/vnd.jupyter.widget-view+json": {
       "model_id": "39334cb922c04a398fe03d73427a7f7e",
       "version_major": 2,
       "version_minor": 0
      },
      "text/plain": [
       "  0%|          |  0/2 [00:00<?,       ?it/s]"
      ]
     },
     "metadata": {},
     "output_type": "display_data"
    },
    {
     "name": "stderr",
     "output_type": "stream",
     "text": [
      "    Copnorm and demean the data\n",
      "Get list of multiplets\n"
     ]
    },
    {
     "data": {
      "application/vnd.jupyter.widget-view+json": {
       "model_id": "df1db951a1f84271bc9a1c96e90885a4",
       "version_major": 2,
       "version_minor": 0
      },
      "text/plain": [
       "  0%|          |  0/2 [00:00<?,       ?it/s]"
      ]
     },
     "metadata": {},
     "output_type": "display_data"
    },
    {
     "name": "stderr",
     "output_type": "stream",
     "text": [
      "    Copnorm and demean the data\n",
      "Get list of multiplets\n"
     ]
    },
    {
     "data": {
      "application/vnd.jupyter.widget-view+json": {
       "model_id": "62c9fb0ce4674e8a9ba96a1e578d5a2e",
       "version_major": 2,
       "version_minor": 0
      },
      "text/plain": [
       "  0%|          |  0/2 [00:00<?,       ?it/s]"
      ]
     },
     "metadata": {},
     "output_type": "display_data"
    },
    {
     "name": "stderr",
     "output_type": "stream",
     "text": [
      "    Copnorm and demean the data\n",
      "Get list of multiplets\n"
     ]
    },
    {
     "data": {
      "application/vnd.jupyter.widget-view+json": {
       "model_id": "e8a176da8b6b4edc84d9a8ae108c08b8",
       "version_major": 2,
       "version_minor": 0
      },
      "text/plain": [
       "  0%|          |  0/2 [00:00<?,       ?it/s]"
      ]
     },
     "metadata": {},
     "output_type": "display_data"
    },
    {
     "name": "stderr",
     "output_type": "stream",
     "text": [
      "    Copnorm and demean the data\n",
      "Get list of multiplets\n"
     ]
    },
    {
     "data": {
      "application/vnd.jupyter.widget-view+json": {
       "model_id": "b71bf4ea33504cadb978ac39dcb1a049",
       "version_major": 2,
       "version_minor": 0
      },
      "text/plain": [
       "  0%|          |  0/2 [00:00<?,       ?it/s]"
      ]
     },
     "metadata": {},
     "output_type": "display_data"
    },
    {
     "name": "stderr",
     "output_type": "stream",
     "text": [
      "    Copnorm and demean the data\n",
      "Get list of multiplets\n"
     ]
    },
    {
     "data": {
      "application/vnd.jupyter.widget-view+json": {
       "model_id": "d1c8dbb26ba3422db7c74931dd3d4bd4",
       "version_major": 2,
       "version_minor": 0
      },
      "text/plain": [
       "  0%|          |  0/2 [00:00<?,       ?it/s]"
      ]
     },
     "metadata": {},
     "output_type": "display_data"
    },
    {
     "name": "stderr",
     "output_type": "stream",
     "text": [
      "    Copnorm and demean the data\n",
      "Get list of multiplets\n"
     ]
    },
    {
     "data": {
      "application/vnd.jupyter.widget-view+json": {
       "model_id": "aeed38ad3d5b435bb1d6e1820b9fd92e",
       "version_major": 2,
       "version_minor": 0
      },
      "text/plain": [
       "  0%|          |  0/2 [00:00<?,       ?it/s]"
      ]
     },
     "metadata": {},
     "output_type": "display_data"
    },
    {
     "name": "stderr",
     "output_type": "stream",
     "text": [
      "    Copnorm and demean the data\n",
      "Get list of multiplets\n"
     ]
    },
    {
     "data": {
      "application/vnd.jupyter.widget-view+json": {
       "model_id": "88d328c38bc54c74852a907ad51157ea",
       "version_major": 2,
       "version_minor": 0
      },
      "text/plain": [
       "  0%|          |  0/2 [00:00<?,       ?it/s]"
      ]
     },
     "metadata": {},
     "output_type": "display_data"
    },
    {
     "name": "stderr",
     "output_type": "stream",
     "text": [
      "    Copnorm and demean the data\n",
      "Get list of multiplets\n"
     ]
    },
    {
     "data": {
      "application/vnd.jupyter.widget-view+json": {
       "model_id": "2d30aa4d1564444dbc7ef329aee40329",
       "version_major": 2,
       "version_minor": 0
      },
      "text/plain": [
       "  0%|          |  0/2 [00:00<?,       ?it/s]"
      ]
     },
     "metadata": {},
     "output_type": "display_data"
    },
    {
     "name": "stderr",
     "output_type": "stream",
     "text": [
      "    Copnorm and demean the data\n",
      "Get list of multiplets\n"
     ]
    },
    {
     "data": {
      "application/vnd.jupyter.widget-view+json": {
       "model_id": "dbf76a071a2d4f8fb9f45105d204ee6c",
       "version_major": 2,
       "version_minor": 0
      },
      "text/plain": [
       "  0%|          |  0/2 [00:00<?,       ?it/s]"
      ]
     },
     "metadata": {},
     "output_type": "display_data"
    },
    {
     "name": "stderr",
     "output_type": "stream",
     "text": [
      "    Copnorm and demean the data\n",
      "Get list of multiplets\n"
     ]
    },
    {
     "data": {
      "application/vnd.jupyter.widget-view+json": {
       "model_id": "ead2d6f859ae4f4c8b71df15670923a5",
       "version_major": 2,
       "version_minor": 0
      },
      "text/plain": [
       "  0%|          |  0/2 [00:00<?,       ?it/s]"
      ]
     },
     "metadata": {},
     "output_type": "display_data"
    },
    {
     "name": "stderr",
     "output_type": "stream",
     "text": [
      "    Copnorm and demean the data\n",
      "Get list of multiplets\n"
     ]
    },
    {
     "data": {
      "application/vnd.jupyter.widget-view+json": {
       "model_id": "e3aef7b457b64577aae112dafc07ce77",
       "version_major": 2,
       "version_minor": 0
      },
      "text/plain": [
       "  0%|          |  0/2 [00:00<?,       ?it/s]"
      ]
     },
     "metadata": {},
     "output_type": "display_data"
    },
    {
     "name": "stderr",
     "output_type": "stream",
     "text": [
      "    Copnorm and demean the data\n",
      "Get list of multiplets\n"
     ]
    },
    {
     "data": {
      "application/vnd.jupyter.widget-view+json": {
       "model_id": "737497608eaf4647b909d88d572a1344",
       "version_major": 2,
       "version_minor": 0
      },
      "text/plain": [
       "  0%|          |  0/2 [00:00<?,       ?it/s]"
      ]
     },
     "metadata": {},
     "output_type": "display_data"
    },
    {
     "name": "stderr",
     "output_type": "stream",
     "text": [
      "    Copnorm and demean the data\n",
      "Get list of multiplets\n"
     ]
    },
    {
     "data": {
      "application/vnd.jupyter.widget-view+json": {
       "model_id": "d5a85a95acf54aa09efe04dc5cc65e11",
       "version_major": 2,
       "version_minor": 0
      },
      "text/plain": [
       "  0%|          |  0/2 [00:00<?,       ?it/s]"
      ]
     },
     "metadata": {},
     "output_type": "display_data"
    },
    {
     "name": "stderr",
     "output_type": "stream",
     "text": [
      "    Copnorm and demean the data\n",
      "Get list of multiplets\n"
     ]
    },
    {
     "data": {
      "application/vnd.jupyter.widget-view+json": {
       "model_id": "0c274b10bd2b41279ed748da9ef16433",
       "version_major": 2,
       "version_minor": 0
      },
      "text/plain": [
       "  0%|          |  0/2 [00:00<?,       ?it/s]"
      ]
     },
     "metadata": {},
     "output_type": "display_data"
    },
    {
     "name": "stderr",
     "output_type": "stream",
     "text": [
      "    Copnorm and demean the data\n",
      "Get list of multiplets\n"
     ]
    },
    {
     "data": {
      "application/vnd.jupyter.widget-view+json": {
       "model_id": "d3fd30fd9c6f41c2a4d21c50158858f5",
       "version_major": 2,
       "version_minor": 0
      },
      "text/plain": [
       "  0%|          |  0/2 [00:00<?,       ?it/s]"
      ]
     },
     "metadata": {},
     "output_type": "display_data"
    },
    {
     "name": "stderr",
     "output_type": "stream",
     "text": [
      "    Copnorm and demean the data\n",
      "Get list of multiplets\n"
     ]
    },
    {
     "data": {
      "application/vnd.jupyter.widget-view+json": {
       "model_id": "d76f99aaf87d42b7af3950a9c1299f8e",
       "version_major": 2,
       "version_minor": 0
      },
      "text/plain": [
       "  0%|          |  0/2 [00:00<?,       ?it/s]"
      ]
     },
     "metadata": {},
     "output_type": "display_data"
    },
    {
     "name": "stderr",
     "output_type": "stream",
     "text": [
      "    Copnorm and demean the data\n",
      "Get list of multiplets\n"
     ]
    },
    {
     "data": {
      "application/vnd.jupyter.widget-view+json": {
       "model_id": "6decb0f4f3ac4d7aaebc6304a1cb4dda",
       "version_major": 2,
       "version_minor": 0
      },
      "text/plain": [
       "  0%|          |  0/2 [00:00<?,       ?it/s]"
      ]
     },
     "metadata": {},
     "output_type": "display_data"
    },
    {
     "name": "stderr",
     "output_type": "stream",
     "text": [
      "    Copnorm and demean the data\n",
      "Get list of multiplets\n"
     ]
    },
    {
     "data": {
      "application/vnd.jupyter.widget-view+json": {
       "model_id": "b8578f076bb74de39692df5d87d8a504",
       "version_major": 2,
       "version_minor": 0
      },
      "text/plain": [
       "  0%|          |  0/2 [00:00<?,       ?it/s]"
      ]
     },
     "metadata": {},
     "output_type": "display_data"
    },
    {
     "name": "stderr",
     "output_type": "stream",
     "text": [
      "    Copnorm and demean the data\n",
      "Get list of multiplets\n"
     ]
    },
    {
     "data": {
      "application/vnd.jupyter.widget-view+json": {
       "model_id": "fb1b889d0da347c4b53372b21e8caa66",
       "version_major": 2,
       "version_minor": 0
      },
      "text/plain": [
       "  0%|          |  0/2 [00:00<?,       ?it/s]"
      ]
     },
     "metadata": {},
     "output_type": "display_data"
    },
    {
     "name": "stderr",
     "output_type": "stream",
     "text": [
      "    Copnorm and demean the data\n",
      "Get list of multiplets\n"
     ]
    },
    {
     "data": {
      "application/vnd.jupyter.widget-view+json": {
       "model_id": "cb2f1110c15c4aeb86490246d4a5dd44",
       "version_major": 2,
       "version_minor": 0
      },
      "text/plain": [
       "  0%|          |  0/2 [00:00<?,       ?it/s]"
      ]
     },
     "metadata": {},
     "output_type": "display_data"
    },
    {
     "name": "stderr",
     "output_type": "stream",
     "text": [
      "    Copnorm and demean the data\n",
      "Get list of multiplets\n"
     ]
    },
    {
     "data": {
      "application/vnd.jupyter.widget-view+json": {
       "model_id": "583e0a7b38364443b52b8d7488c08438",
       "version_major": 2,
       "version_minor": 0
      },
      "text/plain": [
       "  0%|          |  0/2 [00:00<?,       ?it/s]"
      ]
     },
     "metadata": {},
     "output_type": "display_data"
    }
   ],
   "source": [
    "metrics_types = [InfoTopo, TC, DTC, Sinfo, Oinfo, RedundancyphiID, SynergyphiID]\n",
    "metric_dicts = []\n",
    "\n",
    "for metric in metrics_types:\n",
    "    metric_dict_t1 = dict(analyse_information_metric(metric, df_1[:10]))\n",
    "    metric_dict_t2 = dict(analyse_information_metric(metric, df_1[10:20]))\n",
    "    metric_sim1 = [metric_dict_t1, metric_dict_t2]\n",
    "\n",
    "    metric_dict_t1 = dict(analyse_information_metric(metric, df_2[:10]))\n",
    "    metric_dict_t2 = dict(analyse_information_metric(metric, df_2[10:20]))\n",
    "    metric_sim2 = [metric_dict_t1, metric_dict_t2]\n",
    "\n",
    "    metric_dicts.append((metric_sim1, metric_sim2))"
   ]
  },
  {
   "cell_type": "code",
   "execution_count": 125,
   "id": "98795d62",
   "metadata": {},
   "outputs": [],
   "source": [
    "metrics = metric_dicts"
   ]
  },
  {
   "cell_type": "markdown",
   "id": "e8848f9e",
   "metadata": {},
   "source": [
    "# Test on dataset from stored data"
   ]
  },
  {
   "cell_type": "code",
   "execution_count": null,
   "id": "f0fd6e17",
   "metadata": {},
   "outputs": [],
   "source": [
    "# Example timeseries\n",
    "n_timesteps = 20\n",
    "n_variables = 3\n",
    "\n",
    "data = np.random.randn(n_timesteps, n_variables)\n",
    "columns = [f'X{i+1}' for i in range(n_variables)]\n",
    "df_2 = pd.DataFrame(data, columns=columns)"
   ]
  },
  {
   "cell_type": "code",
   "execution_count": 145,
   "id": "b780561c",
   "metadata": {},
   "outputs": [],
   "source": [
    "# Sliding timewindow to compute metrics per timestep for one simulation\n",
    "def sliding_window(timeseries, windowsize, stepsize):\n",
    "    metric_dict_list = []\n",
    "    for i in np.arange(0, len(timeseries)-windowsize, stepsize):\n",
    "        metric_dict_step = dict(analyse_information_metric(metric, df_1[i:i+windowsize]))\n",
    "        metric_dict_list.append(metric_dict_step)\n",
    "    return metric_dict_list"
   ]
  },
  {
   "cell_type": "code",
   "execution_count": null,
   "id": "402fff39",
   "metadata": {},
   "outputs": [],
   "source": [
    "metrics_types = [InfoTopo, TC, DTC, Sinfo, Oinfo, RedundancyphiID, SynergyphiID]\n",
    "metric_dicts = []\n",
    "\n",
    "for metric in metrics_types:\n",
    "    metric_dict_t1 = dict(analyse_information_metric(metric, df_1[:10]))\n",
    "    metric_dict_t2 = dict(analyse_information_metric(metric, df_1[10:20]))\n",
    "    metric_sim1 = [metric_dict_t1, metric_dict_t2]\n",
    "\n",
    "    metric_dict_t1 = dict(analyse_information_metric(metric, df_2[:10]))\n",
    "    metric_dict_t2 = dict(analyse_information_metric(metric, df_2[10:20]))\n",
    "    metric_sim2 = [metric_dict_t1, metric_dict_t2]\n",
    "\n",
    "    metric_dicts.append((metric_sim1, metric_sim2))"
   ]
  },
  {
   "cell_type": "code",
   "execution_count": 167,
   "id": "78607a11",
   "metadata": {},
   "outputs": [
    {
     "name": "stderr",
     "output_type": "stream",
     "text": [
      "Compute entropy with gc\n",
      "    Copnorm and demean the data\n",
      "Get list of multiplets\n"
     ]
    },
    {
     "data": {
      "application/vnd.jupyter.widget-view+json": {
       "model_id": "d4a8892a52c543109b3748ee1a2eafda",
       "version_major": 2,
       "version_minor": 0
      },
      "text/plain": [
       "  0%|          |  0/3 [00:00<?,       ?it/s]"
      ]
     },
     "metadata": {},
     "output_type": "display_data"
    },
    {
     "name": "stderr",
     "output_type": "stream",
     "text": [
      "Get list of multiplets\n"
     ]
    },
    {
     "data": {
      "application/vnd.jupyter.widget-view+json": {
       "model_id": "74deaeeabc45436bb73e84de529ba460",
       "version_major": 2,
       "version_minor": 0
      },
      "text/plain": [
       "  0%|          | 0/4 [00:00<?, ?it/s]"
      ]
     },
     "metadata": {},
     "output_type": "display_data"
    },
    {
     "name": "stderr",
     "output_type": "stream",
     "text": [
      "Compute entropy with gc\n",
      "    Copnorm and demean the data\n",
      "Get list of multiplets\n"
     ]
    },
    {
     "data": {
      "application/vnd.jupyter.widget-view+json": {
       "model_id": "423f0ddeb0ff46b4946ada3fcd781864",
       "version_major": 2,
       "version_minor": 0
      },
      "text/plain": [
       "  0%|          |  0/3 [00:00<?,       ?it/s]"
      ]
     },
     "metadata": {},
     "output_type": "display_data"
    },
    {
     "name": "stderr",
     "output_type": "stream",
     "text": [
      "Get list of multiplets\n"
     ]
    },
    {
     "data": {
      "application/vnd.jupyter.widget-view+json": {
       "model_id": "b770fa232f604071836726e89c011505",
       "version_major": 2,
       "version_minor": 0
      },
      "text/plain": [
       "  0%|          | 0/4 [00:00<?, ?it/s]"
      ]
     },
     "metadata": {},
     "output_type": "display_data"
    },
    {
     "name": "stderr",
     "output_type": "stream",
     "text": [
      "Compute entropy with gc\n",
      "    Copnorm and demean the data\n",
      "Get list of multiplets\n"
     ]
    },
    {
     "data": {
      "application/vnd.jupyter.widget-view+json": {
       "model_id": "21e90a6e72dc4eff993513aad93fd18c",
       "version_major": 2,
       "version_minor": 0
      },
      "text/plain": [
       "  0%|          |  0/3 [00:00<?,       ?it/s]"
      ]
     },
     "metadata": {},
     "output_type": "display_data"
    },
    {
     "name": "stderr",
     "output_type": "stream",
     "text": [
      "Get list of multiplets\n"
     ]
    },
    {
     "data": {
      "application/vnd.jupyter.widget-view+json": {
       "model_id": "64b9df8038f047c28a5eef7119df4336",
       "version_major": 2,
       "version_minor": 0
      },
      "text/plain": [
       "  0%|          | 0/4 [00:00<?, ?it/s]"
      ]
     },
     "metadata": {},
     "output_type": "display_data"
    },
    {
     "name": "stderr",
     "output_type": "stream",
     "text": [
      "Compute entropy with gc\n",
      "    Copnorm and demean the data\n",
      "Get list of multiplets\n"
     ]
    },
    {
     "data": {
      "application/vnd.jupyter.widget-view+json": {
       "model_id": "70a0fa5e03e94d7a8d4156f9ed46e847",
       "version_major": 2,
       "version_minor": 0
      },
      "text/plain": [
       "  0%|          |  0/3 [00:00<?,       ?it/s]"
      ]
     },
     "metadata": {},
     "output_type": "display_data"
    },
    {
     "name": "stderr",
     "output_type": "stream",
     "text": [
      "Get list of multiplets\n"
     ]
    },
    {
     "data": {
      "application/vnd.jupyter.widget-view+json": {
       "model_id": "3a80fb70d7184c958c86ea4f8ae0504b",
       "version_major": 2,
       "version_minor": 0
      },
      "text/plain": [
       "  0%|          | 0/4 [00:00<?, ?it/s]"
      ]
     },
     "metadata": {},
     "output_type": "display_data"
    },
    {
     "name": "stderr",
     "output_type": "stream",
     "text": [
      "Compute entropy with gc\n",
      "    Copnorm and demean the data\n",
      "Get list of multiplets\n"
     ]
    },
    {
     "data": {
      "application/vnd.jupyter.widget-view+json": {
       "model_id": "02db5524cd284c7bb113405cbc0cfdac",
       "version_major": 2,
       "version_minor": 0
      },
      "text/plain": [
       "  0%|          |  0/3 [00:00<?,       ?it/s]"
      ]
     },
     "metadata": {},
     "output_type": "display_data"
    },
    {
     "name": "stderr",
     "output_type": "stream",
     "text": [
      "Get list of multiplets\n"
     ]
    },
    {
     "data": {
      "application/vnd.jupyter.widget-view+json": {
       "model_id": "2e21a4a49eb74a0c8ad0012156a26cd0",
       "version_major": 2,
       "version_minor": 0
      },
      "text/plain": [
       "  0%|          | 0/4 [00:00<?, ?it/s]"
      ]
     },
     "metadata": {},
     "output_type": "display_data"
    },
    {
     "name": "stderr",
     "output_type": "stream",
     "text": [
      "Compute entropy with gc\n",
      "    Copnorm and demean the data\n",
      "Get list of multiplets\n"
     ]
    },
    {
     "data": {
      "application/vnd.jupyter.widget-view+json": {
       "model_id": "6ec6ad7cc62c46f2bd6ccb859ff35df5",
       "version_major": 2,
       "version_minor": 0
      },
      "text/plain": [
       "  0%|          |  0/3 [00:00<?,       ?it/s]"
      ]
     },
     "metadata": {},
     "output_type": "display_data"
    },
    {
     "name": "stderr",
     "output_type": "stream",
     "text": [
      "Get list of multiplets\n"
     ]
    },
    {
     "data": {
      "application/vnd.jupyter.widget-view+json": {
       "model_id": "2fe7ab51a7b54a5f80d1050976bcbbd7",
       "version_major": 2,
       "version_minor": 0
      },
      "text/plain": [
       "  0%|          | 0/4 [00:00<?, ?it/s]"
      ]
     },
     "metadata": {},
     "output_type": "display_data"
    },
    {
     "name": "stderr",
     "output_type": "stream",
     "text": [
      "    Copnorm and demean the data\n",
      "Get list of multiplets\n"
     ]
    },
    {
     "data": {
      "application/vnd.jupyter.widget-view+json": {
       "model_id": "ad702066ee3145b493b802b35bc13863",
       "version_major": 2,
       "version_minor": 0
      },
      "text/plain": [
       "  0%|          |  0/2 [00:00<?,       ?it/s]"
      ]
     },
     "metadata": {},
     "output_type": "display_data"
    },
    {
     "name": "stderr",
     "output_type": "stream",
     "text": [
      "    Copnorm and demean the data\n",
      "Get list of multiplets\n"
     ]
    },
    {
     "data": {
      "application/vnd.jupyter.widget-view+json": {
       "model_id": "c960aa711a01457b8c35f97773b24317",
       "version_major": 2,
       "version_minor": 0
      },
      "text/plain": [
       "  0%|          |  0/2 [00:00<?,       ?it/s]"
      ]
     },
     "metadata": {},
     "output_type": "display_data"
    },
    {
     "name": "stderr",
     "output_type": "stream",
     "text": [
      "    Copnorm and demean the data\n",
      "Get list of multiplets\n"
     ]
    },
    {
     "data": {
      "application/vnd.jupyter.widget-view+json": {
       "model_id": "09905fec87464e0296e80e7be72f9e1e",
       "version_major": 2,
       "version_minor": 0
      },
      "text/plain": [
       "  0%|          |  0/2 [00:00<?,       ?it/s]"
      ]
     },
     "metadata": {},
     "output_type": "display_data"
    },
    {
     "name": "stderr",
     "output_type": "stream",
     "text": [
      "    Copnorm and demean the data\n",
      "Get list of multiplets\n"
     ]
    },
    {
     "data": {
      "application/vnd.jupyter.widget-view+json": {
       "model_id": "ff66afd5749e4b468b3fe5574694b266",
       "version_major": 2,
       "version_minor": 0
      },
      "text/plain": [
       "  0%|          |  0/2 [00:00<?,       ?it/s]"
      ]
     },
     "metadata": {},
     "output_type": "display_data"
    },
    {
     "name": "stderr",
     "output_type": "stream",
     "text": [
      "    Copnorm and demean the data\n",
      "Get list of multiplets\n"
     ]
    },
    {
     "data": {
      "application/vnd.jupyter.widget-view+json": {
       "model_id": "b51d67e57a424b79a7ff66d7194c9dbf",
       "version_major": 2,
       "version_minor": 0
      },
      "text/plain": [
       "  0%|          |  0/2 [00:00<?,       ?it/s]"
      ]
     },
     "metadata": {},
     "output_type": "display_data"
    },
    {
     "name": "stderr",
     "output_type": "stream",
     "text": [
      "    Copnorm and demean the data\n",
      "Get list of multiplets\n"
     ]
    },
    {
     "data": {
      "application/vnd.jupyter.widget-view+json": {
       "model_id": "fb4c60099b91482884904a6e5871d1d9",
       "version_major": 2,
       "version_minor": 0
      },
      "text/plain": [
       "  0%|          |  0/2 [00:00<?,       ?it/s]"
      ]
     },
     "metadata": {},
     "output_type": "display_data"
    },
    {
     "name": "stderr",
     "output_type": "stream",
     "text": [
      "    Copnorm and demean the data\n",
      "Get list of multiplets\n"
     ]
    },
    {
     "data": {
      "application/vnd.jupyter.widget-view+json": {
       "model_id": "bea22d6ebe1c47bf95fa9b949601042d",
       "version_major": 2,
       "version_minor": 0
      },
      "text/plain": [
       "  0%|          |  0/2 [00:00<?,       ?it/s]"
      ]
     },
     "metadata": {},
     "output_type": "display_data"
    },
    {
     "name": "stderr",
     "output_type": "stream",
     "text": [
      "    Copnorm and demean the data\n",
      "Get list of multiplets\n"
     ]
    },
    {
     "data": {
      "application/vnd.jupyter.widget-view+json": {
       "model_id": "7e03dae5805644718abe9f8b45908405",
       "version_major": 2,
       "version_minor": 0
      },
      "text/plain": [
       "  0%|          |  0/2 [00:00<?,       ?it/s]"
      ]
     },
     "metadata": {},
     "output_type": "display_data"
    },
    {
     "name": "stderr",
     "output_type": "stream",
     "text": [
      "    Copnorm and demean the data\n",
      "Get list of multiplets\n"
     ]
    },
    {
     "data": {
      "application/vnd.jupyter.widget-view+json": {
       "model_id": "d9f33097553b4402b642de979b435bf3",
       "version_major": 2,
       "version_minor": 0
      },
      "text/plain": [
       "  0%|          |  0/2 [00:00<?,       ?it/s]"
      ]
     },
     "metadata": {},
     "output_type": "display_data"
    },
    {
     "name": "stderr",
     "output_type": "stream",
     "text": [
      "    Copnorm and demean the data\n",
      "Get list of multiplets\n"
     ]
    },
    {
     "data": {
      "application/vnd.jupyter.widget-view+json": {
       "model_id": "1682d8f604934e168759a0ad412de2e4",
       "version_major": 2,
       "version_minor": 0
      },
      "text/plain": [
       "  0%|          |  0/2 [00:00<?,       ?it/s]"
      ]
     },
     "metadata": {},
     "output_type": "display_data"
    },
    {
     "name": "stderr",
     "output_type": "stream",
     "text": [
      "    Copnorm and demean the data\n",
      "Get list of multiplets\n"
     ]
    },
    {
     "data": {
      "application/vnd.jupyter.widget-view+json": {
       "model_id": "65114d3661704b5ba807fd5f97e67272",
       "version_major": 2,
       "version_minor": 0
      },
      "text/plain": [
       "  0%|          |  0/2 [00:00<?,       ?it/s]"
      ]
     },
     "metadata": {},
     "output_type": "display_data"
    },
    {
     "name": "stderr",
     "output_type": "stream",
     "text": [
      "    Copnorm and demean the data\n",
      "Get list of multiplets\n"
     ]
    },
    {
     "data": {
      "application/vnd.jupyter.widget-view+json": {
       "model_id": "d3bd81f4a08646b79a56bf3edea2a2a4",
       "version_major": 2,
       "version_minor": 0
      },
      "text/plain": [
       "  0%|          |  0/2 [00:00<?,       ?it/s]"
      ]
     },
     "metadata": {},
     "output_type": "display_data"
    },
    {
     "name": "stderr",
     "output_type": "stream",
     "text": [
      "    Copnorm and demean the data\n",
      "Get list of multiplets\n"
     ]
    },
    {
     "data": {
      "application/vnd.jupyter.widget-view+json": {
       "model_id": "006165ee9a1f405b9de07e16d3cefb5e",
       "version_major": 2,
       "version_minor": 0
      },
      "text/plain": [
       "  0%|          |  0/2 [00:00<?,       ?it/s]"
      ]
     },
     "metadata": {},
     "output_type": "display_data"
    },
    {
     "name": "stderr",
     "output_type": "stream",
     "text": [
      "    Copnorm and demean the data\n",
      "Get list of multiplets\n"
     ]
    },
    {
     "data": {
      "application/vnd.jupyter.widget-view+json": {
       "model_id": "3ba9320453244bc4a1ecae7f658cfed0",
       "version_major": 2,
       "version_minor": 0
      },
      "text/plain": [
       "  0%|          |  0/2 [00:00<?,       ?it/s]"
      ]
     },
     "metadata": {},
     "output_type": "display_data"
    },
    {
     "name": "stderr",
     "output_type": "stream",
     "text": [
      "    Copnorm and demean the data\n",
      "Get list of multiplets\n"
     ]
    },
    {
     "data": {
      "application/vnd.jupyter.widget-view+json": {
       "model_id": "af800020c32b4fbca0ca392dc3290cf1",
       "version_major": 2,
       "version_minor": 0
      },
      "text/plain": [
       "  0%|          |  0/2 [00:00<?,       ?it/s]"
      ]
     },
     "metadata": {},
     "output_type": "display_data"
    },
    {
     "name": "stderr",
     "output_type": "stream",
     "text": [
      "    Copnorm and demean the data\n",
      "Get list of multiplets\n"
     ]
    },
    {
     "data": {
      "application/vnd.jupyter.widget-view+json": {
       "model_id": "346f19d410ce4095bb16c1a05f505b44",
       "version_major": 2,
       "version_minor": 0
      },
      "text/plain": [
       "  0%|          |  0/2 [00:00<?,       ?it/s]"
      ]
     },
     "metadata": {},
     "output_type": "display_data"
    },
    {
     "name": "stderr",
     "output_type": "stream",
     "text": [
      "    Copnorm and demean the data\n",
      "Get list of multiplets\n"
     ]
    },
    {
     "data": {
      "application/vnd.jupyter.widget-view+json": {
       "model_id": "cdc6e8ba2fdd4c0e804dde1cc91656d5",
       "version_major": 2,
       "version_minor": 0
      },
      "text/plain": [
       "  0%|          |  0/2 [00:00<?,       ?it/s]"
      ]
     },
     "metadata": {},
     "output_type": "display_data"
    },
    {
     "name": "stderr",
     "output_type": "stream",
     "text": [
      "    Copnorm and demean the data\n",
      "Get list of multiplets\n"
     ]
    },
    {
     "data": {
      "application/vnd.jupyter.widget-view+json": {
       "model_id": "9ec7e62042a449209f505bb83b716f3f",
       "version_major": 2,
       "version_minor": 0
      },
      "text/plain": [
       "  0%|          |  0/2 [00:00<?,       ?it/s]"
      ]
     },
     "metadata": {},
     "output_type": "display_data"
    }
   ],
   "source": [
    "import os\n",
    "import pandas as pd\n",
    "import glob\n",
    "\n",
    "# Define the directory path (use raw string or double backslashes for Windows paths)\n",
    "directory = r'Data\\Artificial_data\\Redundant_timeseries'\n",
    "\n",
    "# Use glob to get all CSV file paths\n",
    "csv_files = glob.glob(os.path.join(directory, '*.csv'))\n",
    "\n",
    "# Loop through and load each CSV file into a DataFrame\n",
    "metric_dicts = []\n",
    "\n",
    "for metric in metrics_types[:4]:\n",
    "    metric_sims = []\n",
    "    for file in csv_files:\n",
    "        df = pd.read_csv(file)\n",
    "\n",
    "        windowsize = 80 #int(len(df) / 2)\n",
    "        stepsize = int(len(df) / 10)\n",
    "\n",
    "        metric_dict_list = sliding_window(df, windowsize, stepsize)\n",
    "\n",
    "        metric_sims.append(metric_dict_list)\n",
    "    metric_dicts.append(tuple(metric_sims))\n",
    "\n",
    "metrics = metric_dicts"
   ]
  },
  {
   "cell_type": "code",
   "execution_count": null,
   "id": "644c6218",
   "metadata": {},
   "outputs": [
    {
     "name": "stderr",
     "output_type": "stream",
     "text": [
      "    Copnorm and demean the data\n",
      "Get list of multiplets\n"
     ]
    },
    {
     "data": {
      "application/vnd.jupyter.widget-view+json": {
       "model_id": "0c90140b8615458a98c31ce9b10c4646",
       "version_major": 2,
       "version_minor": 0
      },
      "text/plain": [
       "  0%|          |  0/2 [00:00<?,       ?it/s]"
      ]
     },
     "metadata": {},
     "output_type": "display_data"
    },
    {
     "name": "stderr",
     "output_type": "stream",
     "text": [
      "    Copnorm and demean the data\n",
      "Get list of multiplets\n"
     ]
    },
    {
     "data": {
      "application/vnd.jupyter.widget-view+json": {
       "model_id": "635c06cb63b74151b2791f36c477dd0e",
       "version_major": 2,
       "version_minor": 0
      },
      "text/plain": [
       "  0%|          |  0/2 [00:00<?,       ?it/s]"
      ]
     },
     "metadata": {},
     "output_type": "display_data"
    },
    {
     "name": "stderr",
     "output_type": "stream",
     "text": [
      "    Copnorm and demean the data\n",
      "Get list of multiplets\n"
     ]
    },
    {
     "data": {
      "application/vnd.jupyter.widget-view+json": {
       "model_id": "4dedf30a48744ccebc32cbc77dd2e99d",
       "version_major": 2,
       "version_minor": 0
      },
      "text/plain": [
       "  0%|          |  0/2 [00:00<?,       ?it/s]"
      ]
     },
     "metadata": {},
     "output_type": "display_data"
    },
    {
     "name": "stderr",
     "output_type": "stream",
     "text": [
      "    Copnorm and demean the data\n",
      "Get list of multiplets\n"
     ]
    },
    {
     "data": {
      "application/vnd.jupyter.widget-view+json": {
       "model_id": "c401bede43704d31a33c3e51aa0e0c1c",
       "version_major": 2,
       "version_minor": 0
      },
      "text/plain": [
       "  0%|          |  0/2 [00:00<?,       ?it/s]"
      ]
     },
     "metadata": {},
     "output_type": "display_data"
    },
    {
     "name": "stderr",
     "output_type": "stream",
     "text": [
      "    Copnorm and demean the data\n",
      "Get list of multiplets\n"
     ]
    },
    {
     "data": {
      "application/vnd.jupyter.widget-view+json": {
       "model_id": "939505025fa7409b851c5e2f0eda80ed",
       "version_major": 2,
       "version_minor": 0
      },
      "text/plain": [
       "  0%|          |  0/2 [00:00<?,       ?it/s]"
      ]
     },
     "metadata": {},
     "output_type": "display_data"
    },
    {
     "name": "stderr",
     "output_type": "stream",
     "text": [
      "    Copnorm and demean the data\n",
      "Get list of multiplets\n"
     ]
    },
    {
     "data": {
      "application/vnd.jupyter.widget-view+json": {
       "model_id": "cff4552380784ba7ae2269c1616454ea",
       "version_major": 2,
       "version_minor": 0
      },
      "text/plain": [
       "  0%|          |  0/2 [00:00<?,       ?it/s]"
      ]
     },
     "metadata": {},
     "output_type": "display_data"
    }
   ],
   "source": [
    "import os\n",
    "import pandas as pd\n",
    "import glob\n",
    "\n",
    "# Define the directory path (use raw string or double backslashes for Windows paths)\n",
    "directory = r'Data\\Artificial_data\\Redundant_timeseries'\n",
    "\n",
    "# Use glob to get all CSV file paths\n",
    "csv_files = glob.glob(os.path.join(directory, '*.csv'))\n",
    "\n",
    "# Loop through and load each CSV file into a DataFrame\n",
    "metric_dicts = []\n",
    "\n",
    "for file in csv_files:\n",
    "    df = pd.read_csv(file)\n",
    "\n",
    "    windowsize = 80 #int(len(df) / 2)\n",
    "    stepsize = int(len(df) / 10)\n",
    "\n",
    "    metric_dict_list = sliding_window(df, windowsize, stepsize)\n",
    "\n",
    "    metric_dicts.append(metric_dict_list)\n",
    "\n",
    "metrics = metric_dicts"
   ]
  },
  {
   "cell_type": "code",
   "execution_count": 160,
   "id": "cbef95e0",
   "metadata": {},
   "outputs": [
    {
     "data": {
      "text/plain": [
       "[([{2: [-0.03514885902404785, -0.020809292793273926, -0.006348967552185059],\n",
       "    3: [-0.004250526428222656]},\n",
       "   {2: [-0.07414674758911133, -0.04209589958190918, 0.15847539901733398],\n",
       "    3: [-0.08505582809448242]}],\n",
       "  [{2: [-0.03514885902404785, -0.020809292793273926, -0.006348967552185059],\n",
       "    3: [-0.004250526428222656]},\n",
       "   {2: [-0.07414674758911133, -0.04209589958190918, 0.15847539901733398],\n",
       "    3: [-0.08505582809448242]}],\n",
       "  [{2: [-0.03514885902404785, -0.020809292793273926, -0.006348967552185059],\n",
       "    3: [-0.004250526428222656]},\n",
       "   {2: [-0.07414674758911133, -0.04209589958190918, 0.15847539901733398],\n",
       "    3: [-0.08505582809448242]}]),\n",
       " ([{2: [-0.0351492203772068, -0.02080930769443512, -0.006349006202071905],\n",
       "    3: [-0.05805690586566925]},\n",
       "   {2: [-0.07414662837982178, -0.04209594428539276, 0.1584753841161728],\n",
       "    3: [0.1272881031036377]}],\n",
       "  [{2: [-0.0351492203772068, -0.02080930769443512, -0.006349006202071905],\n",
       "    3: [-0.05805690586566925]},\n",
       "   {2: [-0.07414662837982178, -0.04209594428539276, 0.1584753841161728],\n",
       "    3: [0.1272881031036377]}],\n",
       "  [{2: [-0.0351492203772068, -0.02080930769443512, -0.006349006202071905],\n",
       "    3: [-0.05805690586566925]},\n",
       "   {2: [-0.07414662837982178, -0.04209594428539276, 0.1584753841161728],\n",
       "    3: [0.1272881031036377]}]),\n",
       " ([{2: [-0.0351492203772068, -0.02080930769443512, -0.006349006202071905],\n",
       "    3: [-0.053805503994226456]},\n",
       "   {2: [-0.07414662837982178, -0.04209594428539276, 0.1584753841161728],\n",
       "    3: [0.21234369277954102]}],\n",
       "  [{2: [-0.0351492203772068, -0.02080930769443512, -0.006349006202071905],\n",
       "    3: [-0.053805503994226456]},\n",
       "   {2: [-0.07414662837982178, -0.04209594428539276, 0.1584753841161728],\n",
       "    3: [0.21234369277954102]}],\n",
       "  [{2: [-0.0351492203772068, -0.02080930769443512, -0.006349006202071905],\n",
       "    3: [-0.053805503994226456]},\n",
       "   {2: [-0.07414662837982178, -0.04209594428539276, 0.1584753841161728],\n",
       "    3: [0.21234369277954102]}])]"
      ]
     },
     "execution_count": 160,
     "metadata": {},
     "output_type": "execute_result"
    }
   ],
   "source": [
    "metrics"
   ]
  },
  {
   "cell_type": "code",
   "execution_count": 155,
   "id": "d2e92dea",
   "metadata": {},
   "outputs": [
    {
     "data": {
      "text/plain": [
       "[({2: [0.015218179672956467, 0.07766617089509964, 0.12779954075813293],\n",
       "   3: [0.08225119113922119]},\n",
       "  {2: [0.02304910123348236, 0.08130251616239548, 0.09404154866933823],\n",
       "   3: [0.048440270125865936]}),\n",
       " ({2: [0.015218179672956467, 0.07766617089509964, 0.12779954075813293],\n",
       "   3: [0.08225119113922119]},\n",
       "  {2: [0.02304910123348236, 0.08130251616239548, 0.09404154866933823],\n",
       "   3: [0.048440270125865936]}),\n",
       " ({2: [0.015218179672956467, 0.07766617089509964, 0.12779954075813293],\n",
       "   3: [0.08225119113922119]},\n",
       "  {2: [0.02304910123348236, 0.08130251616239548, 0.09404154866933823],\n",
       "   3: [0.048440270125865936]})]"
      ]
     },
     "execution_count": 155,
     "metadata": {},
     "output_type": "execute_result"
    }
   ],
   "source": [
    "metrics"
   ]
  },
  {
   "cell_type": "code",
   "execution_count": null,
   "id": "1fb8e09c",
   "metadata": {},
   "outputs": [],
   "source": [
    "metrics_types = [InfoTopo, TC, DTC, Sinfo, Oinfo, RedundancyphiID, SynergyphiID]\n",
    "metric_dicts = []\n",
    "\n",
    "for metric in metrics_types:\n",
    "    metric_dict_t1 = dict(analyse_information_metric(metric, df_1[:10]))\n",
    "    metric_dict_t2 = dict(analyse_information_metric(metric, df_1[10:20]))\n",
    "    metric_sim1 = [metric_dict_t1, metric_dict_t2]\n",
    "\n",
    "    metric_dict_t1 = dict(analyse_information_metric(metric, df_2[:10]))\n",
    "    metric_dict_t2 = dict(analyse_information_metric(metric, df_2[10:20]))\n",
    "    metric_sim2 = [metric_dict_t1, metric_dict_t2]\n",
    "\n",
    "    metric_dicts.append((metric_sim1, metric_sim2))"
   ]
  },
  {
   "cell_type": "markdown",
   "id": "cf50730d",
   "metadata": {},
   "source": [
    "# Test visualisation on example data before continuing to sliding window"
   ]
  },
  {
   "cell_type": "code",
   "execution_count": 148,
   "id": "f858688d",
   "metadata": {},
   "outputs": [],
   "source": [
    "# Import libraries\n",
    "import numpy as np\n",
    "import matplotlib.pyplot as plt\n",
    "from collections import defaultdict"
   ]
  },
  {
   "cell_type": "code",
   "execution_count": 149,
   "id": "b1b6509c",
   "metadata": {},
   "outputs": [],
   "source": [
    "# Define functions\n",
    "def average_metric_data(metric):\n",
    "    # Get all key-index combinations\n",
    "    all_key_indices = set()\n",
    "    for sim in metric:\n",
    "        for d in sim:\n",
    "            for k, v in d.items():\n",
    "                for i in range(len(v)):\n",
    "                    all_key_indices.add((k, i))\n",
    "    \n",
    "    sorted_keys = sorted(all_key_indices)  # sort by key then index\n",
    "\n",
    "    data = []\n",
    "    for t in range(len(metric[0])):  # number of timesteps\n",
    "        averaged_dict = {}\n",
    "        for k, idx in sorted_keys:\n",
    "            values = [sim[t].get(k, [0.0] * (idx + 1))[idx] for sim in metric]\n",
    "            averaged_dict[(k, idx)] = np.mean(values)\n",
    "        sorted_values = [averaged_dict[(k, idx)] for k, idx in sorted_keys]\n",
    "        data.append(sorted_values)\n",
    "\n",
    "    # Compute label positions per key\n",
    "    key_indices = defaultdict(list)\n",
    "    for idx, (k, _) in enumerate(sorted_keys):\n",
    "        key_indices[k].append(idx)\n",
    "\n",
    "    label_positions = {k: max(idxs) for k, idxs in key_indices.items()}\n",
    "    labels = [f\"{k}\" for k in label_positions.keys()]  # optional: add count\n",
    "\n",
    "    return np.array(data), labels, label_positions\n",
    "\n",
    "def compute_averages(metric):\n",
    "    sim1, sim2 = metric\n",
    "    avg_sim1 = [np.mean([v for lst in d.values() for v in lst]) for d in sim1]\n",
    "    avg_sim2 = [np.mean([v for lst in d.values() for v in lst]) for d in sim2]\n",
    "    avg_combined = [(a + b) / 2 for a, b in zip(avg_sim1, avg_sim2)]\n",
    "    return avg_sim1, avg_sim2, avg_combined"
   ]
  },
  {
   "cell_type": "code",
   "execution_count": 166,
   "id": "dccaad58",
   "metadata": {},
   "outputs": [],
   "source": [
    "# Define functions\n",
    "def average_metric_data(metric):\n",
    "    # Get all key-index combinations\n",
    "    all_key_indices = set()\n",
    "    for sim in metric:\n",
    "        for d in sim:\n",
    "            for k, v in d.items():\n",
    "                for i in range(len(v)):\n",
    "                    all_key_indices.add((k, i))\n",
    "    \n",
    "    sorted_keys = sorted(all_key_indices)  # sort by key then index\n",
    "\n",
    "    data = []\n",
    "    for t in range(len(metric[0])):  # number of timesteps\n",
    "        averaged_dict = {}\n",
    "        for k, idx in sorted_keys:\n",
    "            values = [sim[t].get(k, [0.0] * (idx + 1))[idx] for sim in metric]\n",
    "            averaged_dict[(k, idx)] = np.mean(values)\n",
    "        sorted_values = [averaged_dict[(k, idx)] for k, idx in sorted_keys]\n",
    "        data.append(sorted_values)\n",
    "\n",
    "    # Compute label positions per key\n",
    "    key_indices = defaultdict(list)\n",
    "    for idx, (k, _) in enumerate(sorted_keys):\n",
    "        key_indices[k].append(idx)\n",
    "\n",
    "    label_positions = {k: max(idxs) for k, idxs in key_indices.items()}\n",
    "    labels = [f\"{k}\" for k in label_positions.keys()]  # optional: add count\n",
    "\n",
    "    return np.array(data), labels, label_positions\n",
    "\n",
    "def compute_averages(metric):\n",
    "    num_simulations = len(metric)\n",
    "    sim_averages = []\n",
    "\n",
    "    # Compute average per timestep for each simulation\n",
    "    for sim in metric:\n",
    "        avg = [np.mean([v for lst in d.values() for v in lst]) for d in sim]\n",
    "        sim_averages.append(avg)\n",
    "\n",
    "    # Compute average across simulations at each timestep\n",
    "    avg_combined = [\n",
    "        np.mean([sim_avg[i] for sim_avg in sim_averages])\n",
    "        for i in range(len(sim_averages[0]))\n",
    "    ]\n",
    "\n",
    "    return (*sim_averages, avg_combined)"
   ]
  },
  {
   "cell_type": "code",
   "execution_count": 173,
   "id": "bd5f73dd",
   "metadata": {},
   "outputs": [
    {
     "data": {
      "image/png": "[encoded data removed]",
      "text/plain": [
       "<Figure size 2400x1000 with 8 Axes>"
      ]
     },
     "metadata": {},
     "output_type": "display_data"
    }
   ],
   "source": [
    "# Prepare data for all metrics\n",
    "prepared_data = [average_metric_data(m) for m in metrics]\n",
    "averages = [compute_averages(m) for m in metrics]\n",
    "\n",
    "timesteps = list(range(1, len(metrics[0][0]) + 1))  # assumes same length for all metrics\n",
    "\n",
    "# Adjust all font sizes globally\n",
    "fontsize_standard = 20\n",
    "plt.rcParams.update({\n",
    "    'font.size': fontsize_standard+2,\n",
    "    'axes.titlesize': fontsize_standard+4,\n",
    "    'axes.labelsize': fontsize_standard+2,\n",
    "    'xtick.labelsize': fontsize_standard,\n",
    "    'ytick.labelsize': fontsize_standard,\n",
    "    'legend.fontsize': fontsize_standard\n",
    "})\n",
    "\n",
    "# Setup figure with 2 rows and len(metrics) columns\n",
    "fig, axs = plt.subplots(2, len(metrics), figsize=(6 * len(metrics), 10), sharey='row')\n",
    "\n",
    "# If only one metric, axs will be 1D, fix to 2D for consistent indexing\n",
    "if len(metrics) == 1:\n",
    "    axs = np.array(axs).reshape(2, 1)\n",
    "\n",
    "# Top row: line plots\n",
    "for i, (ax, average_tuple, title) in enumerate(zip(\n",
    "    axs[0],\n",
    "    averages,\n",
    "    [f\"{metrics_types[i].__name__}\" for i in range(len(metrics))]\n",
    ")):\n",
    "    *individual_sim_avgs, avg_combined = average_tuple  # unpack arbitrary-length tuple\n",
    "\n",
    "    # Plot each simulation average in gray\n",
    "    for j, avg_sim in enumerate(individual_sim_avgs):\n",
    "        ax.plot(timesteps, avg_sim, color='grey', linestyle='--', marker='o', label=f'Simulation {j+1}' if i == 0 else \"\")\n",
    "\n",
    "    # Plot combined average in red\n",
    "    ax.plot(timesteps, avg_combined, color='red', marker='o', linewidth=2, label='Average' if i == 0 else \"\")\n",
    "\n",
    "    ax.set_title(title)\n",
    "    ax.set_xticklabels([])\n",
    "\n",
    "    if i == 0:\n",
    "        ax.set_ylabel(\"Average Value\")\n",
    "    else:\n",
    "        ax.set_yticklabels([])\n",
    "\n",
    "    ax.grid(True)\n",
    "\n",
    "# Bottom row: heatmaps\n",
    "for i, (ax, (data, labels, label_positions), title) in enumerate(zip(\n",
    "    axs[1],\n",
    "    prepared_data,\n",
    "    [f\"Heatmap: Metric {i+1}\" for i in range(len(metrics))]\n",
    ")):\n",
    "    cax = ax.imshow(data.T, aspect='auto', cmap='viridis', origin='lower')\n",
    "    ax.set_xlabel(\"Time\")\n",
    "    ax.set_xticks(np.arange(data.shape[0]))\n",
    "    ax.set_xticklabels(np.arange(data.shape[0]))\n",
    "\n",
    "    if i == 0:\n",
    "        ax.set_ylabel(\"Order\")\n",
    "        yticks = list(label_positions.values())\n",
    "        ylabels = labels\n",
    "        ax.set_yticks(yticks)\n",
    "        ax.set_yticklabels(ylabels)\n",
    "\n",
    "# Add legend only to the first plot\n",
    "# axs[0][0].legend()\n",
    "\n",
    "plt.tight_layout(h_pad=0.1)\n",
    "plt.show()\n"
   ]
  },
  {
   "cell_type": "code",
   "execution_count": 163,
   "id": "85dfe772",
   "metadata": {},
   "outputs": [
    {
     "ename": "ValueError",
     "evalue": "too many values to unpack (expected 3)",
     "output_type": "error",
     "traceback": [
      "\u001b[1;31m---------------------------------------------------------------------------\u001b[0m",
      "\u001b[1;31mValueError\u001b[0m                                Traceback (most recent call last)",
      "Cell \u001b[1;32mIn[163], line 26\u001b[0m\n\u001b[0;32m     23\u001b[0m     axs \u001b[38;5;241m=\u001b[39m np\u001b[38;5;241m.\u001b[39marray(axs)\u001b[38;5;241m.\u001b[39mreshape(\u001b[38;5;241m2\u001b[39m,\u001b[38;5;241m1\u001b[39m)\n\u001b[0;32m     25\u001b[0m \u001b[38;5;66;03m# Top row: line plots\u001b[39;00m\n\u001b[1;32m---> 26\u001b[0m \u001b[38;5;28;01mfor\u001b[39;00m i, (ax, (avg_sim1, avg_sim2, avg_combined), title) \u001b[38;5;129;01min\u001b[39;00m \u001b[38;5;28menumerate\u001b[39m(\u001b[38;5;28mzip\u001b[39m(\n\u001b[0;32m     27\u001b[0m     axs[\u001b[38;5;241m0\u001b[39m],\n\u001b[0;32m     28\u001b[0m     averages,\n\u001b[0;32m     29\u001b[0m     [\u001b[38;5;124mf\u001b[39m\u001b[38;5;124m\"\u001b[39m\u001b[38;5;132;01m{\u001b[39;00mmetrics_types[i]\u001b[38;5;241m.\u001b[39m\u001b[38;5;18m__name__\u001b[39m\u001b[38;5;132;01m}\u001b[39;00m\u001b[38;5;124m\"\u001b[39m \u001b[38;5;28;01mfor\u001b[39;00m i \u001b[38;5;129;01min\u001b[39;00m \u001b[38;5;28mrange\u001b[39m(\u001b[38;5;28mlen\u001b[39m(metrics))]\n\u001b[0;32m     30\u001b[0m )):\n\u001b[0;32m     31\u001b[0m     ax\u001b[38;5;241m.\u001b[39mplot(timesteps, avg_sim1, color\u001b[38;5;241m=\u001b[39m\u001b[38;5;124m'\u001b[39m\u001b[38;5;124mgrey\u001b[39m\u001b[38;5;124m'\u001b[39m, linestyle\u001b[38;5;241m=\u001b[39m\u001b[38;5;124m'\u001b[39m\u001b[38;5;124m--\u001b[39m\u001b[38;5;124m'\u001b[39m, marker\u001b[38;5;241m=\u001b[39m\u001b[38;5;124m'\u001b[39m\u001b[38;5;124mo\u001b[39m\u001b[38;5;124m'\u001b[39m, label\u001b[38;5;241m=\u001b[39m\u001b[38;5;124m'\u001b[39m\u001b[38;5;124mSimulation 1\u001b[39m\u001b[38;5;124m'\u001b[39m)\n\u001b[0;32m     32\u001b[0m     ax\u001b[38;5;241m.\u001b[39mplot(timesteps, avg_sim2, color\u001b[38;5;241m=\u001b[39m\u001b[38;5;124m'\u001b[39m\u001b[38;5;124mgrey\u001b[39m\u001b[38;5;124m'\u001b[39m, linestyle\u001b[38;5;241m=\u001b[39m\u001b[38;5;124m'\u001b[39m\u001b[38;5;124m--\u001b[39m\u001b[38;5;124m'\u001b[39m, marker\u001b[38;5;241m=\u001b[39m\u001b[38;5;124m'\u001b[39m\u001b[38;5;124mo\u001b[39m\u001b[38;5;124m'\u001b[39m, label\u001b[38;5;241m=\u001b[39m\u001b[38;5;124m'\u001b[39m\u001b[38;5;124mSimulation 2\u001b[39m\u001b[38;5;124m'\u001b[39m)\n",
      "\u001b[1;31mValueError\u001b[0m: too many values to unpack (expected 3)"
     ]
    },
    {
     "data": {
      "image/png": "[encoded data removed]",
      "text/plain": [
       "<Figure size 1800x1000 with 6 Axes>"
      ]
     },
     "metadata": {},
     "output_type": "display_data"
    }
   ],
   "source": [
    "# Prepare data for all metrics\n",
    "prepared_data = [average_metric_data(m) for m in metrics]\n",
    "averages = [compute_averages(m) for m in metrics]\n",
    "\n",
    "timesteps = list(range(1, len(metrics[0][0]) + 1))  # assumes same length for all metrics\n",
    "\n",
    "# Adjust all font sizes globally\n",
    "fontsize_standard = 20\n",
    "plt.rcParams.update({\n",
    "    'font.size': fontsize_standard+2,\n",
    "    'axes.titlesize': fontsize_standard+4,\n",
    "    'axes.labelsize': fontsize_standard+2,\n",
    "    'xtick.labelsize': fontsize_standard,\n",
    "    'ytick.labelsize': fontsize_standard,\n",
    "    'legend.fontsize': fontsize_standard\n",
    "})\n",
    "\n",
    "# Setup figure with 2 rows and len(metrics) columns\n",
    "fig, axs = plt.subplots(2, len(metrics), figsize=(6 * len(metrics), 10), sharey='row')\n",
    "\n",
    "# If only one metric, axs will be 1D, fix to 2D for consistent indexing\n",
    "if len(metrics) == 1:\n",
    "    axs = np.array(axs).reshape(2,1)\n",
    "\n",
    "# Top row: line plots\n",
    "for i, (ax, (avg_sim1, avg_sim2, avg_combined), title) in enumerate(zip(\n",
    "    axs[0],\n",
    "    averages,\n",
    "    [f\"{metrics_types[i].__name__}\" for i in range(len(metrics))]\n",
    ")):\n",
    "    ax.plot(timesteps, avg_sim1, color='grey', linestyle='--', marker='o', label='Simulation 1')\n",
    "    ax.plot(timesteps, avg_sim2, color='grey', linestyle='--', marker='o', label='Simulation 2')\n",
    "    ax.plot(timesteps, avg_combined, color='red', marker='o', linewidth=2, label='Average')\n",
    "    ax.set_title(title)\n",
    "    ax.set_xticklabels([])\n",
    "\n",
    "    if i == 0:\n",
    "        ax.set_ylabel(\"Average Value\")\n",
    "    else:\n",
    "        ax.set_yticklabels([])\n",
    "\n",
    "    ax.grid(True)\n",
    "\n",
    "# Bottom row: heatmaps\n",
    "for i, (ax, (data, labels, label_positions), title) in enumerate(zip(\n",
    "    axs[1],\n",
    "    prepared_data,\n",
    "    [f\"Heatmap: Metric {i+1}\" for i in range(len(metrics))]\n",
    ")):\n",
    "    cax = ax.imshow(data.T, aspect='auto', cmap='viridis', origin='lower')\n",
    "    ax.set_xlabel(\"Time\")\n",
    "    ax.set_xticks(np.arange(data.shape[0]))\n",
    "    ax.set_xticklabels(np.arange(data.shape[0]))\n",
    "\n",
    "    if i == 0:\n",
    "        ax.set_ylabel(\"Order\")\n",
    "        yticks = list(label_positions.values())\n",
    "        ylabels = labels\n",
    "        ax.set_yticks(yticks)\n",
    "        ax.set_yticklabels(ylabels)\n",
    "\n",
    "plt.tight_layout(h_pad=0.1)\n",
    "plt.show()"
   ]
  }
 ],
 "metadata": {
  "kernelspec": {
   "display_name": "base",
   "language": "python",
   "name": "python3"
  },
  "language_info": {
   "codemirror_mode": {
    "name": "ipython",
    "version": 3
   },
   "file_extension": ".py",
   "mimetype": "text/x-python",
   "name": "python",
   "nbconvert_exporter": "python",
   "pygments_lexer": "ipython3",
   "version": "3.12.4"
  }
 },
 "nbformat": 4,
 "nbformat_minor": 5
}

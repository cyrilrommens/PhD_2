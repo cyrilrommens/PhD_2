{
 "cells": [
  {
   "cell_type": "markdown",
   "id": "079ffce2",
   "metadata": {},
   "source": [
    "# Summarize relevant code from 'Compute information metrics'"
   ]
  },
  {
   "cell_type": "markdown",
   "id": "b8e21753",
   "metadata": {},
   "source": [
    "Import libraries"
   ]
  },
  {
   "cell_type": "code",
   "execution_count": 1,
   "id": "d30f4b66",
   "metadata": {},
   "outputs": [],
   "source": [
    "import numpy as np\n",
    "import pandas as pd\n",
    "import os\n",
    "import glob\n",
    "from collections import defaultdict\n",
    "import hoi\n",
    "from hoi.plot import plot_landscape\n",
    "from hoi.utils import get_nbest_mult\n",
    "from numpy import random\n",
    "import matplotlib.pyplot as plt\n",
    "from hoi.metrics import InfoTopo, TC, DTC, Sinfo, Oinfo, RedundancyphiID, SynergyphiID\n",
    "from hoi.core import entropy_hist"
   ]
  },
  {
   "cell_type": "markdown",
   "id": "0a260ab9",
   "metadata": {},
   "source": [
    "Define functions"
   ]
  },
  {
   "cell_type": "code",
   "execution_count": 15,
   "id": "4e596ee8",
   "metadata": {},
   "outputs": [],
   "source": [
    "# Function to compute a desired information metric\n",
    "def compute_information_metric(metric, data):\n",
    "    data_array=np.array(np.array(data)).astype(float)\n",
    "    model = metric(data_array)\n",
    "    metric_results = model.fit(minsize=2,maxsize=4)\n",
    "    return metric_results, model\n",
    "\n",
    "# Function to divide list into list per order\n",
    "def divide_list_into_orders(hoi, model):\n",
    "    minsize = None\n",
    "    maxsize = None\n",
    "\n",
    "    # get orders\n",
    "    if model:\n",
    "        orders = model.order\n",
    "\n",
    "    # get computed orders\n",
    "    if minsize is None:\n",
    "        minsize = orders.min()\n",
    "    if maxsize is None:\n",
    "        maxsize = orders.max()   \n",
    "\n",
    "    # order selection\n",
    "    keep = np.logical_and(orders >= minsize, orders <= maxsize)\n",
    "    hoi = hoi[keep]\n",
    "    orders = orders[keep]\n",
    "\n",
    "    # Group the values per order\n",
    "    grouped = defaultdict(list)\n",
    "    for o, h in zip(orders, hoi):\n",
    "        grouped[o].append(h.item())  # Convert from NumPy array to float\n",
    "\n",
    "    # Sort each list\n",
    "    for key in grouped:\n",
    "        grouped[key] = sorted(grouped[key])\n",
    "\n",
    "    return grouped\n",
    "\n",
    "# Obtain information metric analysis\n",
    "def analyse_information_metric(metric, data):\n",
    "    # Compute information metric\n",
    "    metric_values, model = compute_information_metric(metric, data)\n",
    "    \n",
    "    # Divide list into lists per order\n",
    "    divided_dict = divide_list_into_orders(metric_values, model)\n",
    "\n",
    "    return divided_dict\n",
    "\n",
    "# Sliding timewindow to compute metrics per timestep for one simulation\n",
    "def sliding_window(timeseries, windowsize, stepsize):\n",
    "    metric_dict_list = []\n",
    "    for i in np.arange(0, len(timeseries)-windowsize, stepsize):\n",
    "        metric_dict_step = dict(analyse_information_metric(metric, timeseries[i:i+windowsize]))\n",
    "        metric_dict_list.append(metric_dict_step)\n",
    "    return metric_dict_list\n",
    "\n",
    "# Average the metric values for one simulation\n",
    "def average_metric_data(metric):\n",
    "    # Get all key-index combinations\n",
    "    all_key_indices = set()\n",
    "    for sim in metric:\n",
    "        for d in sim:\n",
    "            for k, v in d.items():\n",
    "                for i in range(len(v)):\n",
    "                    all_key_indices.add((k, i))\n",
    "    \n",
    "    sorted_keys = sorted(all_key_indices)  # sort by key then index\n",
    "\n",
    "    data = []\n",
    "    for t in range(len(metric[0])):  # number of timesteps\n",
    "        averaged_dict = {}\n",
    "        for k, idx in sorted_keys:\n",
    "            values = [sim[t].get(k, [0.0] * (idx + 1))[idx] for sim in metric]\n",
    "            averaged_dict[(k, idx)] = np.mean(values)\n",
    "        sorted_values = [averaged_dict[(k, idx)] for k, idx in sorted_keys]\n",
    "        data.append(sorted_values)\n",
    "\n",
    "    # Compute label positions per key\n",
    "    key_indices = defaultdict(list)\n",
    "    for idx, (k, _) in enumerate(sorted_keys):\n",
    "        key_indices[k].append(idx)\n",
    "\n",
    "    label_positions = {k: max(idxs) for k, idxs in key_indices.items()}\n",
    "    labels = [f\"{k}\" for k in label_positions.keys()]  # optional: add count\n",
    "\n",
    "    return np.array(data), labels, label_positions\n",
    "\n",
    "# Average the metric value from multiple simulations\n",
    "def compute_averages(metric):\n",
    "    num_simulations = len(metric)\n",
    "    sim_averages = []\n",
    "\n",
    "    # Compute average per timestep for each simulation\n",
    "    for sim in metric:\n",
    "        avg = [np.mean([v for lst in d.values() for v in lst]) for d in sim]\n",
    "        sim_averages.append(avg)\n",
    "\n",
    "    # Compute average across simulations at each timestep\n",
    "    avg_combined = [\n",
    "        np.mean([sim_avg[i] for sim_avg in sim_averages])\n",
    "        for i in range(len(sim_averages[0]))\n",
    "    ]\n",
    "\n",
    "    return (*sim_averages, avg_combined)"
   ]
  },
  {
   "cell_type": "markdown",
   "id": "0e50c8b8",
   "metadata": {},
   "source": [
    "Check desired dataset for length to estimate computational cost"
   ]
  },
  {
   "cell_type": "code",
   "execution_count": 14,
   "id": "31055dfd",
   "metadata": {},
   "outputs": [
    {
     "data": {
      "text/html": [
       "<div>\n",
       "<style scoped>\n",
       "    .dataframe tbody tr th:only-of-type {\n",
       "        vertical-align: middle;\n",
       "    }\n",
       "\n",
       "    .dataframe tbody tr th {\n",
       "        vertical-align: top;\n",
       "    }\n",
       "\n",
       "    .dataframe thead th {\n",
       "        text-align: right;\n",
       "    }\n",
       "</style>\n",
       "<table border=\"1\" class=\"dataframe\">\n",
       "  <thead>\n",
       "    <tr style=\"text-align: right;\">\n",
       "      <th></th>\n",
       "      <th>epoch</th>\n",
       "      <th>W1[0]</th>\n",
       "      <th>W1[1]</th>\n",
       "      <th>W1[2]</th>\n",
       "      <th>W1[3]</th>\n",
       "      <th>W1[4]</th>\n",
       "      <th>W1[5]</th>\n",
       "      <th>W1[6]</th>\n",
       "      <th>W1[7]</th>\n",
       "      <th>W1[8]</th>\n",
       "      <th>...</th>\n",
       "      <th>W2[0]</th>\n",
       "      <th>W2[1]</th>\n",
       "      <th>W2[2]</th>\n",
       "      <th>W2[3]</th>\n",
       "      <th>W2[4]</th>\n",
       "      <th>W2[5]</th>\n",
       "      <th>W2[6]</th>\n",
       "      <th>W2[7]</th>\n",
       "      <th>W2[8]</th>\n",
       "      <th>W2[9]</th>\n",
       "    </tr>\n",
       "  </thead>\n",
       "  <tbody>\n",
       "    <tr>\n",
       "      <th>0</th>\n",
       "      <td>0</td>\n",
       "      <td>-0.624448</td>\n",
       "      <td>-1.418614</td>\n",
       "      <td>0.464627</td>\n",
       "      <td>0.700879</td>\n",
       "      <td>0.309309</td>\n",
       "      <td>0.128785</td>\n",
       "      <td>-0.577752</td>\n",
       "      <td>-1.125747</td>\n",
       "      <td>-1.403717</td>\n",
       "      <td>...</td>\n",
       "      <td>0.757735</td>\n",
       "      <td>-1.542608</td>\n",
       "      <td>-0.151227</td>\n",
       "      <td>-0.448748</td>\n",
       "      <td>-0.171613</td>\n",
       "      <td>-0.650839</td>\n",
       "      <td>1.343896</td>\n",
       "      <td>-0.105700</td>\n",
       "      <td>-2.705122</td>\n",
       "      <td>1.047129</td>\n",
       "    </tr>\n",
       "    <tr>\n",
       "      <th>1</th>\n",
       "      <td>1</td>\n",
       "      <td>-0.624917</td>\n",
       "      <td>-1.416359</td>\n",
       "      <td>0.464945</td>\n",
       "      <td>0.701411</td>\n",
       "      <td>0.309730</td>\n",
       "      <td>0.129222</td>\n",
       "      <td>-0.579625</td>\n",
       "      <td>-1.125644</td>\n",
       "      <td>-1.404408</td>\n",
       "      <td>...</td>\n",
       "      <td>0.757367</td>\n",
       "      <td>-1.546889</td>\n",
       "      <td>-0.153030</td>\n",
       "      <td>-0.451574</td>\n",
       "      <td>-0.172839</td>\n",
       "      <td>-0.656838</td>\n",
       "      <td>1.338509</td>\n",
       "      <td>-0.110186</td>\n",
       "      <td>-2.708613</td>\n",
       "      <td>1.042972</td>\n",
       "    </tr>\n",
       "    <tr>\n",
       "      <th>2</th>\n",
       "      <td>2</td>\n",
       "      <td>-0.625331</td>\n",
       "      <td>-1.414145</td>\n",
       "      <td>0.465259</td>\n",
       "      <td>0.701918</td>\n",
       "      <td>0.310145</td>\n",
       "      <td>0.129611</td>\n",
       "      <td>-0.581409</td>\n",
       "      <td>-1.125543</td>\n",
       "      <td>-1.405246</td>\n",
       "      <td>...</td>\n",
       "      <td>0.757366</td>\n",
       "      <td>-1.551047</td>\n",
       "      <td>-0.154395</td>\n",
       "      <td>-0.453986</td>\n",
       "      <td>-0.173627</td>\n",
       "      <td>-0.662595</td>\n",
       "      <td>1.333328</td>\n",
       "      <td>-0.114493</td>\n",
       "      <td>-2.711894</td>\n",
       "      <td>1.039252</td>\n",
       "    </tr>\n",
       "    <tr>\n",
       "      <th>3</th>\n",
       "      <td>3</td>\n",
       "      <td>-0.625696</td>\n",
       "      <td>-1.411969</td>\n",
       "      <td>0.465568</td>\n",
       "      <td>0.702402</td>\n",
       "      <td>0.310553</td>\n",
       "      <td>0.129957</td>\n",
       "      <td>-0.583112</td>\n",
       "      <td>-1.125442</td>\n",
       "      <td>-1.406213</td>\n",
       "      <td>...</td>\n",
       "      <td>0.757686</td>\n",
       "      <td>-1.555096</td>\n",
       "      <td>-0.155375</td>\n",
       "      <td>-0.456032</td>\n",
       "      <td>-0.174028</td>\n",
       "      <td>-0.668132</td>\n",
       "      <td>1.328332</td>\n",
       "      <td>-0.118643</td>\n",
       "      <td>-2.714991</td>\n",
       "      <td>1.035919</td>\n",
       "    </tr>\n",
       "    <tr>\n",
       "      <th>4</th>\n",
       "      <td>4</td>\n",
       "      <td>-0.626017</td>\n",
       "      <td>-1.409828</td>\n",
       "      <td>0.465872</td>\n",
       "      <td>0.702866</td>\n",
       "      <td>0.310955</td>\n",
       "      <td>0.130263</td>\n",
       "      <td>-0.584742</td>\n",
       "      <td>-1.125343</td>\n",
       "      <td>-1.407295</td>\n",
       "      <td>...</td>\n",
       "      <td>0.758288</td>\n",
       "      <td>-1.559047</td>\n",
       "      <td>-0.156016</td>\n",
       "      <td>-0.457755</td>\n",
       "      <td>-0.174089</td>\n",
       "      <td>-0.673474</td>\n",
       "      <td>1.323503</td>\n",
       "      <td>-0.122650</td>\n",
       "      <td>-2.717925</td>\n",
       "      <td>1.032934</td>\n",
       "    </tr>\n",
       "  </tbody>\n",
       "</table>\n",
       "<p>5 rows × 31 columns</p>\n",
       "</div>"
      ],
      "text/plain": [
       "   epoch     W1[0]     W1[1]     W1[2]     W1[3]     W1[4]     W1[5]  \\\n",
       "0      0 -0.624448 -1.418614  0.464627  0.700879  0.309309  0.128785   \n",
       "1      1 -0.624917 -1.416359  0.464945  0.701411  0.309730  0.129222   \n",
       "2      2 -0.625331 -1.414145  0.465259  0.701918  0.310145  0.129611   \n",
       "3      3 -0.625696 -1.411969  0.465568  0.702402  0.310553  0.129957   \n",
       "4      4 -0.626017 -1.409828  0.465872  0.702866  0.310955  0.130263   \n",
       "\n",
       "      W1[6]     W1[7]     W1[8]  ...     W2[0]     W2[1]     W2[2]     W2[3]  \\\n",
       "0 -0.577752 -1.125747 -1.403717  ...  0.757735 -1.542608 -0.151227 -0.448748   \n",
       "1 -0.579625 -1.125644 -1.404408  ...  0.757367 -1.546889 -0.153030 -0.451574   \n",
       "2 -0.581409 -1.125543 -1.405246  ...  0.757366 -1.551047 -0.154395 -0.453986   \n",
       "3 -0.583112 -1.125442 -1.406213  ...  0.757686 -1.555096 -0.155375 -0.456032   \n",
       "4 -0.584742 -1.125343 -1.407295  ...  0.758288 -1.559047 -0.156016 -0.457755   \n",
       "\n",
       "      W2[4]     W2[5]     W2[6]     W2[7]     W2[8]     W2[9]  \n",
       "0 -0.171613 -0.650839  1.343896 -0.105700 -2.705122  1.047129  \n",
       "1 -0.172839 -0.656838  1.338509 -0.110186 -2.708613  1.042972  \n",
       "2 -0.173627 -0.662595  1.333328 -0.114493 -2.711894  1.039252  \n",
       "3 -0.174028 -0.668132  1.328332 -0.118643 -2.714991  1.035919  \n",
       "4 -0.174089 -0.673474  1.323503 -0.122650 -2.717925  1.032934  \n",
       "\n",
       "[5 rows x 31 columns]"
      ]
     },
     "execution_count": 14,
     "metadata": {},
     "output_type": "execute_result"
    }
   ],
   "source": [
    "# Define the directory path (use raw string or double backslashes for Windows paths)\n",
    "directory = r'Data\\Perceptron_data'\n",
    "\n",
    "# Use glob to get all CSV file paths\n",
    "csv_files = glob.glob(os.path.join(directory, '*.csv'))\n",
    "\n",
    "df = pd.read_csv(csv_files[0])\n",
    "\n",
    "df.head()"
   ]
  },
  {
   "cell_type": "markdown",
   "id": "2a9848e3",
   "metadata": {},
   "source": [
    "Import stored timeseries data and compute metrics"
   ]
  },
  {
   "cell_type": "code",
   "execution_count": 16,
   "id": "666e88e3",
   "metadata": {},
   "outputs": [
    {
     "name": "stderr",
     "output_type": "stream",
     "text": [
      "Compute entropy with gc\n"
     ]
    },
    {
     "name": "stderr",
     "output_type": "stream",
     "text": [
      "    Copnorm and demean the data\n",
      "Get list of multiplets\n"
     ]
    },
    {
     "data": {
      "application/vnd.jupyter.widget-view+json": {
       "model_id": "9d1e463365014542af5206025f4ad923",
       "version_major": 2,
       "version_minor": 0
      },
      "text/plain": [
       "  0%|          |  0/4 [00:00<?,       ?it/s]"
      ]
     },
     "metadata": {},
     "output_type": "display_data"
    },
    {
     "name": "stderr",
     "output_type": "stream",
     "text": [
      "Get list of multiplets\n"
     ]
    },
    {
     "data": {
      "application/vnd.jupyter.widget-view+json": {
       "model_id": "47678e43872e43e2a679bad2a985cb77",
       "version_major": 2,
       "version_minor": 0
      },
      "text/plain": [
       "  0%|          | 0/36425 [00:00<?, ?it/s]"
      ]
     },
     "metadata": {},
     "output_type": "display_data"
    },
    {
     "name": "stderr",
     "output_type": "stream",
     "text": [
      "Compute entropy with gc\n",
      "    Copnorm and demean the data\n",
      "Get list of multiplets\n"
     ]
    },
    {
     "data": {
      "application/vnd.jupyter.widget-view+json": {
       "model_id": "813d1a20b180486db756b748d52bc136",
       "version_major": 2,
       "version_minor": 0
      },
      "text/plain": [
       "  0%|          |  0/4 [00:00<?,       ?it/s]"
      ]
     },
     "metadata": {},
     "output_type": "display_data"
    },
    {
     "name": "stderr",
     "output_type": "stream",
     "text": [
      "Get list of multiplets\n"
     ]
    },
    {
     "data": {
      "application/vnd.jupyter.widget-view+json": {
       "model_id": "433532ac703345749a29766900387b9e",
       "version_major": 2,
       "version_minor": 0
      },
      "text/plain": [
       "  0%|          | 0/36425 [00:00<?, ?it/s]"
      ]
     },
     "metadata": {},
     "output_type": "display_data"
    },
    {
     "name": "stderr",
     "output_type": "stream",
     "text": [
      "Compute entropy with gc\n",
      "    Copnorm and demean the data\n",
      "Get list of multiplets\n"
     ]
    },
    {
     "data": {
      "application/vnd.jupyter.widget-view+json": {
       "model_id": "8a6a78d1a37046c9a55e6f81f154e4d2",
       "version_major": 2,
       "version_minor": 0
      },
      "text/plain": [
       "  0%|          |  0/4 [00:00<?,       ?it/s]"
      ]
     },
     "metadata": {},
     "output_type": "display_data"
    },
    {
     "name": "stderr",
     "output_type": "stream",
     "text": [
      "Get list of multiplets\n"
     ]
    },
    {
     "data": {
      "application/vnd.jupyter.widget-view+json": {
       "model_id": "32e4564f5b0a4fa7a556537d502ad6f1",
       "version_major": 2,
       "version_minor": 0
      },
      "text/plain": [
       "  0%|          | 0/36425 [00:00<?, ?it/s]"
      ]
     },
     "metadata": {},
     "output_type": "display_data"
    },
    {
     "name": "stderr",
     "output_type": "stream",
     "text": [
      "Compute entropy with gc\n",
      "    Copnorm and demean the data\n",
      "Get list of multiplets\n"
     ]
    },
    {
     "data": {
      "application/vnd.jupyter.widget-view+json": {
       "model_id": "ac30d35cf6764b309ec08f0efcc05554",
       "version_major": 2,
       "version_minor": 0
      },
      "text/plain": [
       "  0%|          |  0/4 [00:00<?,       ?it/s]"
      ]
     },
     "metadata": {},
     "output_type": "display_data"
    },
    {
     "name": "stderr",
     "output_type": "stream",
     "text": [
      "Get list of multiplets\n"
     ]
    },
    {
     "data": {
      "application/vnd.jupyter.widget-view+json": {
       "model_id": "6cd1ba4e5c834baf9339cea07f6d0cc7",
       "version_major": 2,
       "version_minor": 0
      },
      "text/plain": [
       "  0%|          | 0/36425 [00:00<?, ?it/s]"
      ]
     },
     "metadata": {},
     "output_type": "display_data"
    },
    {
     "name": "stderr",
     "output_type": "stream",
     "text": [
      "Compute entropy with gc\n",
      "    Copnorm and demean the data\n",
      "Get list of multiplets\n"
     ]
    },
    {
     "data": {
      "application/vnd.jupyter.widget-view+json": {
       "model_id": "80a2664d932a401b8b427ad6b0b74e9d",
       "version_major": 2,
       "version_minor": 0
      },
      "text/plain": [
       "  0%|          |  0/4 [00:00<?,       ?it/s]"
      ]
     },
     "metadata": {},
     "output_type": "display_data"
    },
    {
     "name": "stderr",
     "output_type": "stream",
     "text": [
      "Get list of multiplets\n"
     ]
    },
    {
     "data": {
      "application/vnd.jupyter.widget-view+json": {
       "model_id": "fcecfb22bcf44a179a1c829a9b22ff90",
       "version_major": 2,
       "version_minor": 0
      },
      "text/plain": [
       "  0%|          | 0/36425 [00:00<?, ?it/s]"
      ]
     },
     "metadata": {},
     "output_type": "display_data"
    },
    {
     "name": "stderr",
     "output_type": "stream",
     "text": [
      "Compute entropy with gc\n",
      "    Copnorm and demean the data\n",
      "Get list of multiplets\n"
     ]
    },
    {
     "data": {
      "application/vnd.jupyter.widget-view+json": {
       "model_id": "7434396b6c1b4dfa94c402956b7a296d",
       "version_major": 2,
       "version_minor": 0
      },
      "text/plain": [
       "  0%|          |  0/4 [00:00<?,       ?it/s]"
      ]
     },
     "metadata": {},
     "output_type": "display_data"
    },
    {
     "name": "stderr",
     "output_type": "stream",
     "text": [
      "Get list of multiplets\n"
     ]
    },
    {
     "data": {
      "application/vnd.jupyter.widget-view+json": {
       "model_id": "6df9e5817d1144c0a4c766e771a8d1b8",
       "version_major": 2,
       "version_minor": 0
      },
      "text/plain": [
       "  0%|          | 0/36425 [00:00<?, ?it/s]"
      ]
     },
     "metadata": {},
     "output_type": "display_data"
    },
    {
     "name": "stderr",
     "output_type": "stream",
     "text": [
      "Compute entropy with gc\n",
      "    Copnorm and demean the data\n",
      "Get list of multiplets\n"
     ]
    },
    {
     "data": {
      "application/vnd.jupyter.widget-view+json": {
       "model_id": "5bde71eda4e44928ac595a93c462d453",
       "version_major": 2,
       "version_minor": 0
      },
      "text/plain": [
       "  0%|          |  0/4 [00:00<?,       ?it/s]"
      ]
     },
     "metadata": {},
     "output_type": "display_data"
    },
    {
     "name": "stderr",
     "output_type": "stream",
     "text": [
      "Get list of multiplets\n"
     ]
    },
    {
     "data": {
      "application/vnd.jupyter.widget-view+json": {
       "model_id": "d46607c399a14c38b531c3ce8a1b2b53",
       "version_major": 2,
       "version_minor": 0
      },
      "text/plain": [
       "  0%|          | 0/36425 [00:00<?, ?it/s]"
      ]
     },
     "metadata": {},
     "output_type": "display_data"
    },
    {
     "name": "stderr",
     "output_type": "stream",
     "text": [
      "Compute entropy with gc\n",
      "    Copnorm and demean the data\n",
      "Get list of multiplets\n"
     ]
    },
    {
     "data": {
      "application/vnd.jupyter.widget-view+json": {
       "model_id": "1c22ce298a404d76936028ced211e37f",
       "version_major": 2,
       "version_minor": 0
      },
      "text/plain": [
       "  0%|          |  0/4 [00:00<?,       ?it/s]"
      ]
     },
     "metadata": {},
     "output_type": "display_data"
    },
    {
     "name": "stderr",
     "output_type": "stream",
     "text": [
      "Get list of multiplets\n"
     ]
    },
    {
     "data": {
      "application/vnd.jupyter.widget-view+json": {
       "model_id": "8cce4fd0f01248be979034b55d650799",
       "version_major": 2,
       "version_minor": 0
      },
      "text/plain": [
       "  0%|          | 0/36425 [00:00<?, ?it/s]"
      ]
     },
     "metadata": {},
     "output_type": "display_data"
    },
    {
     "name": "stderr",
     "output_type": "stream",
     "text": [
      "Compute entropy with gc\n",
      "    Copnorm and demean the data\n",
      "Get list of multiplets\n"
     ]
    },
    {
     "data": {
      "application/vnd.jupyter.widget-view+json": {
       "model_id": "b741121d641f48618a7d4b8823cff7d8",
       "version_major": 2,
       "version_minor": 0
      },
      "text/plain": [
       "  0%|          |  0/4 [00:00<?,       ?it/s]"
      ]
     },
     "metadata": {},
     "output_type": "display_data"
    },
    {
     "name": "stderr",
     "output_type": "stream",
     "text": [
      "Get list of multiplets\n"
     ]
    },
    {
     "data": {
      "application/vnd.jupyter.widget-view+json": {
       "model_id": "9678388021ab45eb96644de47901f00e",
       "version_major": 2,
       "version_minor": 0
      },
      "text/plain": [
       "  0%|          | 0/36425 [00:00<?, ?it/s]"
      ]
     },
     "metadata": {},
     "output_type": "display_data"
    },
    {
     "name": "stderr",
     "output_type": "stream",
     "text": [
      "Compute entropy with gc\n",
      "    Copnorm and demean the data\n",
      "Get list of multiplets\n"
     ]
    },
    {
     "data": {
      "application/vnd.jupyter.widget-view+json": {
       "model_id": "36d961773a594d71902d2022e60d1e84",
       "version_major": 2,
       "version_minor": 0
      },
      "text/plain": [
       "  0%|          |  0/4 [00:00<?,       ?it/s]"
      ]
     },
     "metadata": {},
     "output_type": "display_data"
    },
    {
     "name": "stderr",
     "output_type": "stream",
     "text": [
      "Get list of multiplets\n"
     ]
    },
    {
     "data": {
      "application/vnd.jupyter.widget-view+json": {
       "model_id": "0de92070cfb14906a7ca719f9f90c549",
       "version_major": 2,
       "version_minor": 0
      },
      "text/plain": [
       "  0%|          | 0/36425 [00:00<?, ?it/s]"
      ]
     },
     "metadata": {},
     "output_type": "display_data"
    },
    {
     "name": "stderr",
     "output_type": "stream",
     "text": [
      "Compute entropy with gc\n",
      "    Copnorm and demean the data\n",
      "Get list of multiplets\n"
     ]
    },
    {
     "data": {
      "application/vnd.jupyter.widget-view+json": {
       "model_id": "3fdebef588194b88bb77b0c5085c0c96",
       "version_major": 2,
       "version_minor": 0
      },
      "text/plain": [
       "  0%|          |  0/4 [00:00<?,       ?it/s]"
      ]
     },
     "metadata": {},
     "output_type": "display_data"
    },
    {
     "name": "stderr",
     "output_type": "stream",
     "text": [
      "Get list of multiplets\n"
     ]
    },
    {
     "data": {
      "application/vnd.jupyter.widget-view+json": {
       "model_id": "ebed78e1523d4b8b8dd7a11376abd499",
       "version_major": 2,
       "version_minor": 0
      },
      "text/plain": [
       "  0%|          | 0/36425 [00:00<?, ?it/s]"
      ]
     },
     "metadata": {},
     "output_type": "display_data"
    },
    {
     "name": "stderr",
     "output_type": "stream",
     "text": [
      "Compute entropy with gc\n",
      "    Copnorm and demean the data\n",
      "Get list of multiplets\n"
     ]
    },
    {
     "data": {
      "application/vnd.jupyter.widget-view+json": {
       "model_id": "764a7535f86847d2bcba1c1fddb781eb",
       "version_major": 2,
       "version_minor": 0
      },
      "text/plain": [
       "  0%|          |  0/4 [00:00<?,       ?it/s]"
      ]
     },
     "metadata": {},
     "output_type": "display_data"
    },
    {
     "name": "stderr",
     "output_type": "stream",
     "text": [
      "Get list of multiplets\n"
     ]
    },
    {
     "data": {
      "application/vnd.jupyter.widget-view+json": {
       "model_id": "62ea46c9eac14725bc733e6a9702d8bf",
       "version_major": 2,
       "version_minor": 0
      },
      "text/plain": [
       "  0%|          | 0/36425 [00:00<?, ?it/s]"
      ]
     },
     "metadata": {},
     "output_type": "display_data"
    },
    {
     "name": "stderr",
     "output_type": "stream",
     "text": [
      "Compute entropy with gc\n",
      "    Copnorm and demean the data\n",
      "Get list of multiplets\n"
     ]
    },
    {
     "data": {
      "application/vnd.jupyter.widget-view+json": {
       "model_id": "9c0aa60d9d19485e9c2c6d96fc40c94f",
       "version_major": 2,
       "version_minor": 0
      },
      "text/plain": [
       "  0%|          |  0/4 [00:00<?,       ?it/s]"
      ]
     },
     "metadata": {},
     "output_type": "display_data"
    },
    {
     "name": "stderr",
     "output_type": "stream",
     "text": [
      "Get list of multiplets\n"
     ]
    },
    {
     "data": {
      "application/vnd.jupyter.widget-view+json": {
       "model_id": "1cea0aaeb62d4999bd918ae6db55f769",
       "version_major": 2,
       "version_minor": 0
      },
      "text/plain": [
       "  0%|          | 0/36425 [00:00<?, ?it/s]"
      ]
     },
     "metadata": {},
     "output_type": "display_data"
    },
    {
     "name": "stderr",
     "output_type": "stream",
     "text": [
      "Compute entropy with gc\n",
      "    Copnorm and demean the data\n",
      "Get list of multiplets\n"
     ]
    },
    {
     "data": {
      "application/vnd.jupyter.widget-view+json": {
       "model_id": "7b08f00534774c3c841a790c3180e79e",
       "version_major": 2,
       "version_minor": 0
      },
      "text/plain": [
       "  0%|          |  0/4 [00:00<?,       ?it/s]"
      ]
     },
     "metadata": {},
     "output_type": "display_data"
    },
    {
     "name": "stderr",
     "output_type": "stream",
     "text": [
      "Get list of multiplets\n"
     ]
    },
    {
     "data": {
      "application/vnd.jupyter.widget-view+json": {
       "model_id": "0cf0bc7e331849ee880a8e20fe9470fb",
       "version_major": 2,
       "version_minor": 0
      },
      "text/plain": [
       "  0%|          | 0/36425 [00:00<?, ?it/s]"
      ]
     },
     "metadata": {},
     "output_type": "display_data"
    },
    {
     "name": "stderr",
     "output_type": "stream",
     "text": [
      "Compute entropy with gc\n",
      "    Copnorm and demean the data\n",
      "Get list of multiplets\n"
     ]
    },
    {
     "data": {
      "application/vnd.jupyter.widget-view+json": {
       "model_id": "945e157268b84b16aa0e931016788af0",
       "version_major": 2,
       "version_minor": 0
      },
      "text/plain": [
       "  0%|          |  0/4 [00:00<?,       ?it/s]"
      ]
     },
     "metadata": {},
     "output_type": "display_data"
    },
    {
     "name": "stderr",
     "output_type": "stream",
     "text": [
      "Get list of multiplets\n"
     ]
    },
    {
     "data": {
      "application/vnd.jupyter.widget-view+json": {
       "model_id": "0536e64262b748228c7f9d0d861ac08c",
       "version_major": 2,
       "version_minor": 0
      },
      "text/plain": [
       "  0%|          | 0/36425 [00:00<?, ?it/s]"
      ]
     },
     "metadata": {},
     "output_type": "display_data"
    },
    {
     "name": "stderr",
     "output_type": "stream",
     "text": [
      "    Copnorm and demean the data\n",
      "Get list of multiplets\n"
     ]
    },
    {
     "data": {
      "application/vnd.jupyter.widget-view+json": {
       "model_id": "d42fc789dda8464a8223b0ec05053636",
       "version_major": 2,
       "version_minor": 0
      },
      "text/plain": [
       "  0%|          |  0/3 [00:00<?,       ?it/s]"
      ]
     },
     "metadata": {},
     "output_type": "display_data"
    },
    {
     "name": "stderr",
     "output_type": "stream",
     "text": [
      "    Copnorm and demean the data\n",
      "Get list of multiplets\n"
     ]
    },
    {
     "data": {
      "application/vnd.jupyter.widget-view+json": {
       "model_id": "28347ca6661640f290d47bcd6b9d606d",
       "version_major": 2,
       "version_minor": 0
      },
      "text/plain": [
       "  0%|          |  0/3 [00:00<?,       ?it/s]"
      ]
     },
     "metadata": {},
     "output_type": "display_data"
    },
    {
     "name": "stderr",
     "output_type": "stream",
     "text": [
      "    Copnorm and demean the data\n",
      "Get list of multiplets\n"
     ]
    },
    {
     "data": {
      "application/vnd.jupyter.widget-view+json": {
       "model_id": "c6520ed626094fe4aa7279cd70130876",
       "version_major": 2,
       "version_minor": 0
      },
      "text/plain": [
       "  0%|          |  0/3 [00:00<?,       ?it/s]"
      ]
     },
     "metadata": {},
     "output_type": "display_data"
    },
    {
     "name": "stderr",
     "output_type": "stream",
     "text": [
      "    Copnorm and demean the data\n",
      "Get list of multiplets\n"
     ]
    },
    {
     "data": {
      "application/vnd.jupyter.widget-view+json": {
       "model_id": "0390c02bfc6b4f8b8b23f9fe760a2684",
       "version_major": 2,
       "version_minor": 0
      },
      "text/plain": [
       "  0%|          |  0/3 [00:00<?,       ?it/s]"
      ]
     },
     "metadata": {},
     "output_type": "display_data"
    },
    {
     "name": "stderr",
     "output_type": "stream",
     "text": [
      "    Copnorm and demean the data\n",
      "Get list of multiplets\n"
     ]
    },
    {
     "data": {
      "application/vnd.jupyter.widget-view+json": {
       "model_id": "d03f66d808dd4099a189fc7415af8065",
       "version_major": 2,
       "version_minor": 0
      },
      "text/plain": [
       "  0%|          |  0/3 [00:00<?,       ?it/s]"
      ]
     },
     "metadata": {},
     "output_type": "display_data"
    },
    {
     "name": "stderr",
     "output_type": "stream",
     "text": [
      "    Copnorm and demean the data\n",
      "Get list of multiplets\n"
     ]
    },
    {
     "data": {
      "application/vnd.jupyter.widget-view+json": {
       "model_id": "f4e8307fb1d6475488e5f487ce2fa4fb",
       "version_major": 2,
       "version_minor": 0
      },
      "text/plain": [
       "  0%|          |  0/3 [00:00<?,       ?it/s]"
      ]
     },
     "metadata": {},
     "output_type": "display_data"
    },
    {
     "name": "stderr",
     "output_type": "stream",
     "text": [
      "    Copnorm and demean the data\n",
      "Get list of multiplets\n"
     ]
    },
    {
     "data": {
      "application/vnd.jupyter.widget-view+json": {
       "model_id": "aba2e8b180604eb08d9822490229f246",
       "version_major": 2,
       "version_minor": 0
      },
      "text/plain": [
       "  0%|          |  0/3 [00:00<?,       ?it/s]"
      ]
     },
     "metadata": {},
     "output_type": "display_data"
    },
    {
     "name": "stderr",
     "output_type": "stream",
     "text": [
      "    Copnorm and demean the data\n",
      "Get list of multiplets\n"
     ]
    },
    {
     "data": {
      "application/vnd.jupyter.widget-view+json": {
       "model_id": "507116d874ae4c899d98a14d13cb16fb",
       "version_major": 2,
       "version_minor": 0
      },
      "text/plain": [
       "  0%|          |  0/3 [00:00<?,       ?it/s]"
      ]
     },
     "metadata": {},
     "output_type": "display_data"
    },
    {
     "name": "stderr",
     "output_type": "stream",
     "text": [
      "    Copnorm and demean the data\n",
      "Get list of multiplets\n"
     ]
    },
    {
     "data": {
      "application/vnd.jupyter.widget-view+json": {
       "model_id": "7d81c944f87d4cf4ad9c6ddf701627f4",
       "version_major": 2,
       "version_minor": 0
      },
      "text/plain": [
       "  0%|          |  0/3 [00:00<?,       ?it/s]"
      ]
     },
     "metadata": {},
     "output_type": "display_data"
    },
    {
     "name": "stderr",
     "output_type": "stream",
     "text": [
      "    Copnorm and demean the data\n",
      "Get list of multiplets\n"
     ]
    },
    {
     "data": {
      "application/vnd.jupyter.widget-view+json": {
       "model_id": "1cbb25da9f444bd0b924d20a6ff212e3",
       "version_major": 2,
       "version_minor": 0
      },
      "text/plain": [
       "  0%|          |  0/3 [00:00<?,       ?it/s]"
      ]
     },
     "metadata": {},
     "output_type": "display_data"
    },
    {
     "name": "stderr",
     "output_type": "stream",
     "text": [
      "    Copnorm and demean the data\n",
      "Get list of multiplets\n"
     ]
    },
    {
     "data": {
      "application/vnd.jupyter.widget-view+json": {
       "model_id": "01b056cb0bc4493dbf9441376eb66fb7",
       "version_major": 2,
       "version_minor": 0
      },
      "text/plain": [
       "  0%|          |  0/3 [00:00<?,       ?it/s]"
      ]
     },
     "metadata": {},
     "output_type": "display_data"
    },
    {
     "name": "stderr",
     "output_type": "stream",
     "text": [
      "    Copnorm and demean the data\n",
      "Get list of multiplets\n"
     ]
    },
    {
     "data": {
      "application/vnd.jupyter.widget-view+json": {
       "model_id": "e84c1a93ff064857a583855b5aae662c",
       "version_major": 2,
       "version_minor": 0
      },
      "text/plain": [
       "  0%|          |  0/3 [00:00<?,       ?it/s]"
      ]
     },
     "metadata": {},
     "output_type": "display_data"
    },
    {
     "name": "stderr",
     "output_type": "stream",
     "text": [
      "    Copnorm and demean the data\n",
      "Get list of multiplets\n"
     ]
    },
    {
     "data": {
      "application/vnd.jupyter.widget-view+json": {
       "model_id": "b2f14328b27948fca6e8a2698ccc52d7",
       "version_major": 2,
       "version_minor": 0
      },
      "text/plain": [
       "  0%|          |  0/3 [00:00<?,       ?it/s]"
      ]
     },
     "metadata": {},
     "output_type": "display_data"
    },
    {
     "name": "stderr",
     "output_type": "stream",
     "text": [
      "    Copnorm and demean the data\n",
      "Get list of multiplets\n"
     ]
    },
    {
     "data": {
      "application/vnd.jupyter.widget-view+json": {
       "model_id": "bbb14ba3c8034399abb12890314a3bad",
       "version_major": 2,
       "version_minor": 0
      },
      "text/plain": [
       "  0%|          |  0/3 [00:00<?,       ?it/s]"
      ]
     },
     "metadata": {},
     "output_type": "display_data"
    },
    {
     "name": "stderr",
     "output_type": "stream",
     "text": [
      "    Copnorm and demean the data\n",
      "Get list of multiplets\n"
     ]
    },
    {
     "data": {
      "application/vnd.jupyter.widget-view+json": {
       "model_id": "f8080ee881d34199b832074363e245e6",
       "version_major": 2,
       "version_minor": 0
      },
      "text/plain": [
       "  0%|          |  0/3 [00:00<?,       ?it/s]"
      ]
     },
     "metadata": {},
     "output_type": "display_data"
    },
    {
     "name": "stderr",
     "output_type": "stream",
     "text": [
      "    Copnorm and demean the data\n",
      "Get list of multiplets\n"
     ]
    },
    {
     "data": {
      "application/vnd.jupyter.widget-view+json": {
       "model_id": "c3bfcfa637b5445196c92329168f37b7",
       "version_major": 2,
       "version_minor": 0
      },
      "text/plain": [
       "  0%|          |  0/3 [00:00<?,       ?it/s]"
      ]
     },
     "metadata": {},
     "output_type": "display_data"
    },
    {
     "name": "stderr",
     "output_type": "stream",
     "text": [
      "    Copnorm and demean the data\n",
      "Get list of multiplets\n"
     ]
    },
    {
     "data": {
      "application/vnd.jupyter.widget-view+json": {
       "model_id": "d34747077543439194e4f70a6b26cfb7",
       "version_major": 2,
       "version_minor": 0
      },
      "text/plain": [
       "  0%|          |  0/3 [00:00<?,       ?it/s]"
      ]
     },
     "metadata": {},
     "output_type": "display_data"
    },
    {
     "name": "stderr",
     "output_type": "stream",
     "text": [
      "    Copnorm and demean the data\n",
      "Get list of multiplets\n"
     ]
    },
    {
     "data": {
      "application/vnd.jupyter.widget-view+json": {
       "model_id": "7cb1a8ec077d48a5ad8603f787fa4a6f",
       "version_major": 2,
       "version_minor": 0
      },
      "text/plain": [
       "  0%|          |  0/3 [00:00<?,       ?it/s]"
      ]
     },
     "metadata": {},
     "output_type": "display_data"
    },
    {
     "name": "stderr",
     "output_type": "stream",
     "text": [
      "    Copnorm and demean the data\n",
      "Get list of multiplets\n"
     ]
    },
    {
     "data": {
      "application/vnd.jupyter.widget-view+json": {
       "model_id": "abaa9535c1a5438eb69d1b3130e13fa7",
       "version_major": 2,
       "version_minor": 0
      },
      "text/plain": [
       "  0%|          |  0/3 [00:00<?,       ?it/s]"
      ]
     },
     "metadata": {},
     "output_type": "display_data"
    },
    {
     "name": "stderr",
     "output_type": "stream",
     "text": [
      "    Copnorm and demean the data\n",
      "Get list of multiplets\n"
     ]
    },
    {
     "data": {
      "application/vnd.jupyter.widget-view+json": {
       "model_id": "54fabdb7a70f4f348f8c503cab9a59a9",
       "version_major": 2,
       "version_minor": 0
      },
      "text/plain": [
       "  0%|          |  0/3 [00:00<?,       ?it/s]"
      ]
     },
     "metadata": {},
     "output_type": "display_data"
    },
    {
     "name": "stderr",
     "output_type": "stream",
     "text": [
      "    Copnorm and demean the data\n",
      "Get list of multiplets\n"
     ]
    },
    {
     "data": {
      "application/vnd.jupyter.widget-view+json": {
       "model_id": "83223fd596474c45bd4d715851999b56",
       "version_major": 2,
       "version_minor": 0
      },
      "text/plain": [
       "  0%|          |  0/3 [00:00<?,       ?it/s]"
      ]
     },
     "metadata": {},
     "output_type": "display_data"
    },
    {
     "name": "stderr",
     "output_type": "stream",
     "text": [
      "    Copnorm and demean the data\n",
      "Get list of multiplets\n"
     ]
    },
    {
     "data": {
      "application/vnd.jupyter.widget-view+json": {
       "model_id": "78389e98259f4fc099e33da2cd99acce",
       "version_major": 2,
       "version_minor": 0
      },
      "text/plain": [
       "  0%|          |  0/3 [00:00<?,       ?it/s]"
      ]
     },
     "metadata": {},
     "output_type": "display_data"
    },
    {
     "name": "stderr",
     "output_type": "stream",
     "text": [
      "    Copnorm and demean the data\n",
      "Get list of multiplets\n"
     ]
    },
    {
     "data": {
      "application/vnd.jupyter.widget-view+json": {
       "model_id": "ad6f590eae2b4919bcefdd8c986484dc",
       "version_major": 2,
       "version_minor": 0
      },
      "text/plain": [
       "  0%|          |  0/3 [00:00<?,       ?it/s]"
      ]
     },
     "metadata": {},
     "output_type": "display_data"
    },
    {
     "name": "stderr",
     "output_type": "stream",
     "text": [
      "    Copnorm and demean the data\n",
      "Get list of multiplets\n"
     ]
    },
    {
     "data": {
      "application/vnd.jupyter.widget-view+json": {
       "model_id": "ca4563d537644009a2fc8cd548e3fc29",
       "version_major": 2,
       "version_minor": 0
      },
      "text/plain": [
       "  0%|          |  0/3 [00:00<?,       ?it/s]"
      ]
     },
     "metadata": {},
     "output_type": "display_data"
    },
    {
     "name": "stderr",
     "output_type": "stream",
     "text": [
      "    Copnorm and demean the data\n",
      "Get list of multiplets\n"
     ]
    },
    {
     "data": {
      "application/vnd.jupyter.widget-view+json": {
       "model_id": "3cbcfbf70cfe4034b1a7687fc41fb6a9",
       "version_major": 2,
       "version_minor": 0
      },
      "text/plain": [
       "  0%|          |  0/3 [00:00<?,       ?it/s]"
      ]
     },
     "metadata": {},
     "output_type": "display_data"
    },
    {
     "name": "stderr",
     "output_type": "stream",
     "text": [
      "    Copnorm and demean the data\n",
      "Get list of multiplets\n"
     ]
    },
    {
     "data": {
      "application/vnd.jupyter.widget-view+json": {
       "model_id": "c5627f4a3b624a8e966253f86aa52633",
       "version_major": 2,
       "version_minor": 0
      },
      "text/plain": [
       "  0%|          |  0/3 [00:00<?,       ?it/s]"
      ]
     },
     "metadata": {},
     "output_type": "display_data"
    },
    {
     "name": "stderr",
     "output_type": "stream",
     "text": [
      "    Copnorm and demean the data\n",
      "Get list of multiplets\n"
     ]
    },
    {
     "data": {
      "application/vnd.jupyter.widget-view+json": {
       "model_id": "065344daeeb74c89b58738a3a9afa51d",
       "version_major": 2,
       "version_minor": 0
      },
      "text/plain": [
       "  0%|          |  0/3 [00:00<?,       ?it/s]"
      ]
     },
     "metadata": {},
     "output_type": "display_data"
    },
    {
     "name": "stderr",
     "output_type": "stream",
     "text": [
      "    Copnorm and demean the data\n",
      "Get list of multiplets\n"
     ]
    },
    {
     "data": {
      "application/vnd.jupyter.widget-view+json": {
       "model_id": "1af84dfac03643ce8b7fe8fcb503e8ca",
       "version_major": 2,
       "version_minor": 0
      },
      "text/plain": [
       "  0%|          |  0/3 [00:00<?,       ?it/s]"
      ]
     },
     "metadata": {},
     "output_type": "display_data"
    },
    {
     "name": "stderr",
     "output_type": "stream",
     "text": [
      "    Copnorm and demean the data\n",
      "Get list of multiplets\n"
     ]
    },
    {
     "data": {
      "application/vnd.jupyter.widget-view+json": {
       "model_id": "efd6e7198f8748a0acae051425018b49",
       "version_major": 2,
       "version_minor": 0
      },
      "text/plain": [
       "  0%|          |  0/3 [00:00<?,       ?it/s]"
      ]
     },
     "metadata": {},
     "output_type": "display_data"
    },
    {
     "name": "stderr",
     "output_type": "stream",
     "text": [
      "    Copnorm and demean the data\n",
      "Get list of multiplets\n"
     ]
    },
    {
     "data": {
      "application/vnd.jupyter.widget-view+json": {
       "model_id": "6c40ba782fde4b85ae4217b40cfbb4f2",
       "version_major": 2,
       "version_minor": 0
      },
      "text/plain": [
       "  0%|          |  0/3 [00:00<?,       ?it/s]"
      ]
     },
     "metadata": {},
     "output_type": "display_data"
    },
    {
     "name": "stderr",
     "output_type": "stream",
     "text": [
      "    Copnorm and demean the data\n",
      "Get list of multiplets\n"
     ]
    },
    {
     "data": {
      "application/vnd.jupyter.widget-view+json": {
       "model_id": "b8a887a4056c45deb3c175a47aa8dd04",
       "version_major": 2,
       "version_minor": 0
      },
      "text/plain": [
       "  0%|          |  0/3 [00:00<?,       ?it/s]"
      ]
     },
     "metadata": {},
     "output_type": "display_data"
    },
    {
     "name": "stderr",
     "output_type": "stream",
     "text": [
      "    Copnorm and demean the data\n",
      "Get list of multiplets\n"
     ]
    },
    {
     "data": {
      "application/vnd.jupyter.widget-view+json": {
       "model_id": "2a0ae7d663b24fc588f34259d178cdbf",
       "version_major": 2,
       "version_minor": 0
      },
      "text/plain": [
       "  0%|          |  0/3 [00:00<?,       ?it/s]"
      ]
     },
     "metadata": {},
     "output_type": "display_data"
    },
    {
     "name": "stderr",
     "output_type": "stream",
     "text": [
      "    Copnorm and demean the data\n",
      "Get list of multiplets\n"
     ]
    },
    {
     "data": {
      "application/vnd.jupyter.widget-view+json": {
       "model_id": "64a85385a0824ab4bfae4f1f19b753a9",
       "version_major": 2,
       "version_minor": 0
      },
      "text/plain": [
       "  0%|          |  0/3 [00:00<?,       ?it/s]"
      ]
     },
     "metadata": {},
     "output_type": "display_data"
    },
    {
     "name": "stderr",
     "output_type": "stream",
     "text": [
      "    Copnorm and demean the data\n",
      "Get list of multiplets\n"
     ]
    },
    {
     "data": {
      "application/vnd.jupyter.widget-view+json": {
       "model_id": "bf6935fbe3514c8588c77237ae32147d",
       "version_major": 2,
       "version_minor": 0
      },
      "text/plain": [
       "  0%|          |  0/3 [00:00<?,       ?it/s]"
      ]
     },
     "metadata": {},
     "output_type": "display_data"
    },
    {
     "name": "stderr",
     "output_type": "stream",
     "text": [
      "    Copnorm and demean the data\n",
      "Get list of multiplets\n"
     ]
    },
    {
     "data": {
      "application/vnd.jupyter.widget-view+json": {
       "model_id": "4ea6fcf743ad474aaba9b6b086d8e934",
       "version_major": 2,
       "version_minor": 0
      },
      "text/plain": [
       "  0%|          |  0/3 [00:00<?,       ?it/s]"
      ]
     },
     "metadata": {},
     "output_type": "display_data"
    },
    {
     "name": "stderr",
     "output_type": "stream",
     "text": [
      "    Copnorm and demean the data\n",
      "Get list of multiplets\n"
     ]
    },
    {
     "data": {
      "application/vnd.jupyter.widget-view+json": {
       "model_id": "6c032d4ace844c3f8047e0586ae63184",
       "version_major": 2,
       "version_minor": 0
      },
      "text/plain": [
       "  0%|          |  0/3 [00:00<?,       ?it/s]"
      ]
     },
     "metadata": {},
     "output_type": "display_data"
    },
    {
     "name": "stderr",
     "output_type": "stream",
     "text": [
      "    Copnorm and demean the data\n",
      "Get list of multiplets\n"
     ]
    },
    {
     "data": {
      "application/vnd.jupyter.widget-view+json": {
       "model_id": "165041d316714c878544a4b49dc713fc",
       "version_major": 2,
       "version_minor": 0
      },
      "text/plain": [
       "  0%|          |  0/3 [00:00<?,       ?it/s]"
      ]
     },
     "metadata": {},
     "output_type": "display_data"
    },
    {
     "name": "stderr",
     "output_type": "stream",
     "text": [
      "    Copnorm and demean the data\n",
      "Get list of multiplets\n"
     ]
    },
    {
     "data": {
      "application/vnd.jupyter.widget-view+json": {
       "model_id": "89480f285f5f4dce965f0b9967b03bbb",
       "version_major": 2,
       "version_minor": 0
      },
      "text/plain": [
       "  0%|          |  0/3 [00:00<?,       ?it/s]"
      ]
     },
     "metadata": {},
     "output_type": "display_data"
    },
    {
     "name": "stderr",
     "output_type": "stream",
     "text": [
      "    Copnorm and demean the data\n",
      "Get list of multiplets\n"
     ]
    },
    {
     "data": {
      "application/vnd.jupyter.widget-view+json": {
       "model_id": "380cc648e80d418db5b5373aca051492",
       "version_major": 2,
       "version_minor": 0
      },
      "text/plain": [
       "  0%|          |  0/3 [00:00<?,       ?it/s]"
      ]
     },
     "metadata": {},
     "output_type": "display_data"
    },
    {
     "name": "stderr",
     "output_type": "stream",
     "text": [
      "    Copnorm and demean the data\n",
      "Get list of multiplets\n"
     ]
    },
    {
     "data": {
      "application/vnd.jupyter.widget-view+json": {
       "model_id": "a37efb2ef2014ff9a5b341c952f216ee",
       "version_major": 2,
       "version_minor": 0
      },
      "text/plain": [
       "  0%|          |  0/3 [00:00<?,       ?it/s]"
      ]
     },
     "metadata": {},
     "output_type": "display_data"
    },
    {
     "name": "stderr",
     "output_type": "stream",
     "text": [
      "    Copnorm and demean the data\n",
      "Get list of multiplets\n"
     ]
    },
    {
     "data": {
      "application/vnd.jupyter.widget-view+json": {
       "model_id": "37971f41a2c9463ea475892387c29ab9",
       "version_major": 2,
       "version_minor": 0
      },
      "text/plain": [
       "  0%|          |  0/3 [00:00<?,       ?it/s]"
      ]
     },
     "metadata": {},
     "output_type": "display_data"
    },
    {
     "name": "stderr",
     "output_type": "stream",
     "text": [
      "    Copnorm and demean the data\n",
      "Get list of multiplets\n"
     ]
    },
    {
     "data": {
      "application/vnd.jupyter.widget-view+json": {
       "model_id": "4b687cd1b67e4148a0fa32bc1dd6a54f",
       "version_major": 2,
       "version_minor": 0
      },
      "text/plain": [
       "  0%|          |  0/3 [00:00<?,       ?it/s]"
      ]
     },
     "metadata": {},
     "output_type": "display_data"
    },
    {
     "name": "stderr",
     "output_type": "stream",
     "text": [
      "    Copnorm and demean the data\n",
      "Get list of multiplets\n"
     ]
    },
    {
     "data": {
      "application/vnd.jupyter.widget-view+json": {
       "model_id": "729fcdcdf5ac4ba682988fd2ac265351",
       "version_major": 2,
       "version_minor": 0
      },
      "text/plain": [
       "  0%|          |  0/3 [00:00<?,       ?it/s]"
      ]
     },
     "metadata": {},
     "output_type": "display_data"
    },
    {
     "name": "stderr",
     "output_type": "stream",
     "text": [
      "    Copnorm and demean the data\n",
      "Get list of multiplets\n"
     ]
    },
    {
     "data": {
      "application/vnd.jupyter.widget-view+json": {
       "model_id": "f3ee91d96c9c44acb657aa86fadfa763",
       "version_major": 2,
       "version_minor": 0
      },
      "text/plain": [
       "  0%|          |  0/3 [00:00<?,       ?it/s]"
      ]
     },
     "metadata": {},
     "output_type": "display_data"
    },
    {
     "name": "stderr",
     "output_type": "stream",
     "text": [
      "    Copnorm and demean the data\n",
      "Get list of multiplets\n"
     ]
    },
    {
     "data": {
      "application/vnd.jupyter.widget-view+json": {
       "model_id": "fb9600940b88415d823ef518f47f3075",
       "version_major": 2,
       "version_minor": 0
      },
      "text/plain": [
       "  0%|          |  0/3 [00:00<?,       ?it/s]"
      ]
     },
     "metadata": {},
     "output_type": "display_data"
    }
   ],
   "source": [
    "# Define the directory path (use raw string or double backslashes for Windows paths)\n",
    "directory = r'Data\\Perceptron_data'\n",
    "\n",
    "# Use glob to get all CSV file paths\n",
    "csv_files = glob.glob(os.path.join(directory, '*.csv'))\n",
    "\n",
    "# Loop through and load each CSV file into a DataFrame\n",
    "metric_dicts = []\n",
    "metrics_types = [InfoTopo, TC, DTC, Sinfo, Oinfo, RedundancyphiID, SynergyphiID]\n",
    "\n",
    "for metric in metrics_types[:4]:\n",
    "    metric_sims = []\n",
    "    for file in csv_files:\n",
    "        df = pd.read_csv(file)\n",
    "        df = df[:100]\n",
    "\n",
    "        windowsize = int(len(df) / 2)\n",
    "        stepsize = int(len(df) / 10)\n",
    "\n",
    "        metric_dict_list = sliding_window(df, windowsize, stepsize)\n",
    "\n",
    "        metric_sims.append(metric_dict_list)\n",
    "    metric_dicts.append(tuple(metric_sims))\n",
    "\n",
    "metrics = metric_dicts"
   ]
  },
  {
   "cell_type": "markdown",
   "id": "2985178e",
   "metadata": {},
   "source": [
    "Plot the metric results for this data"
   ]
  },
  {
   "cell_type": "code",
   "execution_count": 17,
   "id": "38f0f84d",
   "metadata": {},
   "outputs": [
    {
     "data": {
      "image/png": "[encoded data removed]",
      "text/plain": [
       "<Figure size 2400x1000 with 8 Axes>"
      ]
     },
     "metadata": {},
     "output_type": "display_data"
    }
   ],
   "source": [
    "# Prepare data for all metrics\n",
    "prepared_data = [average_metric_data(m) for m in metrics]\n",
    "averages = [compute_averages(m) for m in metrics]\n",
    "\n",
    "timesteps = list(range(1, len(metrics[0][0]) + 1))  # assumes same length for all metrics\n",
    "\n",
    "# Adjust all font sizes globally\n",
    "fontsize_standard = 20\n",
    "plt.rcParams.update({\n",
    "    'font.size': fontsize_standard+2,\n",
    "    'axes.titlesize': fontsize_standard+4,\n",
    "    'axes.labelsize': fontsize_standard+2,\n",
    "    'xtick.labelsize': fontsize_standard,\n",
    "    'ytick.labelsize': fontsize_standard,\n",
    "    'legend.fontsize': fontsize_standard\n",
    "})\n",
    "\n",
    "# Setup figure with 2 rows and len(metrics) columns\n",
    "fig, axs = plt.subplots(2, len(metrics), figsize=(6 * len(metrics), 10), sharey='row')\n",
    "\n",
    "# If only one metric, axs will be 1D, fix to 2D for consistent indexing\n",
    "if len(metrics) == 1:\n",
    "    axs = np.array(axs).reshape(2, 1)\n",
    "\n",
    "# Top row: line plots\n",
    "for i, (ax, average_tuple, title) in enumerate(zip(\n",
    "    axs[0],\n",
    "    averages,\n",
    "    [f\"{metrics_types[i].__name__}\" for i in range(len(metrics))]\n",
    ")):\n",
    "    *individual_sim_avgs, avg_combined = average_tuple  # unpack arbitrary-length tuple\n",
    "\n",
    "    # Plot each simulation average in gray\n",
    "    for j, avg_sim in enumerate(individual_sim_avgs):\n",
    "        ax.plot(timesteps, avg_sim, color='grey', linestyle='--', marker='o', label=f'Simulation {j+1}' if i == 0 else \"\")\n",
    "\n",
    "    # Plot combined average in red\n",
    "    ax.plot(timesteps, avg_combined, color='red', marker='o', linewidth=2, label='Average' if i == 0 else \"\")\n",
    "\n",
    "    ax.set_title(title)\n",
    "    ax.set_xticklabels([])\n",
    "\n",
    "    if i == 0:\n",
    "        ax.set_ylabel(\"Average Value\")\n",
    "    else:\n",
    "        ax.set_yticklabels([])\n",
    "\n",
    "    ax.grid(True)\n",
    "\n",
    "# Bottom row: heatmaps\n",
    "for i, (ax, (data, labels, label_positions), title) in enumerate(zip(\n",
    "    axs[1],\n",
    "    prepared_data,\n",
    "    [f\"Heatmap: Metric {i+1}\" for i in range(len(metrics))]\n",
    ")):\n",
    "    cax = ax.imshow(data.T, aspect='auto', cmap='viridis', origin='lower')\n",
    "    ax.set_xlabel(\"Time\")\n",
    "    ax.set_xticks(np.arange(data.shape[0]))\n",
    "    ax.set_xticklabels(np.arange(data.shape[0]))\n",
    "\n",
    "    if i == 0:\n",
    "        ax.set_ylabel(\"Order\")\n",
    "        yticks = list(label_positions.values())\n",
    "        ylabels = labels\n",
    "        ax.set_yticks(yticks)\n",
    "        ax.set_yticklabels(ylabels)\n",
    "\n",
    "plt.tight_layout(h_pad=0.1)\n",
    "plt.show()"
   ]
  },
  {
   "cell_type": "markdown",
   "id": "478a9e3a",
   "metadata": {},
   "source": [
    "# Compute information metrics"
   ]
  },
  {
   "cell_type": "code",
   "execution_count": 61,
   "id": "f0f2d72e",
   "metadata": {},
   "outputs": [],
   "source": [
    "# Import libraries\n",
    "import numpy as np\n",
    "import pandas as pd\n",
    "from collections import defaultdict\n",
    "import hoi\n",
    "from hoi.plot import plot_landscape\n",
    "from hoi.utils import get_nbest_mult\n",
    "from numpy import random\n",
    "import matplotlib.pyplot as plt\n",
    "from hoi.metrics import InfoTopo, TC, DTC, Sinfo, Oinfo, RedundancyphiID, SynergyphiID\n",
    "from hoi.core import entropy_hist"
   ]
  },
  {
   "cell_type": "code",
   "execution_count": 104,
   "id": "e7503a2f",
   "metadata": {},
   "outputs": [],
   "source": [
    "# Define functions\n",
    "# Function to compute a desired information metric\n",
    "def compute_information_metric(metric, data):\n",
    "    data_array=np.array(np.array(data)).astype(float)\n",
    "    model = metric(data_array)\n",
    "    metric_results = model.fit(minsize=2,maxsize=5)\n",
    "    return metric_results, model\n",
    "\n",
    "# Function to divide list into list per order\n",
    "def divide_list_into_orders(hoi, model):\n",
    "    minsize = None\n",
    "    maxsize = None\n",
    "\n",
    "    # get orders\n",
    "    if model:\n",
    "        orders = model.order\n",
    "\n",
    "    # get computed orders\n",
    "    if minsize is None:\n",
    "        minsize = orders.min()\n",
    "    if maxsize is None:\n",
    "        maxsize = orders.max()   \n",
    "\n",
    "    # order selection\n",
    "    keep = np.logical_and(orders >= minsize, orders <= maxsize)\n",
    "    hoi = hoi[keep]\n",
    "    orders = orders[keep]\n",
    "\n",
    "    # Group the values per order\n",
    "    grouped = defaultdict(list)\n",
    "    for o, h in zip(orders, hoi):\n",
    "        grouped[o].append(h.item())  # Convert from NumPy array to float\n",
    "\n",
    "    # Sort each list\n",
    "    for key in grouped:\n",
    "        grouped[key] = sorted(grouped[key])\n",
    "\n",
    "    return grouped\n",
    "\n",
    "# Obtain information metric analysis\n",
    "def analyse_information_metric(metric, data):\n",
    "    # Compute information metric\n",
    "    metric_values, model = compute_information_metric(metric, data)\n",
    "    \n",
    "    # Divide list into lists per order\n",
    "    divided_dict = divide_list_into_orders(metric_values, model)\n",
    "\n",
    "    return divided_dict"
   ]
  },
  {
   "cell_type": "code",
   "execution_count": 114,
   "id": "6df41c1a",
   "metadata": {},
   "outputs": [],
   "source": [
    "# Example timeseries\n",
    "n_timesteps = 20\n",
    "n_variables = 3\n",
    "\n",
    "data = np.random.randn(n_timesteps, n_variables)\n",
    "columns = [f'X{i+1}' for i in range(n_variables)]\n",
    "df_1 = pd.DataFrame(data, columns=columns)"
   ]
  },
  {
   "cell_type": "code",
   "execution_count": 115,
   "id": "f1ec6c9e",
   "metadata": {},
   "outputs": [],
   "source": [
    "# Example timeseries\n",
    "n_timesteps = 20\n",
    "n_variables = 3\n",
    "\n",
    "data = np.random.randn(n_timesteps, n_variables)\n",
    "columns = [f'X{i+1}' for i in range(n_variables)]\n",
    "df_2 = pd.DataFrame(data, columns=columns)"
   ]
  },
  {
   "cell_type": "code",
   "execution_count": 124,
   "id": "10a95d5a",
   "metadata": {},
   "outputs": [
    {
     "name": "stderr",
     "output_type": "stream",
     "text": [
      "Compute entropy with gc\n",
      "    Copnorm and demean the data\n",
      "Get list of multiplets\n"
     ]
    },
    {
     "data": {
      "application/vnd.jupyter.widget-view+json": {
       "model_id": "93f1d9ec42444139989bce230c8e3261",
       "version_major": 2,
       "version_minor": 0
      },
      "text/plain": [
       "  0%|          |  0/3 [00:00<?,       ?it/s]"
      ]
     },
     "metadata": {},
     "output_type": "display_data"
    },
    {
     "name": "stderr",
     "output_type": "stream",
     "text": [
      "Get list of multiplets\n"
     ]
    },
    {
     "data": {
      "application/vnd.jupyter.widget-view+json": {
       "model_id": "a7f68631dac248e08485ab27465472f1",
       "version_major": 2,
       "version_minor": 0
      },
      "text/plain": [
       "  0%|          | 0/4 [00:00<?, ?it/s]"
      ]
     },
     "metadata": {},
     "output_type": "display_data"
    },
    {
     "name": "stderr",
     "output_type": "stream",
     "text": [
      "Compute entropy with gc\n",
      "    Copnorm and demean the data\n",
      "Get list of multiplets\n"
     ]
    },
    {
     "data": {
      "application/vnd.jupyter.widget-view+json": {
       "model_id": "e818d8241f6a44b4881de62a80cf489d",
       "version_major": 2,
       "version_minor": 0
      },
      "text/plain": [
       "  0%|          |  0/3 [00:00<?,       ?it/s]"
      ]
     },
     "metadata": {},
     "output_type": "display_data"
    },
    {
     "name": "stderr",
     "output_type": "stream",
     "text": [
      "Get list of multiplets\n"
     ]
    },
    {
     "data": {
      "application/vnd.jupyter.widget-view+json": {
       "model_id": "8aa72f6592ce4742a6f9d40f1fcc4966",
       "version_major": 2,
       "version_minor": 0
      },
      "text/plain": [
       "  0%|          | 0/4 [00:00<?, ?it/s]"
      ]
     },
     "metadata": {},
     "output_type": "display_data"
    },
    {
     "name": "stderr",
     "output_type": "stream",
     "text": [
      "Compute entropy with gc\n",
      "    Copnorm and demean the data\n",
      "Get list of multiplets\n"
     ]
    },
    {
     "data": {
      "application/vnd.jupyter.widget-view+json": {
       "model_id": "7c85c44788144ae2a5e1299346e21623",
       "version_major": 2,
       "version_minor": 0
      },
      "text/plain": [
       "  0%|          |  0/3 [00:00<?,       ?it/s]"
      ]
     },
     "metadata": {},
     "output_type": "display_data"
    },
    {
     "name": "stderr",
     "output_type": "stream",
     "text": [
      "Get list of multiplets\n"
     ]
    },
    {
     "data": {
      "application/vnd.jupyter.widget-view+json": {
       "model_id": "2b609842b57745998d1a5c5029f6349f",
       "version_major": 2,
       "version_minor": 0
      },
      "text/plain": [
       "  0%|          | 0/4 [00:00<?, ?it/s]"
      ]
     },
     "metadata": {},
     "output_type": "display_data"
    },
    {
     "name": "stderr",
     "output_type": "stream",
     "text": [
      "Compute entropy with gc\n",
      "    Copnorm and demean the data\n",
      "Get list of multiplets\n"
     ]
    },
    {
     "data": {
      "application/vnd.jupyter.widget-view+json": {
       "model_id": "40a7d30f3c3c48038f66acbe44d2de19",
       "version_major": 2,
       "version_minor": 0
      },
      "text/plain": [
       "  0%|          |  0/3 [00:00<?,       ?it/s]"
      ]
     },
     "metadata": {},
     "output_type": "display_data"
    },
    {
     "name": "stderr",
     "output_type": "stream",
     "text": [
      "Get list of multiplets\n"
     ]
    },
    {
     "data": {
      "application/vnd.jupyter.widget-view+json": {
       "model_id": "937c4ec88709499cb422ee24f0cfe990",
       "version_major": 2,
       "version_minor": 0
      },
      "text/plain": [
       "  0%|          | 0/4 [00:00<?, ?it/s]"
      ]
     },
     "metadata": {},
     "output_type": "display_data"
    },
    {
     "name": "stderr",
     "output_type": "stream",
     "text": [
      "    Copnorm and demean the data\n",
      "Get list of multiplets\n"
     ]
    },
    {
     "data": {
      "application/vnd.jupyter.widget-view+json": {
       "model_id": "ad2cd26d129c4932b0dd90c629b86f15",
       "version_major": 2,
       "version_minor": 0
      },
      "text/plain": [
       "  0%|          |  0/2 [00:00<?,       ?it/s]"
      ]
     },
     "metadata": {},
     "output_type": "display_data"
    },
    {
     "name": "stderr",
     "output_type": "stream",
     "text": [
      "    Copnorm and demean the data\n",
      "Get list of multiplets\n"
     ]
    },
    {
     "data": {
      "application/vnd.jupyter.widget-view+json": {
       "model_id": "c3aa7b1d67ef433793ea84c54f968dc8",
       "version_major": 2,
       "version_minor": 0
      },
      "text/plain": [
       "  0%|          |  0/2 [00:00<?,       ?it/s]"
      ]
     },
     "metadata": {},
     "output_type": "display_data"
    },
    {
     "name": "stderr",
     "output_type": "stream",
     "text": [
      "    Copnorm and demean the data\n",
      "Get list of multiplets\n"
     ]
    },
    {
     "data": {
      "application/vnd.jupyter.widget-view+json": {
       "model_id": "39334cb922c04a398fe03d73427a7f7e",
       "version_major": 2,
       "version_minor": 0
      },
      "text/plain": [
       "  0%|          |  0/2 [00:00<?,       ?it/s]"
      ]
     },
     "metadata": {},
     "output_type": "display_data"
    },
    {
     "name": "stderr",
     "output_type": "stream",
     "text": [
      "    Copnorm and demean the data\n",
      "Get list of multiplets\n"
     ]
    },
    {
     "data": {
      "application/vnd.jupyter.widget-view+json": {
       "model_id": "df1db951a1f84271bc9a1c96e90885a4",
       "version_major": 2,
       "version_minor": 0
      },
      "text/plain": [
       "  0%|          |  0/2 [00:00<?,       ?it/s]"
      ]
     },
     "metadata": {},
     "output_type": "display_data"
    },
    {
     "name": "stderr",
     "output_type": "stream",
     "text": [
      "    Copnorm and demean the data\n",
      "Get list of multiplets\n"
     ]
    },
    {
     "data": {
      "application/vnd.jupyter.widget-view+json": {
       "model_id": "62c9fb0ce4674e8a9ba96a1e578d5a2e",
       "version_major": 2,
       "version_minor": 0
      },
      "text/plain": [
       "  0%|          |  0/2 [00:00<?,       ?it/s]"
      ]
     },
     "metadata": {},
     "output_type": "display_data"
    },
    {
     "name": "stderr",
     "output_type": "stream",
     "text": [
      "    Copnorm and demean the data\n",
      "Get list of multiplets\n"
     ]
    },
    {
     "data": {
      "application/vnd.jupyter.widget-view+json": {
       "model_id": "e8a176da8b6b4edc84d9a8ae108c08b8",
       "version_major": 2,
       "version_minor": 0
      },
      "text/plain": [
       "  0%|          |  0/2 [00:00<?,       ?it/s]"
      ]
     },
     "metadata": {},
     "output_type": "display_data"
    },
    {
     "name": "stderr",
     "output_type": "stream",
     "text": [
      "    Copnorm and demean the data\n",
      "Get list of multiplets\n"
     ]
    },
    {
     "data": {
      "application/vnd.jupyter.widget-view+json": {
       "model_id": "b71bf4ea33504cadb978ac39dcb1a049",
       "version_major": 2,
       "version_minor": 0
      },
      "text/plain": [
       "  0%|          |  0/2 [00:00<?,       ?it/s]"
      ]
     },
     "metadata": {},
     "output_type": "display_data"
    },
    {
     "name": "stderr",
     "output_type": "stream",
     "text": [
      "    Copnorm and demean the data\n",
      "Get list of multiplets\n"
     ]
    },
    {
     "data": {
      "application/vnd.jupyter.widget-view+json": {
       "model_id": "d1c8dbb26ba3422db7c74931dd3d4bd4",
       "version_major": 2,
       "version_minor": 0
      },
      "text/plain": [
       "  0%|          |  0/2 [00:00<?,       ?it/s]"
      ]
     },
     "metadata": {},
     "output_type": "display_data"
    },
    {
     "name": "stderr",
     "output_type": "stream",
     "text": [
      "    Copnorm and demean the data\n",
      "Get list of multiplets\n"
     ]
    },
    {
     "data": {
      "application/vnd.jupyter.widget-view+json": {
       "model_id": "aeed38ad3d5b435bb1d6e1820b9fd92e",
       "version_major": 2,
       "version_minor": 0
      },
      "text/plain": [
       "  0%|          |  0/2 [00:00<?,       ?it/s]"
      ]
     },
     "metadata": {},
     "output_type": "display_data"
    },
    {
     "name": "stderr",
     "output_type": "stream",
     "text": [
      "    Copnorm and demean the data\n",
      "Get list of multiplets\n"
     ]
    },
    {
     "data": {
      "application/vnd.jupyter.widget-view+json": {
       "model_id": "88d328c38bc54c74852a907ad51157ea",
       "version_major": 2,
       "version_minor": 0
      },
      "text/plain": [
       "  0%|          |  0/2 [00:00<?,       ?it/s]"
      ]
     },
     "metadata": {},
     "output_type": "display_data"
    },
    {
     "name": "stderr",
     "output_type": "stream",
     "text": [
      "    Copnorm and demean the data\n",
      "Get list of multiplets\n"
     ]
    },
    {
     "data": {
      "application/vnd.jupyter.widget-view+json": {
       "model_id": "2d30aa4d1564444dbc7ef329aee40329",
       "version_major": 2,
       "version_minor": 0
      },
      "text/plain": [
       "  0%|          |  0/2 [00:00<?,       ?it/s]"
      ]
     },
     "metadata": {},
     "output_type": "display_data"
    },
    {
     "name": "stderr",
     "output_type": "stream",
     "text": [
      "    Copnorm and demean the data\n",
      "Get list of multiplets\n"
     ]
    },
    {
     "data": {
      "application/vnd.jupyter.widget-view+json": {
       "model_id": "dbf76a071a2d4f8fb9f45105d204ee6c",
       "version_major": 2,
       "version_minor": 0
      },
      "text/plain": [
       "  0%|          |  0/2 [00:00<?,       ?it/s]"
      ]
     },
     "metadata": {},
     "output_type": "display_data"
    },
    {
     "name": "stderr",
     "output_type": "stream",
     "text": [
      "    Copnorm and demean the data\n",
      "Get list of multiplets\n"
     ]
    },
    {
     "data": {
      "application/vnd.jupyter.widget-view+json": {
       "model_id": "ead2d6f859ae4f4c8b71df15670923a5",
       "version_major": 2,
       "version_minor": 0
      },
      "text/plain": [
       "  0%|          |  0/2 [00:00<?,       ?it/s]"
      ]
     },
     "metadata": {},
     "output_type": "display_data"
    },
    {
     "name": "stderr",
     "output_type": "stream",
     "text": [
      "    Copnorm and demean the data\n",
      "Get list of multiplets\n"
     ]
    },
    {
     "data": {
      "application/vnd.jupyter.widget-view+json": {
       "model_id": "e3aef7b457b64577aae112dafc07ce77",
       "version_major": 2,
       "version_minor": 0
      },
      "text/plain": [
       "  0%|          |  0/2 [00:00<?,       ?it/s]"
      ]
     },
     "metadata": {},
     "output_type": "display_data"
    },
    {
     "name": "stderr",
     "output_type": "stream",
     "text": [
      "    Copnorm and demean the data\n",
      "Get list of multiplets\n"
     ]
    },
    {
     "data": {
      "application/vnd.jupyter.widget-view+json": {
       "model_id": "737497608eaf4647b909d88d572a1344",
       "version_major": 2,
       "version_minor": 0
      },
      "text/plain": [
       "  0%|          |  0/2 [00:00<?,       ?it/s]"
      ]
     },
     "metadata": {},
     "output_type": "display_data"
    },
    {
     "name": "stderr",
     "output_type": "stream",
     "text": [
      "    Copnorm and demean the data\n",
      "Get list of multiplets\n"
     ]
    },
    {
     "data": {
      "application/vnd.jupyter.widget-view+json": {
       "model_id": "d5a85a95acf54aa09efe04dc5cc65e11",
       "version_major": 2,
       "version_minor": 0
      },
      "text/plain": [
       "  0%|          |  0/2 [00:00<?,       ?it/s]"
      ]
     },
     "metadata": {},
     "output_type": "display_data"
    },
    {
     "name": "stderr",
     "output_type": "stream",
     "text": [
      "    Copnorm and demean the data\n",
      "Get list of multiplets\n"
     ]
    },
    {
     "data": {
      "application/vnd.jupyter.widget-view+json": {
       "model_id": "0c274b10bd2b41279ed748da9ef16433",
       "version_major": 2,
       "version_minor": 0
      },
      "text/plain": [
       "  0%|          |  0/2 [00:00<?,       ?it/s]"
      ]
     },
     "metadata": {},
     "output_type": "display_data"
    },
    {
     "name": "stderr",
     "output_type": "stream",
     "text": [
      "    Copnorm and demean the data\n",
      "Get list of multiplets\n"
     ]
    },
    {
     "data": {
      "application/vnd.jupyter.widget-view+json": {
       "model_id": "d3fd30fd9c6f41c2a4d21c50158858f5",
       "version_major": 2,
       "version_minor": 0
      },
      "text/plain": [
       "  0%|          |  0/2 [00:00<?,       ?it/s]"
      ]
     },
     "metadata": {},
     "output_type": "display_data"
    },
    {
     "name": "stderr",
     "output_type": "stream",
     "text": [
      "    Copnorm and demean the data\n",
      "Get list of multiplets\n"
     ]
    },
    {
     "data": {
      "application/vnd.jupyter.widget-view+json": {
       "model_id": "d76f99aaf87d42b7af3950a9c1299f8e",
       "version_major": 2,
       "version_minor": 0
      },
      "text/plain": [
       "  0%|          |  0/2 [00:00<?,       ?it/s]"
      ]
     },
     "metadata": {},
     "output_type": "display_data"
    },
    {
     "name": "stderr",
     "output_type": "stream",
     "text": [
      "    Copnorm and demean the data\n",
      "Get list of multiplets\n"
     ]
    },
    {
     "data": {
      "application/vnd.jupyter.widget-view+json": {
       "model_id": "6decb0f4f3ac4d7aaebc6304a1cb4dda",
       "version_major": 2,
       "version_minor": 0
      },
      "text/plain": [
       "  0%|          |  0/2 [00:00<?,       ?it/s]"
      ]
     },
     "metadata": {},
     "output_type": "display_data"
    },
    {
     "name": "stderr",
     "output_type": "stream",
     "text": [
      "    Copnorm and demean the data\n",
      "Get list of multiplets\n"
     ]
    },
    {
     "data": {
      "application/vnd.jupyter.widget-view+json": {
       "model_id": "b8578f076bb74de39692df5d87d8a504",
       "version_major": 2,
       "version_minor": 0
      },
      "text/plain": [
       "  0%|          |  0/2 [00:00<?,       ?it/s]"
      ]
     },
     "metadata": {},
     "output_type": "display_data"
    },
    {
     "name": "stderr",
     "output_type": "stream",
     "text": [
      "    Copnorm and demean the data\n",
      "Get list of multiplets\n"
     ]
    },
    {
     "data": {
      "application/vnd.jupyter.widget-view+json": {
       "model_id": "fb1b889d0da347c4b53372b21e8caa66",
       "version_major": 2,
       "version_minor": 0
      },
      "text/plain": [
       "  0%|          |  0/2 [00:00<?,       ?it/s]"
      ]
     },
     "metadata": {},
     "output_type": "display_data"
    },
    {
     "name": "stderr",
     "output_type": "stream",
     "text": [
      "    Copnorm and demean the data\n",
      "Get list of multiplets\n"
     ]
    },
    {
     "data": {
      "application/vnd.jupyter.widget-view+json": {
       "model_id": "cb2f1110c15c4aeb86490246d4a5dd44",
       "version_major": 2,
       "version_minor": 0
      },
      "text/plain": [
       "  0%|          |  0/2 [00:00<?,       ?it/s]"
      ]
     },
     "metadata": {},
     "output_type": "display_data"
    },
    {
     "name": "stderr",
     "output_type": "stream",
     "text": [
      "    Copnorm and demean the data\n",
      "Get list of multiplets\n"
     ]
    },
    {
     "data": {
      "application/vnd.jupyter.widget-view+json": {
       "model_id": "583e0a7b38364443b52b8d7488c08438",
       "version_major": 2,
       "version_minor": 0
      },
      "text/plain": [
       "  0%|          |  0/2 [00:00<?,       ?it/s]"
      ]
     },
     "metadata": {},
     "output_type": "display_data"
    }
   ],
   "source": [
    "metrics_types = [InfoTopo, TC, DTC, Sinfo, Oinfo, RedundancyphiID, SynergyphiID]\n",
    "metric_dicts = []\n",
    "\n",
    "for metric in metrics_types:\n",
    "    metric_dict_t1 = dict(analyse_information_metric(metric, df_1[:10]))\n",
    "    metric_dict_t2 = dict(analyse_information_metric(metric, df_1[10:20]))\n",
    "    metric_sim1 = [metric_dict_t1, metric_dict_t2]\n",
    "\n",
    "    metric_dict_t1 = dict(analyse_information_metric(metric, df_2[:10]))\n",
    "    metric_dict_t2 = dict(analyse_information_metric(metric, df_2[10:20]))\n",
    "    metric_sim2 = [metric_dict_t1, metric_dict_t2]\n",
    "\n",
    "    metric_dicts.append((metric_sim1, metric_sim2))"
   ]
  },
  {
   "cell_type": "code",
   "execution_count": 125,
   "id": "98795d62",
   "metadata": {},
   "outputs": [],
   "source": [
    "metrics = metric_dicts"
   ]
  },
  {
   "cell_type": "markdown",
   "id": "e8848f9e",
   "metadata": {},
   "source": [
    "# Test on dataset from stored data"
   ]
  },
  {
   "cell_type": "code",
   "execution_count": null,
   "id": "f0fd6e17",
   "metadata": {},
   "outputs": [],
   "source": [
    "# Example timeseries\n",
    "n_timesteps = 20\n",
    "n_variables = 3\n",
    "\n",
    "data = np.random.randn(n_timesteps, n_variables)\n",
    "columns = [f'X{i+1}' for i in range(n_variables)]\n",
    "df_2 = pd.DataFrame(data, columns=columns)"
   ]
  },
  {
   "cell_type": "code",
   "execution_count": 145,
   "id": "b780561c",
   "metadata": {},
   "outputs": [],
   "source": [
    "# Sliding timewindow to compute metrics per timestep for one simulation\n",
    "def sliding_window(timeseries, windowsize, stepsize):\n",
    "    metric_dict_list = []\n",
    "    for i in np.arange(0, len(timeseries)-windowsize, stepsize):\n",
    "        metric_dict_step = dict(analyse_information_metric(metric, df_1[i:i+windowsize]))\n",
    "        metric_dict_list.append(metric_dict_step)\n",
    "    return metric_dict_list"
   ]
  },
  {
   "cell_type": "code",
   "execution_count": null,
   "id": "402fff39",
   "metadata": {},
   "outputs": [],
   "source": [
    "metrics_types = [InfoTopo, TC, DTC, Sinfo, Oinfo, RedundancyphiID, SynergyphiID]\n",
    "metric_dicts = []\n",
    "\n",
    "for metric in metrics_types:\n",
    "    metric_dict_t1 = dict(analyse_information_metric(metric, df_1[:10]))\n",
    "    metric_dict_t2 = dict(analyse_information_metric(metric, df_1[10:20]))\n",
    "    metric_sim1 = [metric_dict_t1, metric_dict_t2]\n",
    "\n",
    "    metric_dict_t1 = dict(analyse_information_metric(metric, df_2[:10]))\n",
    "    metric_dict_t2 = dict(analyse_information_metric(metric, df_2[10:20]))\n",
    "    metric_sim2 = [metric_dict_t1, metric_dict_t2]\n",
    "\n",
    "    metric_dicts.append((metric_sim1, metric_sim2))"
   ]
  },
  {
   "cell_type": "code",
   "execution_count": 167,
   "id": "78607a11",
   "metadata": {},
   "outputs": [
    {
     "name": "stderr",
     "output_type": "stream",
     "text": [
      "Compute entropy with gc\n",
      "    Copnorm and demean the data\n",
      "Get list of multiplets\n"
     ]
    },
    {
     "data": {
      "application/vnd.jupyter.widget-view+json": {
       "model_id": "d4a8892a52c543109b3748ee1a2eafda",
       "version_major": 2,
       "version_minor": 0
      },
      "text/plain": [
       "  0%|          |  0/3 [00:00<?,       ?it/s]"
      ]
     },
     "metadata": {},
     "output_type": "display_data"
    },
    {
     "name": "stderr",
     "output_type": "stream",
     "text": [
      "Get list of multiplets\n"
     ]
    },
    {
     "data": {
      "application/vnd.jupyter.widget-view+json": {
       "model_id": "74deaeeabc45436bb73e84de529ba460",
       "version_major": 2,
       "version_minor": 0
      },
      "text/plain": [
       "  0%|          | 0/4 [00:00<?, ?it/s]"
      ]
     },
     "metadata": {},
     "output_type": "display_data"
    },
    {
     "name": "stderr",
     "output_type": "stream",
     "text": [
      "Compute entropy with gc\n",
      "    Copnorm and demean the data\n",
      "Get list of multiplets\n"
     ]
    },
    {
     "data": {
      "application/vnd.jupyter.widget-view+json": {
       "model_id": "423f0ddeb0ff46b4946ada3fcd781864",
       "version_major": 2,
       "version_minor": 0
      },
      "text/plain": [
       "  0%|          |  0/3 [00:00<?,       ?it/s]"
      ]
     },
     "metadata": {},
     "output_type": "display_data"
    },
    {
     "name": "stderr",
     "output_type": "stream",
     "text": [
      "Get list of multiplets\n"
     ]
    },
    {
     "data": {
      "application/vnd.jupyter.widget-view+json": {
       "model_id": "b770fa232f604071836726e89c011505",
       "version_major": 2,
       "version_minor": 0
      },
      "text/plain": [
       "  0%|          | 0/4 [00:00<?, ?it/s]"
      ]
     },
     "metadata": {},
     "output_type": "display_data"
    },
    {
     "name": "stderr",
     "output_type": "stream",
     "text": [
      "Compute entropy with gc\n",
      "    Copnorm and demean the data\n",
      "Get list of multiplets\n"
     ]
    },
    {
     "data": {
      "application/vnd.jupyter.widget-view+json": {
       "model_id": "21e90a6e72dc4eff993513aad93fd18c",
       "version_major": 2,
       "version_minor": 0
      },
      "text/plain": [
       "  0%|          |  0/3 [00:00<?,       ?it/s]"
      ]
     },
     "metadata": {},
     "output_type": "display_data"
    },
    {
     "name": "stderr",
     "output_type": "stream",
     "text": [
      "Get list of multiplets\n"
     ]
    },
    {
     "data": {
      "application/vnd.jupyter.widget-view+json": {
       "model_id": "64b9df8038f047c28a5eef7119df4336",
       "version_major": 2,
       "version_minor": 0
      },
      "text/plain": [
       "  0%|          | 0/4 [00:00<?, ?it/s]"
      ]
     },
     "metadata": {},
     "output_type": "display_data"
    },
    {
     "name": "stderr",
     "output_type": "stream",
     "text": [
      "Compute entropy with gc\n",
      "    Copnorm and demean the data\n",
      "Get list of multiplets\n"
     ]
    },
    {
     "data": {
      "application/vnd.jupyter.widget-view+json": {
       "model_id": "70a0fa5e03e94d7a8d4156f9ed46e847",
       "version_major": 2,
       "version_minor": 0
      },
      "text/plain": [
       "  0%|          |  0/3 [00:00<?,       ?it/s]"
      ]
     },
     "metadata": {},
     "output_type": "display_data"
    },
    {
     "name": "stderr",
     "output_type": "stream",
     "text": [
      "Get list of multiplets\n"
     ]
    },
    {
     "data": {
      "application/vnd.jupyter.widget-view+json": {
       "model_id": "3a80fb70d7184c958c86ea4f8ae0504b",
       "version_major": 2,
       "version_minor": 0
      },
      "text/plain": [
       "  0%|          | 0/4 [00:00<?, ?it/s]"
      ]
     },
     "metadata": {},
     "output_type": "display_data"
    },
    {
     "name": "stderr",
     "output_type": "stream",
     "text": [
      "Compute entropy with gc\n",
      "    Copnorm and demean the data\n",
      "Get list of multiplets\n"
     ]
    },
    {
     "data": {
      "application/vnd.jupyter.widget-view+json": {
       "model_id": "02db5524cd284c7bb113405cbc0cfdac",
       "version_major": 2,
       "version_minor": 0
      },
      "text/plain": [
       "  0%|          |  0/3 [00:00<?,       ?it/s]"
      ]
     },
     "metadata": {},
     "output_type": "display_data"
    },
    {
     "name": "stderr",
     "output_type": "stream",
     "text": [
      "Get list of multiplets\n"
     ]
    },
    {
     "data": {
      "application/vnd.jupyter.widget-view+json": {
       "model_id": "2e21a4a49eb74a0c8ad0012156a26cd0",
       "version_major": 2,
       "version_minor": 0
      },
      "text/plain": [
       "  0%|          | 0/4 [00:00<?, ?it/s]"
      ]
     },
     "metadata": {},
     "output_type": "display_data"
    },
    {
     "name": "stderr",
     "output_type": "stream",
     "text": [
      "Compute entropy with gc\n",
      "    Copnorm and demean the data\n",
      "Get list of multiplets\n"
     ]
    },
    {
     "data": {
      "application/vnd.jupyter.widget-view+json": {
       "model_id": "6ec6ad7cc62c46f2bd6ccb859ff35df5",
       "version_major": 2,
       "version_minor": 0
      },
      "text/plain": [
       "  0%|          |  0/3 [00:00<?,       ?it/s]"
      ]
     },
     "metadata": {},
     "output_type": "display_data"
    },
    {
     "name": "stderr",
     "output_type": "stream",
     "text": [
      "Get list of multiplets\n"
     ]
    },
    {
     "data": {
      "application/vnd.jupyter.widget-view+json": {
       "model_id": "2fe7ab51a7b54a5f80d1050976bcbbd7",
       "version_major": 2,
       "version_minor": 0
      },
      "text/plain": [
       "  0%|          | 0/4 [00:00<?, ?it/s]"
      ]
     },
     "metadata": {},
     "output_type": "display_data"
    },
    {
     "name": "stderr",
     "output_type": "stream",
     "text": [
      "    Copnorm and demean the data\n",
      "Get list of multiplets\n"
     ]
    },
    {
     "data": {
      "application/vnd.jupyter.widget-view+json": {
       "model_id": "ad702066ee3145b493b802b35bc13863",
       "version_major": 2,
       "version_minor": 0
      },
      "text/plain": [
       "  0%|          |  0/2 [00:00<?,       ?it/s]"
      ]
     },
     "metadata": {},
     "output_type": "display_data"
    },
    {
     "name": "stderr",
     "output_type": "stream",
     "text": [
      "    Copnorm and demean the data\n",
      "Get list of multiplets\n"
     ]
    },
    {
     "data": {
      "application/vnd.jupyter.widget-view+json": {
       "model_id": "c960aa711a01457b8c35f97773b24317",
       "version_major": 2,
       "version_minor": 0
      },
      "text/plain": [
       "  0%|          |  0/2 [00:00<?,       ?it/s]"
      ]
     },
     "metadata": {},
     "output_type": "display_data"
    },
    {
     "name": "stderr",
     "output_type": "stream",
     "text": [
      "    Copnorm and demean the data\n",
      "Get list of multiplets\n"
     ]
    },
    {
     "data": {
      "application/vnd.jupyter.widget-view+json": {
       "model_id": "09905fec87464e0296e80e7be72f9e1e",
       "version_major": 2,
       "version_minor": 0
      },
      "text/plain": [
       "  0%|          |  0/2 [00:00<?,       ?it/s]"
      ]
     },
     "metadata": {},
     "output_type": "display_data"
    },
    {
     "name": "stderr",
     "output_type": "stream",
     "text": [
      "    Copnorm and demean the data\n",
      "Get list of multiplets\n"
     ]
    },
    {
     "data": {
      "application/vnd.jupyter.widget-view+json": {
       "model_id": "ff66afd5749e4b468b3fe5574694b266",
       "version_major": 2,
       "version_minor": 0
      },
      "text/plain": [
       "  0%|          |  0/2 [00:00<?,       ?it/s]"
      ]
     },
     "metadata": {},
     "output_type": "display_data"
    },
    {
     "name": "stderr",
     "output_type": "stream",
     "text": [
      "    Copnorm and demean the data\n",
      "Get list of multiplets\n"
     ]
    },
    {
     "data": {
      "application/vnd.jupyter.widget-view+json": {
       "model_id": "b51d67e57a424b79a7ff66d7194c9dbf",
       "version_major": 2,
       "version_minor": 0
      },
      "text/plain": [
       "  0%|          |  0/2 [00:00<?,       ?it/s]"
      ]
     },
     "metadata": {},
     "output_type": "display_data"
    },
    {
     "name": "stderr",
     "output_type": "stream",
     "text": [
      "    Copnorm and demean the data\n",
      "Get list of multiplets\n"
     ]
    },
    {
     "data": {
      "application/vnd.jupyter.widget-view+json": {
       "model_id": "fb4c60099b91482884904a6e5871d1d9",
       "version_major": 2,
       "version_minor": 0
      },
      "text/plain": [
       "  0%|          |  0/2 [00:00<?,       ?it/s]"
      ]
     },
     "metadata": {},
     "output_type": "display_data"
    },
    {
     "name": "stderr",
     "output_type": "stream",
     "text": [
      "    Copnorm and demean the data\n",
      "Get list of multiplets\n"
     ]
    },
    {
     "data": {
      "application/vnd.jupyter.widget-view+json": {
       "model_id": "bea22d6ebe1c47bf95fa9b949601042d",
       "version_major": 2,
       "version_minor": 0
      },
      "text/plain": [
       "  0%|          |  0/2 [00:00<?,       ?it/s]"
      ]
     },
     "metadata": {},
     "output_type": "display_data"
    },
    {
     "name": "stderr",
     "output_type": "stream",
     "text": [
      "    Copnorm and demean the data\n",
      "Get list of multiplets\n"
     ]
    },
    {
     "data": {
      "application/vnd.jupyter.widget-view+json": {
       "model_id": "7e03dae5805644718abe9f8b45908405",
       "version_major": 2,
       "version_minor": 0
      },
      "text/plain": [
       "  0%|          |  0/2 [00:00<?,       ?it/s]"
      ]
     },
     "metadata": {},
     "output_type": "display_data"
    },
    {
     "name": "stderr",
     "output_type": "stream",
     "text": [
      "    Copnorm and demean the data\n",
      "Get list of multiplets\n"
     ]
    },
    {
     "data": {
      "application/vnd.jupyter.widget-view+json": {
       "model_id": "d9f33097553b4402b642de979b435bf3",
       "version_major": 2,
       "version_minor": 0
      },
      "text/plain": [
       "  0%|          |  0/2 [00:00<?,       ?it/s]"
      ]
     },
     "metadata": {},
     "output_type": "display_data"
    },
    {
     "name": "stderr",
     "output_type": "stream",
     "text": [
      "    Copnorm and demean the data\n",
      "Get list of multiplets\n"
     ]
    },
    {
     "data": {
      "application/vnd.jupyter.widget-view+json": {
       "model_id": "1682d8f604934e168759a0ad412de2e4",
       "version_major": 2,
       "version_minor": 0
      },
      "text/plain": [
       "  0%|          |  0/2 [00:00<?,       ?it/s]"
      ]
     },
     "metadata": {},
     "output_type": "display_data"
    },
    {
     "name": "stderr",
     "output_type": "stream",
     "text": [
      "    Copnorm and demean the data\n",
      "Get list of multiplets\n"
     ]
    },
    {
     "data": {
      "application/vnd.jupyter.widget-view+json": {
       "model_id": "65114d3661704b5ba807fd5f97e67272",
       "version_major": 2,
       "version_minor": 0
      },
      "text/plain": [
       "  0%|          |  0/2 [00:00<?,       ?it/s]"
      ]
     },
     "metadata": {},
     "output_type": "display_data"
    },
    {
     "name": "stderr",
     "output_type": "stream",
     "text": [
      "    Copnorm and demean the data\n",
      "Get list of multiplets\n"
     ]
    },
    {
     "data": {
      "application/vnd.jupyter.widget-view+json": {
       "model_id": "d3bd81f4a08646b79a56bf3edea2a2a4",
       "version_major": 2,
       "version_minor": 0
      },
      "text/plain": [
       "  0%|          |  0/2 [00:00<?,       ?it/s]"
      ]
     },
     "metadata": {},
     "output_type": "display_data"
    },
    {
     "name": "stderr",
     "output_type": "stream",
     "text": [
      "    Copnorm and demean the data\n",
      "Get list of multiplets\n"
     ]
    },
    {
     "data": {
      "application/vnd.jupyter.widget-view+json": {
       "model_id": "006165ee9a1f405b9de07e16d3cefb5e",
       "version_major": 2,
       "version_minor": 0
      },
      "text/plain": [
       "  0%|          |  0/2 [00:00<?,       ?it/s]"
      ]
     },
     "metadata": {},
     "output_type": "display_data"
    },
    {
     "name": "stderr",
     "output_type": "stream",
     "text": [
      "    Copnorm and demean the data\n",
      "Get list of multiplets\n"
     ]
    },
    {
     "data": {
      "application/vnd.jupyter.widget-view+json": {
       "model_id": "3ba9320453244bc4a1ecae7f658cfed0",
       "version_major": 2,
       "version_minor": 0
      },
      "text/plain": [
       "  0%|          |  0/2 [00:00<?,       ?it/s]"
      ]
     },
     "metadata": {},
     "output_type": "display_data"
    },
    {
     "name": "stderr",
     "output_type": "stream",
     "text": [
      "    Copnorm and demean the data\n",
      "Get list of multiplets\n"
     ]
    },
    {
     "data": {
      "application/vnd.jupyter.widget-view+json": {
       "model_id": "af800020c32b4fbca0ca392dc3290cf1",
       "version_major": 2,
       "version_minor": 0
      },
      "text/plain": [
       "  0%|          |  0/2 [00:00<?,       ?it/s]"
      ]
     },
     "metadata": {},
     "output_type": "display_data"
    },
    {
     "name": "stderr",
     "output_type": "stream",
     "text": [
      "    Copnorm and demean the data\n",
      "Get list of multiplets\n"
     ]
    },
    {
     "data": {
      "application/vnd.jupyter.widget-view+json": {
       "model_id": "346f19d410ce4095bb16c1a05f505b44",
       "version_major": 2,
       "version_minor": 0
      },
      "text/plain": [
       "  0%|          |  0/2 [00:00<?,       ?it/s]"
      ]
     },
     "metadata": {},
     "output_type": "display_data"
    },
    {
     "name": "stderr",
     "output_type": "stream",
     "text": [
      "    Copnorm and demean the data\n",
      "Get list of multiplets\n"
     ]
    },
    {
     "data": {
      "application/vnd.jupyter.widget-view+json": {
       "model_id": "cdc6e8ba2fdd4c0e804dde1cc91656d5",
       "version_major": 2,
       "version_minor": 0
      },
      "text/plain": [
       "  0%|          |  0/2 [00:00<?,       ?it/s]"
      ]
     },
     "metadata": {},
     "output_type": "display_data"
    },
    {
     "name": "stderr",
     "output_type": "stream",
     "text": [
      "    Copnorm and demean the data\n",
      "Get list of multiplets\n"
     ]
    },
    {
     "data": {
      "application/vnd.jupyter.widget-view+json": {
       "model_id": "9ec7e62042a449209f505bb83b716f3f",
       "version_major": 2,
       "version_minor": 0
      },
      "text/plain": [
       "  0%|          |  0/2 [00:00<?,       ?it/s]"
      ]
     },
     "metadata": {},
     "output_type": "display_data"
    }
   ],
   "source": [
    "import os\n",
    "import pandas as pd\n",
    "import glob\n",
    "\n",
    "# Define the directory path (use raw string or double backslashes for Windows paths)\n",
    "directory = r'Data\\Artificial_data\\Redundant_timeseries'\n",
    "\n",
    "# Use glob to get all CSV file paths\n",
    "csv_files = glob.glob(os.path.join(directory, '*.csv'))\n",
    "\n",
    "# Loop through and load each CSV file into a DataFrame\n",
    "metric_dicts = []\n",
    "\n",
    "for metric in metrics_types[:4]:\n",
    "    metric_sims = []\n",
    "    for file in csv_files:\n",
    "        df = pd.read_csv(file)\n",
    "\n",
    "        windowsize = 80 #int(len(df) / 2)\n",
    "        stepsize = int(len(df) / 10)\n",
    "\n",
    "        metric_dict_list = sliding_window(df, windowsize, stepsize)\n",
    "\n",
    "        metric_sims.append(metric_dict_list)\n",
    "    metric_dicts.append(tuple(metric_sims))\n",
    "\n",
    "metrics = metric_dicts"
   ]
  },
  {
   "cell_type": "code",
   "execution_count": null,
   "id": "644c6218",
   "metadata": {},
   "outputs": [
    {
     "name": "stderr",
     "output_type": "stream",
     "text": [
      "    Copnorm and demean the data\n",
      "Get list of multiplets\n"
     ]
    },
    {
     "data": {
      "application/vnd.jupyter.widget-view+json": {
       "model_id": "0c90140b8615458a98c31ce9b10c4646",
       "version_major": 2,
       "version_minor": 0
      },
      "text/plain": [
       "  0%|          |  0/2 [00:00<?,       ?it/s]"
      ]
     },
     "metadata": {},
     "output_type": "display_data"
    },
    {
     "name": "stderr",
     "output_type": "stream",
     "text": [
      "    Copnorm and demean the data\n",
      "Get list of multiplets\n"
     ]
    },
    {
     "data": {
      "application/vnd.jupyter.widget-view+json": {
       "model_id": "635c06cb63b74151b2791f36c477dd0e",
       "version_major": 2,
       "version_minor": 0
      },
      "text/plain": [
       "  0%|          |  0/2 [00:00<?,       ?it/s]"
      ]
     },
     "metadata": {},
     "output_type": "display_data"
    },
    {
     "name": "stderr",
     "output_type": "stream",
     "text": [
      "    Copnorm and demean the data\n",
      "Get list of multiplets\n"
     ]
    },
    {
     "data": {
      "application/vnd.jupyter.widget-view+json": {
       "model_id": "4dedf30a48744ccebc32cbc77dd2e99d",
       "version_major": 2,
       "version_minor": 0
      },
      "text/plain": [
       "  0%|          |  0/2 [00:00<?,       ?it/s]"
      ]
     },
     "metadata": {},
     "output_type": "display_data"
    },
    {
     "name": "stderr",
     "output_type": "stream",
     "text": [
      "    Copnorm and demean the data\n",
      "Get list of multiplets\n"
     ]
    },
    {
     "data": {
      "application/vnd.jupyter.widget-view+json": {
       "model_id": "c401bede43704d31a33c3e51aa0e0c1c",
       "version_major": 2,
       "version_minor": 0
      },
      "text/plain": [
       "  0%|          |  0/2 [00:00<?,       ?it/s]"
      ]
     },
     "metadata": {},
     "output_type": "display_data"
    },
    {
     "name": "stderr",
     "output_type": "stream",
     "text": [
      "    Copnorm and demean the data\n",
      "Get list of multiplets\n"
     ]
    },
    {
     "data": {
      "application/vnd.jupyter.widget-view+json": {
       "model_id": "939505025fa7409b851c5e2f0eda80ed",
       "version_major": 2,
       "version_minor": 0
      },
      "text/plain": [
       "  0%|          |  0/2 [00:00<?,       ?it/s]"
      ]
     },
     "metadata": {},
     "output_type": "display_data"
    },
    {
     "name": "stderr",
     "output_type": "stream",
     "text": [
      "    Copnorm and demean the data\n",
      "Get list of multiplets\n"
     ]
    },
    {
     "data": {
      "application/vnd.jupyter.widget-view+json": {
       "model_id": "cff4552380784ba7ae2269c1616454ea",
       "version_major": 2,
       "version_minor": 0
      },
      "text/plain": [
       "  0%|          |  0/2 [00:00<?,       ?it/s]"
      ]
     },
     "metadata": {},
     "output_type": "display_data"
    }
   ],
   "source": [
    "import os\n",
    "import pandas as pd\n",
    "import glob\n",
    "\n",
    "# Define the directory path (use raw string or double backslashes for Windows paths)\n",
    "directory = r'Data\\Artificial_data\\Redundant_timeseries'\n",
    "\n",
    "# Use glob to get all CSV file paths\n",
    "csv_files = glob.glob(os.path.join(directory, '*.csv'))\n",
    "\n",
    "# Loop through and load each CSV file into a DataFrame\n",
    "metric_dicts = []\n",
    "\n",
    "for file in csv_files:\n",
    "    df = pd.read_csv(file)\n",
    "\n",
    "    windowsize = 80 #int(len(df) / 2)\n",
    "    stepsize = int(len(df) / 10)\n",
    "\n",
    "    metric_dict_list = sliding_window(df, windowsize, stepsize)\n",
    "\n",
    "    metric_dicts.append(metric_dict_list)\n",
    "\n",
    "metrics = metric_dicts"
   ]
  },
  {
   "cell_type": "code",
   "execution_count": 160,
   "id": "cbef95e0",
   "metadata": {},
   "outputs": [
    {
     "data": {
      "text/plain": [
       "[([{2: [-0.03514885902404785, -0.020809292793273926, -0.006348967552185059],\n",
       "    3: [-0.004250526428222656]},\n",
       "   {2: [-0.07414674758911133, -0.04209589958190918, 0.15847539901733398],\n",
       "    3: [-0.08505582809448242]}],\n",
       "  [{2: [-0.03514885902404785, -0.020809292793273926, -0.006348967552185059],\n",
       "    3: [-0.004250526428222656]},\n",
       "   {2: [-0.07414674758911133, -0.04209589958190918, 0.15847539901733398],\n",
       "    3: [-0.08505582809448242]}],\n",
       "  [{2: [-0.03514885902404785, -0.020809292793273926, -0.006348967552185059],\n",
       "    3: [-0.004250526428222656]},\n",
       "   {2: [-0.07414674758911133, -0.04209589958190918, 0.15847539901733398],\n",
       "    3: [-0.08505582809448242]}]),\n",
       " ([{2: [-0.0351492203772068, -0.02080930769443512, -0.006349006202071905],\n",
       "    3: [-0.05805690586566925]},\n",
       "   {2: [-0.07414662837982178, -0.04209594428539276, 0.1584753841161728],\n",
       "    3: [0.1272881031036377]}],\n",
       "  [{2: [-0.0351492203772068, -0.02080930769443512, -0.006349006202071905],\n",
       "    3: [-0.05805690586566925]},\n",
       "   {2: [-0.07414662837982178, -0.04209594428539276, 0.1584753841161728],\n",
       "    3: [0.1272881031036377]}],\n",
       "  [{2: [-0.0351492203772068, -0.02080930769443512, -0.006349006202071905],\n",
       "    3: [-0.05805690586566925]},\n",
       "   {2: [-0.07414662837982178, -0.04209594428539276, 0.1584753841161728],\n",
       "    3: [0.1272881031036377]}]),\n",
       " ([{2: [-0.0351492203772068, -0.02080930769443512, -0.006349006202071905],\n",
       "    3: [-0.053805503994226456]},\n",
       "   {2: [-0.07414662837982178, -0.04209594428539276, 0.1584753841161728],\n",
       "    3: [0.21234369277954102]}],\n",
       "  [{2: [-0.0351492203772068, -0.02080930769443512, -0.006349006202071905],\n",
       "    3: [-0.053805503994226456]},\n",
       "   {2: [-0.07414662837982178, -0.04209594428539276, 0.1584753841161728],\n",
       "    3: [0.21234369277954102]}],\n",
       "  [{2: [-0.0351492203772068, -0.02080930769443512, -0.006349006202071905],\n",
       "    3: [-0.053805503994226456]},\n",
       "   {2: [-0.07414662837982178, -0.04209594428539276, 0.1584753841161728],\n",
       "    3: [0.21234369277954102]}])]"
      ]
     },
     "execution_count": 160,
     "metadata": {},
     "output_type": "execute_result"
    }
   ],
   "source": [
    "metrics"
   ]
  },
  {
   "cell_type": "code",
   "execution_count": 155,
   "id": "d2e92dea",
   "metadata": {},
   "outputs": [
    {
     "data": {
      "text/plain": [
       "[({2: [0.015218179672956467, 0.07766617089509964, 0.12779954075813293],\n",
       "   3: [0.08225119113922119]},\n",
       "  {2: [0.02304910123348236, 0.08130251616239548, 0.09404154866933823],\n",
       "   3: [0.048440270125865936]}),\n",
       " ({2: [0.015218179672956467, 0.07766617089509964, 0.12779954075813293],\n",
       "   3: [0.08225119113922119]},\n",
       "  {2: [0.02304910123348236, 0.08130251616239548, 0.09404154866933823],\n",
       "   3: [0.048440270125865936]}),\n",
       " ({2: [0.015218179672956467, 0.07766617089509964, 0.12779954075813293],\n",
       "   3: [0.08225119113922119]},\n",
       "  {2: [0.02304910123348236, 0.08130251616239548, 0.09404154866933823],\n",
       "   3: [0.048440270125865936]})]"
      ]
     },
     "execution_count": 155,
     "metadata": {},
     "output_type": "execute_result"
    }
   ],
   "source": [
    "metrics"
   ]
  },
  {
   "cell_type": "code",
   "execution_count": null,
   "id": "1fb8e09c",
   "metadata": {},
   "outputs": [],
   "source": [
    "metrics_types = [InfoTopo, TC, DTC, Sinfo, Oinfo, RedundancyphiID, SynergyphiID]\n",
    "metric_dicts = []\n",
    "\n",
    "for metric in metrics_types:\n",
    "    metric_dict_t1 = dict(analyse_information_metric(metric, df_1[:10]))\n",
    "    metric_dict_t2 = dict(analyse_information_metric(metric, df_1[10:20]))\n",
    "    metric_sim1 = [metric_dict_t1, metric_dict_t2]\n",
    "\n",
    "    metric_dict_t1 = dict(analyse_information_metric(metric, df_2[:10]))\n",
    "    metric_dict_t2 = dict(analyse_information_metric(metric, df_2[10:20]))\n",
    "    metric_sim2 = [metric_dict_t1, metric_dict_t2]\n",
    "\n",
    "    metric_dicts.append((metric_sim1, metric_sim2))"
   ]
  },
  {
   "cell_type": "markdown",
   "id": "cf50730d",
   "metadata": {},
   "source": [
    "# Test visualisation on example data before continuing to sliding window"
   ]
  },
  {
   "cell_type": "code",
   "execution_count": 148,
   "id": "f858688d",
   "metadata": {},
   "outputs": [],
   "source": [
    "# Import libraries\n",
    "import numpy as np\n",
    "import matplotlib.pyplot as plt\n",
    "from collections import defaultdict"
   ]
  },
  {
   "cell_type": "code",
   "execution_count": 149,
   "id": "b1b6509c",
   "metadata": {},
   "outputs": [],
   "source": [
    "# Define functions\n",
    "def average_metric_data(metric):\n",
    "    # Get all key-index combinations\n",
    "    all_key_indices = set()\n",
    "    for sim in metric:\n",
    "        for d in sim:\n",
    "            for k, v in d.items():\n",
    "                for i in range(len(v)):\n",
    "                    all_key_indices.add((k, i))\n",
    "    \n",
    "    sorted_keys = sorted(all_key_indices)  # sort by key then index\n",
    "\n",
    "    data = []\n",
    "    for t in range(len(metric[0])):  # number of timesteps\n",
    "        averaged_dict = {}\n",
    "        for k, idx in sorted_keys:\n",
    "            values = [sim[t].get(k, [0.0] * (idx + 1))[idx] for sim in metric]\n",
    "            averaged_dict[(k, idx)] = np.mean(values)\n",
    "        sorted_values = [averaged_dict[(k, idx)] for k, idx in sorted_keys]\n",
    "        data.append(sorted_values)\n",
    "\n",
    "    # Compute label positions per key\n",
    "    key_indices = defaultdict(list)\n",
    "    for idx, (k, _) in enumerate(sorted_keys):\n",
    "        key_indices[k].append(idx)\n",
    "\n",
    "    label_positions = {k: max(idxs) for k, idxs in key_indices.items()}\n",
    "    labels = [f\"{k}\" for k in label_positions.keys()]  # optional: add count\n",
    "\n",
    "    return np.array(data), labels, label_positions\n",
    "\n",
    "def compute_averages(metric):\n",
    "    sim1, sim2 = metric\n",
    "    avg_sim1 = [np.mean([v for lst in d.values() for v in lst]) for d in sim1]\n",
    "    avg_sim2 = [np.mean([v for lst in d.values() for v in lst]) for d in sim2]\n",
    "    avg_combined = [(a + b) / 2 for a, b in zip(avg_sim1, avg_sim2)]\n",
    "    return avg_sim1, avg_sim2, avg_combined"
   ]
  },
  {
   "cell_type": "code",
   "execution_count": 166,
   "id": "dccaad58",
   "metadata": {},
   "outputs": [],
   "source": [
    "# Define functions\n",
    "def average_metric_data(metric):\n",
    "    # Get all key-index combinations\n",
    "    all_key_indices = set()\n",
    "    for sim in metric:\n",
    "        for d in sim:\n",
    "            for k, v in d.items():\n",
    "                for i in range(len(v)):\n",
    "                    all_key_indices.add((k, i))\n",
    "    \n",
    "    sorted_keys = sorted(all_key_indices)  # sort by key then index\n",
    "\n",
    "    data = []\n",
    "    for t in range(len(metric[0])):  # number of timesteps\n",
    "        averaged_dict = {}\n",
    "        for k, idx in sorted_keys:\n",
    "            values = [sim[t].get(k, [0.0] * (idx + 1))[idx] for sim in metric]\n",
    "            averaged_dict[(k, idx)] = np.mean(values)\n",
    "        sorted_values = [averaged_dict[(k, idx)] for k, idx in sorted_keys]\n",
    "        data.append(sorted_values)\n",
    "\n",
    "    # Compute label positions per key\n",
    "    key_indices = defaultdict(list)\n",
    "    for idx, (k, _) in enumerate(sorted_keys):\n",
    "        key_indices[k].append(idx)\n",
    "\n",
    "    label_positions = {k: max(idxs) for k, idxs in key_indices.items()}\n",
    "    labels = [f\"{k}\" for k in label_positions.keys()]  # optional: add count\n",
    "\n",
    "    return np.array(data), labels, label_positions\n",
    "\n",
    "def compute_averages(metric):\n",
    "    num_simulations = len(metric)\n",
    "    sim_averages = []\n",
    "\n",
    "    # Compute average per timestep for each simulation\n",
    "    for sim in metric:\n",
    "        avg = [np.mean([v for lst in d.values() for v in lst]) for d in sim]\n",
    "        sim_averages.append(avg)\n",
    "\n",
    "    # Compute average across simulations at each timestep\n",
    "    avg_combined = [\n",
    "        np.mean([sim_avg[i] for sim_avg in sim_averages])\n",
    "        for i in range(len(sim_averages[0]))\n",
    "    ]\n",
    "\n",
    "    return (*sim_averages, avg_combined)"
   ]
  },
  {
   "cell_type": "code",
   "execution_count": 173,
   "id": "bd5f73dd",
   "metadata": {},
   "outputs": [
    {
     "data": {
      "image/png": "[encoded data removed]",
      "text/plain": [
       "<Figure size 2400x1000 with 8 Axes>"
      ]
     },
     "metadata": {},
     "output_type": "display_data"
    }
   ],
   "source": [
    "# Prepare data for all metrics\n",
    "prepared_data = [average_metric_data(m) for m in metrics]\n",
    "averages = [compute_averages(m) for m in metrics]\n",
    "\n",
    "timesteps = list(range(1, len(metrics[0][0]) + 1))  # assumes same length for all metrics\n",
    "\n",
    "# Adjust all font sizes globally\n",
    "fontsize_standard = 20\n",
    "plt.rcParams.update({\n",
    "    'font.size': fontsize_standard+2,\n",
    "    'axes.titlesize': fontsize_standard+4,\n",
    "    'axes.labelsize': fontsize_standard+2,\n",
    "    'xtick.labelsize': fontsize_standard,\n",
    "    'ytick.labelsize': fontsize_standard,\n",
    "    'legend.fontsize': fontsize_standard\n",
    "})\n",
    "\n",
    "# Setup figure with 2 rows and len(metrics) columns\n",
    "fig, axs = plt.subplots(2, len(metrics), figsize=(6 * len(metrics), 10), sharey='row')\n",
    "\n",
    "# If only one metric, axs will be 1D, fix to 2D for consistent indexing\n",
    "if len(metrics) == 1:\n",
    "    axs = np.array(axs).reshape(2, 1)\n",
    "\n",
    "# Top row: line plots\n",
    "for i, (ax, average_tuple, title) in enumerate(zip(\n",
    "    axs[0],\n",
    "    averages,\n",
    "    [f\"{metrics_types[i].__name__}\" for i in range(len(metrics))]\n",
    ")):\n",
    "    *individual_sim_avgs, avg_combined = average_tuple  # unpack arbitrary-length tuple\n",
    "\n",
    "    # Plot each simulation average in gray\n",
    "    for j, avg_sim in enumerate(individual_sim_avgs):\n",
    "        ax.plot(timesteps, avg_sim, color='grey', linestyle='--', marker='o', label=f'Simulation {j+1}' if i == 0 else \"\")\n",
    "\n",
    "    # Plot combined average in red\n",
    "    ax.plot(timesteps, avg_combined, color='red', marker='o', linewidth=2, label='Average' if i == 0 else \"\")\n",
    "\n",
    "    ax.set_title(title)\n",
    "    ax.set_xticklabels([])\n",
    "\n",
    "    if i == 0:\n",
    "        ax.set_ylabel(\"Average Value\")\n",
    "    else:\n",
    "        ax.set_yticklabels([])\n",
    "\n",
    "    ax.grid(True)\n",
    "\n",
    "# Bottom row: heatmaps\n",
    "for i, (ax, (data, labels, label_positions), title) in enumerate(zip(\n",
    "    axs[1],\n",
    "    prepared_data,\n",
    "    [f\"Heatmap: Metric {i+1}\" for i in range(len(metrics))]\n",
    ")):\n",
    "    cax = ax.imshow(data.T, aspect='auto', cmap='viridis', origin='lower')\n",
    "    ax.set_xlabel(\"Time\")\n",
    "    ax.set_xticks(np.arange(data.shape[0]))\n",
    "    ax.set_xticklabels(np.arange(data.shape[0]))\n",
    "\n",
    "    if i == 0:\n",
    "        ax.set_ylabel(\"Order\")\n",
    "        yticks = list(label_positions.values())\n",
    "        ylabels = labels\n",
    "        ax.set_yticks(yticks)\n",
    "        ax.set_yticklabels(ylabels)\n",
    "\n",
    "# Add legend only to the first plot\n",
    "# axs[0][0].legend()\n",
    "\n",
    "plt.tight_layout(h_pad=0.1)\n",
    "plt.show()\n"
   ]
  },
  {
   "cell_type": "code",
   "execution_count": 163,
   "id": "85dfe772",
   "metadata": {},
   "outputs": [
    {
     "ename": "ValueError",
     "evalue": "too many values to unpack (expected 3)",
     "output_type": "error",
     "traceback": [
      "\u001b[1;31m---------------------------------------------------------------------------\u001b[0m",
      "\u001b[1;31mValueError\u001b[0m                                Traceback (most recent call last)",
      "Cell \u001b[1;32mIn[163], line 26\u001b[0m\n\u001b[0;32m     23\u001b[0m     axs \u001b[38;5;241m=\u001b[39m np\u001b[38;5;241m.\u001b[39marray(axs)\u001b[38;5;241m.\u001b[39mreshape(\u001b[38;5;241m2\u001b[39m,\u001b[38;5;241m1\u001b[39m)\n\u001b[0;32m     25\u001b[0m \u001b[38;5;66;03m# Top row: line plots\u001b[39;00m\n\u001b[1;32m---> 26\u001b[0m \u001b[38;5;28;01mfor\u001b[39;00m i, (ax, (avg_sim1, avg_sim2, avg_combined), title) \u001b[38;5;129;01min\u001b[39;00m \u001b[38;5;28menumerate\u001b[39m(\u001b[38;5;28mzip\u001b[39m(\n\u001b[0;32m     27\u001b[0m     axs[\u001b[38;5;241m0\u001b[39m],\n\u001b[0;32m     28\u001b[0m     averages,\n\u001b[0;32m     29\u001b[0m     [\u001b[38;5;124mf\u001b[39m\u001b[38;5;124m\"\u001b[39m\u001b[38;5;132;01m{\u001b[39;00mmetrics_types[i]\u001b[38;5;241m.\u001b[39m\u001b[38;5;18m__name__\u001b[39m\u001b[38;5;132;01m}\u001b[39;00m\u001b[38;5;124m\"\u001b[39m \u001b[38;5;28;01mfor\u001b[39;00m i \u001b[38;5;129;01min\u001b[39;00m \u001b[38;5;28mrange\u001b[39m(\u001b[38;5;28mlen\u001b[39m(metrics))]\n\u001b[0;32m     30\u001b[0m )):\n\u001b[0;32m     31\u001b[0m     ax\u001b[38;5;241m.\u001b[39mplot(timesteps, avg_sim1, color\u001b[38;5;241m=\u001b[39m\u001b[38;5;124m'\u001b[39m\u001b[38;5;124mgrey\u001b[39m\u001b[38;5;124m'\u001b[39m, linestyle\u001b[38;5;241m=\u001b[39m\u001b[38;5;124m'\u001b[39m\u001b[38;5;124m--\u001b[39m\u001b[38;5;124m'\u001b[39m, marker\u001b[38;5;241m=\u001b[39m\u001b[38;5;124m'\u001b[39m\u001b[38;5;124mo\u001b[39m\u001b[38;5;124m'\u001b[39m, label\u001b[38;5;241m=\u001b[39m\u001b[38;5;124m'\u001b[39m\u001b[38;5;124mSimulation 1\u001b[39m\u001b[38;5;124m'\u001b[39m)\n\u001b[0;32m     32\u001b[0m     ax\u001b[38;5;241m.\u001b[39mplot(timesteps, avg_sim2, color\u001b[38;5;241m=\u001b[39m\u001b[38;5;124m'\u001b[39m\u001b[38;5;124mgrey\u001b[39m\u001b[38;5;124m'\u001b[39m, linestyle\u001b[38;5;241m=\u001b[39m\u001b[38;5;124m'\u001b[39m\u001b[38;5;124m--\u001b[39m\u001b[38;5;124m'\u001b[39m, marker\u001b[38;5;241m=\u001b[39m\u001b[38;5;124m'\u001b[39m\u001b[38;5;124mo\u001b[39m\u001b[38;5;124m'\u001b[39m, label\u001b[38;5;241m=\u001b[39m\u001b[38;5;124m'\u001b[39m\u001b[38;5;124mSimulation 2\u001b[39m\u001b[38;5;124m'\u001b[39m)\n",
      "\u001b[1;31mValueError\u001b[0m: too many values to unpack (expected 3)"
     ]
    },
    {
     "data": {
      "image/png": "[encoded data removed]",
      "text/plain": [
       "<Figure size 1800x1000 with 6 Axes>"
      ]
     },
     "metadata": {},
     "output_type": "display_data"
    }
   ],
   "source": [
    "# Prepare data for all metrics\n",
    "prepared_data = [average_metric_data(m) for m in metrics]\n",
    "averages = [compute_averages(m) for m in metrics]\n",
    "\n",
    "timesteps = list(range(1, len(metrics[0][0]) + 1))  # assumes same length for all metrics\n",
    "\n",
    "# Adjust all font sizes globally\n",
    "fontsize_standard = 20\n",
    "plt.rcParams.update({\n",
    "    'font.size': fontsize_standard+2,\n",
    "    'axes.titlesize': fontsize_standard+4,\n",
    "    'axes.labelsize': fontsize_standard+2,\n",
    "    'xtick.labelsize': fontsize_standard,\n",
    "    'ytick.labelsize': fontsize_standard,\n",
    "    'legend.fontsize': fontsize_standard\n",
    "})\n",
    "\n",
    "# Setup figure with 2 rows and len(metrics) columns\n",
    "fig, axs = plt.subplots(2, len(metrics), figsize=(6 * len(metrics), 10), sharey='row')\n",
    "\n",
    "# If only one metric, axs will be 1D, fix to 2D for consistent indexing\n",
    "if len(metrics) == 1:\n",
    "    axs = np.array(axs).reshape(2,1)\n",
    "\n",
    "# Top row: line plots\n",
    "for i, (ax, (avg_sim1, avg_sim2, avg_combined), title) in enumerate(zip(\n",
    "    axs[0],\n",
    "    averages,\n",
    "    [f\"{metrics_types[i].__name__}\" for i in range(len(metrics))]\n",
    ")):\n",
    "    ax.plot(timesteps, avg_sim1, color='grey', linestyle='--', marker='o', label='Simulation 1')\n",
    "    ax.plot(timesteps, avg_sim2, color='grey', linestyle='--', marker='o', label='Simulation 2')\n",
    "    ax.plot(timesteps, avg_combined, color='red', marker='o', linewidth=2, label='Average')\n",
    "    ax.set_title(title)\n",
    "    ax.set_xticklabels([])\n",
    "\n",
    "    if i == 0:\n",
    "        ax.set_ylabel(\"Average Value\")\n",
    "    else:\n",
    "        ax.set_yticklabels([])\n",
    "\n",
    "    ax.grid(True)\n",
    "\n",
    "# Bottom row: heatmaps\n",
    "for i, (ax, (data, labels, label_positions), title) in enumerate(zip(\n",
    "    axs[1],\n",
    "    prepared_data,\n",
    "    [f\"Heatmap: Metric {i+1}\" for i in range(len(metrics))]\n",
    ")):\n",
    "    cax = ax.imshow(data.T, aspect='auto', cmap='viridis', origin='lower')\n",
    "    ax.set_xlabel(\"Time\")\n",
    "    ax.set_xticks(np.arange(data.shape[0]))\n",
    "    ax.set_xticklabels(np.arange(data.shape[0]))\n",
    "\n",
    "    if i == 0:\n",
    "        ax.set_ylabel(\"Order\")\n",
    "        yticks = list(label_positions.values())\n",
    "        ylabels = labels\n",
    "        ax.set_yticks(yticks)\n",
    "        ax.set_yticklabels(ylabels)\n",
    "\n",
    "plt.tight_layout(h_pad=0.1)\n",
    "plt.show()"
   ]
  }
 ],
 "metadata": {
  "kernelspec": {
   "display_name": "base",
   "language": "python",
   "name": "python3"
  },
  "language_info": {
   "codemirror_mode": {
    "name": "ipython",
    "version": 3
   },
   "file_extension": ".py",
   "mimetype": "text/x-python",
   "name": "python",
   "nbconvert_exporter": "python",
   "pygments_lexer": "ipython3",
   "version": "3.12.4"
  }
 },
 "nbformat": 4,
 "nbformat_minor": 5
}

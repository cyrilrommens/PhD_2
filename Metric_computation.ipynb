{
 "cells": [
  {
   "cell_type": "markdown",
   "id": "78138038",
   "metadata": {},
   "source": [
    "# Compute metrics using HOI package"
   ]
  },
  {
   "cell_type": "markdown",
   "id": "08b45980",
   "metadata": {},
   "source": [
    "Import libraries"
   ]
  },
  {
   "cell_type": "code",
   "execution_count": 60,
   "id": "51093c1e",
   "metadata": {},
   "outputs": [],
   "source": [
    "import numpy as np\n",
    "import pandas as pd\n",
    "from collections import defaultdict\n",
    "import hoi\n",
    "from hoi.plot import plot_landscape\n",
    "from hoi.utils import get_nbest_mult\n",
    "from numpy import random\n",
    "import matplotlib.pyplot as plt\n",
    "from hoi.metrics import InfoTopo, TC, DTC, Sinfo, Oinfo, RedundancyphiID, SynergyphiID"
   ]
  },
  {
   "cell_type": "markdown",
   "id": "1c81a361",
   "metadata": {},
   "source": [
    "Define functions"
   ]
  },
  {
   "cell_type": "code",
   "execution_count": 81,
   "id": "6cded8fb",
   "metadata": {},
   "outputs": [],
   "source": [
    "# Function to compute a desired information metric\n",
    "def compute_information_metric(metric, data):\n",
    "    data_array=np.array(np.array(data)).astype(float)\n",
    "    model = metric(data_array)\n",
    "    metric_results = model.fit(minsize=2,maxsize=5)\n",
    "    return metric_results, model\n",
    "\n",
    "# Function to divide list into list per order\n",
    "def divide_list_into_orders(hoi, model):\n",
    "    minsize = None\n",
    "    maxsize = None\n",
    "\n",
    "    # get orders\n",
    "    if model:\n",
    "        orders = model.order\n",
    "\n",
    "    # get computed orders\n",
    "    if minsize is None:\n",
    "        minsize = orders.min()\n",
    "    if maxsize is None:\n",
    "        maxsize = orders.max()   \n",
    "\n",
    "    # order selection\n",
    "    keep = np.logical_and(orders >= minsize, orders <= maxsize)\n",
    "    hoi = hoi[keep]\n",
    "    orders = orders[keep]\n",
    "\n",
    "    # Group the values per order\n",
    "    grouped = defaultdict(list)\n",
    "    for o, h in zip(orders, hoi):\n",
    "        grouped[o].append(h.item())  # Convert from NumPy array to float\n",
    "\n",
    "    # Sort each list\n",
    "    for key in grouped:\n",
    "        grouped[key] = sorted(grouped[key])\n",
    "\n",
    "    return grouped\n",
    "\n",
    "# Function to plot row of histograms for all orders\n",
    "def histogram_per_order(grouped, metric):\n",
    "    # Sort grouped values\n",
    "    for key in grouped:\n",
    "        grouped[key] = sorted(grouped[key])\n",
    "\n",
    "    # Prepare keys\n",
    "    unique_orders = sorted(grouped.keys())\n",
    "    all_values = sum(grouped.values(), [])  # Flatten all lists\n",
    "\n",
    "    # Include \"All Orders\"\n",
    "    plot_keys = ['All'] + unique_orders\n",
    "    datasets = [all_values] + [grouped[k] for k in unique_orders]\n",
    "    num_plots = len(datasets)\n",
    "\n",
    "    # Create subplots\n",
    "    fig, axes = plt.subplots(1, num_plots, figsize=(4 * num_plots, 4), sharey=True)\n",
    "\n",
    "    if num_plots == 1:\n",
    "        axes = [axes]\n",
    "\n",
    "    # Plot each histogram normalized by its max count\n",
    "    for ax, title, data in zip(axes, plot_keys, datasets):\n",
    "        counts, bins = np.histogram(data, bins='auto')\n",
    "        counts = counts / counts.max() if counts.max() != 0 else counts  # Normalize to max 1\n",
    "        ax.bar(bins[:-1], counts, width=np.diff(bins), align='edge', color='skyblue', edgecolor='black')\n",
    "        ax.set_title(f'{title if title != \"All\" else \"All Orders\"}')\n",
    "        ax.set_xlabel('Metric value')\n",
    "        ax.set_ylim(0, 1.05)  # Make space for label visibility\n",
    "\n",
    "    # Optional: Label y-axis on the first plot\n",
    "    axes[0].set_ylabel('Normalized Frequency (max = 1)')\n",
    "\n",
    "    plt.suptitle(f'{metric.__name__} analysis')\n",
    "    plt.tight_layout()\n",
    "    plt.savefig(f'Results\\\\Random_timeseries\\\\{metric.__name__}_analysis.png', dpi=300)\n",
    "    plt.close()\n",
    "\n",
    "# Analyse the choosen metric with a row of histograms\n",
    "def analyse_information_metric(metric, data):\n",
    "    # Compute information metric\n",
    "    metric_values, model = compute_information_metric(metric, data)\n",
    "    \n",
    "    # Divide list into lists per order\n",
    "    divided_dict = divide_list_into_orders(metric_values, model)\n",
    "\n",
    "    # Plot row of histograms per order\n",
    "    histogram_per_order(divided_dict, metric)"
   ]
  },
  {
   "cell_type": "markdown",
   "id": "a8806dc8",
   "metadata": {},
   "source": [
    "Create random timeseries to test"
   ]
  },
  {
   "cell_type": "code",
   "execution_count": 82,
   "id": "732d8f8d",
   "metadata": {},
   "outputs": [],
   "source": [
    "n_timesteps = 100\n",
    "n_variables = 20  \n",
    "\n",
    "data = np.random.randn(n_timesteps, n_variables)\n",
    "columns = [f'X{i+1}' for i in range(n_variables)]\n",
    "df = pd.DataFrame(data, columns=columns)"
   ]
  },
  {
   "cell_type": "markdown",
   "id": "7ce9cba9",
   "metadata": {},
   "source": [
    "Analyse metric values (choose from InfoTopo, TC, DTC, Sinfo, Oinfo, RedundancyphiID, SynergyphiID)"
   ]
  },
  {
   "cell_type": "code",
   "execution_count": 83,
   "id": "7510e180",
   "metadata": {},
   "outputs": [
    {
     "name": "stderr",
     "output_type": "stream",
     "text": [
      "Compute entropy with gc\n",
      "    Copnorm and demean the data\n",
      "Get list of multiplets\n"
     ]
    },
    {
     "data": {
      "application/vnd.jupyter.widget-view+json": {
       "model_id": "6d99cfd0a34f4b3b901e1d8062bf06fc",
       "version_major": 2,
       "version_minor": 0
      },
      "text/plain": [
       "  0%|          |  0/5 [00:00<?,       ?it/s]"
      ]
     },
     "metadata": {},
     "output_type": "display_data"
    },
    {
     "name": "stderr",
     "output_type": "stream",
     "text": [
      "Get list of multiplets\n"
     ]
    },
    {
     "data": {
      "application/vnd.jupyter.widget-view+json": {
       "model_id": "33c04829381d4a75bdc3f38616a87fe1",
       "version_major": 2,
       "version_minor": 0
      },
      "text/plain": [
       "  0%|          | 0/21679 [00:00<?, ?it/s]"
      ]
     },
     "metadata": {},
     "output_type": "display_data"
    },
    {
     "name": "stderr",
     "output_type": "stream",
     "text": [
      "    Copnorm and demean the data\n",
      "Get list of multiplets\n"
     ]
    },
    {
     "data": {
      "application/vnd.jupyter.widget-view+json": {
       "model_id": "89a904d4b61744cb97fff2b289d591bb",
       "version_major": 2,
       "version_minor": 0
      },
      "text/plain": [
       "  0%|          |  0/4 [00:00<?,       ?it/s]"
      ]
     },
     "metadata": {},
     "output_type": "display_data"
    },
    {
     "name": "stderr",
     "output_type": "stream",
     "text": [
      "    Copnorm and demean the data\n",
      "Get list of multiplets\n"
     ]
    },
    {
     "data": {
      "application/vnd.jupyter.widget-view+json": {
       "model_id": "bb74d20c49b344308a3e9ecd340f8913",
       "version_major": 2,
       "version_minor": 0
      },
      "text/plain": [
       "  0%|          |  0/4 [00:00<?,       ?it/s]"
      ]
     },
     "metadata": {},
     "output_type": "display_data"
    },
    {
     "name": "stderr",
     "output_type": "stream",
     "text": [
      "    Copnorm and demean the data\n",
      "Get list of multiplets\n"
     ]
    },
    {
     "data": {
      "application/vnd.jupyter.widget-view+json": {
       "model_id": "8856b68fa231404986f64f6f5851c8c4",
       "version_major": 2,
       "version_minor": 0
      },
      "text/plain": [
       "  0%|          |  0/4 [00:00<?,       ?it/s]"
      ]
     },
     "metadata": {},
     "output_type": "display_data"
    },
    {
     "name": "stderr",
     "output_type": "stream",
     "text": [
      "    Copnorm and demean the data\n",
      "Get list of multiplets\n"
     ]
    },
    {
     "data": {
      "application/vnd.jupyter.widget-view+json": {
       "model_id": "fd133e06b95a47b6bfdfde4b34c4936d",
       "version_major": 2,
       "version_minor": 0
      },
      "text/plain": [
       "  0%|          |  0/4 [00:00<?,       ?it/s]"
      ]
     },
     "metadata": {},
     "output_type": "display_data"
    },
    {
     "name": "stderr",
     "output_type": "stream",
     "text": [
      "    Copnorm and demean the data\n",
      "Get list of multiplets\n"
     ]
    },
    {
     "data": {
      "application/vnd.jupyter.widget-view+json": {
       "model_id": "c4388e8a5ab24b2da3faa02fcedcf763",
       "version_major": 2,
       "version_minor": 0
      },
      "text/plain": [
       "  0%|          |  0/4 [00:00<?,       ?it/s]"
      ]
     },
     "metadata": {},
     "output_type": "display_data"
    },
    {
     "name": "stderr",
     "output_type": "stream",
     "text": [
      "    Copnorm and demean the data\n",
      "Get list of multiplets\n"
     ]
    },
    {
     "data": {
      "application/vnd.jupyter.widget-view+json": {
       "model_id": "ddcd923aa48b49db9dfb4e2b1ec11975",
       "version_major": 2,
       "version_minor": 0
      },
      "text/plain": [
       "  0%|          |  0/4 [00:00<?,       ?it/s]"
      ]
     },
     "metadata": {},
     "output_type": "display_data"
    }
   ],
   "source": [
    "metrics = [InfoTopo, TC, DTC, Sinfo, Oinfo, RedundancyphiID, SynergyphiID]\n",
    "\n",
    "for metric in metrics:\n",
    "    analyse_information_metric(metric, df)"
   ]
  },
  {
   "cell_type": "markdown",
   "id": "ed91c2cc",
   "metadata": {},
   "source": [
    "Plot metric landscape"
   ]
  },
  {
   "cell_type": "code",
   "execution_count": 35,
   "id": "8d544ea5",
   "metadata": {},
   "outputs": [
    {
     "data": {
      "text/plain": [
       "<Axes: xlabel='Order', ylabel='Topological Information [Bits]'>"
      ]
     },
     "execution_count": 35,
     "metadata": {},
     "output_type": "execute_result"
    },
    {
     "data": {
      "image/png": "[encoded data removed]",
      "text/plain": [
       "<Figure size 640x480 with 1 Axes>"
      ]
     },
     "metadata": {},
     "output_type": "display_data"
    }
   ],
   "source": [
    "plot_landscape(\n",
    "    metric_results,\n",
    "    model,\n",
    "    kind=\"scatter\",\n",
    "    undersampling=False,\n",
    "    plt_kwargs=dict(cmap=\"turbo\"),\n",
    ")"
   ]
  }
 ],
 "metadata": {
  "kernelspec": {
   "display_name": "base",
   "language": "python",
   "name": "python3"
  },
  "language_info": {
   "codemirror_mode": {
    "name": "ipython",
    "version": 3
   },
   "file_extension": ".py",
   "mimetype": "text/x-python",
   "name": "python",
   "nbconvert_exporter": "python",
   "pygments_lexer": "ipython3",
   "version": "3.12.4"
  }
 },
 "nbformat": 4,
 "nbformat_minor": 5
}

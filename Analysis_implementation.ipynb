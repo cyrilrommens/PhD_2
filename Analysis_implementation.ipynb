{
 "cells": [
  {
   "cell_type": "markdown",
   "id": "81725fd2",
   "metadata": {},
   "source": [
    "Analyse metric values (choose from InfoTopo, TC, DTC, Sinfo, Oinfo, RedundancyphiID, SynergyphiID)"
   ]
  },
  {
   "cell_type": "code",
   "execution_count": 36,
   "id": "8fce281a",
   "metadata": {},
   "outputs": [
    {
     "data": {
      "text/plain": [
       "<module 'Metric_computation' from 'c:\\\\Users\\\\cyril\\\\Documents\\\\Personal\\\\Github\\\\PhD_2\\\\Metric_computation.py'>"
      ]
     },
     "execution_count": 36,
     "metadata": {},
     "output_type": "execute_result"
    }
   ],
   "source": [
    "import glob\n",
    "import importlib\n",
    "import pandas as pd\n",
    "import Metric_computation\n",
    "from hoi.metrics import InfoTopo, TC, DTC, Sinfo, Oinfo, RedundancyphiID, SynergyphiID\n",
    "\n",
    "importlib.reload(Metric_computation)"
   ]
  },
  {
   "cell_type": "markdown",
   "id": "3149adc8",
   "metadata": {},
   "source": [
    "Choose the dataset and analyse"
   ]
  },
  {
   "cell_type": "code",
   "execution_count": null,
   "id": "4e1943d2",
   "metadata": {},
   "outputs": [
    {
     "name": "stderr",
     "output_type": "stream",
     "text": [
      "Compute entropy with gc\n",
      "    Copnorm and demean the data\n",
      "Get list of multiplets\n"
     ]
    },
    {
     "data": {
      "application/vnd.jupyter.widget-view+json": {
       "model_id": "e76e9cb7e801480c80f31cbbfe1ee364",
       "version_major": 2,
       "version_minor": 0
      },
      "text/plain": [
       "  0%|          |  0/5 [00:00<?,       ?it/s]"
      ]
     },
     "metadata": {},
     "output_type": "display_data"
    },
    {
     "name": "stderr",
     "output_type": "stream",
     "text": [
      "Get list of multiplets\n"
     ]
    },
    {
     "data": {
      "application/vnd.jupyter.widget-view+json": {
       "model_id": "79cea35a4bc44d5288666c523a560a88",
       "version_major": 2,
       "version_minor": 0
      },
      "text/plain": [
       "  0%|          | 0/862148 [00:00<?, ?it/s]"
      ]
     },
     "metadata": {},
     "output_type": "display_data"
    }
   ],
   "source": [
    "data_source = 'Lorenz96_data'\n",
    "file_pattern = f'Data/{data_source}/*'\n",
    "file_paths = glob.glob(file_pattern)\n",
    "\n",
    "metrics = [InfoTopo, TC, DTC, Sinfo, Oinfo, RedundancyphiID, SynergyphiID]\n",
    "\n",
    "for metric in metrics:\n",
    "    main_dict = {}\n",
    "    for file_path in file_paths:\n",
    "        df = pd.read_csv(file_path)\n",
    "\n",
    "        divided_dict = Metric_computation.analyse_information_metric(metric, df)\n",
    "        for key, values in divided_dict.items():\n",
    "            if key in main_dict:\n",
    "                main_dict[key] += values\n",
    "            else:\n",
    "                main_dict[key] = values\n",
    "    Metric_computation.histogram_per_order(main_dict, metric, data_source)"
   ]
  }
 ],
 "metadata": {
  "kernelspec": {
   "display_name": "base",
   "language": "python",
   "name": "python3"
  },
  "language_info": {
   "codemirror_mode": {
    "name": "ipython",
    "version": 3
   },
   "file_extension": ".py",
   "mimetype": "text/x-python",
   "name": "python",
   "nbconvert_exporter": "python",
   "pygments_lexer": "ipython3",
   "version": "3.12.4"
  }
 },
 "nbformat": 4,
 "nbformat_minor": 5
}

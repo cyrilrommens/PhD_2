{
 "cells": [
  {
   "cell_type": "markdown",
   "id": "f3c97e84",
   "metadata": {},
   "source": [
    "Import libraries"
   ]
  },
  {
   "cell_type": "code",
   "execution_count": 1,
   "id": "eea4be5c",
   "metadata": {},
   "outputs": [],
   "source": [
    "import numpy as np\n",
    "import pandas as pd\n",
    "import os\n",
    "import pickle\n",
    "import glob\n",
    "from collections import defaultdict\n",
    "import matplotlib.pyplot as plt\n",
    "from hoi.metrics import InfoTopo, TC, DTC, Sinfo, Oinfo, RedundancyphiID, SynergyphiID\n",
    "from hoi.core import entropy_hist"
   ]
  },
  {
   "cell_type": "markdown",
   "id": "eec32e06",
   "metadata": {},
   "source": [
    "Define functions"
   ]
  },
  {
   "cell_type": "code",
   "execution_count": 2,
   "id": "465ee0a8",
   "metadata": {},
   "outputs": [],
   "source": [
    "# --- Core Functions ---\n",
    "def compute_information_metric(metric_class, data):\n",
    "    \"\"\"Compute information metric on data using a given metric class.\"\"\"\n",
    "    data_array = np.array(data, dtype=float)\n",
    "    model = metric_class(data_array)\n",
    "    result = model.fit(minsize=2, maxsize=4)\n",
    "    return result, model\n",
    "\n",
    "def divide_list_by_order(values, model):\n",
    "    \"\"\"Divide values into groups by interaction order.\"\"\"\n",
    "    orders = model.order\n",
    "    grouped = defaultdict(list)\n",
    "    for order, val in zip(orders, values):\n",
    "        grouped[order].append(val.item())\n",
    "    return {k: sorted(v) for k, v in grouped.items()}\n",
    "\n",
    "def analyse_information_metric(metric_class, data):\n",
    "    \"\"\"Analyze data using a specified metric and return grouped results.\"\"\"\n",
    "    values, model = compute_information_metric(metric_class, data)\n",
    "    return divide_list_by_order(values, model)\n",
    "\n",
    "def sliding_window_analysis(metric_class, timeseries, window_size, step_size):\n",
    "    \"\"\"Apply a metric using a sliding window over a time series.\"\"\"\n",
    "    results = []\n",
    "    for start in range(0, len(timeseries) - window_size, step_size):\n",
    "        window_data = timeseries[start:start + window_size]\n",
    "        result = analyse_information_metric(metric_class, window_data)\n",
    "        results.append(dict(result))\n",
    "    return results\n",
    "\n",
    "def average_metric_data(simulations):\n",
    "    \"\"\"Prepare averaged metric data for heatmap visualization.\"\"\"\n",
    "    key_indices = set(\n",
    "        (k, idx) for sim in simulations for step in sim for k, v in step.items() for idx in range(len(v))\n",
    "    )\n",
    "    sorted_keys = sorted(key_indices)\n",
    "\n",
    "    data = []\n",
    "    for t in range(len(simulations[0])):\n",
    "        avg_step = {\n",
    "            (k, idx): np.mean([sim[t].get(k, [0.0]*(idx+1))[idx] for sim in simulations])\n",
    "            for k, idx in sorted_keys\n",
    "        }\n",
    "        data.append([avg_step[(k, idx)] for k, idx in sorted_keys])\n",
    "\n",
    "    label_pos = {k: max(i for i, (key, _) in enumerate(sorted_keys) if key == k) for k, _ in sorted_keys}\n",
    "    labels = list(label_pos.keys())\n",
    "\n",
    "    return np.array(data), labels, label_pos\n",
    "\n",
    "def compute_simulation_averages(metric_sims):\n",
    "    \"\"\"Average metric values across simulations and time.\"\"\"\n",
    "    all_sim_averages = [\n",
    "        [np.mean([val for values in step.values() for val in values]) for step in sim]\n",
    "        for sim in metric_sims\n",
    "    ]\n",
    "    combined_avg = np.mean(all_sim_averages, axis=0)\n",
    "    return (*all_sim_averages, combined_avg)\n",
    "\n",
    "# --- Data Loading ---\n",
    "def load_csv_files_from_directory(directory):\n",
    "    return glob.glob(os.path.join(directory, '*.csv'))\n",
    "\n",
    "def read_and_trim_csv(file_path, num_rows=100):\n",
    "    return pd.read_csv(file_path).iloc[:num_rows]\n",
    "\n",
    "# --- Visualization Settings ---\n",
    "def configure_plot_fonts(base_size=20):\n",
    "    plt.rcParams.update({\n",
    "        'font.size': base_size + 2,\n",
    "        'axes.titlesize': base_size + 4,\n",
    "        'axes.labelsize': base_size + 2,\n",
    "        'xtick.labelsize': base_size,\n",
    "        'ytick.labelsize': base_size,\n",
    "        'legend.fontsize': base_size\n",
    "    })\n",
    "\n",
    "def plot_metric_results(metrics_data, averages_data, metrics_classes):\n",
    "    \"\"\"Visualize line plots and heatmaps for each metric.\"\"\"\n",
    "    num_metrics = len(metrics_data)\n",
    "    fig, axs = plt.subplots(2, num_metrics, figsize=(6 * num_metrics, 10), sharey='row')\n",
    "    axs = np.array(axs).reshape(2, num_metrics)\n",
    "\n",
    "    timesteps = range(1, len(metrics_data[0][0]) + 1)\n",
    "\n",
    "    for i, (top_ax, bottom_ax, sim_avg, (data, labels, label_pos), metric_cls) in enumerate(zip(\n",
    "        axs[0], axs[1], averages_data, metrics_data, metrics_classes\n",
    "    )):\n",
    "        *individual_avgs, avg_all = sim_avg\n",
    "\n",
    "        # Line plot\n",
    "        for avg in individual_avgs:\n",
    "            top_ax.plot(timesteps, avg, color='gray', linestyle='--', marker='o', alpha=0.7)\n",
    "        top_ax.plot(timesteps, avg_all, color='red', marker='o', linewidth=2)\n",
    "        top_ax.set_title(metric_cls.__name__)\n",
    "        top_ax.set_xticklabels([])\n",
    "        if i == 0:\n",
    "            top_ax.set_ylabel(\"Average Value\")\n",
    "        else:\n",
    "            top_ax.set_yticklabels([])\n",
    "        top_ax.grid(True)\n",
    "\n",
    "        # Heatmap\n",
    "        cax = bottom_ax.imshow(data.T, aspect='auto', cmap='viridis', origin='lower')\n",
    "        bottom_ax.set_xlabel(\"Time\")\n",
    "        bottom_ax.set_xticks(range(data.shape[0]))\n",
    "        bottom_ax.set_xticklabels(range(data.shape[0]))\n",
    "        if i == 0:\n",
    "            bottom_ax.set_ylabel(\"Order\")\n",
    "            bottom_ax.set_yticks(list(label_pos.values()))\n",
    "            bottom_ax.set_yticklabels(labels)\n",
    "\n",
    "    plt.tight_layout(h_pad=0.1)\n",
    "    plt.show()\n",
    "\n",
    "# --- Main Execution ---\n",
    "def main(data_dir, metrics_classes=[InfoTopo, TC, Oinfo], timeseries_percentage=1, window_percentage=0.5, step_percentage=0.1):\n",
    "    files = load_csv_files_from_directory(data_dir)\n",
    "\n",
    "    metric_results = []\n",
    "    for metric in metrics_classes:\n",
    "        all_sims = []\n",
    "        for file_path in files:\n",
    "            df = read_and_trim_csv(file_path)\n",
    "            df_length = int(timeseries_percentage * len(df))\n",
    "            df = df[:df_length]\n",
    "            window = int(window_percentage * len(df))\n",
    "            step = int(step_percentage * len(df))\n",
    "            sim_result = sliding_window_analysis(metric, df, window, step)\n",
    "            all_sims.append(sim_result)\n",
    "        metric_results.append(all_sims)\n",
    "\n",
    "    heatmap_data = [average_metric_data(m) for m in metric_results]\n",
    "    averages_data = [compute_simulation_averages(m) for m in metric_results]\n",
    "\n",
    "    heatmap_path = os.path.join(data_dir, \"heatmap_data.pkl\")\n",
    "    averages_path = os.path.join(data_dir, \"averages_data.pkl\")\n",
    "\n",
    "    with open(heatmap_path, \"wb\") as f:\n",
    "        pickle.dump(heatmap_data, f)\n",
    "\n",
    "    with open(averages_path, \"wb\") as f:\n",
    "        pickle.dump(averages_data, f)"
   ]
  },
  {
   "cell_type": "markdown",
   "id": "a962e7f0",
   "metadata": {},
   "source": [
    "Check the length of the timeseries in the desired dataset"
   ]
  },
  {
   "cell_type": "code",
   "execution_count": null,
   "id": "645d44be",
   "metadata": {},
   "outputs": [],
   "source": [
    "directory = r'Data\\Artificial_data\\Redundant_timeseries'\n",
    "csv_files = glob.glob(os.path.join(directory, '*.csv'))\n",
    "df = pd.read_csv(csv_files[0])\n",
    "len(df)"
   ]
  },
  {
   "cell_type": "markdown",
   "id": "f86ae139",
   "metadata": {},
   "source": [
    "Compute and store the desired metrics"
   ]
  },
  {
   "cell_type": "code",
   "execution_count": 4,
   "id": "5b66672a",
   "metadata": {},
   "outputs": [
    {
     "name": "stderr",
     "output_type": "stream",
     "text": [
      "Compute entropy with gc\n",
      "    Copnorm and demean the data\n",
      "Get list of multiplets\n"
     ]
    },
    {
     "data": {
      "application/vnd.jupyter.widget-view+json": {
       "model_id": "c31f161900f043aa95f084941afb6da8",
       "version_major": 2,
       "version_minor": 0
      },
      "text/plain": [
       "  0%|          |  0/4 [00:00<?,       ?it/s]"
      ]
     },
     "metadata": {},
     "output_type": "display_data"
    },
    {
     "name": "stderr",
     "output_type": "stream",
     "text": [
      "Get list of multiplets\n"
     ]
    },
    {
     "data": {
      "application/vnd.jupyter.widget-view+json": {
       "model_id": "df1a0d93006245cf95d6fcca89ccc0df",
       "version_major": 2,
       "version_minor": 0
      },
      "text/plain": [
       "  0%|          | 0/375 [00:00<?, ?it/s]"
      ]
     },
     "metadata": {},
     "output_type": "display_data"
    },
    {
     "name": "stderr",
     "output_type": "stream",
     "text": [
      "Compute entropy with gc\n",
      "    Copnorm and demean the data\n",
      "Get list of multiplets\n"
     ]
    },
    {
     "data": {
      "application/vnd.jupyter.widget-view+json": {
       "model_id": "5ee6bf9681c6438bbe0940a6d1b52ad6",
       "version_major": 2,
       "version_minor": 0
      },
      "text/plain": [
       "  0%|          |  0/4 [00:00<?,       ?it/s]"
      ]
     },
     "metadata": {},
     "output_type": "display_data"
    },
    {
     "name": "stderr",
     "output_type": "stream",
     "text": [
      "Get list of multiplets\n"
     ]
    },
    {
     "data": {
      "application/vnd.jupyter.widget-view+json": {
       "model_id": "153262bdc4f347e882277cc60c437c1c",
       "version_major": 2,
       "version_minor": 0
      },
      "text/plain": [
       "  0%|          | 0/375 [00:00<?, ?it/s]"
      ]
     },
     "metadata": {},
     "output_type": "display_data"
    },
    {
     "name": "stderr",
     "output_type": "stream",
     "text": [
      "Compute entropy with gc\n",
      "    Copnorm and demean the data\n",
      "Get list of multiplets\n"
     ]
    },
    {
     "data": {
      "application/vnd.jupyter.widget-view+json": {
       "model_id": "c55dc9283bee4175bb757533a43f4028",
       "version_major": 2,
       "version_minor": 0
      },
      "text/plain": [
       "  0%|          |  0/4 [00:00<?,       ?it/s]"
      ]
     },
     "metadata": {},
     "output_type": "display_data"
    },
    {
     "name": "stderr",
     "output_type": "stream",
     "text": [
      "Get list of multiplets\n"
     ]
    },
    {
     "data": {
      "application/vnd.jupyter.widget-view+json": {
       "model_id": "c6c0ebedf2574169801a01db0a5b056a",
       "version_major": 2,
       "version_minor": 0
      },
      "text/plain": [
       "  0%|          | 0/375 [00:00<?, ?it/s]"
      ]
     },
     "metadata": {},
     "output_type": "display_data"
    },
    {
     "name": "stderr",
     "output_type": "stream",
     "text": [
      "Compute entropy with gc\n",
      "    Copnorm and demean the data\n",
      "Get list of multiplets\n"
     ]
    },
    {
     "data": {
      "application/vnd.jupyter.widget-view+json": {
       "model_id": "53c71ffaccbf4ddb87718d28527dbb39",
       "version_major": 2,
       "version_minor": 0
      },
      "text/plain": [
       "  0%|          |  0/4 [00:00<?,       ?it/s]"
      ]
     },
     "metadata": {},
     "output_type": "display_data"
    },
    {
     "name": "stderr",
     "output_type": "stream",
     "text": [
      "Get list of multiplets\n"
     ]
    },
    {
     "data": {
      "application/vnd.jupyter.widget-view+json": {
       "model_id": "617c65afe73d410c95b8b255b62ef976",
       "version_major": 2,
       "version_minor": 0
      },
      "text/plain": [
       "  0%|          | 0/375 [00:00<?, ?it/s]"
      ]
     },
     "metadata": {},
     "output_type": "display_data"
    },
    {
     "name": "stderr",
     "output_type": "stream",
     "text": [
      "Compute entropy with gc\n",
      "    Copnorm and demean the data\n",
      "Get list of multiplets\n"
     ]
    },
    {
     "data": {
      "application/vnd.jupyter.widget-view+json": {
       "model_id": "af8cfa01dd6c4d9dba0b436548174585",
       "version_major": 2,
       "version_minor": 0
      },
      "text/plain": [
       "  0%|          |  0/4 [00:00<?,       ?it/s]"
      ]
     },
     "metadata": {},
     "output_type": "display_data"
    },
    {
     "name": "stderr",
     "output_type": "stream",
     "text": [
      "Get list of multiplets\n"
     ]
    },
    {
     "data": {
      "application/vnd.jupyter.widget-view+json": {
       "model_id": "a473b67a2dcd498298887e119729bcc6",
       "version_major": 2,
       "version_minor": 0
      },
      "text/plain": [
       "  0%|          | 0/375 [00:00<?, ?it/s]"
      ]
     },
     "metadata": {},
     "output_type": "display_data"
    },
    {
     "name": "stderr",
     "output_type": "stream",
     "text": [
      "Compute entropy with gc\n",
      "    Copnorm and demean the data\n",
      "Get list of multiplets\n"
     ]
    },
    {
     "data": {
      "application/vnd.jupyter.widget-view+json": {
       "model_id": "41bd146f02574bfeacc6632b9c92a365",
       "version_major": 2,
       "version_minor": 0
      },
      "text/plain": [
       "  0%|          |  0/4 [00:00<?,       ?it/s]"
      ]
     },
     "metadata": {},
     "output_type": "display_data"
    },
    {
     "name": "stderr",
     "output_type": "stream",
     "text": [
      "Get list of multiplets\n"
     ]
    },
    {
     "data": {
      "application/vnd.jupyter.widget-view+json": {
       "model_id": "082154f5da354325a7b58c8244ddf738",
       "version_major": 2,
       "version_minor": 0
      },
      "text/plain": [
       "  0%|          | 0/375 [00:00<?, ?it/s]"
      ]
     },
     "metadata": {},
     "output_type": "display_data"
    },
    {
     "name": "stderr",
     "output_type": "stream",
     "text": [
      "Compute entropy with gc\n",
      "    Copnorm and demean the data\n",
      "Get list of multiplets\n"
     ]
    },
    {
     "data": {
      "application/vnd.jupyter.widget-view+json": {
       "model_id": "a3452a3ec2e0483cba4826eb85ddfee3",
       "version_major": 2,
       "version_minor": 0
      },
      "text/plain": [
       "  0%|          |  0/4 [00:00<?,       ?it/s]"
      ]
     },
     "metadata": {},
     "output_type": "display_data"
    },
    {
     "name": "stderr",
     "output_type": "stream",
     "text": [
      "Get list of multiplets\n"
     ]
    },
    {
     "data": {
      "application/vnd.jupyter.widget-view+json": {
       "model_id": "eed2dcc90e284c83b23750c6bcb2fc42",
       "version_major": 2,
       "version_minor": 0
      },
      "text/plain": [
       "  0%|          | 0/375 [00:00<?, ?it/s]"
      ]
     },
     "metadata": {},
     "output_type": "display_data"
    },
    {
     "name": "stderr",
     "output_type": "stream",
     "text": [
      "Compute entropy with gc\n",
      "    Copnorm and demean the data\n",
      "Get list of multiplets\n"
     ]
    },
    {
     "data": {
      "application/vnd.jupyter.widget-view+json": {
       "model_id": "0875790eec404a68917668219ae10cd2",
       "version_major": 2,
       "version_minor": 0
      },
      "text/plain": [
       "  0%|          |  0/4 [00:00<?,       ?it/s]"
      ]
     },
     "metadata": {},
     "output_type": "display_data"
    },
    {
     "name": "stderr",
     "output_type": "stream",
     "text": [
      "Get list of multiplets\n"
     ]
    },
    {
     "data": {
      "application/vnd.jupyter.widget-view+json": {
       "model_id": "085bbdc124694c10b72523a17ebca346",
       "version_major": 2,
       "version_minor": 0
      },
      "text/plain": [
       "  0%|          | 0/375 [00:00<?, ?it/s]"
      ]
     },
     "metadata": {},
     "output_type": "display_data"
    },
    {
     "name": "stderr",
     "output_type": "stream",
     "text": [
      "Compute entropy with gc\n",
      "    Copnorm and demean the data\n",
      "Get list of multiplets\n"
     ]
    },
    {
     "data": {
      "application/vnd.jupyter.widget-view+json": {
       "model_id": "c2b68ec3386641119949aa0065825992",
       "version_major": 2,
       "version_minor": 0
      },
      "text/plain": [
       "  0%|          |  0/4 [00:00<?,       ?it/s]"
      ]
     },
     "metadata": {},
     "output_type": "display_data"
    },
    {
     "name": "stderr",
     "output_type": "stream",
     "text": [
      "Get list of multiplets\n"
     ]
    },
    {
     "data": {
      "application/vnd.jupyter.widget-view+json": {
       "model_id": "1d7f162a98a940e6ad867758bb1314cf",
       "version_major": 2,
       "version_minor": 0
      },
      "text/plain": [
       "  0%|          | 0/375 [00:00<?, ?it/s]"
      ]
     },
     "metadata": {},
     "output_type": "display_data"
    },
    {
     "name": "stderr",
     "output_type": "stream",
     "text": [
      "Compute entropy with gc\n",
      "    Copnorm and demean the data\n",
      "Get list of multiplets\n"
     ]
    },
    {
     "data": {
      "application/vnd.jupyter.widget-view+json": {
       "model_id": "fcf2366f6c7443e09b43164f6078df7f",
       "version_major": 2,
       "version_minor": 0
      },
      "text/plain": [
       "  0%|          |  0/4 [00:00<?,       ?it/s]"
      ]
     },
     "metadata": {},
     "output_type": "display_data"
    },
    {
     "name": "stderr",
     "output_type": "stream",
     "text": [
      "Get list of multiplets\n"
     ]
    },
    {
     "data": {
      "application/vnd.jupyter.widget-view+json": {
       "model_id": "61b74e5fe8664d05b577e38c6561d013",
       "version_major": 2,
       "version_minor": 0
      },
      "text/plain": [
       "  0%|          | 0/375 [00:00<?, ?it/s]"
      ]
     },
     "metadata": {},
     "output_type": "display_data"
    },
    {
     "name": "stderr",
     "output_type": "stream",
     "text": [
      "Compute entropy with gc\n",
      "    Copnorm and demean the data\n",
      "Get list of multiplets\n"
     ]
    },
    {
     "data": {
      "application/vnd.jupyter.widget-view+json": {
       "model_id": "2f6247453b574acb967812f8a71a2bf8",
       "version_major": 2,
       "version_minor": 0
      },
      "text/plain": [
       "  0%|          |  0/4 [00:00<?,       ?it/s]"
      ]
     },
     "metadata": {},
     "output_type": "display_data"
    },
    {
     "name": "stderr",
     "output_type": "stream",
     "text": [
      "Get list of multiplets\n"
     ]
    },
    {
     "data": {
      "application/vnd.jupyter.widget-view+json": {
       "model_id": "5914eea559794d1d818a00560ff8c145",
       "version_major": 2,
       "version_minor": 0
      },
      "text/plain": [
       "  0%|          | 0/375 [00:00<?, ?it/s]"
      ]
     },
     "metadata": {},
     "output_type": "display_data"
    },
    {
     "name": "stderr",
     "output_type": "stream",
     "text": [
      "Compute entropy with gc\n",
      "    Copnorm and demean the data\n",
      "Get list of multiplets\n"
     ]
    },
    {
     "data": {
      "application/vnd.jupyter.widget-view+json": {
       "model_id": "edd9f127a1504a2795f18d9b5394a853",
       "version_major": 2,
       "version_minor": 0
      },
      "text/plain": [
       "  0%|          |  0/4 [00:00<?,       ?it/s]"
      ]
     },
     "metadata": {},
     "output_type": "display_data"
    },
    {
     "name": "stderr",
     "output_type": "stream",
     "text": [
      "Get list of multiplets\n"
     ]
    },
    {
     "data": {
      "application/vnd.jupyter.widget-view+json": {
       "model_id": "57fa39c9a9234bb6bafcb9a75d546469",
       "version_major": 2,
       "version_minor": 0
      },
      "text/plain": [
       "  0%|          | 0/375 [00:00<?, ?it/s]"
      ]
     },
     "metadata": {},
     "output_type": "display_data"
    },
    {
     "name": "stderr",
     "output_type": "stream",
     "text": [
      "Compute entropy with gc\n",
      "    Copnorm and demean the data\n",
      "Get list of multiplets\n"
     ]
    },
    {
     "data": {
      "application/vnd.jupyter.widget-view+json": {
       "model_id": "4562929cff5a4390a63f6e9b12ed7c5b",
       "version_major": 2,
       "version_minor": 0
      },
      "text/plain": [
       "  0%|          |  0/4 [00:00<?,       ?it/s]"
      ]
     },
     "metadata": {},
     "output_type": "display_data"
    },
    {
     "name": "stderr",
     "output_type": "stream",
     "text": [
      "Get list of multiplets\n"
     ]
    },
    {
     "data": {
      "application/vnd.jupyter.widget-view+json": {
       "model_id": "a1a79f074b5b44a1a300303a4acd4cab",
       "version_major": 2,
       "version_minor": 0
      },
      "text/plain": [
       "  0%|          | 0/375 [00:00<?, ?it/s]"
      ]
     },
     "metadata": {},
     "output_type": "display_data"
    },
    {
     "name": "stderr",
     "output_type": "stream",
     "text": [
      "Compute entropy with gc\n",
      "    Copnorm and demean the data\n",
      "Get list of multiplets\n"
     ]
    },
    {
     "data": {
      "application/vnd.jupyter.widget-view+json": {
       "model_id": "6669e7aaf64d48ce82d6290384f3ceb4",
       "version_major": 2,
       "version_minor": 0
      },
      "text/plain": [
       "  0%|          |  0/4 [00:00<?,       ?it/s]"
      ]
     },
     "metadata": {},
     "output_type": "display_data"
    },
    {
     "name": "stderr",
     "output_type": "stream",
     "text": [
      "Get list of multiplets\n"
     ]
    },
    {
     "data": {
      "application/vnd.jupyter.widget-view+json": {
       "model_id": "aa0983ab0da64230be5a392ed5a24369",
       "version_major": 2,
       "version_minor": 0
      },
      "text/plain": [
       "  0%|          | 0/375 [00:00<?, ?it/s]"
      ]
     },
     "metadata": {},
     "output_type": "display_data"
    },
    {
     "name": "stderr",
     "output_type": "stream",
     "text": [
      "Compute entropy with gc\n",
      "    Copnorm and demean the data\n",
      "Get list of multiplets\n"
     ]
    },
    {
     "data": {
      "application/vnd.jupyter.widget-view+json": {
       "model_id": "7003e23b54384118ba0794920b9fb7ef",
       "version_major": 2,
       "version_minor": 0
      },
      "text/plain": [
       "  0%|          |  0/4 [00:00<?,       ?it/s]"
      ]
     },
     "metadata": {},
     "output_type": "display_data"
    },
    {
     "name": "stderr",
     "output_type": "stream",
     "text": [
      "Get list of multiplets\n"
     ]
    },
    {
     "data": {
      "application/vnd.jupyter.widget-view+json": {
       "model_id": "c843c197420e42ccba54c4eaa5542ad0",
       "version_major": 2,
       "version_minor": 0
      },
      "text/plain": [
       "  0%|          | 0/375 [00:00<?, ?it/s]"
      ]
     },
     "metadata": {},
     "output_type": "display_data"
    },
    {
     "name": "stderr",
     "output_type": "stream",
     "text": [
      "Compute entropy with gc\n",
      "    Copnorm and demean the data\n",
      "Get list of multiplets\n"
     ]
    },
    {
     "data": {
      "application/vnd.jupyter.widget-view+json": {
       "model_id": "4768b72b1e044acc96163c467622b099",
       "version_major": 2,
       "version_minor": 0
      },
      "text/plain": [
       "  0%|          |  0/4 [00:00<?,       ?it/s]"
      ]
     },
     "metadata": {},
     "output_type": "display_data"
    },
    {
     "name": "stderr",
     "output_type": "stream",
     "text": [
      "Get list of multiplets\n"
     ]
    },
    {
     "data": {
      "application/vnd.jupyter.widget-view+json": {
       "model_id": "99870d4830194b21ad3e6b7caa8906fe",
       "version_major": 2,
       "version_minor": 0
      },
      "text/plain": [
       "  0%|          | 0/375 [00:00<?, ?it/s]"
      ]
     },
     "metadata": {},
     "output_type": "display_data"
    },
    {
     "name": "stderr",
     "output_type": "stream",
     "text": [
      "Compute entropy with gc\n",
      "    Copnorm and demean the data\n",
      "Get list of multiplets\n"
     ]
    },
    {
     "data": {
      "application/vnd.jupyter.widget-view+json": {
       "model_id": "839247fd59494bb7a9af04ceefe52825",
       "version_major": 2,
       "version_minor": 0
      },
      "text/plain": [
       "  0%|          |  0/4 [00:00<?,       ?it/s]"
      ]
     },
     "metadata": {},
     "output_type": "display_data"
    },
    {
     "name": "stderr",
     "output_type": "stream",
     "text": [
      "Get list of multiplets\n"
     ]
    },
    {
     "data": {
      "application/vnd.jupyter.widget-view+json": {
       "model_id": "eed5c482ef4b41bbb970124b2eaf988a",
       "version_major": 2,
       "version_minor": 0
      },
      "text/plain": [
       "  0%|          | 0/375 [00:00<?, ?it/s]"
      ]
     },
     "metadata": {},
     "output_type": "display_data"
    },
    {
     "name": "stderr",
     "output_type": "stream",
     "text": [
      "Compute entropy with gc\n",
      "    Copnorm and demean the data\n",
      "Get list of multiplets\n"
     ]
    },
    {
     "data": {
      "application/vnd.jupyter.widget-view+json": {
       "model_id": "e147ba5cc3c34b89a26ba6b46f3aff57",
       "version_major": 2,
       "version_minor": 0
      },
      "text/plain": [
       "  0%|          |  0/4 [00:00<?,       ?it/s]"
      ]
     },
     "metadata": {},
     "output_type": "display_data"
    },
    {
     "name": "stderr",
     "output_type": "stream",
     "text": [
      "Get list of multiplets\n"
     ]
    },
    {
     "data": {
      "application/vnd.jupyter.widget-view+json": {
       "model_id": "efb809c9b3364784ba1e7f5abd983209",
       "version_major": 2,
       "version_minor": 0
      },
      "text/plain": [
       "  0%|          | 0/375 [00:00<?, ?it/s]"
      ]
     },
     "metadata": {},
     "output_type": "display_data"
    },
    {
     "name": "stderr",
     "output_type": "stream",
     "text": [
      "Compute entropy with gc\n",
      "    Copnorm and demean the data\n",
      "Get list of multiplets\n"
     ]
    },
    {
     "data": {
      "application/vnd.jupyter.widget-view+json": {
       "model_id": "c0cda7b58a88458f82a0cc4489a138a1",
       "version_major": 2,
       "version_minor": 0
      },
      "text/plain": [
       "  0%|          |  0/4 [00:00<?,       ?it/s]"
      ]
     },
     "metadata": {},
     "output_type": "display_data"
    },
    {
     "name": "stderr",
     "output_type": "stream",
     "text": [
      "Get list of multiplets\n"
     ]
    },
    {
     "data": {
      "application/vnd.jupyter.widget-view+json": {
       "model_id": "bed47a38f78e4d41ae21ca59556befca",
       "version_major": 2,
       "version_minor": 0
      },
      "text/plain": [
       "  0%|          | 0/375 [00:00<?, ?it/s]"
      ]
     },
     "metadata": {},
     "output_type": "display_data"
    },
    {
     "name": "stderr",
     "output_type": "stream",
     "text": [
      "Compute entropy with gc\n",
      "    Copnorm and demean the data\n",
      "Get list of multiplets\n"
     ]
    },
    {
     "data": {
      "application/vnd.jupyter.widget-view+json": {
       "model_id": "6164b5fe7e1247219f5a426646478e57",
       "version_major": 2,
       "version_minor": 0
      },
      "text/plain": [
       "  0%|          |  0/4 [00:00<?,       ?it/s]"
      ]
     },
     "metadata": {},
     "output_type": "display_data"
    },
    {
     "name": "stderr",
     "output_type": "stream",
     "text": [
      "Get list of multiplets\n"
     ]
    },
    {
     "data": {
      "application/vnd.jupyter.widget-view+json": {
       "model_id": "620fa115a75c4aabb2d1e7308b21cb29",
       "version_major": 2,
       "version_minor": 0
      },
      "text/plain": [
       "  0%|          | 0/375 [00:00<?, ?it/s]"
      ]
     },
     "metadata": {},
     "output_type": "display_data"
    },
    {
     "name": "stderr",
     "output_type": "stream",
     "text": [
      "Compute entropy with gc\n",
      "    Copnorm and demean the data\n",
      "Get list of multiplets\n"
     ]
    },
    {
     "data": {
      "application/vnd.jupyter.widget-view+json": {
       "model_id": "516451ab90bc4944a3a4f55b0b1072d3",
       "version_major": 2,
       "version_minor": 0
      },
      "text/plain": [
       "  0%|          |  0/4 [00:00<?,       ?it/s]"
      ]
     },
     "metadata": {},
     "output_type": "display_data"
    },
    {
     "name": "stderr",
     "output_type": "stream",
     "text": [
      "Get list of multiplets\n"
     ]
    },
    {
     "data": {
      "application/vnd.jupyter.widget-view+json": {
       "model_id": "9accf5d800a240d5a5ce45d777c00e67",
       "version_major": 2,
       "version_minor": 0
      },
      "text/plain": [
       "  0%|          | 0/375 [00:00<?, ?it/s]"
      ]
     },
     "metadata": {},
     "output_type": "display_data"
    },
    {
     "name": "stderr",
     "output_type": "stream",
     "text": [
      "Compute entropy with gc\n",
      "    Copnorm and demean the data\n",
      "Get list of multiplets\n"
     ]
    },
    {
     "data": {
      "application/vnd.jupyter.widget-view+json": {
       "model_id": "2342ca6975fe41aab98cb0cb11706e5f",
       "version_major": 2,
       "version_minor": 0
      },
      "text/plain": [
       "  0%|          |  0/4 [00:00<?,       ?it/s]"
      ]
     },
     "metadata": {},
     "output_type": "display_data"
    },
    {
     "name": "stderr",
     "output_type": "stream",
     "text": [
      "Get list of multiplets\n"
     ]
    },
    {
     "data": {
      "application/vnd.jupyter.widget-view+json": {
       "model_id": "bf0a041990ec47c6a632dbc5d469fd83",
       "version_major": 2,
       "version_minor": 0
      },
      "text/plain": [
       "  0%|          | 0/375 [00:00<?, ?it/s]"
      ]
     },
     "metadata": {},
     "output_type": "display_data"
    },
    {
     "name": "stderr",
     "output_type": "stream",
     "text": [
      "Compute entropy with gc\n",
      "    Copnorm and demean the data\n",
      "Get list of multiplets\n"
     ]
    },
    {
     "data": {
      "application/vnd.jupyter.widget-view+json": {
       "model_id": "f19eaf8e132a444da40c7d5af583beeb",
       "version_major": 2,
       "version_minor": 0
      },
      "text/plain": [
       "  0%|          |  0/4 [00:00<?,       ?it/s]"
      ]
     },
     "metadata": {},
     "output_type": "display_data"
    },
    {
     "name": "stderr",
     "output_type": "stream",
     "text": [
      "Get list of multiplets\n"
     ]
    },
    {
     "data": {
      "application/vnd.jupyter.widget-view+json": {
       "model_id": "1c88ce5740124990bf7aa5b7e348faca",
       "version_major": 2,
       "version_minor": 0
      },
      "text/plain": [
       "  0%|          | 0/375 [00:00<?, ?it/s]"
      ]
     },
     "metadata": {},
     "output_type": "display_data"
    },
    {
     "name": "stderr",
     "output_type": "stream",
     "text": [
      "Compute entropy with gc\n",
      "    Copnorm and demean the data\n",
      "Get list of multiplets\n"
     ]
    },
    {
     "data": {
      "application/vnd.jupyter.widget-view+json": {
       "model_id": "d9f26256980b42548f7a94b940a33972",
       "version_major": 2,
       "version_minor": 0
      },
      "text/plain": [
       "  0%|          |  0/4 [00:00<?,       ?it/s]"
      ]
     },
     "metadata": {},
     "output_type": "display_data"
    },
    {
     "name": "stderr",
     "output_type": "stream",
     "text": [
      "Get list of multiplets\n"
     ]
    },
    {
     "data": {
      "application/vnd.jupyter.widget-view+json": {
       "model_id": "534505156e34455ca3b86ebe63b93a1b",
       "version_major": 2,
       "version_minor": 0
      },
      "text/plain": [
       "  0%|          | 0/375 [00:00<?, ?it/s]"
      ]
     },
     "metadata": {},
     "output_type": "display_data"
    },
    {
     "name": "stderr",
     "output_type": "stream",
     "text": [
      "Compute entropy with gc\n",
      "    Copnorm and demean the data\n",
      "Get list of multiplets\n"
     ]
    },
    {
     "data": {
      "application/vnd.jupyter.widget-view+json": {
       "model_id": "f945dd2524cf4f088209f3ead03e0c0b",
       "version_major": 2,
       "version_minor": 0
      },
      "text/plain": [
       "  0%|          |  0/4 [00:00<?,       ?it/s]"
      ]
     },
     "metadata": {},
     "output_type": "display_data"
    },
    {
     "name": "stderr",
     "output_type": "stream",
     "text": [
      "Get list of multiplets\n"
     ]
    },
    {
     "data": {
      "application/vnd.jupyter.widget-view+json": {
       "model_id": "c305033fc4c24f8c9d20d9721d23678f",
       "version_major": 2,
       "version_minor": 0
      },
      "text/plain": [
       "  0%|          | 0/375 [00:00<?, ?it/s]"
      ]
     },
     "metadata": {},
     "output_type": "display_data"
    },
    {
     "name": "stderr",
     "output_type": "stream",
     "text": [
      "Compute entropy with gc\n",
      "    Copnorm and demean the data\n",
      "Get list of multiplets\n"
     ]
    },
    {
     "data": {
      "application/vnd.jupyter.widget-view+json": {
       "model_id": "b0c4100049794a049594954e2f2b373c",
       "version_major": 2,
       "version_minor": 0
      },
      "text/plain": [
       "  0%|          |  0/4 [00:00<?,       ?it/s]"
      ]
     },
     "metadata": {},
     "output_type": "display_data"
    },
    {
     "name": "stderr",
     "output_type": "stream",
     "text": [
      "Get list of multiplets\n"
     ]
    },
    {
     "data": {
      "application/vnd.jupyter.widget-view+json": {
       "model_id": "7af0534813294e899e8a8c950fc5533e",
       "version_major": 2,
       "version_minor": 0
      },
      "text/plain": [
       "  0%|          | 0/375 [00:00<?, ?it/s]"
      ]
     },
     "metadata": {},
     "output_type": "display_data"
    },
    {
     "name": "stderr",
     "output_type": "stream",
     "text": [
      "Compute entropy with gc\n",
      "    Copnorm and demean the data\n",
      "Get list of multiplets\n"
     ]
    },
    {
     "data": {
      "application/vnd.jupyter.widget-view+json": {
       "model_id": "daa15ea7f2c742b29c0e17e0ea4aa0fb",
       "version_major": 2,
       "version_minor": 0
      },
      "text/plain": [
       "  0%|          |  0/4 [00:00<?,       ?it/s]"
      ]
     },
     "metadata": {},
     "output_type": "display_data"
    },
    {
     "name": "stderr",
     "output_type": "stream",
     "text": [
      "Get list of multiplets\n"
     ]
    },
    {
     "data": {
      "application/vnd.jupyter.widget-view+json": {
       "model_id": "d0943702302b48dab452f12e195c55a8",
       "version_major": 2,
       "version_minor": 0
      },
      "text/plain": [
       "  0%|          | 0/375 [00:00<?, ?it/s]"
      ]
     },
     "metadata": {},
     "output_type": "display_data"
    },
    {
     "name": "stderr",
     "output_type": "stream",
     "text": [
      "Compute entropy with gc\n",
      "    Copnorm and demean the data\n",
      "Get list of multiplets\n"
     ]
    },
    {
     "data": {
      "application/vnd.jupyter.widget-view+json": {
       "model_id": "d177a444485a4a35b7d0b3814ca6ae1a",
       "version_major": 2,
       "version_minor": 0
      },
      "text/plain": [
       "  0%|          |  0/4 [00:00<?,       ?it/s]"
      ]
     },
     "metadata": {},
     "output_type": "display_data"
    },
    {
     "name": "stderr",
     "output_type": "stream",
     "text": [
      "Get list of multiplets\n"
     ]
    },
    {
     "data": {
      "application/vnd.jupyter.widget-view+json": {
       "model_id": "9e08f555c82c4d6e9feff1d19fbc78bc",
       "version_major": 2,
       "version_minor": 0
      },
      "text/plain": [
       "  0%|          | 0/375 [00:00<?, ?it/s]"
      ]
     },
     "metadata": {},
     "output_type": "display_data"
    },
    {
     "name": "stderr",
     "output_type": "stream",
     "text": [
      "Compute entropy with gc\n",
      "    Copnorm and demean the data\n",
      "Get list of multiplets\n"
     ]
    },
    {
     "data": {
      "application/vnd.jupyter.widget-view+json": {
       "model_id": "fa608b5b443542dba4330b43b3593569",
       "version_major": 2,
       "version_minor": 0
      },
      "text/plain": [
       "  0%|          |  0/4 [00:00<?,       ?it/s]"
      ]
     },
     "metadata": {},
     "output_type": "display_data"
    },
    {
     "name": "stderr",
     "output_type": "stream",
     "text": [
      "Get list of multiplets\n"
     ]
    },
    {
     "data": {
      "application/vnd.jupyter.widget-view+json": {
       "model_id": "a5f7f4e78702465ebf4e9d2a7133e7b7",
       "version_major": 2,
       "version_minor": 0
      },
      "text/plain": [
       "  0%|          | 0/375 [00:00<?, ?it/s]"
      ]
     },
     "metadata": {},
     "output_type": "display_data"
    },
    {
     "name": "stderr",
     "output_type": "stream",
     "text": [
      "Compute entropy with gc\n",
      "    Copnorm and demean the data\n",
      "Get list of multiplets\n"
     ]
    },
    {
     "data": {
      "application/vnd.jupyter.widget-view+json": {
       "model_id": "743943480bda4e6db07b208f9e68119b",
       "version_major": 2,
       "version_minor": 0
      },
      "text/plain": [
       "  0%|          |  0/4 [00:00<?,       ?it/s]"
      ]
     },
     "metadata": {},
     "output_type": "display_data"
    },
    {
     "name": "stderr",
     "output_type": "stream",
     "text": [
      "Get list of multiplets\n"
     ]
    },
    {
     "data": {
      "application/vnd.jupyter.widget-view+json": {
       "model_id": "0d1a0a0e46874acba0609fb73cf47662",
       "version_major": 2,
       "version_minor": 0
      },
      "text/plain": [
       "  0%|          | 0/375 [00:00<?, ?it/s]"
      ]
     },
     "metadata": {},
     "output_type": "display_data"
    },
    {
     "name": "stderr",
     "output_type": "stream",
     "text": [
      "    Copnorm and demean the data\n",
      "Get list of multiplets\n"
     ]
    },
    {
     "data": {
      "application/vnd.jupyter.widget-view+json": {
       "model_id": "1e7f317fcaf44efc8aa7610b4eecef78",
       "version_major": 2,
       "version_minor": 0
      },
      "text/plain": [
       "  0%|          |  0/3 [00:00<?,       ?it/s]"
      ]
     },
     "metadata": {},
     "output_type": "display_data"
    },
    {
     "name": "stderr",
     "output_type": "stream",
     "text": [
      "    Copnorm and demean the data\n",
      "Get list of multiplets\n"
     ]
    },
    {
     "data": {
      "application/vnd.jupyter.widget-view+json": {
       "model_id": "42372cadc1e74976bbe3341fec6a1c1b",
       "version_major": 2,
       "version_minor": 0
      },
      "text/plain": [
       "  0%|          |  0/3 [00:00<?,       ?it/s]"
      ]
     },
     "metadata": {},
     "output_type": "display_data"
    },
    {
     "name": "stderr",
     "output_type": "stream",
     "text": [
      "    Copnorm and demean the data\n",
      "Get list of multiplets\n"
     ]
    },
    {
     "data": {
      "application/vnd.jupyter.widget-view+json": {
       "model_id": "9d0c0b17a5134002bfc9e9b95a2a0a7f",
       "version_major": 2,
       "version_minor": 0
      },
      "text/plain": [
       "  0%|          |  0/3 [00:00<?,       ?it/s]"
      ]
     },
     "metadata": {},
     "output_type": "display_data"
    },
    {
     "name": "stderr",
     "output_type": "stream",
     "text": [
      "    Copnorm and demean the data\n",
      "Get list of multiplets\n"
     ]
    },
    {
     "data": {
      "application/vnd.jupyter.widget-view+json": {
       "model_id": "62723a7755324255840f8787a94a368e",
       "version_major": 2,
       "version_minor": 0
      },
      "text/plain": [
       "  0%|          |  0/3 [00:00<?,       ?it/s]"
      ]
     },
     "metadata": {},
     "output_type": "display_data"
    },
    {
     "name": "stderr",
     "output_type": "stream",
     "text": [
      "    Copnorm and demean the data\n",
      "Get list of multiplets\n"
     ]
    },
    {
     "data": {
      "application/vnd.jupyter.widget-view+json": {
       "model_id": "0edad8ffd53e4d2493b7a7a7d0c318f4",
       "version_major": 2,
       "version_minor": 0
      },
      "text/plain": [
       "  0%|          |  0/3 [00:00<?,       ?it/s]"
      ]
     },
     "metadata": {},
     "output_type": "display_data"
    },
    {
     "name": "stderr",
     "output_type": "stream",
     "text": [
      "    Copnorm and demean the data\n",
      "Get list of multiplets\n"
     ]
    },
    {
     "data": {
      "application/vnd.jupyter.widget-view+json": {
       "model_id": "5fa14e2fdc7b4bf0944290ce04c1ffeb",
       "version_major": 2,
       "version_minor": 0
      },
      "text/plain": [
       "  0%|          |  0/3 [00:00<?,       ?it/s]"
      ]
     },
     "metadata": {},
     "output_type": "display_data"
    },
    {
     "name": "stderr",
     "output_type": "stream",
     "text": [
      "    Copnorm and demean the data\n",
      "Get list of multiplets\n"
     ]
    },
    {
     "data": {
      "application/vnd.jupyter.widget-view+json": {
       "model_id": "49332cb912574a77a5a7e21da32a5604",
       "version_major": 2,
       "version_minor": 0
      },
      "text/plain": [
       "  0%|          |  0/3 [00:00<?,       ?it/s]"
      ]
     },
     "metadata": {},
     "output_type": "display_data"
    },
    {
     "name": "stderr",
     "output_type": "stream",
     "text": [
      "    Copnorm and demean the data\n",
      "Get list of multiplets\n"
     ]
    },
    {
     "data": {
      "application/vnd.jupyter.widget-view+json": {
       "model_id": "0f804e55c20c430fa7a4052423e9eb1d",
       "version_major": 2,
       "version_minor": 0
      },
      "text/plain": [
       "  0%|          |  0/3 [00:00<?,       ?it/s]"
      ]
     },
     "metadata": {},
     "output_type": "display_data"
    },
    {
     "name": "stderr",
     "output_type": "stream",
     "text": [
      "    Copnorm and demean the data\n",
      "Get list of multiplets\n"
     ]
    },
    {
     "data": {
      "application/vnd.jupyter.widget-view+json": {
       "model_id": "ee4d514db81c416984119832fd7a2b43",
       "version_major": 2,
       "version_minor": 0
      },
      "text/plain": [
       "  0%|          |  0/3 [00:00<?,       ?it/s]"
      ]
     },
     "metadata": {},
     "output_type": "display_data"
    },
    {
     "name": "stderr",
     "output_type": "stream",
     "text": [
      "    Copnorm and demean the data\n",
      "Get list of multiplets\n"
     ]
    },
    {
     "data": {
      "application/vnd.jupyter.widget-view+json": {
       "model_id": "321092db9bb7464d817deedaa18c5e0f",
       "version_major": 2,
       "version_minor": 0
      },
      "text/plain": [
       "  0%|          |  0/3 [00:00<?,       ?it/s]"
      ]
     },
     "metadata": {},
     "output_type": "display_data"
    },
    {
     "name": "stderr",
     "output_type": "stream",
     "text": [
      "    Copnorm and demean the data\n",
      "Get list of multiplets\n"
     ]
    },
    {
     "data": {
      "application/vnd.jupyter.widget-view+json": {
       "model_id": "0b5e279e83d84eebb4055df6172c6d3d",
       "version_major": 2,
       "version_minor": 0
      },
      "text/plain": [
       "  0%|          |  0/3 [00:00<?,       ?it/s]"
      ]
     },
     "metadata": {},
     "output_type": "display_data"
    },
    {
     "name": "stderr",
     "output_type": "stream",
     "text": [
      "    Copnorm and demean the data\n",
      "Get list of multiplets\n"
     ]
    },
    {
     "data": {
      "application/vnd.jupyter.widget-view+json": {
       "model_id": "1c9803fde77c4a669d30f6d3b618d102",
       "version_major": 2,
       "version_minor": 0
      },
      "text/plain": [
       "  0%|          |  0/3 [00:00<?,       ?it/s]"
      ]
     },
     "metadata": {},
     "output_type": "display_data"
    },
    {
     "name": "stderr",
     "output_type": "stream",
     "text": [
      "    Copnorm and demean the data\n",
      "Get list of multiplets\n"
     ]
    },
    {
     "data": {
      "application/vnd.jupyter.widget-view+json": {
       "model_id": "62436fbf60bb4258bb35f0af584628f1",
       "version_major": 2,
       "version_minor": 0
      },
      "text/plain": [
       "  0%|          |  0/3 [00:00<?,       ?it/s]"
      ]
     },
     "metadata": {},
     "output_type": "display_data"
    },
    {
     "name": "stderr",
     "output_type": "stream",
     "text": [
      "    Copnorm and demean the data\n",
      "Get list of multiplets\n"
     ]
    },
    {
     "data": {
      "application/vnd.jupyter.widget-view+json": {
       "model_id": "df58b81e288b4519a637c6bb1296fa68",
       "version_major": 2,
       "version_minor": 0
      },
      "text/plain": [
       "  0%|          |  0/3 [00:00<?,       ?it/s]"
      ]
     },
     "metadata": {},
     "output_type": "display_data"
    },
    {
     "name": "stderr",
     "output_type": "stream",
     "text": [
      "    Copnorm and demean the data\n",
      "Get list of multiplets\n"
     ]
    },
    {
     "data": {
      "application/vnd.jupyter.widget-view+json": {
       "model_id": "699d399bc0a74eb7a3215c901845fc59",
       "version_major": 2,
       "version_minor": 0
      },
      "text/plain": [
       "  0%|          |  0/3 [00:00<?,       ?it/s]"
      ]
     },
     "metadata": {},
     "output_type": "display_data"
    },
    {
     "name": "stderr",
     "output_type": "stream",
     "text": [
      "    Copnorm and demean the data\n",
      "Get list of multiplets\n"
     ]
    },
    {
     "data": {
      "application/vnd.jupyter.widget-view+json": {
       "model_id": "fd3ebc8edb424c6e9f1ec6abd22c1531",
       "version_major": 2,
       "version_minor": 0
      },
      "text/plain": [
       "  0%|          |  0/3 [00:00<?,       ?it/s]"
      ]
     },
     "metadata": {},
     "output_type": "display_data"
    },
    {
     "name": "stderr",
     "output_type": "stream",
     "text": [
      "    Copnorm and demean the data\n",
      "Get list of multiplets\n"
     ]
    },
    {
     "data": {
      "application/vnd.jupyter.widget-view+json": {
       "model_id": "5193f9a182ba40e38e3945e2e99f9729",
       "version_major": 2,
       "version_minor": 0
      },
      "text/plain": [
       "  0%|          |  0/3 [00:00<?,       ?it/s]"
      ]
     },
     "metadata": {},
     "output_type": "display_data"
    },
    {
     "name": "stderr",
     "output_type": "stream",
     "text": [
      "    Copnorm and demean the data\n",
      "Get list of multiplets\n"
     ]
    },
    {
     "data": {
      "application/vnd.jupyter.widget-view+json": {
       "model_id": "fa42332eb6854f119bf5cdeaf0be6f94",
       "version_major": 2,
       "version_minor": 0
      },
      "text/plain": [
       "  0%|          |  0/3 [00:00<?,       ?it/s]"
      ]
     },
     "metadata": {},
     "output_type": "display_data"
    },
    {
     "name": "stderr",
     "output_type": "stream",
     "text": [
      "    Copnorm and demean the data\n",
      "Get list of multiplets\n"
     ]
    },
    {
     "data": {
      "application/vnd.jupyter.widget-view+json": {
       "model_id": "e460eeaf0f8a4ffc9cea7c26e99da22a",
       "version_major": 2,
       "version_minor": 0
      },
      "text/plain": [
       "  0%|          |  0/3 [00:00<?,       ?it/s]"
      ]
     },
     "metadata": {},
     "output_type": "display_data"
    },
    {
     "name": "stderr",
     "output_type": "stream",
     "text": [
      "    Copnorm and demean the data\n",
      "Get list of multiplets\n"
     ]
    },
    {
     "data": {
      "application/vnd.jupyter.widget-view+json": {
       "model_id": "9b0ad4de42e84d449d994ce0604ade29",
       "version_major": 2,
       "version_minor": 0
      },
      "text/plain": [
       "  0%|          |  0/3 [00:00<?,       ?it/s]"
      ]
     },
     "metadata": {},
     "output_type": "display_data"
    },
    {
     "name": "stderr",
     "output_type": "stream",
     "text": [
      "    Copnorm and demean the data\n",
      "Get list of multiplets\n"
     ]
    },
    {
     "data": {
      "application/vnd.jupyter.widget-view+json": {
       "model_id": "020cea1b1bf24d0ca737fb4d710ebc3b",
       "version_major": 2,
       "version_minor": 0
      },
      "text/plain": [
       "  0%|          |  0/3 [00:00<?,       ?it/s]"
      ]
     },
     "metadata": {},
     "output_type": "display_data"
    },
    {
     "name": "stderr",
     "output_type": "stream",
     "text": [
      "    Copnorm and demean the data\n",
      "Get list of multiplets\n"
     ]
    },
    {
     "data": {
      "application/vnd.jupyter.widget-view+json": {
       "model_id": "43f9bd6ff218495b9eda8a4c8a6239f2",
       "version_major": 2,
       "version_minor": 0
      },
      "text/plain": [
       "  0%|          |  0/3 [00:00<?,       ?it/s]"
      ]
     },
     "metadata": {},
     "output_type": "display_data"
    },
    {
     "name": "stderr",
     "output_type": "stream",
     "text": [
      "    Copnorm and demean the data\n",
      "Get list of multiplets\n"
     ]
    },
    {
     "data": {
      "application/vnd.jupyter.widget-view+json": {
       "model_id": "9939c3d68bbc49d5817a72553cadfefa",
       "version_major": 2,
       "version_minor": 0
      },
      "text/plain": [
       "  0%|          |  0/3 [00:00<?,       ?it/s]"
      ]
     },
     "metadata": {},
     "output_type": "display_data"
    },
    {
     "name": "stderr",
     "output_type": "stream",
     "text": [
      "    Copnorm and demean the data\n",
      "Get list of multiplets\n"
     ]
    },
    {
     "data": {
      "application/vnd.jupyter.widget-view+json": {
       "model_id": "c7d7cf20c1ab4038809a7cfdc243d421",
       "version_major": 2,
       "version_minor": 0
      },
      "text/plain": [
       "  0%|          |  0/3 [00:00<?,       ?it/s]"
      ]
     },
     "metadata": {},
     "output_type": "display_data"
    },
    {
     "name": "stderr",
     "output_type": "stream",
     "text": [
      "    Copnorm and demean the data\n",
      "Get list of multiplets\n"
     ]
    },
    {
     "data": {
      "application/vnd.jupyter.widget-view+json": {
       "model_id": "234d753c5c164bd1b25952a9f96cc2fc",
       "version_major": 2,
       "version_minor": 0
      },
      "text/plain": [
       "  0%|          |  0/3 [00:00<?,       ?it/s]"
      ]
     },
     "metadata": {},
     "output_type": "display_data"
    },
    {
     "name": "stderr",
     "output_type": "stream",
     "text": [
      "    Copnorm and demean the data\n",
      "Get list of multiplets\n"
     ]
    },
    {
     "data": {
      "application/vnd.jupyter.widget-view+json": {
       "model_id": "0647bda442cf4eedb1b9174e154978c7",
       "version_major": 2,
       "version_minor": 0
      },
      "text/plain": [
       "  0%|          |  0/3 [00:00<?,       ?it/s]"
      ]
     },
     "metadata": {},
     "output_type": "display_data"
    },
    {
     "name": "stderr",
     "output_type": "stream",
     "text": [
      "    Copnorm and demean the data\n",
      "Get list of multiplets\n"
     ]
    },
    {
     "data": {
      "application/vnd.jupyter.widget-view+json": {
       "model_id": "f5d2043156954a9b9bdab916b202050f",
       "version_major": 2,
       "version_minor": 0
      },
      "text/plain": [
       "  0%|          |  0/3 [00:00<?,       ?it/s]"
      ]
     },
     "metadata": {},
     "output_type": "display_data"
    },
    {
     "name": "stderr",
     "output_type": "stream",
     "text": [
      "    Copnorm and demean the data\n",
      "Get list of multiplets\n"
     ]
    },
    {
     "data": {
      "application/vnd.jupyter.widget-view+json": {
       "model_id": "e6ffe326fb284c83a5ce64777cfe851d",
       "version_major": 2,
       "version_minor": 0
      },
      "text/plain": [
       "  0%|          |  0/3 [00:00<?,       ?it/s]"
      ]
     },
     "metadata": {},
     "output_type": "display_data"
    },
    {
     "name": "stderr",
     "output_type": "stream",
     "text": [
      "    Copnorm and demean the data\n",
      "Get list of multiplets\n"
     ]
    },
    {
     "data": {
      "application/vnd.jupyter.widget-view+json": {
       "model_id": "54a18568f602452c81fcbb31d41af009",
       "version_major": 2,
       "version_minor": 0
      },
      "text/plain": [
       "  0%|          |  0/3 [00:00<?,       ?it/s]"
      ]
     },
     "metadata": {},
     "output_type": "display_data"
    },
    {
     "name": "stderr",
     "output_type": "stream",
     "text": [
      "    Copnorm and demean the data\n",
      "Get list of multiplets\n"
     ]
    },
    {
     "data": {
      "application/vnd.jupyter.widget-view+json": {
       "model_id": "5b1784a385194cff87a0f4d9790cc741",
       "version_major": 2,
       "version_minor": 0
      },
      "text/plain": [
       "  0%|          |  0/3 [00:00<?,       ?it/s]"
      ]
     },
     "metadata": {},
     "output_type": "display_data"
    },
    {
     "name": "stderr",
     "output_type": "stream",
     "text": [
      "    Copnorm and demean the data\n",
      "Get list of multiplets\n"
     ]
    },
    {
     "data": {
      "application/vnd.jupyter.widget-view+json": {
       "model_id": "d1c0a857c7b64c1798a4aab1d7869587",
       "version_major": 2,
       "version_minor": 0
      },
      "text/plain": [
       "  0%|          |  0/3 [00:00<?,       ?it/s]"
      ]
     },
     "metadata": {},
     "output_type": "display_data"
    },
    {
     "name": "stderr",
     "output_type": "stream",
     "text": [
      "    Copnorm and demean the data\n",
      "Get list of multiplets\n"
     ]
    },
    {
     "data": {
      "application/vnd.jupyter.widget-view+json": {
       "model_id": "3ebc70742df84142bd30be4d431ce14b",
       "version_major": 2,
       "version_minor": 0
      },
      "text/plain": [
       "  0%|          |  0/3 [00:00<?,       ?it/s]"
      ]
     },
     "metadata": {},
     "output_type": "display_data"
    },
    {
     "name": "stderr",
     "output_type": "stream",
     "text": [
      "    Copnorm and demean the data\n",
      "Get list of multiplets\n"
     ]
    },
    {
     "data": {
      "application/vnd.jupyter.widget-view+json": {
       "model_id": "2e29cd3dd3ce43179ac783fbd74cf3d8",
       "version_major": 2,
       "version_minor": 0
      },
      "text/plain": [
       "  0%|          |  0/3 [00:00<?,       ?it/s]"
      ]
     },
     "metadata": {},
     "output_type": "display_data"
    },
    {
     "name": "stderr",
     "output_type": "stream",
     "text": [
      "    Copnorm and demean the data\n",
      "Get list of multiplets\n"
     ]
    },
    {
     "data": {
      "application/vnd.jupyter.widget-view+json": {
       "model_id": "0b8f718dddf64bf2a38b4f5ebe1dde02",
       "version_major": 2,
       "version_minor": 0
      },
      "text/plain": [
       "  0%|          |  0/3 [00:00<?,       ?it/s]"
      ]
     },
     "metadata": {},
     "output_type": "display_data"
    },
    {
     "name": "stderr",
     "output_type": "stream",
     "text": [
      "    Copnorm and demean the data\n",
      "Get list of multiplets\n"
     ]
    },
    {
     "data": {
      "application/vnd.jupyter.widget-view+json": {
       "model_id": "03c661fef2f94d338ea1491937b22a62",
       "version_major": 2,
       "version_minor": 0
      },
      "text/plain": [
       "  0%|          |  0/3 [00:00<?,       ?it/s]"
      ]
     },
     "metadata": {},
     "output_type": "display_data"
    },
    {
     "name": "stderr",
     "output_type": "stream",
     "text": [
      "    Copnorm and demean the data\n",
      "Get list of multiplets\n"
     ]
    },
    {
     "data": {
      "application/vnd.jupyter.widget-view+json": {
       "model_id": "58a552d8fbb1478db263195b76599c86",
       "version_major": 2,
       "version_minor": 0
      },
      "text/plain": [
       "  0%|          |  0/3 [00:00<?,       ?it/s]"
      ]
     },
     "metadata": {},
     "output_type": "display_data"
    },
    {
     "name": "stderr",
     "output_type": "stream",
     "text": [
      "    Copnorm and demean the data\n",
      "Get list of multiplets\n"
     ]
    },
    {
     "data": {
      "application/vnd.jupyter.widget-view+json": {
       "model_id": "d1015aac060442f49102868c38ca41b3",
       "version_major": 2,
       "version_minor": 0
      },
      "text/plain": [
       "  0%|          |  0/3 [00:00<?,       ?it/s]"
      ]
     },
     "metadata": {},
     "output_type": "display_data"
    },
    {
     "name": "stderr",
     "output_type": "stream",
     "text": [
      "    Copnorm and demean the data\n",
      "Get list of multiplets\n"
     ]
    },
    {
     "data": {
      "application/vnd.jupyter.widget-view+json": {
       "model_id": "8e4e89dbc7bb4b3598d804641eeb5803",
       "version_major": 2,
       "version_minor": 0
      },
      "text/plain": [
       "  0%|          |  0/3 [00:00<?,       ?it/s]"
      ]
     },
     "metadata": {},
     "output_type": "display_data"
    },
    {
     "name": "stderr",
     "output_type": "stream",
     "text": [
      "    Copnorm and demean the data\n",
      "Get list of multiplets\n"
     ]
    },
    {
     "data": {
      "application/vnd.jupyter.widget-view+json": {
       "model_id": "65cb8617dcf94426983bf7eac5f396a5",
       "version_major": 2,
       "version_minor": 0
      },
      "text/plain": [
       "  0%|          |  0/3 [00:00<?,       ?it/s]"
      ]
     },
     "metadata": {},
     "output_type": "display_data"
    },
    {
     "name": "stderr",
     "output_type": "stream",
     "text": [
      "    Copnorm and demean the data\n",
      "Get list of multiplets\n"
     ]
    },
    {
     "data": {
      "application/vnd.jupyter.widget-view+json": {
       "model_id": "93b3b1681afd475f9ff77e474f8da110",
       "version_major": 2,
       "version_minor": 0
      },
      "text/plain": [
       "  0%|          |  0/3 [00:00<?,       ?it/s]"
      ]
     },
     "metadata": {},
     "output_type": "display_data"
    },
    {
     "name": "stderr",
     "output_type": "stream",
     "text": [
      "    Copnorm and demean the data\n",
      "Get list of multiplets\n"
     ]
    },
    {
     "data": {
      "application/vnd.jupyter.widget-view+json": {
       "model_id": "9ceb20bb0ce842f2aacb558d87ecadb4",
       "version_major": 2,
       "version_minor": 0
      },
      "text/plain": [
       "  0%|          |  0/3 [00:00<?,       ?it/s]"
      ]
     },
     "metadata": {},
     "output_type": "display_data"
    },
    {
     "name": "stderr",
     "output_type": "stream",
     "text": [
      "    Copnorm and demean the data\n",
      "Get list of multiplets\n"
     ]
    },
    {
     "data": {
      "application/vnd.jupyter.widget-view+json": {
       "model_id": "ca998c2d9a654f6f815de149e63b0879",
       "version_major": 2,
       "version_minor": 0
      },
      "text/plain": [
       "  0%|          |  0/3 [00:00<?,       ?it/s]"
      ]
     },
     "metadata": {},
     "output_type": "display_data"
    },
    {
     "name": "stderr",
     "output_type": "stream",
     "text": [
      "    Copnorm and demean the data\n",
      "Get list of multiplets\n"
     ]
    },
    {
     "data": {
      "application/vnd.jupyter.widget-view+json": {
       "model_id": "8968d46e1b4e421387b94a6344ef6aaf",
       "version_major": 2,
       "version_minor": 0
      },
      "text/plain": [
       "  0%|          |  0/3 [00:00<?,       ?it/s]"
      ]
     },
     "metadata": {},
     "output_type": "display_data"
    },
    {
     "name": "stderr",
     "output_type": "stream",
     "text": [
      "    Copnorm and demean the data\n",
      "Get list of multiplets\n"
     ]
    },
    {
     "data": {
      "application/vnd.jupyter.widget-view+json": {
       "model_id": "d6f271c968ee4fb0908cad639c9e5586",
       "version_major": 2,
       "version_minor": 0
      },
      "text/plain": [
       "  0%|          |  0/3 [00:00<?,       ?it/s]"
      ]
     },
     "metadata": {},
     "output_type": "display_data"
    },
    {
     "name": "stderr",
     "output_type": "stream",
     "text": [
      "    Copnorm and demean the data\n",
      "Get list of multiplets\n"
     ]
    },
    {
     "data": {
      "application/vnd.jupyter.widget-view+json": {
       "model_id": "585f1cdd70384a15b1ccf6a93250b188",
       "version_major": 2,
       "version_minor": 0
      },
      "text/plain": [
       "  0%|          |  0/3 [00:00<?,       ?it/s]"
      ]
     },
     "metadata": {},
     "output_type": "display_data"
    },
    {
     "name": "stderr",
     "output_type": "stream",
     "text": [
      "    Copnorm and demean the data\n",
      "Get list of multiplets\n"
     ]
    },
    {
     "data": {
      "application/vnd.jupyter.widget-view+json": {
       "model_id": "ced27c1ce1b64a25aa5929d992621aa8",
       "version_major": 2,
       "version_minor": 0
      },
      "text/plain": [
       "  0%|          |  0/3 [00:00<?,       ?it/s]"
      ]
     },
     "metadata": {},
     "output_type": "display_data"
    },
    {
     "name": "stderr",
     "output_type": "stream",
     "text": [
      "    Copnorm and demean the data\n",
      "Get list of multiplets\n"
     ]
    },
    {
     "data": {
      "application/vnd.jupyter.widget-view+json": {
       "model_id": "08f55725dc154df298e21300e52ba36a",
       "version_major": 2,
       "version_minor": 0
      },
      "text/plain": [
       "  0%|          |  0/3 [00:00<?,       ?it/s]"
      ]
     },
     "metadata": {},
     "output_type": "display_data"
    },
    {
     "name": "stderr",
     "output_type": "stream",
     "text": [
      "    Copnorm and demean the data\n",
      "Get list of multiplets\n"
     ]
    },
    {
     "data": {
      "application/vnd.jupyter.widget-view+json": {
       "model_id": "8b203ddd8f3c460f8d97c498152131ba",
       "version_major": 2,
       "version_minor": 0
      },
      "text/plain": [
       "  0%|          |  0/3 [00:00<?,       ?it/s]"
      ]
     },
     "metadata": {},
     "output_type": "display_data"
    },
    {
     "name": "stderr",
     "output_type": "stream",
     "text": [
      "    Copnorm and demean the data\n",
      "Get list of multiplets\n"
     ]
    },
    {
     "data": {
      "application/vnd.jupyter.widget-view+json": {
       "model_id": "174ba31922ec4ffb91c936e7a2214cea",
       "version_major": 2,
       "version_minor": 0
      },
      "text/plain": [
       "  0%|          |  0/3 [00:00<?,       ?it/s]"
      ]
     },
     "metadata": {},
     "output_type": "display_data"
    },
    {
     "name": "stderr",
     "output_type": "stream",
     "text": [
      "    Copnorm and demean the data\n",
      "Get list of multiplets\n"
     ]
    },
    {
     "data": {
      "application/vnd.jupyter.widget-view+json": {
       "model_id": "717253dc444740888577f6618861d35c",
       "version_major": 2,
       "version_minor": 0
      },
      "text/plain": [
       "  0%|          |  0/3 [00:00<?,       ?it/s]"
      ]
     },
     "metadata": {},
     "output_type": "display_data"
    },
    {
     "name": "stderr",
     "output_type": "stream",
     "text": [
      "    Copnorm and demean the data\n",
      "Get list of multiplets\n"
     ]
    },
    {
     "data": {
      "application/vnd.jupyter.widget-view+json": {
       "model_id": "55a8f8bd0caa43ea8c86c29248cf5dd2",
       "version_major": 2,
       "version_minor": 0
      },
      "text/plain": [
       "  0%|          |  0/3 [00:00<?,       ?it/s]"
      ]
     },
     "metadata": {},
     "output_type": "display_data"
    },
    {
     "name": "stderr",
     "output_type": "stream",
     "text": [
      "    Copnorm and demean the data\n",
      "Get list of multiplets\n"
     ]
    },
    {
     "data": {
      "application/vnd.jupyter.widget-view+json": {
       "model_id": "f2938d3b5811407d8d1b2e2e98b44e16",
       "version_major": 2,
       "version_minor": 0
      },
      "text/plain": [
       "  0%|          |  0/3 [00:00<?,       ?it/s]"
      ]
     },
     "metadata": {},
     "output_type": "display_data"
    },
    {
     "name": "stderr",
     "output_type": "stream",
     "text": [
      "    Copnorm and demean the data\n",
      "Get list of multiplets\n"
     ]
    },
    {
     "data": {
      "application/vnd.jupyter.widget-view+json": {
       "model_id": "cc10256c82cc431f9e97b06672c5757f",
       "version_major": 2,
       "version_minor": 0
      },
      "text/plain": [
       "  0%|          |  0/3 [00:00<?,       ?it/s]"
      ]
     },
     "metadata": {},
     "output_type": "display_data"
    },
    {
     "name": "stderr",
     "output_type": "stream",
     "text": [
      "    Copnorm and demean the data\n",
      "Get list of multiplets\n"
     ]
    },
    {
     "data": {
      "application/vnd.jupyter.widget-view+json": {
       "model_id": "9cc7df1dba59471c95418f3c30a2b4fd",
       "version_major": 2,
       "version_minor": 0
      },
      "text/plain": [
       "  0%|          |  0/3 [00:00<?,       ?it/s]"
      ]
     },
     "metadata": {},
     "output_type": "display_data"
    },
    {
     "name": "stderr",
     "output_type": "stream",
     "text": [
      "    Copnorm and demean the data\n",
      "Get list of multiplets\n"
     ]
    },
    {
     "data": {
      "application/vnd.jupyter.widget-view+json": {
       "model_id": "f528b6aed59f4258b9199b8bd95c33f7",
       "version_major": 2,
       "version_minor": 0
      },
      "text/plain": [
       "  0%|          |  0/3 [00:00<?,       ?it/s]"
      ]
     },
     "metadata": {},
     "output_type": "display_data"
    },
    {
     "name": "stderr",
     "output_type": "stream",
     "text": [
      "    Copnorm and demean the data\n",
      "Get list of multiplets\n"
     ]
    },
    {
     "data": {
      "application/vnd.jupyter.widget-view+json": {
       "model_id": "de6af5d694fd44c7957d687d271c6b56",
       "version_major": 2,
       "version_minor": 0
      },
      "text/plain": [
       "  0%|          |  0/3 [00:00<?,       ?it/s]"
      ]
     },
     "metadata": {},
     "output_type": "display_data"
    },
    {
     "name": "stderr",
     "output_type": "stream",
     "text": [
      "    Copnorm and demean the data\n",
      "Get list of multiplets\n"
     ]
    },
    {
     "data": {
      "application/vnd.jupyter.widget-view+json": {
       "model_id": "d1eb7b6338be4e09a42443c37baa7ae8",
       "version_major": 2,
       "version_minor": 0
      },
      "text/plain": [
       "  0%|          |  0/3 [00:00<?,       ?it/s]"
      ]
     },
     "metadata": {},
     "output_type": "display_data"
    },
    {
     "name": "stderr",
     "output_type": "stream",
     "text": [
      "    Copnorm and demean the data\n",
      "Get list of multiplets\n"
     ]
    },
    {
     "data": {
      "application/vnd.jupyter.widget-view+json": {
       "model_id": "39b31df8250245e2bc5b7cc88089137d",
       "version_major": 2,
       "version_minor": 0
      },
      "text/plain": [
       "  0%|          |  0/3 [00:00<?,       ?it/s]"
      ]
     },
     "metadata": {},
     "output_type": "display_data"
    },
    {
     "name": "stderr",
     "output_type": "stream",
     "text": [
      "    Copnorm and demean the data\n",
      "Get list of multiplets\n"
     ]
    },
    {
     "data": {
      "application/vnd.jupyter.widget-view+json": {
       "model_id": "ffe9cdf01a5c46bfa7c54074e0ea297f",
       "version_major": 2,
       "version_minor": 0
      },
      "text/plain": [
       "  0%|          |  0/3 [00:00<?,       ?it/s]"
      ]
     },
     "metadata": {},
     "output_type": "display_data"
    },
    {
     "name": "stderr",
     "output_type": "stream",
     "text": [
      "    Copnorm and demean the data\n",
      "Get list of multiplets\n"
     ]
    },
    {
     "data": {
      "application/vnd.jupyter.widget-view+json": {
       "model_id": "01ea00d363c24d048289ccda9577d73a",
       "version_major": 2,
       "version_minor": 0
      },
      "text/plain": [
       "  0%|          |  0/3 [00:00<?,       ?it/s]"
      ]
     },
     "metadata": {},
     "output_type": "display_data"
    },
    {
     "name": "stderr",
     "output_type": "stream",
     "text": [
      "    Copnorm and demean the data\n",
      "Get list of multiplets\n"
     ]
    },
    {
     "data": {
      "application/vnd.jupyter.widget-view+json": {
       "model_id": "770e05f67c8d4b7d812c66da21f5ed91",
       "version_major": 2,
       "version_minor": 0
      },
      "text/plain": [
       "  0%|          |  0/3 [00:00<?,       ?it/s]"
      ]
     },
     "metadata": {},
     "output_type": "display_data"
    },
    {
     "name": "stderr",
     "output_type": "stream",
     "text": [
      "    Copnorm and demean the data\n",
      "Get list of multiplets\n"
     ]
    },
    {
     "data": {
      "application/vnd.jupyter.widget-view+json": {
       "model_id": "c6d671a770f446dbb6f93d9189457343",
       "version_major": 2,
       "version_minor": 0
      },
      "text/plain": [
       "  0%|          |  0/3 [00:00<?,       ?it/s]"
      ]
     },
     "metadata": {},
     "output_type": "display_data"
    },
    {
     "name": "stderr",
     "output_type": "stream",
     "text": [
      "    Copnorm and demean the data\n",
      "Get list of multiplets\n"
     ]
    },
    {
     "data": {
      "application/vnd.jupyter.widget-view+json": {
       "model_id": "6ef183a3a6c043e685083ffb5e75bcc3",
       "version_major": 2,
       "version_minor": 0
      },
      "text/plain": [
       "  0%|          |  0/3 [00:00<?,       ?it/s]"
      ]
     },
     "metadata": {},
     "output_type": "display_data"
    },
    {
     "name": "stderr",
     "output_type": "stream",
     "text": [
      "    Copnorm and demean the data\n",
      "Get list of multiplets\n"
     ]
    },
    {
     "data": {
      "application/vnd.jupyter.widget-view+json": {
       "model_id": "c2e33e4d52e1422380071e4405af0197",
       "version_major": 2,
       "version_minor": 0
      },
      "text/plain": [
       "  0%|          |  0/3 [00:00<?,       ?it/s]"
      ]
     },
     "metadata": {},
     "output_type": "display_data"
    },
    {
     "name": "stderr",
     "output_type": "stream",
     "text": [
      "    Copnorm and demean the data\n",
      "Get list of multiplets\n"
     ]
    },
    {
     "data": {
      "application/vnd.jupyter.widget-view+json": {
       "model_id": "cbf21123767c4ccfb3da1d68c7354c7b",
       "version_major": 2,
       "version_minor": 0
      },
      "text/plain": [
       "  0%|          |  0/3 [00:00<?,       ?it/s]"
      ]
     },
     "metadata": {},
     "output_type": "display_data"
    },
    {
     "name": "stderr",
     "output_type": "stream",
     "text": [
      "    Copnorm and demean the data\n",
      "Get list of multiplets\n"
     ]
    },
    {
     "data": {
      "application/vnd.jupyter.widget-view+json": {
       "model_id": "1c2a6cb01d53402ca2447050a3c310a2",
       "version_major": 2,
       "version_minor": 0
      },
      "text/plain": [
       "  0%|          |  0/3 [00:00<?,       ?it/s]"
      ]
     },
     "metadata": {},
     "output_type": "display_data"
    },
    {
     "name": "stderr",
     "output_type": "stream",
     "text": [
      "    Copnorm and demean the data\n",
      "Get list of multiplets\n"
     ]
    },
    {
     "data": {
      "application/vnd.jupyter.widget-view+json": {
       "model_id": "51655059269e49aeb9dc7712eeec628e",
       "version_major": 2,
       "version_minor": 0
      },
      "text/plain": [
       "  0%|          |  0/3 [00:00<?,       ?it/s]"
      ]
     },
     "metadata": {},
     "output_type": "display_data"
    },
    {
     "name": "stderr",
     "output_type": "stream",
     "text": [
      "    Copnorm and demean the data\n",
      "Get list of multiplets\n"
     ]
    },
    {
     "data": {
      "application/vnd.jupyter.widget-view+json": {
       "model_id": "b111fa1e3006415f9af104751c094444",
       "version_major": 2,
       "version_minor": 0
      },
      "text/plain": [
       "  0%|          |  0/3 [00:00<?,       ?it/s]"
      ]
     },
     "metadata": {},
     "output_type": "display_data"
    },
    {
     "name": "stderr",
     "output_type": "stream",
     "text": [
      "    Copnorm and demean the data\n",
      "Get list of multiplets\n"
     ]
    },
    {
     "data": {
      "application/vnd.jupyter.widget-view+json": {
       "model_id": "ab495ff84c984b17a82b9c4f6ad88c49",
       "version_major": 2,
       "version_minor": 0
      },
      "text/plain": [
       "  0%|          |  0/3 [00:00<?,       ?it/s]"
      ]
     },
     "metadata": {},
     "output_type": "display_data"
    },
    {
     "name": "stderr",
     "output_type": "stream",
     "text": [
      "    Copnorm and demean the data\n",
      "Get list of multiplets\n"
     ]
    },
    {
     "data": {
      "application/vnd.jupyter.widget-view+json": {
       "model_id": "47c13be9526c482a9a7aecc665c8b7ab",
       "version_major": 2,
       "version_minor": 0
      },
      "text/plain": [
       "  0%|          |  0/3 [00:00<?,       ?it/s]"
      ]
     },
     "metadata": {},
     "output_type": "display_data"
    },
    {
     "name": "stderr",
     "output_type": "stream",
     "text": [
      "    Copnorm and demean the data\n",
      "Get list of multiplets\n"
     ]
    },
    {
     "data": {
      "application/vnd.jupyter.widget-view+json": {
       "model_id": "02c9ab9068644d50a4af0e5be4e0e7df",
       "version_major": 2,
       "version_minor": 0
      },
      "text/plain": [
       "  0%|          |  0/3 [00:00<?,       ?it/s]"
      ]
     },
     "metadata": {},
     "output_type": "display_data"
    },
    {
     "name": "stderr",
     "output_type": "stream",
     "text": [
      "    Copnorm and demean the data\n",
      "Get list of multiplets\n"
     ]
    },
    {
     "data": {
      "application/vnd.jupyter.widget-view+json": {
       "model_id": "19d6a4c358f14790a53223bd8e229baf",
       "version_major": 2,
       "version_minor": 0
      },
      "text/plain": [
       "  0%|          |  0/3 [00:00<?,       ?it/s]"
      ]
     },
     "metadata": {},
     "output_type": "display_data"
    },
    {
     "name": "stderr",
     "output_type": "stream",
     "text": [
      "    Copnorm and demean the data\n",
      "Get list of multiplets\n"
     ]
    },
    {
     "data": {
      "application/vnd.jupyter.widget-view+json": {
       "model_id": "b947aad997524079bf23bf7ad71d07b0",
       "version_major": 2,
       "version_minor": 0
      },
      "text/plain": [
       "  0%|          |  0/3 [00:00<?,       ?it/s]"
      ]
     },
     "metadata": {},
     "output_type": "display_data"
    },
    {
     "name": "stderr",
     "output_type": "stream",
     "text": [
      "    Copnorm and demean the data\n",
      "Get list of multiplets\n"
     ]
    },
    {
     "data": {
      "application/vnd.jupyter.widget-view+json": {
       "model_id": "3f509a5ba14e4dbdb76a4b161e0b6830",
       "version_major": 2,
       "version_minor": 0
      },
      "text/plain": [
       "  0%|          |  0/3 [00:00<?,       ?it/s]"
      ]
     },
     "metadata": {},
     "output_type": "display_data"
    },
    {
     "name": "stderr",
     "output_type": "stream",
     "text": [
      "    Copnorm and demean the data\n",
      "Get list of multiplets\n"
     ]
    },
    {
     "data": {
      "application/vnd.jupyter.widget-view+json": {
       "model_id": "baa956a1422146a082c1bf23567d4812",
       "version_major": 2,
       "version_minor": 0
      },
      "text/plain": [
       "  0%|          |  0/3 [00:00<?,       ?it/s]"
      ]
     },
     "metadata": {},
     "output_type": "display_data"
    },
    {
     "name": "stderr",
     "output_type": "stream",
     "text": [
      "    Copnorm and demean the data\n",
      "Get list of multiplets\n"
     ]
    },
    {
     "data": {
      "application/vnd.jupyter.widget-view+json": {
       "model_id": "9eb56262f9cd4fb4bb3fb9c71204f70d",
       "version_major": 2,
       "version_minor": 0
      },
      "text/plain": [
       "  0%|          |  0/3 [00:00<?,       ?it/s]"
      ]
     },
     "metadata": {},
     "output_type": "display_data"
    },
    {
     "name": "stderr",
     "output_type": "stream",
     "text": [
      "    Copnorm and demean the data\n",
      "Get list of multiplets\n"
     ]
    },
    {
     "data": {
      "application/vnd.jupyter.widget-view+json": {
       "model_id": "038216d5158a45338747b8223307a3d2",
       "version_major": 2,
       "version_minor": 0
      },
      "text/plain": [
       "  0%|          |  0/3 [00:00<?,       ?it/s]"
      ]
     },
     "metadata": {},
     "output_type": "display_data"
    },
    {
     "name": "stderr",
     "output_type": "stream",
     "text": [
      "    Copnorm and demean the data\n",
      "Get list of multiplets\n"
     ]
    },
    {
     "data": {
      "application/vnd.jupyter.widget-view+json": {
       "model_id": "af01a8d428df48e4a4caf92d04772887",
       "version_major": 2,
       "version_minor": 0
      },
      "text/plain": [
       "  0%|          |  0/3 [00:00<?,       ?it/s]"
      ]
     },
     "metadata": {},
     "output_type": "display_data"
    },
    {
     "name": "stderr",
     "output_type": "stream",
     "text": [
      "    Copnorm and demean the data\n",
      "Get list of multiplets\n"
     ]
    },
    {
     "data": {
      "application/vnd.jupyter.widget-view+json": {
       "model_id": "608d94df63e945239ea28accdb8edd73",
       "version_major": 2,
       "version_minor": 0
      },
      "text/plain": [
       "  0%|          |  0/3 [00:00<?,       ?it/s]"
      ]
     },
     "metadata": {},
     "output_type": "display_data"
    },
    {
     "name": "stderr",
     "output_type": "stream",
     "text": [
      "    Copnorm and demean the data\n",
      "Get list of multiplets\n"
     ]
    },
    {
     "data": {
      "application/vnd.jupyter.widget-view+json": {
       "model_id": "8d66c67ef16f4d9ba13bc99f13a6eb1c",
       "version_major": 2,
       "version_minor": 0
      },
      "text/plain": [
       "  0%|          |  0/3 [00:00<?,       ?it/s]"
      ]
     },
     "metadata": {},
     "output_type": "display_data"
    },
    {
     "name": "stderr",
     "output_type": "stream",
     "text": [
      "    Copnorm and demean the data\n",
      "Get list of multiplets\n"
     ]
    },
    {
     "data": {
      "application/vnd.jupyter.widget-view+json": {
       "model_id": "6be23ccf84cd42d8b1654f02eee36240",
       "version_major": 2,
       "version_minor": 0
      },
      "text/plain": [
       "  0%|          |  0/3 [00:00<?,       ?it/s]"
      ]
     },
     "metadata": {},
     "output_type": "display_data"
    },
    {
     "name": "stderr",
     "output_type": "stream",
     "text": [
      "    Copnorm and demean the data\n",
      "Get list of multiplets\n"
     ]
    },
    {
     "data": {
      "application/vnd.jupyter.widget-view+json": {
       "model_id": "ed149c476e1c49cd84b9b91e6b974d14",
       "version_major": 2,
       "version_minor": 0
      },
      "text/plain": [
       "  0%|          |  0/3 [00:00<?,       ?it/s]"
      ]
     },
     "metadata": {},
     "output_type": "display_data"
    },
    {
     "name": "stderr",
     "output_type": "stream",
     "text": [
      "    Copnorm and demean the data\n",
      "Get list of multiplets\n"
     ]
    },
    {
     "data": {
      "application/vnd.jupyter.widget-view+json": {
       "model_id": "f8ed344b9a57406eb5af12fde8dc8766",
       "version_major": 2,
       "version_minor": 0
      },
      "text/plain": [
       "  0%|          |  0/3 [00:00<?,       ?it/s]"
      ]
     },
     "metadata": {},
     "output_type": "display_data"
    },
    {
     "name": "stderr",
     "output_type": "stream",
     "text": [
      "    Copnorm and demean the data\n",
      "Get list of multiplets\n"
     ]
    },
    {
     "data": {
      "application/vnd.jupyter.widget-view+json": {
       "model_id": "2ef3c79016664b788b8fc3bdfcbd85c5",
       "version_major": 2,
       "version_minor": 0
      },
      "text/plain": [
       "  0%|          |  0/3 [00:00<?,       ?it/s]"
      ]
     },
     "metadata": {},
     "output_type": "display_data"
    },
    {
     "name": "stderr",
     "output_type": "stream",
     "text": [
      "    Copnorm and demean the data\n",
      "Get list of multiplets\n"
     ]
    },
    {
     "data": {
      "application/vnd.jupyter.widget-view+json": {
       "model_id": "ece9c61fabca4671a773d4112b8c6822",
       "version_major": 2,
       "version_minor": 0
      },
      "text/plain": [
       "  0%|          |  0/3 [00:00<?,       ?it/s]"
      ]
     },
     "metadata": {},
     "output_type": "display_data"
    },
    {
     "name": "stderr",
     "output_type": "stream",
     "text": [
      "    Copnorm and demean the data\n",
      "Get list of multiplets\n"
     ]
    },
    {
     "data": {
      "application/vnd.jupyter.widget-view+json": {
       "model_id": "c307b98d88ed447a8dcd7c08e4cc2ef6",
       "version_major": 2,
       "version_minor": 0
      },
      "text/plain": [
       "  0%|          |  0/3 [00:00<?,       ?it/s]"
      ]
     },
     "metadata": {},
     "output_type": "display_data"
    },
    {
     "name": "stderr",
     "output_type": "stream",
     "text": [
      "    Copnorm and demean the data\n",
      "Get list of multiplets\n"
     ]
    },
    {
     "data": {
      "application/vnd.jupyter.widget-view+json": {
       "model_id": "b286e2c8893e40db88b32c0dd3762280",
       "version_major": 2,
       "version_minor": 0
      },
      "text/plain": [
       "  0%|          |  0/3 [00:00<?,       ?it/s]"
      ]
     },
     "metadata": {},
     "output_type": "display_data"
    },
    {
     "name": "stderr",
     "output_type": "stream",
     "text": [
      "    Copnorm and demean the data\n",
      "Get list of multiplets\n"
     ]
    },
    {
     "data": {
      "application/vnd.jupyter.widget-view+json": {
       "model_id": "a013d390e37748a995746253f0967bdd",
       "version_major": 2,
       "version_minor": 0
      },
      "text/plain": [
       "  0%|          |  0/3 [00:00<?,       ?it/s]"
      ]
     },
     "metadata": {},
     "output_type": "display_data"
    },
    {
     "name": "stderr",
     "output_type": "stream",
     "text": [
      "    Copnorm and demean the data\n",
      "Get list of multiplets\n"
     ]
    },
    {
     "data": {
      "application/vnd.jupyter.widget-view+json": {
       "model_id": "893e725cb61d47d5854b3818028de143",
       "version_major": 2,
       "version_minor": 0
      },
      "text/plain": [
       "  0%|          |  0/3 [00:00<?,       ?it/s]"
      ]
     },
     "metadata": {},
     "output_type": "display_data"
    },
    {
     "name": "stderr",
     "output_type": "stream",
     "text": [
      "    Copnorm and demean the data\n",
      "Get list of multiplets\n"
     ]
    },
    {
     "data": {
      "application/vnd.jupyter.widget-view+json": {
       "model_id": "f27331a2368d4e7c9d4b4d3349bbfe30",
       "version_major": 2,
       "version_minor": 0
      },
      "text/plain": [
       "  0%|          |  0/3 [00:00<?,       ?it/s]"
      ]
     },
     "metadata": {},
     "output_type": "display_data"
    },
    {
     "name": "stderr",
     "output_type": "stream",
     "text": [
      "    Copnorm and demean the data\n",
      "Get list of multiplets\n"
     ]
    },
    {
     "data": {
      "application/vnd.jupyter.widget-view+json": {
       "model_id": "e809c248ab6e48c289c28375d2075674",
       "version_major": 2,
       "version_minor": 0
      },
      "text/plain": [
       "  0%|          |  0/3 [00:00<?,       ?it/s]"
      ]
     },
     "metadata": {},
     "output_type": "display_data"
    },
    {
     "name": "stderr",
     "output_type": "stream",
     "text": [
      "    Copnorm and demean the data\n",
      "Get list of multiplets\n"
     ]
    },
    {
     "data": {
      "application/vnd.jupyter.widget-view+json": {
       "model_id": "6d941579302e4aaabed51a1ce54e752a",
       "version_major": 2,
       "version_minor": 0
      },
      "text/plain": [
       "  0%|          |  0/3 [00:00<?,       ?it/s]"
      ]
     },
     "metadata": {},
     "output_type": "display_data"
    },
    {
     "name": "stderr",
     "output_type": "stream",
     "text": [
      "    Copnorm and demean the data\n",
      "Get list of multiplets\n"
     ]
    },
    {
     "data": {
      "application/vnd.jupyter.widget-view+json": {
       "model_id": "7eaebc71a03a40e9a5eb8a16159d062e",
       "version_major": 2,
       "version_minor": 0
      },
      "text/plain": [
       "  0%|          |  0/3 [00:00<?,       ?it/s]"
      ]
     },
     "metadata": {},
     "output_type": "display_data"
    },
    {
     "name": "stderr",
     "output_type": "stream",
     "text": [
      "    Copnorm and demean the data\n",
      "Get list of multiplets\n"
     ]
    },
    {
     "data": {
      "application/vnd.jupyter.widget-view+json": {
       "model_id": "89054fdeb7114d74be0d4f2f8a715eed",
       "version_major": 2,
       "version_minor": 0
      },
      "text/plain": [
       "  0%|          |  0/3 [00:00<?,       ?it/s]"
      ]
     },
     "metadata": {},
     "output_type": "display_data"
    },
    {
     "name": "stderr",
     "output_type": "stream",
     "text": [
      "    Copnorm and demean the data\n",
      "Get list of multiplets\n"
     ]
    },
    {
     "data": {
      "application/vnd.jupyter.widget-view+json": {
       "model_id": "911d459d005e49758178a2cc50ae5689",
       "version_major": 2,
       "version_minor": 0
      },
      "text/plain": [
       "  0%|          |  0/3 [00:00<?,       ?it/s]"
      ]
     },
     "metadata": {},
     "output_type": "display_data"
    },
    {
     "name": "stderr",
     "output_type": "stream",
     "text": [
      "    Copnorm and demean the data\n",
      "Get list of multiplets\n"
     ]
    },
    {
     "data": {
      "application/vnd.jupyter.widget-view+json": {
       "model_id": "85f2d19df6e14275a3b5064aa0ef098b",
       "version_major": 2,
       "version_minor": 0
      },
      "text/plain": [
       "  0%|          |  0/3 [00:00<?,       ?it/s]"
      ]
     },
     "metadata": {},
     "output_type": "display_data"
    },
    {
     "name": "stderr",
     "output_type": "stream",
     "text": [
      "    Copnorm and demean the data\n",
      "Get list of multiplets\n"
     ]
    },
    {
     "data": {
      "application/vnd.jupyter.widget-view+json": {
       "model_id": "daf6c8c5a9a44aefb21afe6fbc6d9866",
       "version_major": 2,
       "version_minor": 0
      },
      "text/plain": [
       "  0%|          |  0/3 [00:00<?,       ?it/s]"
      ]
     },
     "metadata": {},
     "output_type": "display_data"
    },
    {
     "name": "stderr",
     "output_type": "stream",
     "text": [
      "    Copnorm and demean the data\n",
      "Get list of multiplets\n"
     ]
    },
    {
     "data": {
      "application/vnd.jupyter.widget-view+json": {
       "model_id": "721e7272e86a4662a738df5c6f9c60e3",
       "version_major": 2,
       "version_minor": 0
      },
      "text/plain": [
       "  0%|          |  0/3 [00:00<?,       ?it/s]"
      ]
     },
     "metadata": {},
     "output_type": "display_data"
    },
    {
     "name": "stderr",
     "output_type": "stream",
     "text": [
      "    Copnorm and demean the data\n",
      "Get list of multiplets\n"
     ]
    },
    {
     "data": {
      "application/vnd.jupyter.widget-view+json": {
       "model_id": "72f451ee6210463384e33180650ea867",
       "version_major": 2,
       "version_minor": 0
      },
      "text/plain": [
       "  0%|          |  0/3 [00:00<?,       ?it/s]"
      ]
     },
     "metadata": {},
     "output_type": "display_data"
    },
    {
     "name": "stderr",
     "output_type": "stream",
     "text": [
      "    Copnorm and demean the data\n",
      "Get list of multiplets\n"
     ]
    },
    {
     "data": {
      "application/vnd.jupyter.widget-view+json": {
       "model_id": "6d8e9c3cef2546e88fe3c1e2774574c2",
       "version_major": 2,
       "version_minor": 0
      },
      "text/plain": [
       "  0%|          |  0/3 [00:00<?,       ?it/s]"
      ]
     },
     "metadata": {},
     "output_type": "display_data"
    },
    {
     "name": "stderr",
     "output_type": "stream",
     "text": [
      "    Copnorm and demean the data\n",
      "Get list of multiplets\n"
     ]
    },
    {
     "data": {
      "application/vnd.jupyter.widget-view+json": {
       "model_id": "7225952bc89c4710b901ab853ed72a5f",
       "version_major": 2,
       "version_minor": 0
      },
      "text/plain": [
       "  0%|          |  0/3 [00:00<?,       ?it/s]"
      ]
     },
     "metadata": {},
     "output_type": "display_data"
    },
    {
     "name": "stderr",
     "output_type": "stream",
     "text": [
      "    Copnorm and demean the data\n",
      "Get list of multiplets\n"
     ]
    },
    {
     "data": {
      "application/vnd.jupyter.widget-view+json": {
       "model_id": "9e22fb8817664a8a9134a6c651b826b8",
       "version_major": 2,
       "version_minor": 0
      },
      "text/plain": [
       "  0%|          |  0/3 [00:00<?,       ?it/s]"
      ]
     },
     "metadata": {},
     "output_type": "display_data"
    },
    {
     "name": "stderr",
     "output_type": "stream",
     "text": [
      "    Copnorm and demean the data\n",
      "Get list of multiplets\n"
     ]
    },
    {
     "data": {
      "application/vnd.jupyter.widget-view+json": {
       "model_id": "aed9df67ac8c404cb8515305537fd12f",
       "version_major": 2,
       "version_minor": 0
      },
      "text/plain": [
       "  0%|          |  0/3 [00:00<?,       ?it/s]"
      ]
     },
     "metadata": {},
     "output_type": "display_data"
    },
    {
     "name": "stderr",
     "output_type": "stream",
     "text": [
      "    Copnorm and demean the data\n",
      "Get list of multiplets\n"
     ]
    },
    {
     "data": {
      "application/vnd.jupyter.widget-view+json": {
       "model_id": "bdafa8e0fe164f41abb321e2b948dfb8",
       "version_major": 2,
       "version_minor": 0
      },
      "text/plain": [
       "  0%|          |  0/3 [00:00<?,       ?it/s]"
      ]
     },
     "metadata": {},
     "output_type": "display_data"
    },
    {
     "name": "stderr",
     "output_type": "stream",
     "text": [
      "    Copnorm and demean the data\n",
      "Get list of multiplets\n"
     ]
    },
    {
     "data": {
      "application/vnd.jupyter.widget-view+json": {
       "model_id": "90c053bfd131425cbad78a99b98b315f",
       "version_major": 2,
       "version_minor": 0
      },
      "text/plain": [
       "  0%|          |  0/3 [00:00<?,       ?it/s]"
      ]
     },
     "metadata": {},
     "output_type": "display_data"
    },
    {
     "name": "stderr",
     "output_type": "stream",
     "text": [
      "    Copnorm and demean the data\n",
      "Get list of multiplets\n"
     ]
    },
    {
     "data": {
      "application/vnd.jupyter.widget-view+json": {
       "model_id": "edb417aab0124842b94537f8095b5715",
       "version_major": 2,
       "version_minor": 0
      },
      "text/plain": [
       "  0%|          |  0/3 [00:00<?,       ?it/s]"
      ]
     },
     "metadata": {},
     "output_type": "display_data"
    },
    {
     "name": "stderr",
     "output_type": "stream",
     "text": [
      "    Copnorm and demean the data\n",
      "Get list of multiplets\n"
     ]
    },
    {
     "data": {
      "application/vnd.jupyter.widget-view+json": {
       "model_id": "cb9aa505d68d416ba7bb335ba372bf89",
       "version_major": 2,
       "version_minor": 0
      },
      "text/plain": [
       "  0%|          |  0/3 [00:00<?,       ?it/s]"
      ]
     },
     "metadata": {},
     "output_type": "display_data"
    },
    {
     "name": "stderr",
     "output_type": "stream",
     "text": [
      "    Copnorm and demean the data\n",
      "Get list of multiplets\n"
     ]
    },
    {
     "data": {
      "application/vnd.jupyter.widget-view+json": {
       "model_id": "e071dc2694954827ba20979f59a42112",
       "version_major": 2,
       "version_minor": 0
      },
      "text/plain": [
       "  0%|          |  0/3 [00:00<?,       ?it/s]"
      ]
     },
     "metadata": {},
     "output_type": "display_data"
    },
    {
     "name": "stderr",
     "output_type": "stream",
     "text": [
      "    Copnorm and demean the data\n",
      "Get list of multiplets\n"
     ]
    },
    {
     "data": {
      "application/vnd.jupyter.widget-view+json": {
       "model_id": "75b273583b8f4c799bac34f186e59b85",
       "version_major": 2,
       "version_minor": 0
      },
      "text/plain": [
       "  0%|          |  0/3 [00:00<?,       ?it/s]"
      ]
     },
     "metadata": {},
     "output_type": "display_data"
    },
    {
     "name": "stderr",
     "output_type": "stream",
     "text": [
      "    Copnorm and demean the data\n",
      "Get list of multiplets\n"
     ]
    },
    {
     "data": {
      "application/vnd.jupyter.widget-view+json": {
       "model_id": "35eeefc50621476a84f0a2ca68e02bfd",
       "version_major": 2,
       "version_minor": 0
      },
      "text/plain": [
       "  0%|          |  0/3 [00:00<?,       ?it/s]"
      ]
     },
     "metadata": {},
     "output_type": "display_data"
    },
    {
     "name": "stderr",
     "output_type": "stream",
     "text": [
      "    Copnorm and demean the data\n",
      "Get list of multiplets\n"
     ]
    },
    {
     "data": {
      "application/vnd.jupyter.widget-view+json": {
       "model_id": "cf1a91060f794f6fb8455fa8ae63bc93",
       "version_major": 2,
       "version_minor": 0
      },
      "text/plain": [
       "  0%|          |  0/3 [00:00<?,       ?it/s]"
      ]
     },
     "metadata": {},
     "output_type": "display_data"
    },
    {
     "name": "stderr",
     "output_type": "stream",
     "text": [
      "    Copnorm and demean the data\n",
      "Get list of multiplets\n"
     ]
    },
    {
     "data": {
      "application/vnd.jupyter.widget-view+json": {
       "model_id": "92f7916a47744c5db8bae49d62947632",
       "version_major": 2,
       "version_minor": 0
      },
      "text/plain": [
       "  0%|          |  0/3 [00:00<?,       ?it/s]"
      ]
     },
     "metadata": {},
     "output_type": "display_data"
    },
    {
     "name": "stderr",
     "output_type": "stream",
     "text": [
      "    Copnorm and demean the data\n",
      "Get list of multiplets\n"
     ]
    },
    {
     "data": {
      "application/vnd.jupyter.widget-view+json": {
       "model_id": "1ef873e344d94c61b57bb30a7c3b61a7",
       "version_major": 2,
       "version_minor": 0
      },
      "text/plain": [
       "  0%|          |  0/3 [00:00<?,       ?it/s]"
      ]
     },
     "metadata": {},
     "output_type": "display_data"
    },
    {
     "name": "stderr",
     "output_type": "stream",
     "text": [
      "    Copnorm and demean the data\n",
      "Get list of multiplets\n"
     ]
    },
    {
     "data": {
      "application/vnd.jupyter.widget-view+json": {
       "model_id": "d1b06333b282440e9a73d50b0d7c69e0",
       "version_major": 2,
       "version_minor": 0
      },
      "text/plain": [
       "  0%|          |  0/3 [00:00<?,       ?it/s]"
      ]
     },
     "metadata": {},
     "output_type": "display_data"
    },
    {
     "name": "stderr",
     "output_type": "stream",
     "text": [
      "    Copnorm and demean the data\n",
      "Get list of multiplets\n"
     ]
    },
    {
     "data": {
      "application/vnd.jupyter.widget-view+json": {
       "model_id": "7a209501173a495ab9d6b3f138da268d",
       "version_major": 2,
       "version_minor": 0
      },
      "text/plain": [
       "  0%|          |  0/3 [00:00<?,       ?it/s]"
      ]
     },
     "metadata": {},
     "output_type": "display_data"
    },
    {
     "name": "stderr",
     "output_type": "stream",
     "text": [
      "    Copnorm and demean the data\n",
      "Get list of multiplets\n"
     ]
    },
    {
     "data": {
      "application/vnd.jupyter.widget-view+json": {
       "model_id": "e334b6624ea14540a8d16b029301c135",
       "version_major": 2,
       "version_minor": 0
      },
      "text/plain": [
       "  0%|          |  0/3 [00:00<?,       ?it/s]"
      ]
     },
     "metadata": {},
     "output_type": "display_data"
    },
    {
     "name": "stderr",
     "output_type": "stream",
     "text": [
      "    Copnorm and demean the data\n",
      "Get list of multiplets\n"
     ]
    },
    {
     "data": {
      "application/vnd.jupyter.widget-view+json": {
       "model_id": "1c4eee0a893b42979d4c1d94e81bc8bf",
       "version_major": 2,
       "version_minor": 0
      },
      "text/plain": [
       "  0%|          |  0/3 [00:00<?,       ?it/s]"
      ]
     },
     "metadata": {},
     "output_type": "display_data"
    },
    {
     "name": "stderr",
     "output_type": "stream",
     "text": [
      "    Copnorm and demean the data\n",
      "Get list of multiplets\n"
     ]
    },
    {
     "data": {
      "application/vnd.jupyter.widget-view+json": {
       "model_id": "831aba1e8b81439f8d35c67242292787",
       "version_major": 2,
       "version_minor": 0
      },
      "text/plain": [
       "  0%|          |  0/3 [00:00<?,       ?it/s]"
      ]
     },
     "metadata": {},
     "output_type": "display_data"
    },
    {
     "name": "stderr",
     "output_type": "stream",
     "text": [
      "    Copnorm and demean the data\n",
      "Get list of multiplets\n"
     ]
    },
    {
     "data": {
      "application/vnd.jupyter.widget-view+json": {
       "model_id": "319a151c811f45cf92c10a03b18c10c7",
       "version_major": 2,
       "version_minor": 0
      },
      "text/plain": [
       "  0%|          |  0/3 [00:00<?,       ?it/s]"
      ]
     },
     "metadata": {},
     "output_type": "display_data"
    },
    {
     "name": "stderr",
     "output_type": "stream",
     "text": [
      "    Copnorm and demean the data\n",
      "Get list of multiplets\n"
     ]
    },
    {
     "data": {
      "application/vnd.jupyter.widget-view+json": {
       "model_id": "d48852a935424a80a52a6308ea35dcef",
       "version_major": 2,
       "version_minor": 0
      },
      "text/plain": [
       "  0%|          |  0/3 [00:00<?,       ?it/s]"
      ]
     },
     "metadata": {},
     "output_type": "display_data"
    },
    {
     "name": "stderr",
     "output_type": "stream",
     "text": [
      "    Copnorm and demean the data\n",
      "Get list of multiplets\n"
     ]
    },
    {
     "data": {
      "application/vnd.jupyter.widget-view+json": {
       "model_id": "ad161f2a0a7446fc9f3107af64a18de5",
       "version_major": 2,
       "version_minor": 0
      },
      "text/plain": [
       "  0%|          |  0/3 [00:00<?,       ?it/s]"
      ]
     },
     "metadata": {},
     "output_type": "display_data"
    },
    {
     "name": "stderr",
     "output_type": "stream",
     "text": [
      "    Copnorm and demean the data\n",
      "Get list of multiplets\n"
     ]
    },
    {
     "data": {
      "application/vnd.jupyter.widget-view+json": {
       "model_id": "4a0b1abce49d451d85cb0b9009cd1876",
       "version_major": 2,
       "version_minor": 0
      },
      "text/plain": [
       "  0%|          |  0/3 [00:00<?,       ?it/s]"
      ]
     },
     "metadata": {},
     "output_type": "display_data"
    },
    {
     "name": "stderr",
     "output_type": "stream",
     "text": [
      "    Copnorm and demean the data\n",
      "Get list of multiplets\n"
     ]
    },
    {
     "data": {
      "application/vnd.jupyter.widget-view+json": {
       "model_id": "436ff24529fa4f1b85e5f50835a14433",
       "version_major": 2,
       "version_minor": 0
      },
      "text/plain": [
       "  0%|          |  0/3 [00:00<?,       ?it/s]"
      ]
     },
     "metadata": {},
     "output_type": "display_data"
    },
    {
     "name": "stderr",
     "output_type": "stream",
     "text": [
      "    Copnorm and demean the data\n",
      "Get list of multiplets\n"
     ]
    },
    {
     "data": {
      "application/vnd.jupyter.widget-view+json": {
       "model_id": "aaf94882a3a14c2592cf7f561a15db47",
       "version_major": 2,
       "version_minor": 0
      },
      "text/plain": [
       "  0%|          |  0/3 [00:00<?,       ?it/s]"
      ]
     },
     "metadata": {},
     "output_type": "display_data"
    },
    {
     "name": "stderr",
     "output_type": "stream",
     "text": [
      "    Copnorm and demean the data\n",
      "Get list of multiplets\n"
     ]
    },
    {
     "data": {
      "application/vnd.jupyter.widget-view+json": {
       "model_id": "36f31a696419403096775e7277b02bbf",
       "version_major": 2,
       "version_minor": 0
      },
      "text/plain": [
       "  0%|          |  0/3 [00:00<?,       ?it/s]"
      ]
     },
     "metadata": {},
     "output_type": "display_data"
    },
    {
     "name": "stderr",
     "output_type": "stream",
     "text": [
      "    Copnorm and demean the data\n",
      "Get list of multiplets\n"
     ]
    },
    {
     "data": {
      "application/vnd.jupyter.widget-view+json": {
       "model_id": "49a6c1af16c349caa2e12553b6431c38",
       "version_major": 2,
       "version_minor": 0
      },
      "text/plain": [
       "  0%|          |  0/3 [00:00<?,       ?it/s]"
      ]
     },
     "metadata": {},
     "output_type": "display_data"
    },
    {
     "name": "stderr",
     "output_type": "stream",
     "text": [
      "    Copnorm and demean the data\n",
      "Get list of multiplets\n"
     ]
    },
    {
     "data": {
      "application/vnd.jupyter.widget-view+json": {
       "model_id": "4b963ca9e0dc4a14894c14aa32a5be94",
       "version_major": 2,
       "version_minor": 0
      },
      "text/plain": [
       "  0%|          |  0/3 [00:00<?,       ?it/s]"
      ]
     },
     "metadata": {},
     "output_type": "display_data"
    },
    {
     "name": "stderr",
     "output_type": "stream",
     "text": [
      "    Copnorm and demean the data\n",
      "Get list of multiplets\n"
     ]
    },
    {
     "data": {
      "application/vnd.jupyter.widget-view+json": {
       "model_id": "1a0d31f20104425a8d29bafa75a54daf",
       "version_major": 2,
       "version_minor": 0
      },
      "text/plain": [
       "  0%|          |  0/3 [00:00<?,       ?it/s]"
      ]
     },
     "metadata": {},
     "output_type": "display_data"
    },
    {
     "name": "stderr",
     "output_type": "stream",
     "text": [
      "    Copnorm and demean the data\n",
      "Get list of multiplets\n"
     ]
    },
    {
     "data": {
      "application/vnd.jupyter.widget-view+json": {
       "model_id": "0e965ac5b27d441f822e1cb6844795b4",
       "version_major": 2,
       "version_minor": 0
      },
      "text/plain": [
       "  0%|          |  0/3 [00:00<?,       ?it/s]"
      ]
     },
     "metadata": {},
     "output_type": "display_data"
    },
    {
     "name": "stderr",
     "output_type": "stream",
     "text": [
      "    Copnorm and demean the data\n",
      "Get list of multiplets\n"
     ]
    },
    {
     "data": {
      "application/vnd.jupyter.widget-view+json": {
       "model_id": "49e3a2e82668406db6b778b04a72aa2d",
       "version_major": 2,
       "version_minor": 0
      },
      "text/plain": [
       "  0%|          |  0/3 [00:00<?,       ?it/s]"
      ]
     },
     "metadata": {},
     "output_type": "display_data"
    },
    {
     "name": "stderr",
     "output_type": "stream",
     "text": [
      "    Copnorm and demean the data\n",
      "Get list of multiplets\n"
     ]
    },
    {
     "data": {
      "application/vnd.jupyter.widget-view+json": {
       "model_id": "836f2528201246ffb0b83d77065c1263",
       "version_major": 2,
       "version_minor": 0
      },
      "text/plain": [
       "  0%|          |  0/3 [00:00<?,       ?it/s]"
      ]
     },
     "metadata": {},
     "output_type": "display_data"
    },
    {
     "name": "stderr",
     "output_type": "stream",
     "text": [
      "    Copnorm and demean the data\n",
      "Get list of multiplets\n"
     ]
    },
    {
     "data": {
      "application/vnd.jupyter.widget-view+json": {
       "model_id": "b62a07a7941442dfb79e8c362afdce61",
       "version_major": 2,
       "version_minor": 0
      },
      "text/plain": [
       "  0%|          |  0/3 [00:00<?,       ?it/s]"
      ]
     },
     "metadata": {},
     "output_type": "display_data"
    },
    {
     "name": "stderr",
     "output_type": "stream",
     "text": [
      "    Copnorm and demean the data\n",
      "Get list of multiplets\n"
     ]
    },
    {
     "data": {
      "application/vnd.jupyter.widget-view+json": {
       "model_id": "9c97e5121c8546bfb446579727c72a17",
       "version_major": 2,
       "version_minor": 0
      },
      "text/plain": [
       "  0%|          |  0/3 [00:00<?,       ?it/s]"
      ]
     },
     "metadata": {},
     "output_type": "display_data"
    },
    {
     "name": "stderr",
     "output_type": "stream",
     "text": [
      "    Copnorm and demean the data\n",
      "Get list of multiplets\n"
     ]
    },
    {
     "data": {
      "application/vnd.jupyter.widget-view+json": {
       "model_id": "e5718cfbe8d34636933a6bffd85b946d",
       "version_major": 2,
       "version_minor": 0
      },
      "text/plain": [
       "  0%|          |  0/3 [00:00<?,       ?it/s]"
      ]
     },
     "metadata": {},
     "output_type": "display_data"
    },
    {
     "name": "stderr",
     "output_type": "stream",
     "text": [
      "    Copnorm and demean the data\n",
      "Get list of multiplets\n"
     ]
    },
    {
     "data": {
      "application/vnd.jupyter.widget-view+json": {
       "model_id": "85021b27e8be481e9a46b968ec69216c",
       "version_major": 2,
       "version_minor": 0
      },
      "text/plain": [
       "  0%|          |  0/3 [00:00<?,       ?it/s]"
      ]
     },
     "metadata": {},
     "output_type": "display_data"
    },
    {
     "name": "stderr",
     "output_type": "stream",
     "text": [
      "    Copnorm and demean the data\n",
      "Get list of multiplets\n"
     ]
    },
    {
     "data": {
      "application/vnd.jupyter.widget-view+json": {
       "model_id": "2c28664ce083448881479e431da735f8",
       "version_major": 2,
       "version_minor": 0
      },
      "text/plain": [
       "  0%|          |  0/3 [00:00<?,       ?it/s]"
      ]
     },
     "metadata": {},
     "output_type": "display_data"
    },
    {
     "name": "stderr",
     "output_type": "stream",
     "text": [
      "    Copnorm and demean the data\n",
      "Get list of multiplets\n"
     ]
    },
    {
     "data": {
      "application/vnd.jupyter.widget-view+json": {
       "model_id": "b28024a176ab4f75bf87c6f011d08043",
       "version_major": 2,
       "version_minor": 0
      },
      "text/plain": [
       "  0%|          |  0/3 [00:00<?,       ?it/s]"
      ]
     },
     "metadata": {},
     "output_type": "display_data"
    },
    {
     "name": "stderr",
     "output_type": "stream",
     "text": [
      "    Copnorm and demean the data\n",
      "Get list of multiplets\n"
     ]
    },
    {
     "data": {
      "application/vnd.jupyter.widget-view+json": {
       "model_id": "64db85039c824bc3a40e92f1724a98a8",
       "version_major": 2,
       "version_minor": 0
      },
      "text/plain": [
       "  0%|          |  0/3 [00:00<?,       ?it/s]"
      ]
     },
     "metadata": {},
     "output_type": "display_data"
    },
    {
     "name": "stderr",
     "output_type": "stream",
     "text": [
      "    Copnorm and demean the data\n",
      "Get list of multiplets\n"
     ]
    },
    {
     "data": {
      "application/vnd.jupyter.widget-view+json": {
       "model_id": "8ebf282b2bf04a4c8377d66fd7ebc7b2",
       "version_major": 2,
       "version_minor": 0
      },
      "text/plain": [
       "  0%|          |  0/3 [00:00<?,       ?it/s]"
      ]
     },
     "metadata": {},
     "output_type": "display_data"
    },
    {
     "name": "stderr",
     "output_type": "stream",
     "text": [
      "    Copnorm and demean the data\n",
      "Get list of multiplets\n"
     ]
    },
    {
     "data": {
      "application/vnd.jupyter.widget-view+json": {
       "model_id": "f07b91a4a78746b0a3678a4645c5864f",
       "version_major": 2,
       "version_minor": 0
      },
      "text/plain": [
       "  0%|          |  0/3 [00:00<?,       ?it/s]"
      ]
     },
     "metadata": {},
     "output_type": "display_data"
    },
    {
     "name": "stderr",
     "output_type": "stream",
     "text": [
      "    Copnorm and demean the data\n",
      "Get list of multiplets\n"
     ]
    },
    {
     "data": {
      "application/vnd.jupyter.widget-view+json": {
       "model_id": "0efc87be6a1b4f89aa1b028793580a25",
       "version_major": 2,
       "version_minor": 0
      },
      "text/plain": [
       "  0%|          |  0/3 [00:00<?,       ?it/s]"
      ]
     },
     "metadata": {},
     "output_type": "display_data"
    },
    {
     "name": "stderr",
     "output_type": "stream",
     "text": [
      "    Copnorm and demean the data\n",
      "Get list of multiplets\n"
     ]
    },
    {
     "data": {
      "application/vnd.jupyter.widget-view+json": {
       "model_id": "983e40bf219d43f085c9e129b91aaf3b",
       "version_major": 2,
       "version_minor": 0
      },
      "text/plain": [
       "  0%|          |  0/3 [00:00<?,       ?it/s]"
      ]
     },
     "metadata": {},
     "output_type": "display_data"
    },
    {
     "name": "stderr",
     "output_type": "stream",
     "text": [
      "    Copnorm and demean the data\n",
      "Get list of multiplets\n"
     ]
    },
    {
     "data": {
      "application/vnd.jupyter.widget-view+json": {
       "model_id": "4bd1e10bbfdc4d0f8478d42bc2a41942",
       "version_major": 2,
       "version_minor": 0
      },
      "text/plain": [
       "  0%|          |  0/3 [00:00<?,       ?it/s]"
      ]
     },
     "metadata": {},
     "output_type": "display_data"
    },
    {
     "name": "stderr",
     "output_type": "stream",
     "text": [
      "    Copnorm and demean the data\n",
      "Get list of multiplets\n"
     ]
    },
    {
     "data": {
      "application/vnd.jupyter.widget-view+json": {
       "model_id": "830796e33367428493e32bf62defffd6",
       "version_major": 2,
       "version_minor": 0
      },
      "text/plain": [
       "  0%|          |  0/3 [00:00<?,       ?it/s]"
      ]
     },
     "metadata": {},
     "output_type": "display_data"
    },
    {
     "name": "stderr",
     "output_type": "stream",
     "text": [
      "    Copnorm and demean the data\n",
      "Get list of multiplets\n"
     ]
    },
    {
     "data": {
      "application/vnd.jupyter.widget-view+json": {
       "model_id": "67170cd1409d4629aa56c45dd76d49c4",
       "version_major": 2,
       "version_minor": 0
      },
      "text/plain": [
       "  0%|          |  0/3 [00:00<?,       ?it/s]"
      ]
     },
     "metadata": {},
     "output_type": "display_data"
    },
    {
     "name": "stderr",
     "output_type": "stream",
     "text": [
      "    Copnorm and demean the data\n",
      "Get list of multiplets\n"
     ]
    },
    {
     "data": {
      "application/vnd.jupyter.widget-view+json": {
       "model_id": "bc074c23bf764abb8e891495ca5d6382",
       "version_major": 2,
       "version_minor": 0
      },
      "text/plain": [
       "  0%|          |  0/3 [00:00<?,       ?it/s]"
      ]
     },
     "metadata": {},
     "output_type": "display_data"
    },
    {
     "name": "stderr",
     "output_type": "stream",
     "text": [
      "    Copnorm and demean the data\n",
      "Get list of multiplets\n"
     ]
    },
    {
     "data": {
      "application/vnd.jupyter.widget-view+json": {
       "model_id": "9aad257a5f3349d0aa52df4da90a7f21",
       "version_major": 2,
       "version_minor": 0
      },
      "text/plain": [
       "  0%|          |  0/3 [00:00<?,       ?it/s]"
      ]
     },
     "metadata": {},
     "output_type": "display_data"
    },
    {
     "name": "stderr",
     "output_type": "stream",
     "text": [
      "    Copnorm and demean the data\n",
      "Get list of multiplets\n"
     ]
    },
    {
     "data": {
      "application/vnd.jupyter.widget-view+json": {
       "model_id": "bf28cfd5b80148788e6013a72df64275",
       "version_major": 2,
       "version_minor": 0
      },
      "text/plain": [
       "  0%|          |  0/3 [00:00<?,       ?it/s]"
      ]
     },
     "metadata": {},
     "output_type": "display_data"
    },
    {
     "name": "stderr",
     "output_type": "stream",
     "text": [
      "    Copnorm and demean the data\n",
      "Get list of multiplets\n"
     ]
    },
    {
     "data": {
      "application/vnd.jupyter.widget-view+json": {
       "model_id": "6731957a057344a8a6c586b3e9dc72e0",
       "version_major": 2,
       "version_minor": 0
      },
      "text/plain": [
       "  0%|          |  0/3 [00:00<?,       ?it/s]"
      ]
     },
     "metadata": {},
     "output_type": "display_data"
    },
    {
     "name": "stderr",
     "output_type": "stream",
     "text": [
      "    Copnorm and demean the data\n",
      "Get list of multiplets\n"
     ]
    },
    {
     "data": {
      "application/vnd.jupyter.widget-view+json": {
       "model_id": "6b98906d106449da98a14e57f348bcfb",
       "version_major": 2,
       "version_minor": 0
      },
      "text/plain": [
       "  0%|          |  0/3 [00:00<?,       ?it/s]"
      ]
     },
     "metadata": {},
     "output_type": "display_data"
    },
    {
     "name": "stderr",
     "output_type": "stream",
     "text": [
      "    Copnorm and demean the data\n",
      "Get list of multiplets\n"
     ]
    },
    {
     "data": {
      "application/vnd.jupyter.widget-view+json": {
       "model_id": "fc50d64957054e1e947d201e54ba10ee",
       "version_major": 2,
       "version_minor": 0
      },
      "text/plain": [
       "  0%|          |  0/3 [00:00<?,       ?it/s]"
      ]
     },
     "metadata": {},
     "output_type": "display_data"
    },
    {
     "name": "stderr",
     "output_type": "stream",
     "text": [
      "    Copnorm and demean the data\n",
      "Get list of multiplets\n"
     ]
    },
    {
     "data": {
      "application/vnd.jupyter.widget-view+json": {
       "model_id": "24841016c6b8442ea8a7cff895ff0cc8",
       "version_major": 2,
       "version_minor": 0
      },
      "text/plain": [
       "  0%|          |  0/3 [00:00<?,       ?it/s]"
      ]
     },
     "metadata": {},
     "output_type": "display_data"
    },
    {
     "name": "stderr",
     "output_type": "stream",
     "text": [
      "    Copnorm and demean the data\n",
      "Get list of multiplets\n"
     ]
    },
    {
     "data": {
      "application/vnd.jupyter.widget-view+json": {
       "model_id": "62c20e2b1331467db6cb91cf2eb4e23d",
       "version_major": 2,
       "version_minor": 0
      },
      "text/plain": [
       "  0%|          |  0/3 [00:00<?,       ?it/s]"
      ]
     },
     "metadata": {},
     "output_type": "display_data"
    },
    {
     "name": "stderr",
     "output_type": "stream",
     "text": [
      "    Copnorm and demean the data\n",
      "Get list of multiplets\n"
     ]
    },
    {
     "data": {
      "application/vnd.jupyter.widget-view+json": {
       "model_id": "c0a6ae8ad14f4234ad6466768906064a",
       "version_major": 2,
       "version_minor": 0
      },
      "text/plain": [
       "  0%|          |  0/3 [00:00<?,       ?it/s]"
      ]
     },
     "metadata": {},
     "output_type": "display_data"
    },
    {
     "name": "stderr",
     "output_type": "stream",
     "text": [
      "    Copnorm and demean the data\n",
      "Get list of multiplets\n"
     ]
    },
    {
     "data": {
      "application/vnd.jupyter.widget-view+json": {
       "model_id": "f9fb88ff952d4f6288281bac2e3c67bf",
       "version_major": 2,
       "version_minor": 0
      },
      "text/plain": [
       "  0%|          |  0/3 [00:00<?,       ?it/s]"
      ]
     },
     "metadata": {},
     "output_type": "display_data"
    },
    {
     "name": "stderr",
     "output_type": "stream",
     "text": [
      "    Copnorm and demean the data\n",
      "Get list of multiplets\n"
     ]
    },
    {
     "data": {
      "application/vnd.jupyter.widget-view+json": {
       "model_id": "01bd7d0e8c47472aa9e8c68481e06154",
       "version_major": 2,
       "version_minor": 0
      },
      "text/plain": [
       "  0%|          |  0/3 [00:00<?,       ?it/s]"
      ]
     },
     "metadata": {},
     "output_type": "display_data"
    },
    {
     "name": "stderr",
     "output_type": "stream",
     "text": [
      "    Copnorm and demean the data\n",
      "Get list of multiplets\n"
     ]
    },
    {
     "data": {
      "application/vnd.jupyter.widget-view+json": {
       "model_id": "5d4c4d51a6944ea6adce871df9adfeed",
       "version_major": 2,
       "version_minor": 0
      },
      "text/plain": [
       "  0%|          |  0/3 [00:00<?,       ?it/s]"
      ]
     },
     "metadata": {},
     "output_type": "display_data"
    },
    {
     "name": "stderr",
     "output_type": "stream",
     "text": [
      "    Copnorm and demean the data\n",
      "Get list of multiplets\n"
     ]
    },
    {
     "data": {
      "application/vnd.jupyter.widget-view+json": {
       "model_id": "9cad49a9c8624737b14cc4afc7497924",
       "version_major": 2,
       "version_minor": 0
      },
      "text/plain": [
       "  0%|          |  0/3 [00:00<?,       ?it/s]"
      ]
     },
     "metadata": {},
     "output_type": "display_data"
    },
    {
     "name": "stderr",
     "output_type": "stream",
     "text": [
      "    Copnorm and demean the data\n",
      "Get list of multiplets\n"
     ]
    },
    {
     "data": {
      "application/vnd.jupyter.widget-view+json": {
       "model_id": "70ee9b528ae244d3a645dfe08cfc8829",
       "version_major": 2,
       "version_minor": 0
      },
      "text/plain": [
       "  0%|          |  0/3 [00:00<?,       ?it/s]"
      ]
     },
     "metadata": {},
     "output_type": "display_data"
    },
    {
     "name": "stderr",
     "output_type": "stream",
     "text": [
      "    Copnorm and demean the data\n",
      "Get list of multiplets\n"
     ]
    },
    {
     "data": {
      "application/vnd.jupyter.widget-view+json": {
       "model_id": "4286b344072b488785b29754951ff9b1",
       "version_major": 2,
       "version_minor": 0
      },
      "text/plain": [
       "  0%|          |  0/3 [00:00<?,       ?it/s]"
      ]
     },
     "metadata": {},
     "output_type": "display_data"
    },
    {
     "name": "stderr",
     "output_type": "stream",
     "text": [
      "    Copnorm and demean the data\n",
      "Get list of multiplets\n"
     ]
    },
    {
     "data": {
      "application/vnd.jupyter.widget-view+json": {
       "model_id": "46dcdc7bd66d43b1872e13cabbfdfecb",
       "version_major": 2,
       "version_minor": 0
      },
      "text/plain": [
       "  0%|          |  0/3 [00:00<?,       ?it/s]"
      ]
     },
     "metadata": {},
     "output_type": "display_data"
    },
    {
     "name": "stderr",
     "output_type": "stream",
     "text": [
      "    Copnorm and demean the data\n",
      "Get list of multiplets\n"
     ]
    },
    {
     "data": {
      "application/vnd.jupyter.widget-view+json": {
       "model_id": "1a2a49ab02e248fa95238bcc6cc9b7d4",
       "version_major": 2,
       "version_minor": 0
      },
      "text/plain": [
       "  0%|          |  0/3 [00:00<?,       ?it/s]"
      ]
     },
     "metadata": {},
     "output_type": "display_data"
    },
    {
     "name": "stderr",
     "output_type": "stream",
     "text": [
      "    Copnorm and demean the data\n",
      "Get list of multiplets\n"
     ]
    },
    {
     "data": {
      "application/vnd.jupyter.widget-view+json": {
       "model_id": "c9afd986ec6c4f2d8a173548b11258ff",
       "version_major": 2,
       "version_minor": 0
      },
      "text/plain": [
       "  0%|          |  0/3 [00:00<?,       ?it/s]"
      ]
     },
     "metadata": {},
     "output_type": "display_data"
    },
    {
     "name": "stderr",
     "output_type": "stream",
     "text": [
      "    Copnorm and demean the data\n",
      "Get list of multiplets\n"
     ]
    },
    {
     "data": {
      "application/vnd.jupyter.widget-view+json": {
       "model_id": "da5d2e2f6f50496a998a1cdee5d74984",
       "version_major": 2,
       "version_minor": 0
      },
      "text/plain": [
       "  0%|          |  0/3 [00:00<?,       ?it/s]"
      ]
     },
     "metadata": {},
     "output_type": "display_data"
    },
    {
     "name": "stderr",
     "output_type": "stream",
     "text": [
      "    Copnorm and demean the data\n",
      "Get list of multiplets\n"
     ]
    },
    {
     "data": {
      "application/vnd.jupyter.widget-view+json": {
       "model_id": "deeb9fc5040b44459bea911b9b860375",
       "version_major": 2,
       "version_minor": 0
      },
      "text/plain": [
       "  0%|          |  0/3 [00:00<?,       ?it/s]"
      ]
     },
     "metadata": {},
     "output_type": "display_data"
    },
    {
     "name": "stderr",
     "output_type": "stream",
     "text": [
      "    Copnorm and demean the data\n",
      "Get list of multiplets\n"
     ]
    },
    {
     "data": {
      "application/vnd.jupyter.widget-view+json": {
       "model_id": "d16385a8e4ff4f5f8dddedcc2fe52fab",
       "version_major": 2,
       "version_minor": 0
      },
      "text/plain": [
       "  0%|          |  0/3 [00:00<?,       ?it/s]"
      ]
     },
     "metadata": {},
     "output_type": "display_data"
    },
    {
     "name": "stderr",
     "output_type": "stream",
     "text": [
      "    Copnorm and demean the data\n",
      "Get list of multiplets\n"
     ]
    },
    {
     "data": {
      "application/vnd.jupyter.widget-view+json": {
       "model_id": "3a42ffade8ec44cab53b1c956dfa3403",
       "version_major": 2,
       "version_minor": 0
      },
      "text/plain": [
       "  0%|          |  0/3 [00:00<?,       ?it/s]"
      ]
     },
     "metadata": {},
     "output_type": "display_data"
    },
    {
     "name": "stderr",
     "output_type": "stream",
     "text": [
      "    Copnorm and demean the data\n",
      "Get list of multiplets\n"
     ]
    },
    {
     "data": {
      "application/vnd.jupyter.widget-view+json": {
       "model_id": "d766b04125694649a6b1d466e70f6a79",
       "version_major": 2,
       "version_minor": 0
      },
      "text/plain": [
       "  0%|          |  0/3 [00:00<?,       ?it/s]"
      ]
     },
     "metadata": {},
     "output_type": "display_data"
    },
    {
     "name": "stderr",
     "output_type": "stream",
     "text": [
      "    Copnorm and demean the data\n",
      "Get list of multiplets\n"
     ]
    },
    {
     "data": {
      "application/vnd.jupyter.widget-view+json": {
       "model_id": "9c9ad1406265403194ce380c48639aae",
       "version_major": 2,
       "version_minor": 0
      },
      "text/plain": [
       "  0%|          |  0/3 [00:00<?,       ?it/s]"
      ]
     },
     "metadata": {},
     "output_type": "display_data"
    },
    {
     "name": "stderr",
     "output_type": "stream",
     "text": [
      "    Copnorm and demean the data\n",
      "Get list of multiplets\n"
     ]
    },
    {
     "data": {
      "application/vnd.jupyter.widget-view+json": {
       "model_id": "1328fa862c614fc398ca8dd749d8e4b7",
       "version_major": 2,
       "version_minor": 0
      },
      "text/plain": [
       "  0%|          |  0/3 [00:00<?,       ?it/s]"
      ]
     },
     "metadata": {},
     "output_type": "display_data"
    },
    {
     "name": "stderr",
     "output_type": "stream",
     "text": [
      "    Copnorm and demean the data\n",
      "Get list of multiplets\n"
     ]
    },
    {
     "data": {
      "application/vnd.jupyter.widget-view+json": {
       "model_id": "dff4108863df44ceb0d9427be76dda83",
       "version_major": 2,
       "version_minor": 0
      },
      "text/plain": [
       "  0%|          |  0/3 [00:00<?,       ?it/s]"
      ]
     },
     "metadata": {},
     "output_type": "display_data"
    },
    {
     "name": "stderr",
     "output_type": "stream",
     "text": [
      "    Copnorm and demean the data\n",
      "Get list of multiplets\n"
     ]
    },
    {
     "data": {
      "application/vnd.jupyter.widget-view+json": {
       "model_id": "1719f97be8c84ac2a07ec9e99d6419d2",
       "version_major": 2,
       "version_minor": 0
      },
      "text/plain": [
       "  0%|          |  0/3 [00:00<?,       ?it/s]"
      ]
     },
     "metadata": {},
     "output_type": "display_data"
    },
    {
     "name": "stderr",
     "output_type": "stream",
     "text": [
      "    Copnorm and demean the data\n",
      "Get list of multiplets\n"
     ]
    },
    {
     "data": {
      "application/vnd.jupyter.widget-view+json": {
       "model_id": "a03fecb07b4c4aaeb206611afc3ddb9e",
       "version_major": 2,
       "version_minor": 0
      },
      "text/plain": [
       "  0%|          |  0/3 [00:00<?,       ?it/s]"
      ]
     },
     "metadata": {},
     "output_type": "display_data"
    },
    {
     "name": "stderr",
     "output_type": "stream",
     "text": [
      "    Copnorm and demean the data\n",
      "Get list of multiplets\n"
     ]
    },
    {
     "data": {
      "application/vnd.jupyter.widget-view+json": {
       "model_id": "efbabdaf4bff477c9e3dce3688c14f17",
       "version_major": 2,
       "version_minor": 0
      },
      "text/plain": [
       "  0%|          |  0/3 [00:00<?,       ?it/s]"
      ]
     },
     "metadata": {},
     "output_type": "display_data"
    },
    {
     "name": "stderr",
     "output_type": "stream",
     "text": [
      "    Copnorm and demean the data\n",
      "Get list of multiplets\n"
     ]
    },
    {
     "data": {
      "application/vnd.jupyter.widget-view+json": {
       "model_id": "82d2cd3d201543ae9aa16de7e6ddee6d",
       "version_major": 2,
       "version_minor": 0
      },
      "text/plain": [
       "  0%|          |  0/3 [00:00<?,       ?it/s]"
      ]
     },
     "metadata": {},
     "output_type": "display_data"
    },
    {
     "name": "stderr",
     "output_type": "stream",
     "text": [
      "    Copnorm and demean the data\n",
      "Get list of multiplets\n"
     ]
    },
    {
     "data": {
      "application/vnd.jupyter.widget-view+json": {
       "model_id": "f6c80bd5b71a4a7d961d119405630416",
       "version_major": 2,
       "version_minor": 0
      },
      "text/plain": [
       "  0%|          |  0/3 [00:00<?,       ?it/s]"
      ]
     },
     "metadata": {},
     "output_type": "display_data"
    },
    {
     "name": "stderr",
     "output_type": "stream",
     "text": [
      "    Copnorm and demean the data\n",
      "Get list of multiplets\n"
     ]
    },
    {
     "data": {
      "application/vnd.jupyter.widget-view+json": {
       "model_id": "b7983b2d096b4d5bb12be09b88e7480a",
       "version_major": 2,
       "version_minor": 0
      },
      "text/plain": [
       "  0%|          |  0/3 [00:00<?,       ?it/s]"
      ]
     },
     "metadata": {},
     "output_type": "display_data"
    },
    {
     "name": "stderr",
     "output_type": "stream",
     "text": [
      "    Copnorm and demean the data\n",
      "Get list of multiplets\n"
     ]
    },
    {
     "data": {
      "application/vnd.jupyter.widget-view+json": {
       "model_id": "49b7afd003d44f9f8605bdf79725c80d",
       "version_major": 2,
       "version_minor": 0
      },
      "text/plain": [
       "  0%|          |  0/3 [00:00<?,       ?it/s]"
      ]
     },
     "metadata": {},
     "output_type": "display_data"
    },
    {
     "name": "stderr",
     "output_type": "stream",
     "text": [
      "    Copnorm and demean the data\n",
      "Get list of multiplets\n"
     ]
    },
    {
     "data": {
      "application/vnd.jupyter.widget-view+json": {
       "model_id": "7ba58d217f404b129bd1a18fafa42537",
       "version_major": 2,
       "version_minor": 0
      },
      "text/plain": [
       "  0%|          |  0/3 [00:00<?,       ?it/s]"
      ]
     },
     "metadata": {},
     "output_type": "display_data"
    },
    {
     "name": "stderr",
     "output_type": "stream",
     "text": [
      "    Copnorm and demean the data\n",
      "Get list of multiplets\n"
     ]
    },
    {
     "data": {
      "application/vnd.jupyter.widget-view+json": {
       "model_id": "1ffc5c3dcd404a448083aeee043a5adc",
       "version_major": 2,
       "version_minor": 0
      },
      "text/plain": [
       "  0%|          |  0/3 [00:00<?,       ?it/s]"
      ]
     },
     "metadata": {},
     "output_type": "display_data"
    }
   ],
   "source": [
    "data_directory = r'Data\\Artificial_data\\Synergistic_timeseries'\n",
    "metrics = [InfoTopo, TC, DTC, Sinfo, Oinfo, RedundancyphiID, SynergyphiID]\n",
    "timeseries_percentage = 1\n",
    "window_percentage = 0.5\n",
    "step_percentage = 0.05\n",
    "\n",
    "main(data_directory, metrics, timeseries_percentage, window_percentage, step_percentage)"
   ]
  }
 ],
 "metadata": {
  "kernelspec": {
   "display_name": "base",
   "language": "python",
   "name": "python3"
  },
  "language_info": {
   "codemirror_mode": {
    "name": "ipython",
    "version": 3
   },
   "file_extension": ".py",
   "mimetype": "text/x-python",
   "name": "python",
   "nbconvert_exporter": "python",
   "pygments_lexer": "ipython3",
   "version": "3.12.4"
  }
 },
 "nbformat": 4,
 "nbformat_minor": 5
}

{
 "cells": [
  {
   "cell_type": "markdown",
   "id": "f3c97e84",
   "metadata": {},
   "source": [
    "Import libraries"
   ]
  },
  {
   "cell_type": "code",
   "execution_count": 49,
   "id": "eea4be5c",
   "metadata": {},
   "outputs": [],
   "source": [
    "import numpy as np\n",
    "import pandas as pd\n",
    "import os\n",
    "import pickle\n",
    "import glob\n",
    "from collections import defaultdict\n",
    "import matplotlib.pyplot as plt\n",
    "from hoi.metrics import InfoTopo, TC, DTC, Sinfo, Oinfo, RedundancyphiID, SynergyphiID\n",
    "from hoi.core import entropy_hist"
   ]
  },
  {
   "cell_type": "markdown",
   "id": "eec32e06",
   "metadata": {},
   "source": [
    "Define functions"
   ]
  },
  {
   "cell_type": "code",
   "execution_count": 122,
   "id": "465ee0a8",
   "metadata": {},
   "outputs": [],
   "source": [
    "# --- Core Functions ---\n",
    "def compute_information_metric(metric_class, data):\n",
    "    \"\"\"Compute information metric on data using a given metric class.\"\"\"\n",
    "    data_array = np.array(data, dtype=float)\n",
    "    model = metric_class(data_array)\n",
    "    result = model.fit(minsize=1, maxsize=5)\n",
    "    return result, model\n",
    "\n",
    "def divide_list_by_order(values, model):\n",
    "    \"\"\"Divide values into groups by interaction order.\"\"\"\n",
    "    orders = model.order\n",
    "    grouped = defaultdict(list)\n",
    "    for order, val in zip(orders, values):\n",
    "        grouped[order].append(val.item())\n",
    "    return {k: sorted(v) for k, v in grouped.items()}\n",
    "\n",
    "def analyse_information_metric(metric_class, data):\n",
    "    \"\"\"Analyze data using a specified metric and return grouped results.\"\"\"\n",
    "    values, model = compute_information_metric(metric_class, data)\n",
    "    return divide_list_by_order(values, model)\n",
    "\n",
    "def sliding_window_analysis(metric_class, timeseries, window_size, step_size):\n",
    "    \"\"\"Apply a metric using a sliding window over a time series.\"\"\"\n",
    "    results = []\n",
    "    for start in range(0, len(timeseries) - window_size, step_size):\n",
    "        window_data = timeseries[start:start + window_size]\n",
    "        result = analyse_information_metric(metric_class, window_data)\n",
    "        results.append(dict(result))\n",
    "    return results\n",
    "\n",
    "def average_metric_data(simulations):\n",
    "    \"\"\"Prepare averaged metric data for heatmap visualization.\"\"\"\n",
    "    key_indices = set(\n",
    "        (k, idx) for sim in simulations for step in sim for k, v in step.items() for idx in range(len(v))\n",
    "    )\n",
    "    sorted_keys = sorted(key_indices)\n",
    "\n",
    "    data = []\n",
    "    for t in range(len(simulations[0])):\n",
    "        avg_step = {\n",
    "            (k, idx): np.mean([sim[t].get(k, [0.0]*(idx+1))[idx] for sim in simulations])\n",
    "            for k, idx in sorted_keys\n",
    "        }\n",
    "        data.append([avg_step[(k, idx)] for k, idx in sorted_keys])\n",
    "\n",
    "    label_pos = {k: max(i for i, (key, _) in enumerate(sorted_keys) if key == k) for k, _ in sorted_keys}\n",
    "    labels = list(label_pos.keys())\n",
    "\n",
    "    return np.array(data), labels, label_pos\n",
    "\n",
    "def compute_simulation_averages(metric_sims):\n",
    "    \"\"\"Average metric values across simulations and time.\"\"\"\n",
    "    all_sim_averages = [\n",
    "        [np.mean([val for values in step.values() for val in values]) for step in sim]\n",
    "        for sim in metric_sims\n",
    "    ]\n",
    "    combined_avg = np.mean(all_sim_averages, axis=0)\n",
    "    return (*all_sim_averages, combined_avg)\n",
    "\n",
    "# --- Additional Metric Functions ---\n",
    "def compute_synergy_redundancy_CR(metric_results):\n",
    "    redundancy_new = []\n",
    "    synergy_new = []\n",
    "\n",
    "    for sim1, sim2 in zip(metric_results['InfoTopo'], metric_results['TC']):\n",
    "        redundancy_sim = []\n",
    "        synergy_sim = []\n",
    "        for step1, step2 in zip(sim1, sim2):\n",
    "            keys = set(step1.keys()) | set(step2.keys())\n",
    "            redundancy_step = {}\n",
    "            synergy_step = {}\n",
    "            for k in keys:\n",
    "                vals1 = step1.get(k, [])\n",
    "                vals2 = step2.get(k, [])\n",
    "                max_len = max(len(vals1), len(vals2))\n",
    "                v1 = np.array(vals1 + [0.0] * (max_len - len(vals1)))\n",
    "                v2 = np.array(vals2 + [0.0] * (max_len - len(vals2)))\n",
    "                redundancy_step[k] = ((v1 + v2) / 2).tolist()\n",
    "                synergy_step[k] = ((v2 - v1) / 2).tolist()\n",
    "            redundancy_sim.append(redundancy_step)\n",
    "            synergy_sim.append(synergy_step)\n",
    "        redundancy_new.append(redundancy_sim)\n",
    "        synergy_new.append(synergy_sim)\n",
    "\n",
    "    metric_results[\"Redundancy_CR\"] = redundancy_new\n",
    "    metric_results[\"Synergy_CR\"] = synergy_new\n",
    "\n",
    "def compute_average_TC(metric_results):\n",
    "    TC_average = []\n",
    "    for sim in metric_results['TC']:\n",
    "        TC_sim = []\n",
    "        for step in sim:\n",
    "            TC_step = {}\n",
    "            for k, vals in step.items():\n",
    "                if vals:  # Avoid division by zero\n",
    "                    avg = sum(vals) / len(vals)\n",
    "                    TC_step[k] = [avg] * len(vals)\n",
    "                else:\n",
    "                    TC_step[k] = []\n",
    "            TC_sim.append(TC_step)\n",
    "        TC_average.append(TC_sim)\n",
    "    metric_results[\"TC_average\"] = TC_average\n",
    "\n",
    "def compute_tse_values(TC_dict):\n",
    "    \"\"\"\n",
    "    Computes TSE complexity values for each subset of the input TC_dict.\n",
    "    For each subset size N, this function computes TSE values assuming\n",
    "    only one value is used for the total correlation of size N at a time.\n",
    "\n",
    "    Parameters:\n",
    "        TC_dict (dict): Dictionary where keys are integers representing subset sizes,\n",
    "                        and values are lists of total correlations.\n",
    "\n",
    "    Returns:\n",
    "        dict: TSE_values where each key is a subset size, and the value is a list\n",
    "              of TSE complexities corresponding to each value in TC_dict[N].\n",
    "    \"\"\"\n",
    "    \n",
    "    def compute_tse_complexity(sub_TC_dict):\n",
    "        N = max(sub_TC_dict.keys())  # Maximum subset size\n",
    "        TSE = 0\n",
    "\n",
    "        TC_full_list = sub_TC_dict.get(N, [])\n",
    "        if not TC_full_list:\n",
    "            raise ValueError(f\"No total correlation data found for full set size N={N}.\")\n",
    "        TC_full = np.mean(TC_full_list)\n",
    "\n",
    "        for gamma in range(1, N):\n",
    "            subset_tcs = sub_TC_dict.get(gamma, [])\n",
    "            if not subset_tcs:\n",
    "                continue\n",
    "            E_TC_gamma = np.mean(subset_tcs)\n",
    "            TSE += (gamma / N) * TC_full - E_TC_gamma\n",
    "\n",
    "        return TSE\n",
    "\n",
    "    TSE_values = {}\n",
    "\n",
    "    for max_k in sorted(TC_dict.keys()):\n",
    "        partial_dict = {k: TC_dict[k] for k in range(1, max_k + 1)}\n",
    "        TSE_values[max_k] = []\n",
    "        for i in range(len(TC_dict[max_k])):\n",
    "            temp_dict = {k: TC_dict[k] for k in range(1, max_k)}\n",
    "            temp_dict[max_k] = [TC_dict[max_k][i]]\n",
    "            try:\n",
    "                tse = compute_tse_complexity(temp_dict)\n",
    "                TSE_values[max_k].append(tse)\n",
    "            except ValueError as e:\n",
    "                TSE_values[max_k].append(None)\n",
    "                print(f\"Error for key {max_k}, index {i}: {e}\")\n",
    "\n",
    "    return TSE_values\n",
    "\n",
    "def compute_TSE_complexity(metric_results):\n",
    "    TSE_values = []\n",
    "    for sim in metric_results['TC']:\n",
    "        TSE_sim = []\n",
    "        for step in sim:\n",
    "            print(step)\n",
    "            TSE_step = compute_tse_values(step)\n",
    "            TSE_sim.append(TSE_step)\n",
    "        TSE_values.append(TSE_sim)\n",
    "    metric_results[\"TSE_complexity\"] = TSE_values\n",
    "\n",
    "# --- Data Loading ---\n",
    "def load_csv_files_from_directory(directory):\n",
    "    return glob.glob(os.path.join(directory, '*.csv'))\n",
    "\n",
    "# --- Main Execution ---\n",
    "def main(data_dir, metrics_classes=[InfoTopo, TC, Oinfo], timeseries_percentage=1, window_percentage=0.5, step_percentage=0.1):\n",
    "    files = load_csv_files_from_directory(data_dir)\n",
    "\n",
    "    metric_results = {}\n",
    "    for metric in metrics_classes:\n",
    "        metric_name = metric.__name__\n",
    "        all_sims = []\n",
    "        for file_path in files:\n",
    "            df = pd.read_csv(file_path)\n",
    "            df_length = int(timeseries_percentage * len(df))\n",
    "            df = df[:df_length]\n",
    "            window = int(window_percentage * len(df))\n",
    "            step = int(step_percentage * len(df))\n",
    "            sim_result = sliding_window_analysis(metric, df, window, step)\n",
    "            all_sims.append(sim_result)\n",
    "        metric_results[metric_name] = all_sims\n",
    "\n",
    "    compute_synergy_redundancy_CR(metric_results)\n",
    "    compute_average_TC(metric_results)\n",
    "    compute_TSE_complexity(metric_results)\n",
    "\n",
    "    heatmap_data = {k: average_metric_data(v) for k, v in metric_results.items()}\n",
    "    averages_data = {k: compute_simulation_averages(v) for k, v in metric_results.items()}\n",
    "\n",
    "    heatmap_path = os.path.join(data_dir, \"heatmap_data.pkl\")\n",
    "    averages_path = os.path.join(data_dir, \"averages_data.pkl\")\n",
    "\n",
    "    with open(heatmap_path, \"wb\") as f:\n",
    "        pickle.dump(heatmap_data, f)\n",
    "\n",
    "    with open(averages_path, \"wb\") as f:\n",
    "        pickle.dump(averages_data, f)"
   ]
  },
  {
   "cell_type": "markdown",
   "id": "a962e7f0",
   "metadata": {},
   "source": [
    "Check the length of the timeseries in the desired dataset"
   ]
  },
  {
   "cell_type": "code",
   "execution_count": 118,
   "id": "645d44be",
   "metadata": {},
   "outputs": [
    {
     "name": "stdout",
     "output_type": "stream",
     "text": [
      "Data\\Kuramoto_data\\Traditional\\kuramoto_frequencies_timeseries_N8_K3.0_T20_1.csv\n"
     ]
    },
    {
     "data": {
      "text/plain": [
       "2000"
      ]
     },
     "execution_count": 118,
     "metadata": {},
     "output_type": "execute_result"
    }
   ],
   "source": [
    "directory = r'Data\\Kuramoto_data\\Traditional'\n",
    "csv_files = glob.glob(os.path.join(directory, '*.csv'))\n",
    "print(csv_files[0])\n",
    "df = pd.read_csv(csv_files[0])\n",
    "len(df)"
   ]
  },
  {
   "cell_type": "markdown",
   "id": "f86ae139",
   "metadata": {},
   "source": [
    "Compute and store the desired metrics"
   ]
  },
  {
   "cell_type": "code",
   "execution_count": 125,
   "id": "5b66672a",
   "metadata": {},
   "outputs": [
    {
     "name": "stderr",
     "output_type": "stream",
     "text": [
      "Compute entropy with gc\n",
      "    Copnorm and demean the data\n",
      "Get list of multiplets\n"
     ]
    },
    {
     "data": {
      "application/vnd.jupyter.widget-view+json": {
       "model_id": "3b630b4a25fd46c1a853dc447092b6db",
       "version_major": 2,
       "version_minor": 0
      },
      "text/plain": [
       "  0%|          |  0/5 [00:00<?,       ?it/s]"
      ]
     },
     "metadata": {},
     "output_type": "display_data"
    },
    {
     "name": "stderr",
     "output_type": "stream",
     "text": [
      "Get list of multiplets\n"
     ]
    },
    {
     "data": {
      "application/vnd.jupyter.widget-view+json": {
       "model_id": "1eec4bd625594ca9960732e40dddbe12",
       "version_major": 2,
       "version_minor": 0
      },
      "text/plain": [
       "  0%|          | 0/218 [00:00<?, ?it/s]"
      ]
     },
     "metadata": {},
     "output_type": "display_data"
    },
    {
     "name": "stderr",
     "output_type": "stream",
     "text": [
      "Compute entropy with gc\n",
      "    Copnorm and demean the data\n",
      "Get list of multiplets\n"
     ]
    },
    {
     "data": {
      "application/vnd.jupyter.widget-view+json": {
       "model_id": "46cf985c0f9c41ce8d980653d906ff48",
       "version_major": 2,
       "version_minor": 0
      },
      "text/plain": [
       "  0%|          |  0/5 [00:00<?,       ?it/s]"
      ]
     },
     "metadata": {},
     "output_type": "display_data"
    },
    {
     "name": "stderr",
     "output_type": "stream",
     "text": [
      "Get list of multiplets\n"
     ]
    },
    {
     "data": {
      "application/vnd.jupyter.widget-view+json": {
       "model_id": "6366cde8c5454a7097abd0daa2aab6a4",
       "version_major": 2,
       "version_minor": 0
      },
      "text/plain": [
       "  0%|          | 0/218 [00:00<?, ?it/s]"
      ]
     },
     "metadata": {},
     "output_type": "display_data"
    },
    {
     "name": "stderr",
     "output_type": "stream",
     "text": [
      "Compute entropy with gc\n",
      "    Copnorm and demean the data\n",
      "Get list of multiplets\n"
     ]
    },
    {
     "data": {
      "application/vnd.jupyter.widget-view+json": {
       "model_id": "15893d0b81c74e239feb7d127d9bb3cb",
       "version_major": 2,
       "version_minor": 0
      },
      "text/plain": [
       "  0%|          |  0/5 [00:00<?,       ?it/s]"
      ]
     },
     "metadata": {},
     "output_type": "display_data"
    },
    {
     "name": "stderr",
     "output_type": "stream",
     "text": [
      "Get list of multiplets\n"
     ]
    },
    {
     "data": {
      "application/vnd.jupyter.widget-view+json": {
       "model_id": "7b4fd43db2b64af69cafed663254821d",
       "version_major": 2,
       "version_minor": 0
      },
      "text/plain": [
       "  0%|          | 0/218 [00:00<?, ?it/s]"
      ]
     },
     "metadata": {},
     "output_type": "display_data"
    },
    {
     "name": "stderr",
     "output_type": "stream",
     "text": [
      "Compute entropy with gc\n",
      "    Copnorm and demean the data\n",
      "Get list of multiplets\n"
     ]
    },
    {
     "data": {
      "application/vnd.jupyter.widget-view+json": {
       "model_id": "d77bc866c21144a08507b4192641ea69",
       "version_major": 2,
       "version_minor": 0
      },
      "text/plain": [
       "  0%|          |  0/5 [00:00<?,       ?it/s]"
      ]
     },
     "metadata": {},
     "output_type": "display_data"
    },
    {
     "name": "stderr",
     "output_type": "stream",
     "text": [
      "Get list of multiplets\n"
     ]
    },
    {
     "data": {
      "application/vnd.jupyter.widget-view+json": {
       "model_id": "4a6f40419d05400dabcfe807ee871eca",
       "version_major": 2,
       "version_minor": 0
      },
      "text/plain": [
       "  0%|          | 0/218 [00:00<?, ?it/s]"
      ]
     },
     "metadata": {},
     "output_type": "display_data"
    },
    {
     "name": "stderr",
     "output_type": "stream",
     "text": [
      "Compute entropy with gc\n",
      "    Copnorm and demean the data\n",
      "Get list of multiplets\n"
     ]
    },
    {
     "data": {
      "application/vnd.jupyter.widget-view+json": {
       "model_id": "ae9c8724f3594ea9ad2a053ad7c8fb21",
       "version_major": 2,
       "version_minor": 0
      },
      "text/plain": [
       "  0%|          |  0/5 [00:00<?,       ?it/s]"
      ]
     },
     "metadata": {},
     "output_type": "display_data"
    },
    {
     "name": "stderr",
     "output_type": "stream",
     "text": [
      "Get list of multiplets\n"
     ]
    },
    {
     "data": {
      "application/vnd.jupyter.widget-view+json": {
       "model_id": "4e609c6d81cb499a8486c9cdc992938b",
       "version_major": 2,
       "version_minor": 0
      },
      "text/plain": [
       "  0%|          | 0/218 [00:00<?, ?it/s]"
      ]
     },
     "metadata": {},
     "output_type": "display_data"
    },
    {
     "name": "stderr",
     "output_type": "stream",
     "text": [
      "Compute entropy with gc\n",
      "    Copnorm and demean the data\n",
      "Get list of multiplets\n"
     ]
    },
    {
     "data": {
      "application/vnd.jupyter.widget-view+json": {
       "model_id": "ad9c81ca0320485980384be67dc6ee98",
       "version_major": 2,
       "version_minor": 0
      },
      "text/plain": [
       "  0%|          |  0/5 [00:00<?,       ?it/s]"
      ]
     },
     "metadata": {},
     "output_type": "display_data"
    },
    {
     "name": "stderr",
     "output_type": "stream",
     "text": [
      "Get list of multiplets\n"
     ]
    },
    {
     "data": {
      "application/vnd.jupyter.widget-view+json": {
       "model_id": "f1c2316a9ed045cb9ea95d8baca1ca5a",
       "version_major": 2,
       "version_minor": 0
      },
      "text/plain": [
       "  0%|          | 0/218 [00:00<?, ?it/s]"
      ]
     },
     "metadata": {},
     "output_type": "display_data"
    },
    {
     "name": "stderr",
     "output_type": "stream",
     "text": [
      "Compute entropy with gc\n",
      "    Copnorm and demean the data\n",
      "Get list of multiplets\n"
     ]
    },
    {
     "data": {
      "application/vnd.jupyter.widget-view+json": {
       "model_id": "b76a7b78a4594294aafc7f951f11161d",
       "version_major": 2,
       "version_minor": 0
      },
      "text/plain": [
       "  0%|          |  0/5 [00:00<?,       ?it/s]"
      ]
     },
     "metadata": {},
     "output_type": "display_data"
    },
    {
     "name": "stderr",
     "output_type": "stream",
     "text": [
      "Get list of multiplets\n"
     ]
    },
    {
     "data": {
      "application/vnd.jupyter.widget-view+json": {
       "model_id": "833169862cb34d67a523cc2174ce59f5",
       "version_major": 2,
       "version_minor": 0
      },
      "text/plain": [
       "  0%|          | 0/218 [00:00<?, ?it/s]"
      ]
     },
     "metadata": {},
     "output_type": "display_data"
    },
    {
     "name": "stderr",
     "output_type": "stream",
     "text": [
      "Compute entropy with gc\n",
      "    Copnorm and demean the data\n",
      "Get list of multiplets\n"
     ]
    },
    {
     "data": {
      "application/vnd.jupyter.widget-view+json": {
       "model_id": "7cb4a3ef4a084d9eb97250abd61392c4",
       "version_major": 2,
       "version_minor": 0
      },
      "text/plain": [
       "  0%|          |  0/5 [00:00<?,       ?it/s]"
      ]
     },
     "metadata": {},
     "output_type": "display_data"
    },
    {
     "name": "stderr",
     "output_type": "stream",
     "text": [
      "Get list of multiplets\n"
     ]
    },
    {
     "data": {
      "application/vnd.jupyter.widget-view+json": {
       "model_id": "406cb497a3534e62a20bf6150ab03733",
       "version_major": 2,
       "version_minor": 0
      },
      "text/plain": [
       "  0%|          | 0/218 [00:00<?, ?it/s]"
      ]
     },
     "metadata": {},
     "output_type": "display_data"
    },
    {
     "name": "stderr",
     "output_type": "stream",
     "text": [
      "Compute entropy with gc\n",
      "    Copnorm and demean the data\n",
      "Get list of multiplets\n"
     ]
    },
    {
     "data": {
      "application/vnd.jupyter.widget-view+json": {
       "model_id": "b6a123f3c13441988d144aaaea461380",
       "version_major": 2,
       "version_minor": 0
      },
      "text/plain": [
       "  0%|          |  0/5 [00:00<?,       ?it/s]"
      ]
     },
     "metadata": {},
     "output_type": "display_data"
    },
    {
     "name": "stderr",
     "output_type": "stream",
     "text": [
      "Get list of multiplets\n"
     ]
    },
    {
     "data": {
      "application/vnd.jupyter.widget-view+json": {
       "model_id": "db0e8475be0d46ddbdef9e0d1e83a5d1",
       "version_major": 2,
       "version_minor": 0
      },
      "text/plain": [
       "  0%|          | 0/218 [00:00<?, ?it/s]"
      ]
     },
     "metadata": {},
     "output_type": "display_data"
    },
    {
     "name": "stderr",
     "output_type": "stream",
     "text": [
      "Compute entropy with gc\n",
      "    Copnorm and demean the data\n",
      "Get list of multiplets\n"
     ]
    },
    {
     "data": {
      "application/vnd.jupyter.widget-view+json": {
       "model_id": "69e23d74081d4f3dabffba1fa629101d",
       "version_major": 2,
       "version_minor": 0
      },
      "text/plain": [
       "  0%|          |  0/5 [00:00<?,       ?it/s]"
      ]
     },
     "metadata": {},
     "output_type": "display_data"
    },
    {
     "name": "stderr",
     "output_type": "stream",
     "text": [
      "Get list of multiplets\n"
     ]
    },
    {
     "data": {
      "application/vnd.jupyter.widget-view+json": {
       "model_id": "f31f40b67b114c10b7203c7efebfe93f",
       "version_major": 2,
       "version_minor": 0
      },
      "text/plain": [
       "  0%|          | 0/218 [00:00<?, ?it/s]"
      ]
     },
     "metadata": {},
     "output_type": "display_data"
    },
    {
     "name": "stderr",
     "output_type": "stream",
     "text": [
      "Compute entropy with gc\n",
      "    Copnorm and demean the data\n",
      "Get list of multiplets\n"
     ]
    },
    {
     "data": {
      "application/vnd.jupyter.widget-view+json": {
       "model_id": "6920a8097d4645c3b3448d283f068a92",
       "version_major": 2,
       "version_minor": 0
      },
      "text/plain": [
       "  0%|          |  0/5 [00:00<?,       ?it/s]"
      ]
     },
     "metadata": {},
     "output_type": "display_data"
    },
    {
     "name": "stderr",
     "output_type": "stream",
     "text": [
      "Get list of multiplets\n"
     ]
    },
    {
     "data": {
      "application/vnd.jupyter.widget-view+json": {
       "model_id": "0cb19b0519e44f618ad20e90a73dc12c",
       "version_major": 2,
       "version_minor": 0
      },
      "text/plain": [
       "  0%|          | 0/218 [00:00<?, ?it/s]"
      ]
     },
     "metadata": {},
     "output_type": "display_data"
    },
    {
     "name": "stderr",
     "output_type": "stream",
     "text": [
      "Compute entropy with gc\n",
      "    Copnorm and demean the data\n",
      "Get list of multiplets\n"
     ]
    },
    {
     "data": {
      "application/vnd.jupyter.widget-view+json": {
       "model_id": "36d8f73911eb4f188abda41d66a98bcf",
       "version_major": 2,
       "version_minor": 0
      },
      "text/plain": [
       "  0%|          |  0/5 [00:00<?,       ?it/s]"
      ]
     },
     "metadata": {},
     "output_type": "display_data"
    },
    {
     "name": "stderr",
     "output_type": "stream",
     "text": [
      "Get list of multiplets\n"
     ]
    },
    {
     "data": {
      "application/vnd.jupyter.widget-view+json": {
       "model_id": "bbce73d34edb4deeb50f0f38183e05b3",
       "version_major": 2,
       "version_minor": 0
      },
      "text/plain": [
       "  0%|          | 0/218 [00:00<?, ?it/s]"
      ]
     },
     "metadata": {},
     "output_type": "display_data"
    },
    {
     "name": "stderr",
     "output_type": "stream",
     "text": [
      "Compute entropy with gc\n",
      "    Copnorm and demean the data\n",
      "Get list of multiplets\n"
     ]
    },
    {
     "data": {
      "application/vnd.jupyter.widget-view+json": {
       "model_id": "f9c6ff3906a843baa5af71a0cd3152b0",
       "version_major": 2,
       "version_minor": 0
      },
      "text/plain": [
       "  0%|          |  0/5 [00:00<?,       ?it/s]"
      ]
     },
     "metadata": {},
     "output_type": "display_data"
    },
    {
     "name": "stderr",
     "output_type": "stream",
     "text": [
      "Get list of multiplets\n"
     ]
    },
    {
     "data": {
      "application/vnd.jupyter.widget-view+json": {
       "model_id": "4ad4883064b54843ba52ed8360c09797",
       "version_major": 2,
       "version_minor": 0
      },
      "text/plain": [
       "  0%|          | 0/218 [00:00<?, ?it/s]"
      ]
     },
     "metadata": {},
     "output_type": "display_data"
    },
    {
     "name": "stderr",
     "output_type": "stream",
     "text": [
      "Compute entropy with gc\n",
      "    Copnorm and demean the data\n",
      "Get list of multiplets\n"
     ]
    },
    {
     "data": {
      "application/vnd.jupyter.widget-view+json": {
       "model_id": "fe11c57b74d54b3582edd7a49b2e1e35",
       "version_major": 2,
       "version_minor": 0
      },
      "text/plain": [
       "  0%|          |  0/5 [00:00<?,       ?it/s]"
      ]
     },
     "metadata": {},
     "output_type": "display_data"
    },
    {
     "name": "stderr",
     "output_type": "stream",
     "text": [
      "Get list of multiplets\n"
     ]
    },
    {
     "data": {
      "application/vnd.jupyter.widget-view+json": {
       "model_id": "d02a149694394d20bbb759e80cc079d6",
       "version_major": 2,
       "version_minor": 0
      },
      "text/plain": [
       "  0%|          | 0/218 [00:00<?, ?it/s]"
      ]
     },
     "metadata": {},
     "output_type": "display_data"
    },
    {
     "name": "stderr",
     "output_type": "stream",
     "text": [
      "Compute entropy with gc\n",
      "    Copnorm and demean the data\n",
      "Get list of multiplets\n"
     ]
    },
    {
     "data": {
      "application/vnd.jupyter.widget-view+json": {
       "model_id": "2b59e577b254472180076516cd23c5fe",
       "version_major": 2,
       "version_minor": 0
      },
      "text/plain": [
       "  0%|          |  0/5 [00:00<?,       ?it/s]"
      ]
     },
     "metadata": {},
     "output_type": "display_data"
    },
    {
     "name": "stderr",
     "output_type": "stream",
     "text": [
      "Get list of multiplets\n"
     ]
    },
    {
     "data": {
      "application/vnd.jupyter.widget-view+json": {
       "model_id": "1cf2972262c746cf83cbded3a2b02072",
       "version_major": 2,
       "version_minor": 0
      },
      "text/plain": [
       "  0%|          | 0/218 [00:00<?, ?it/s]"
      ]
     },
     "metadata": {},
     "output_type": "display_data"
    },
    {
     "name": "stderr",
     "output_type": "stream",
     "text": [
      "Compute entropy with gc\n",
      "    Copnorm and demean the data\n",
      "Get list of multiplets\n"
     ]
    },
    {
     "data": {
      "application/vnd.jupyter.widget-view+json": {
       "model_id": "ffb8f83c82dc48edb42c1237bbc8f6c9",
       "version_major": 2,
       "version_minor": 0
      },
      "text/plain": [
       "  0%|          |  0/5 [00:00<?,       ?it/s]"
      ]
     },
     "metadata": {},
     "output_type": "display_data"
    },
    {
     "name": "stderr",
     "output_type": "stream",
     "text": [
      "Get list of multiplets\n"
     ]
    },
    {
     "data": {
      "application/vnd.jupyter.widget-view+json": {
       "model_id": "b8b533184ba14f4b8c2f9fb6b606b713",
       "version_major": 2,
       "version_minor": 0
      },
      "text/plain": [
       "  0%|          | 0/218 [00:00<?, ?it/s]"
      ]
     },
     "metadata": {},
     "output_type": "display_data"
    },
    {
     "name": "stderr",
     "output_type": "stream",
     "text": [
      "Compute entropy with gc\n",
      "    Copnorm and demean the data\n",
      "Get list of multiplets\n"
     ]
    },
    {
     "data": {
      "application/vnd.jupyter.widget-view+json": {
       "model_id": "2e13a273c69d4e44837339628bff2003",
       "version_major": 2,
       "version_minor": 0
      },
      "text/plain": [
       "  0%|          |  0/5 [00:00<?,       ?it/s]"
      ]
     },
     "metadata": {},
     "output_type": "display_data"
    },
    {
     "name": "stderr",
     "output_type": "stream",
     "text": [
      "Get list of multiplets\n"
     ]
    },
    {
     "data": {
      "application/vnd.jupyter.widget-view+json": {
       "model_id": "83ee38f2d9874b85a4ede19341c50978",
       "version_major": 2,
       "version_minor": 0
      },
      "text/plain": [
       "  0%|          | 0/218 [00:00<?, ?it/s]"
      ]
     },
     "metadata": {},
     "output_type": "display_data"
    },
    {
     "name": "stderr",
     "output_type": "stream",
     "text": [
      "Compute entropy with gc\n",
      "    Copnorm and demean the data\n",
      "Get list of multiplets\n"
     ]
    },
    {
     "data": {
      "application/vnd.jupyter.widget-view+json": {
       "model_id": "b5f0731550c14a9e8b413696f1813964",
       "version_major": 2,
       "version_minor": 0
      },
      "text/plain": [
       "  0%|          |  0/5 [00:00<?,       ?it/s]"
      ]
     },
     "metadata": {},
     "output_type": "display_data"
    },
    {
     "name": "stderr",
     "output_type": "stream",
     "text": [
      "Get list of multiplets\n"
     ]
    },
    {
     "data": {
      "application/vnd.jupyter.widget-view+json": {
       "model_id": "723644730d1f4891a9b9fde97a6b8c00",
       "version_major": 2,
       "version_minor": 0
      },
      "text/plain": [
       "  0%|          | 0/218 [00:00<?, ?it/s]"
      ]
     },
     "metadata": {},
     "output_type": "display_data"
    },
    {
     "name": "stderr",
     "output_type": "stream",
     "text": [
      "Compute entropy with gc\n",
      "    Copnorm and demean the data\n",
      "Get list of multiplets\n"
     ]
    },
    {
     "data": {
      "application/vnd.jupyter.widget-view+json": {
       "model_id": "84539bc30c2f49dfa2d109cf1edbc6c8",
       "version_major": 2,
       "version_minor": 0
      },
      "text/plain": [
       "  0%|          |  0/5 [00:00<?,       ?it/s]"
      ]
     },
     "metadata": {},
     "output_type": "display_data"
    },
    {
     "name": "stderr",
     "output_type": "stream",
     "text": [
      "Get list of multiplets\n"
     ]
    },
    {
     "data": {
      "application/vnd.jupyter.widget-view+json": {
       "model_id": "739cfaf716ec4daa9bb32368e00009bf",
       "version_major": 2,
       "version_minor": 0
      },
      "text/plain": [
       "  0%|          | 0/218 [00:00<?, ?it/s]"
      ]
     },
     "metadata": {},
     "output_type": "display_data"
    },
    {
     "name": "stderr",
     "output_type": "stream",
     "text": [
      "Compute entropy with gc\n",
      "    Copnorm and demean the data\n",
      "Get list of multiplets\n"
     ]
    },
    {
     "data": {
      "application/vnd.jupyter.widget-view+json": {
       "model_id": "fa3a97f8d65b486bbdde50c957027c08",
       "version_major": 2,
       "version_minor": 0
      },
      "text/plain": [
       "  0%|          |  0/5 [00:00<?,       ?it/s]"
      ]
     },
     "metadata": {},
     "output_type": "display_data"
    },
    {
     "name": "stderr",
     "output_type": "stream",
     "text": [
      "Get list of multiplets\n"
     ]
    },
    {
     "data": {
      "application/vnd.jupyter.widget-view+json": {
       "model_id": "48a2a3204d1942e0880e0f9b77218704",
       "version_major": 2,
       "version_minor": 0
      },
      "text/plain": [
       "  0%|          | 0/218 [00:00<?, ?it/s]"
      ]
     },
     "metadata": {},
     "output_type": "display_data"
    },
    {
     "name": "stderr",
     "output_type": "stream",
     "text": [
      "Compute entropy with gc\n",
      "    Copnorm and demean the data\n",
      "Get list of multiplets\n"
     ]
    },
    {
     "data": {
      "application/vnd.jupyter.widget-view+json": {
       "model_id": "cc106979af9f43818d6c399622a70156",
       "version_major": 2,
       "version_minor": 0
      },
      "text/plain": [
       "  0%|          |  0/5 [00:00<?,       ?it/s]"
      ]
     },
     "metadata": {},
     "output_type": "display_data"
    },
    {
     "name": "stderr",
     "output_type": "stream",
     "text": [
      "Get list of multiplets\n"
     ]
    },
    {
     "data": {
      "application/vnd.jupyter.widget-view+json": {
       "model_id": "9f0c61bff76f4537980d82706d4019fd",
       "version_major": 2,
       "version_minor": 0
      },
      "text/plain": [
       "  0%|          | 0/218 [00:00<?, ?it/s]"
      ]
     },
     "metadata": {},
     "output_type": "display_data"
    },
    {
     "name": "stderr",
     "output_type": "stream",
     "text": [
      "Compute entropy with gc\n",
      "    Copnorm and demean the data\n",
      "Get list of multiplets\n"
     ]
    },
    {
     "data": {
      "application/vnd.jupyter.widget-view+json": {
       "model_id": "52084fd442914717914dd9dd41c70c1e",
       "version_major": 2,
       "version_minor": 0
      },
      "text/plain": [
       "  0%|          |  0/5 [00:00<?,       ?it/s]"
      ]
     },
     "metadata": {},
     "output_type": "display_data"
    },
    {
     "name": "stderr",
     "output_type": "stream",
     "text": [
      "Get list of multiplets\n"
     ]
    },
    {
     "data": {
      "application/vnd.jupyter.widget-view+json": {
       "model_id": "c0f0de36c5c74c8abbc734c7cddbe1f4",
       "version_major": 2,
       "version_minor": 0
      },
      "text/plain": [
       "  0%|          | 0/218 [00:00<?, ?it/s]"
      ]
     },
     "metadata": {},
     "output_type": "display_data"
    },
    {
     "name": "stderr",
     "output_type": "stream",
     "text": [
      "Compute entropy with gc\n",
      "    Copnorm and demean the data\n",
      "Get list of multiplets\n"
     ]
    },
    {
     "data": {
      "application/vnd.jupyter.widget-view+json": {
       "model_id": "73b1480c98c6440d8b15c1374b1e832f",
       "version_major": 2,
       "version_minor": 0
      },
      "text/plain": [
       "  0%|          |  0/5 [00:00<?,       ?it/s]"
      ]
     },
     "metadata": {},
     "output_type": "display_data"
    },
    {
     "name": "stderr",
     "output_type": "stream",
     "text": [
      "Get list of multiplets\n"
     ]
    },
    {
     "data": {
      "application/vnd.jupyter.widget-view+json": {
       "model_id": "2ff32c9274bc4358b29c7637875e5117",
       "version_major": 2,
       "version_minor": 0
      },
      "text/plain": [
       "  0%|          | 0/218 [00:00<?, ?it/s]"
      ]
     },
     "metadata": {},
     "output_type": "display_data"
    },
    {
     "name": "stderr",
     "output_type": "stream",
     "text": [
      "Compute entropy with gc\n",
      "    Copnorm and demean the data\n",
      "Get list of multiplets\n"
     ]
    },
    {
     "data": {
      "application/vnd.jupyter.widget-view+json": {
       "model_id": "bff9e50bc187424fb0b12d43a1a47e2f",
       "version_major": 2,
       "version_minor": 0
      },
      "text/plain": [
       "  0%|          |  0/5 [00:00<?,       ?it/s]"
      ]
     },
     "metadata": {},
     "output_type": "display_data"
    },
    {
     "name": "stderr",
     "output_type": "stream",
     "text": [
      "Get list of multiplets\n"
     ]
    },
    {
     "data": {
      "application/vnd.jupyter.widget-view+json": {
       "model_id": "1c764922346541449b8d714082bea257",
       "version_major": 2,
       "version_minor": 0
      },
      "text/plain": [
       "  0%|          | 0/218 [00:00<?, ?it/s]"
      ]
     },
     "metadata": {},
     "output_type": "display_data"
    },
    {
     "name": "stderr",
     "output_type": "stream",
     "text": [
      "Compute entropy with gc\n",
      "    Copnorm and demean the data\n",
      "Get list of multiplets\n"
     ]
    },
    {
     "data": {
      "application/vnd.jupyter.widget-view+json": {
       "model_id": "51c647db27024bf7962bfa9ed974fcbf",
       "version_major": 2,
       "version_minor": 0
      },
      "text/plain": [
       "  0%|          |  0/5 [00:00<?,       ?it/s]"
      ]
     },
     "metadata": {},
     "output_type": "display_data"
    },
    {
     "name": "stderr",
     "output_type": "stream",
     "text": [
      "Get list of multiplets\n"
     ]
    },
    {
     "data": {
      "application/vnd.jupyter.widget-view+json": {
       "model_id": "5c2cffc7d755402291ec668cdf8c8fc6",
       "version_major": 2,
       "version_minor": 0
      },
      "text/plain": [
       "  0%|          | 0/218 [00:00<?, ?it/s]"
      ]
     },
     "metadata": {},
     "output_type": "display_data"
    },
    {
     "name": "stderr",
     "output_type": "stream",
     "text": [
      "Compute entropy with gc\n",
      "    Copnorm and demean the data\n",
      "Get list of multiplets\n"
     ]
    },
    {
     "data": {
      "application/vnd.jupyter.widget-view+json": {
       "model_id": "87784f75a6e14bdc8579db0de3308652",
       "version_major": 2,
       "version_minor": 0
      },
      "text/plain": [
       "  0%|          |  0/5 [00:00<?,       ?it/s]"
      ]
     },
     "metadata": {},
     "output_type": "display_data"
    },
    {
     "name": "stderr",
     "output_type": "stream",
     "text": [
      "Get list of multiplets\n"
     ]
    },
    {
     "data": {
      "application/vnd.jupyter.widget-view+json": {
       "model_id": "47c55fd4b9304e9c9e0ec770f79457fd",
       "version_major": 2,
       "version_minor": 0
      },
      "text/plain": [
       "  0%|          | 0/218 [00:00<?, ?it/s]"
      ]
     },
     "metadata": {},
     "output_type": "display_data"
    },
    {
     "name": "stderr",
     "output_type": "stream",
     "text": [
      "Compute entropy with gc\n",
      "    Copnorm and demean the data\n",
      "Get list of multiplets\n"
     ]
    },
    {
     "data": {
      "application/vnd.jupyter.widget-view+json": {
       "model_id": "1b5570a6169046dcbbf68a4daa9fbd55",
       "version_major": 2,
       "version_minor": 0
      },
      "text/plain": [
       "  0%|          |  0/5 [00:00<?,       ?it/s]"
      ]
     },
     "metadata": {},
     "output_type": "display_data"
    },
    {
     "name": "stderr",
     "output_type": "stream",
     "text": [
      "Get list of multiplets\n"
     ]
    },
    {
     "data": {
      "application/vnd.jupyter.widget-view+json": {
       "model_id": "ee5f7912d6ff4e428e0049bfe3d6b7ef",
       "version_major": 2,
       "version_minor": 0
      },
      "text/plain": [
       "  0%|          | 0/218 [00:00<?, ?it/s]"
      ]
     },
     "metadata": {},
     "output_type": "display_data"
    },
    {
     "name": "stderr",
     "output_type": "stream",
     "text": [
      "Compute entropy with gc\n",
      "    Copnorm and demean the data\n",
      "Get list of multiplets\n"
     ]
    },
    {
     "data": {
      "application/vnd.jupyter.widget-view+json": {
       "model_id": "ff4ec10b8aca43a2a5b907357b739d04",
       "version_major": 2,
       "version_minor": 0
      },
      "text/plain": [
       "  0%|          |  0/5 [00:00<?,       ?it/s]"
      ]
     },
     "metadata": {},
     "output_type": "display_data"
    },
    {
     "name": "stderr",
     "output_type": "stream",
     "text": [
      "Get list of multiplets\n"
     ]
    },
    {
     "data": {
      "application/vnd.jupyter.widget-view+json": {
       "model_id": "e9e1b66387904a7989aa08b5a3b13c4a",
       "version_major": 2,
       "version_minor": 0
      },
      "text/plain": [
       "  0%|          | 0/218 [00:00<?, ?it/s]"
      ]
     },
     "metadata": {},
     "output_type": "display_data"
    },
    {
     "name": "stderr",
     "output_type": "stream",
     "text": [
      "Compute entropy with gc\n",
      "    Copnorm and demean the data\n",
      "Get list of multiplets\n"
     ]
    },
    {
     "data": {
      "application/vnd.jupyter.widget-view+json": {
       "model_id": "898de2c97ae94401adf7f462b399e144",
       "version_major": 2,
       "version_minor": 0
      },
      "text/plain": [
       "  0%|          |  0/5 [00:00<?,       ?it/s]"
      ]
     },
     "metadata": {},
     "output_type": "display_data"
    },
    {
     "name": "stderr",
     "output_type": "stream",
     "text": [
      "Get list of multiplets\n"
     ]
    },
    {
     "data": {
      "application/vnd.jupyter.widget-view+json": {
       "model_id": "c4d6638f13b540c992861b7a2480934f",
       "version_major": 2,
       "version_minor": 0
      },
      "text/plain": [
       "  0%|          | 0/218 [00:00<?, ?it/s]"
      ]
     },
     "metadata": {},
     "output_type": "display_data"
    },
    {
     "name": "stderr",
     "output_type": "stream",
     "text": [
      "Compute entropy with gc\n",
      "    Copnorm and demean the data\n",
      "Get list of multiplets\n"
     ]
    },
    {
     "data": {
      "application/vnd.jupyter.widget-view+json": {
       "model_id": "75f5fc401b614fbfade7e6651492de0c",
       "version_major": 2,
       "version_minor": 0
      },
      "text/plain": [
       "  0%|          |  0/5 [00:00<?,       ?it/s]"
      ]
     },
     "metadata": {},
     "output_type": "display_data"
    },
    {
     "name": "stderr",
     "output_type": "stream",
     "text": [
      "Get list of multiplets\n"
     ]
    },
    {
     "data": {
      "application/vnd.jupyter.widget-view+json": {
       "model_id": "e132d5a2802949838836ab6d2f11a1b5",
       "version_major": 2,
       "version_minor": 0
      },
      "text/plain": [
       "  0%|          | 0/218 [00:00<?, ?it/s]"
      ]
     },
     "metadata": {},
     "output_type": "display_data"
    },
    {
     "name": "stderr",
     "output_type": "stream",
     "text": [
      "    Copnorm and demean the data\n",
      "Get list of multiplets\n"
     ]
    },
    {
     "data": {
      "application/vnd.jupyter.widget-view+json": {
       "model_id": "c87cb141b8d54086a979858cf3a7900d",
       "version_major": 2,
       "version_minor": 0
      },
      "text/plain": [
       "  0%|          |  0/5 [00:00<?,       ?it/s]"
      ]
     },
     "metadata": {},
     "output_type": "display_data"
    },
    {
     "name": "stderr",
     "output_type": "stream",
     "text": [
      "    Copnorm and demean the data\n",
      "Get list of multiplets\n"
     ]
    },
    {
     "data": {
      "application/vnd.jupyter.widget-view+json": {
       "model_id": "999a371a56504ad088a6834389758354",
       "version_major": 2,
       "version_minor": 0
      },
      "text/plain": [
       "  0%|          |  0/5 [00:00<?,       ?it/s]"
      ]
     },
     "metadata": {},
     "output_type": "display_data"
    },
    {
     "name": "stderr",
     "output_type": "stream",
     "text": [
      "    Copnorm and demean the data\n",
      "Get list of multiplets\n"
     ]
    },
    {
     "data": {
      "application/vnd.jupyter.widget-view+json": {
       "model_id": "5021f4d1cdc646d491134751b0a6aa1c",
       "version_major": 2,
       "version_minor": 0
      },
      "text/plain": [
       "  0%|          |  0/5 [00:00<?,       ?it/s]"
      ]
     },
     "metadata": {},
     "output_type": "display_data"
    },
    {
     "name": "stderr",
     "output_type": "stream",
     "text": [
      "    Copnorm and demean the data\n",
      "Get list of multiplets\n"
     ]
    },
    {
     "data": {
      "application/vnd.jupyter.widget-view+json": {
       "model_id": "b973fd5bce8f4748b5956d57c223c8ff",
       "version_major": 2,
       "version_minor": 0
      },
      "text/plain": [
       "  0%|          |  0/5 [00:00<?,       ?it/s]"
      ]
     },
     "metadata": {},
     "output_type": "display_data"
    },
    {
     "name": "stderr",
     "output_type": "stream",
     "text": [
      "    Copnorm and demean the data\n",
      "Get list of multiplets\n"
     ]
    },
    {
     "data": {
      "application/vnd.jupyter.widget-view+json": {
       "model_id": "1a6478e3e89c4e02bbf9ac8a564c0780",
       "version_major": 2,
       "version_minor": 0
      },
      "text/plain": [
       "  0%|          |  0/5 [00:00<?,       ?it/s]"
      ]
     },
     "metadata": {},
     "output_type": "display_data"
    },
    {
     "name": "stderr",
     "output_type": "stream",
     "text": [
      "    Copnorm and demean the data\n",
      "Get list of multiplets\n"
     ]
    },
    {
     "data": {
      "application/vnd.jupyter.widget-view+json": {
       "model_id": "b2438a4a296a4d34aca98b43fb65af4a",
       "version_major": 2,
       "version_minor": 0
      },
      "text/plain": [
       "  0%|          |  0/5 [00:00<?,       ?it/s]"
      ]
     },
     "metadata": {},
     "output_type": "display_data"
    },
    {
     "name": "stderr",
     "output_type": "stream",
     "text": [
      "    Copnorm and demean the data\n",
      "Get list of multiplets\n"
     ]
    },
    {
     "data": {
      "application/vnd.jupyter.widget-view+json": {
       "model_id": "d4fb5b636b8d4bfa87a2ee4508f0fb1b",
       "version_major": 2,
       "version_minor": 0
      },
      "text/plain": [
       "  0%|          |  0/5 [00:00<?,       ?it/s]"
      ]
     },
     "metadata": {},
     "output_type": "display_data"
    },
    {
     "name": "stderr",
     "output_type": "stream",
     "text": [
      "    Copnorm and demean the data\n",
      "Get list of multiplets\n"
     ]
    },
    {
     "data": {
      "application/vnd.jupyter.widget-view+json": {
       "model_id": "3a25392a08f5478287ebb1280dcb0158",
       "version_major": 2,
       "version_minor": 0
      },
      "text/plain": [
       "  0%|          |  0/5 [00:00<?,       ?it/s]"
      ]
     },
     "metadata": {},
     "output_type": "display_data"
    },
    {
     "name": "stderr",
     "output_type": "stream",
     "text": [
      "    Copnorm and demean the data\n",
      "Get list of multiplets\n"
     ]
    },
    {
     "data": {
      "application/vnd.jupyter.widget-view+json": {
       "model_id": "fd95adb4f4944c2d89a502c72863d8f3",
       "version_major": 2,
       "version_minor": 0
      },
      "text/plain": [
       "  0%|          |  0/5 [00:00<?,       ?it/s]"
      ]
     },
     "metadata": {},
     "output_type": "display_data"
    },
    {
     "name": "stderr",
     "output_type": "stream",
     "text": [
      "    Copnorm and demean the data\n",
      "Get list of multiplets\n"
     ]
    },
    {
     "data": {
      "application/vnd.jupyter.widget-view+json": {
       "model_id": "61d63fc324dc437fa1be3a229f7acfa0",
       "version_major": 2,
       "version_minor": 0
      },
      "text/plain": [
       "  0%|          |  0/5 [00:00<?,       ?it/s]"
      ]
     },
     "metadata": {},
     "output_type": "display_data"
    },
    {
     "name": "stderr",
     "output_type": "stream",
     "text": [
      "    Copnorm and demean the data\n",
      "Get list of multiplets\n"
     ]
    },
    {
     "data": {
      "application/vnd.jupyter.widget-view+json": {
       "model_id": "74072316bad64acbbc0e9deca158c322",
       "version_major": 2,
       "version_minor": 0
      },
      "text/plain": [
       "  0%|          |  0/5 [00:00<?,       ?it/s]"
      ]
     },
     "metadata": {},
     "output_type": "display_data"
    },
    {
     "name": "stderr",
     "output_type": "stream",
     "text": [
      "    Copnorm and demean the data\n",
      "Get list of multiplets\n"
     ]
    },
    {
     "data": {
      "application/vnd.jupyter.widget-view+json": {
       "model_id": "1ef3e99c779b44659f79ea978e4d7c71",
       "version_major": 2,
       "version_minor": 0
      },
      "text/plain": [
       "  0%|          |  0/5 [00:00<?,       ?it/s]"
      ]
     },
     "metadata": {},
     "output_type": "display_data"
    },
    {
     "name": "stderr",
     "output_type": "stream",
     "text": [
      "    Copnorm and demean the data\n",
      "Get list of multiplets\n"
     ]
    },
    {
     "data": {
      "application/vnd.jupyter.widget-view+json": {
       "model_id": "32354766be164e158d80e554deabed16",
       "version_major": 2,
       "version_minor": 0
      },
      "text/plain": [
       "  0%|          |  0/5 [00:00<?,       ?it/s]"
      ]
     },
     "metadata": {},
     "output_type": "display_data"
    },
    {
     "name": "stderr",
     "output_type": "stream",
     "text": [
      "    Copnorm and demean the data\n",
      "Get list of multiplets\n"
     ]
    },
    {
     "data": {
      "application/vnd.jupyter.widget-view+json": {
       "model_id": "a6ee75b371ca4a76987cd254a15f03d7",
       "version_major": 2,
       "version_minor": 0
      },
      "text/plain": [
       "  0%|          |  0/5 [00:00<?,       ?it/s]"
      ]
     },
     "metadata": {},
     "output_type": "display_data"
    },
    {
     "name": "stderr",
     "output_type": "stream",
     "text": [
      "    Copnorm and demean the data\n",
      "Get list of multiplets\n"
     ]
    },
    {
     "data": {
      "application/vnd.jupyter.widget-view+json": {
       "model_id": "10ea0295d79a4f029fb6308b9ed045dd",
       "version_major": 2,
       "version_minor": 0
      },
      "text/plain": [
       "  0%|          |  0/5 [00:00<?,       ?it/s]"
      ]
     },
     "metadata": {},
     "output_type": "display_data"
    },
    {
     "name": "stderr",
     "output_type": "stream",
     "text": [
      "    Copnorm and demean the data\n",
      "Get list of multiplets\n"
     ]
    },
    {
     "data": {
      "application/vnd.jupyter.widget-view+json": {
       "model_id": "e432fcae1fde4e8b95b954cbbec48dce",
       "version_major": 2,
       "version_minor": 0
      },
      "text/plain": [
       "  0%|          |  0/5 [00:00<?,       ?it/s]"
      ]
     },
     "metadata": {},
     "output_type": "display_data"
    },
    {
     "name": "stderr",
     "output_type": "stream",
     "text": [
      "    Copnorm and demean the data\n",
      "Get list of multiplets\n"
     ]
    },
    {
     "data": {
      "application/vnd.jupyter.widget-view+json": {
       "model_id": "3f4711f72c77485981ec5e660d05674a",
       "version_major": 2,
       "version_minor": 0
      },
      "text/plain": [
       "  0%|          |  0/5 [00:00<?,       ?it/s]"
      ]
     },
     "metadata": {},
     "output_type": "display_data"
    },
    {
     "name": "stderr",
     "output_type": "stream",
     "text": [
      "    Copnorm and demean the data\n",
      "Get list of multiplets\n"
     ]
    },
    {
     "data": {
      "application/vnd.jupyter.widget-view+json": {
       "model_id": "6be50d27eadc4075aab929043b4f55f1",
       "version_major": 2,
       "version_minor": 0
      },
      "text/plain": [
       "  0%|          |  0/5 [00:00<?,       ?it/s]"
      ]
     },
     "metadata": {},
     "output_type": "display_data"
    },
    {
     "name": "stderr",
     "output_type": "stream",
     "text": [
      "    Copnorm and demean the data\n",
      "Get list of multiplets\n"
     ]
    },
    {
     "data": {
      "application/vnd.jupyter.widget-view+json": {
       "model_id": "259fbded9f50490d84aec5663c7da771",
       "version_major": 2,
       "version_minor": 0
      },
      "text/plain": [
       "  0%|          |  0/5 [00:00<?,       ?it/s]"
      ]
     },
     "metadata": {},
     "output_type": "display_data"
    },
    {
     "name": "stderr",
     "output_type": "stream",
     "text": [
      "    Copnorm and demean the data\n",
      "Get list of multiplets\n"
     ]
    },
    {
     "data": {
      "application/vnd.jupyter.widget-view+json": {
       "model_id": "60900c672a9b442eb0514ec69636a073",
       "version_major": 2,
       "version_minor": 0
      },
      "text/plain": [
       "  0%|          |  0/5 [00:00<?,       ?it/s]"
      ]
     },
     "metadata": {},
     "output_type": "display_data"
    },
    {
     "name": "stderr",
     "output_type": "stream",
     "text": [
      "    Copnorm and demean the data\n",
      "Get list of multiplets\n"
     ]
    },
    {
     "data": {
      "application/vnd.jupyter.widget-view+json": {
       "model_id": "281c89202c0242b4991bf13b9d68ccec",
       "version_major": 2,
       "version_minor": 0
      },
      "text/plain": [
       "  0%|          |  0/5 [00:00<?,       ?it/s]"
      ]
     },
     "metadata": {},
     "output_type": "display_data"
    },
    {
     "name": "stderr",
     "output_type": "stream",
     "text": [
      "    Copnorm and demean the data\n",
      "Get list of multiplets\n"
     ]
    },
    {
     "data": {
      "application/vnd.jupyter.widget-view+json": {
       "model_id": "6a3a8dc62baa4528ad2cdadf1030f5cd",
       "version_major": 2,
       "version_minor": 0
      },
      "text/plain": [
       "  0%|          |  0/5 [00:00<?,       ?it/s]"
      ]
     },
     "metadata": {},
     "output_type": "display_data"
    },
    {
     "name": "stderr",
     "output_type": "stream",
     "text": [
      "    Copnorm and demean the data\n",
      "Get list of multiplets\n"
     ]
    },
    {
     "data": {
      "application/vnd.jupyter.widget-view+json": {
       "model_id": "7a12a0955a4a458993764d1be36c56a3",
       "version_major": 2,
       "version_minor": 0
      },
      "text/plain": [
       "  0%|          |  0/5 [00:00<?,       ?it/s]"
      ]
     },
     "metadata": {},
     "output_type": "display_data"
    },
    {
     "name": "stderr",
     "output_type": "stream",
     "text": [
      "    Copnorm and demean the data\n",
      "Get list of multiplets\n"
     ]
    },
    {
     "data": {
      "application/vnd.jupyter.widget-view+json": {
       "model_id": "ebfb2d19bfb34718bea15dbe8a87c8a0",
       "version_major": 2,
       "version_minor": 0
      },
      "text/plain": [
       "  0%|          |  0/5 [00:00<?,       ?it/s]"
      ]
     },
     "metadata": {},
     "output_type": "display_data"
    },
    {
     "name": "stderr",
     "output_type": "stream",
     "text": [
      "    Copnorm and demean the data\n",
      "Get list of multiplets\n"
     ]
    },
    {
     "data": {
      "application/vnd.jupyter.widget-view+json": {
       "model_id": "4bd2a1d7ba3b480d859270008489b730",
       "version_major": 2,
       "version_minor": 0
      },
      "text/plain": [
       "  0%|          |  0/5 [00:00<?,       ?it/s]"
      ]
     },
     "metadata": {},
     "output_type": "display_data"
    },
    {
     "name": "stderr",
     "output_type": "stream",
     "text": [
      "    Copnorm and demean the data\n",
      "Get list of multiplets\n"
     ]
    },
    {
     "data": {
      "application/vnd.jupyter.widget-view+json": {
       "model_id": "7cd9046e40a146de9f35e6c9331ca345",
       "version_major": 2,
       "version_minor": 0
      },
      "text/plain": [
       "  0%|          |  0/5 [00:00<?,       ?it/s]"
      ]
     },
     "metadata": {},
     "output_type": "display_data"
    },
    {
     "name": "stderr",
     "output_type": "stream",
     "text": [
      "    Copnorm and demean the data\n",
      "Get list of multiplets\n"
     ]
    },
    {
     "data": {
      "application/vnd.jupyter.widget-view+json": {
       "model_id": "f23ef010dcd54b9ba2a5ea06bb211efa",
       "version_major": 2,
       "version_minor": 0
      },
      "text/plain": [
       "  0%|          |  0/5 [00:00<?,       ?it/s]"
      ]
     },
     "metadata": {},
     "output_type": "display_data"
    },
    {
     "name": "stderr",
     "output_type": "stream",
     "text": [
      "    Copnorm and demean the data\n",
      "Get list of multiplets\n"
     ]
    },
    {
     "data": {
      "application/vnd.jupyter.widget-view+json": {
       "model_id": "d0191da65d7349c1ab761143f31caf26",
       "version_major": 2,
       "version_minor": 0
      },
      "text/plain": [
       "  0%|          |  0/5 [00:00<?,       ?it/s]"
      ]
     },
     "metadata": {},
     "output_type": "display_data"
    },
    {
     "name": "stderr",
     "output_type": "stream",
     "text": [
      "    Copnorm and demean the data\n",
      "Get list of multiplets\n"
     ]
    },
    {
     "data": {
      "application/vnd.jupyter.widget-view+json": {
       "model_id": "bcc888e190134de7bf94308f609e810f",
       "version_major": 2,
       "version_minor": 0
      },
      "text/plain": [
       "  0%|          |  0/5 [00:00<?,       ?it/s]"
      ]
     },
     "metadata": {},
     "output_type": "display_data"
    },
    {
     "name": "stderr",
     "output_type": "stream",
     "text": [
      "    Copnorm and demean the data\n",
      "Get list of multiplets\n"
     ]
    },
    {
     "data": {
      "application/vnd.jupyter.widget-view+json": {
       "model_id": "bddb85341a114f31a4186aec4f6a0df8",
       "version_major": 2,
       "version_minor": 0
      },
      "text/plain": [
       "  0%|          |  0/5 [00:00<?,       ?it/s]"
      ]
     },
     "metadata": {},
     "output_type": "display_data"
    },
    {
     "name": "stderr",
     "output_type": "stream",
     "text": [
      "    Copnorm and demean the data\n",
      "Get list of multiplets\n"
     ]
    },
    {
     "data": {
      "application/vnd.jupyter.widget-view+json": {
       "model_id": "f701d0ba187547eebebd7307435562fd",
       "version_major": 2,
       "version_minor": 0
      },
      "text/plain": [
       "  0%|          |  0/5 [00:00<?,       ?it/s]"
      ]
     },
     "metadata": {},
     "output_type": "display_data"
    },
    {
     "name": "stderr",
     "output_type": "stream",
     "text": [
      "    Copnorm and demean the data\n",
      "Get list of multiplets\n"
     ]
    },
    {
     "data": {
      "application/vnd.jupyter.widget-view+json": {
       "model_id": "64189d15d9bc47878975d827761e11e1",
       "version_major": 2,
       "version_minor": 0
      },
      "text/plain": [
       "  0%|          |  0/5 [00:00<?,       ?it/s]"
      ]
     },
     "metadata": {},
     "output_type": "display_data"
    },
    {
     "name": "stderr",
     "output_type": "stream",
     "text": [
      "    Copnorm and demean the data\n",
      "Get list of multiplets\n"
     ]
    },
    {
     "data": {
      "application/vnd.jupyter.widget-view+json": {
       "model_id": "60f5319d3de24203bd81d098a44f78a4",
       "version_major": 2,
       "version_minor": 0
      },
      "text/plain": [
       "  0%|          |  0/5 [00:00<?,       ?it/s]"
      ]
     },
     "metadata": {},
     "output_type": "display_data"
    },
    {
     "name": "stderr",
     "output_type": "stream",
     "text": [
      "    Copnorm and demean the data\n",
      "Get list of multiplets\n"
     ]
    },
    {
     "data": {
      "application/vnd.jupyter.widget-view+json": {
       "model_id": "e6dd24f6e8004bff9cd2d2ef94677fa3",
       "version_major": 2,
       "version_minor": 0
      },
      "text/plain": [
       "  0%|          |  0/5 [00:00<?,       ?it/s]"
      ]
     },
     "metadata": {},
     "output_type": "display_data"
    },
    {
     "name": "stderr",
     "output_type": "stream",
     "text": [
      "    Copnorm and demean the data\n",
      "Get list of multiplets\n"
     ]
    },
    {
     "data": {
      "application/vnd.jupyter.widget-view+json": {
       "model_id": "c6daf76322f14e7588c8f8dd62835d2f",
       "version_major": 2,
       "version_minor": 0
      },
      "text/plain": [
       "  0%|          |  0/5 [00:00<?,       ?it/s]"
      ]
     },
     "metadata": {},
     "output_type": "display_data"
    },
    {
     "name": "stderr",
     "output_type": "stream",
     "text": [
      "    Copnorm and demean the data\n",
      "Get list of multiplets\n"
     ]
    },
    {
     "data": {
      "application/vnd.jupyter.widget-view+json": {
       "model_id": "c143adbb34ff49c1825480297436c2d9",
       "version_major": 2,
       "version_minor": 0
      },
      "text/plain": [
       "  0%|          |  0/5 [00:00<?,       ?it/s]"
      ]
     },
     "metadata": {},
     "output_type": "display_data"
    },
    {
     "name": "stderr",
     "output_type": "stream",
     "text": [
      "    Copnorm and demean the data\n",
      "Get list of multiplets\n"
     ]
    },
    {
     "data": {
      "application/vnd.jupyter.widget-view+json": {
       "model_id": "b9df533a781e417983a7468f7b5e7b7a",
       "version_major": 2,
       "version_minor": 0
      },
      "text/plain": [
       "  0%|          |  0/5 [00:00<?,       ?it/s]"
      ]
     },
     "metadata": {},
     "output_type": "display_data"
    },
    {
     "name": "stderr",
     "output_type": "stream",
     "text": [
      "    Copnorm and demean the data\n",
      "Get list of multiplets\n"
     ]
    },
    {
     "data": {
      "application/vnd.jupyter.widget-view+json": {
       "model_id": "92e84ace7b8a49ee88d35d4bcedd9dd0",
       "version_major": 2,
       "version_minor": 0
      },
      "text/plain": [
       "  0%|          |  0/5 [00:00<?,       ?it/s]"
      ]
     },
     "metadata": {},
     "output_type": "display_data"
    },
    {
     "name": "stderr",
     "output_type": "stream",
     "text": [
      "    Copnorm and demean the data\n",
      "Get list of multiplets\n"
     ]
    },
    {
     "data": {
      "application/vnd.jupyter.widget-view+json": {
       "model_id": "20bdd9a8e2ef441da0358cc966347ad8",
       "version_major": 2,
       "version_minor": 0
      },
      "text/plain": [
       "  0%|          |  0/5 [00:00<?,       ?it/s]"
      ]
     },
     "metadata": {},
     "output_type": "display_data"
    },
    {
     "name": "stderr",
     "output_type": "stream",
     "text": [
      "    Copnorm and demean the data\n",
      "Get list of multiplets\n"
     ]
    },
    {
     "data": {
      "application/vnd.jupyter.widget-view+json": {
       "model_id": "903920615baf4564889232e0f9f2c76c",
       "version_major": 2,
       "version_minor": 0
      },
      "text/plain": [
       "  0%|          |  0/5 [00:00<?,       ?it/s]"
      ]
     },
     "metadata": {},
     "output_type": "display_data"
    },
    {
     "name": "stderr",
     "output_type": "stream",
     "text": [
      "    Copnorm and demean the data\n",
      "Get list of multiplets\n"
     ]
    },
    {
     "data": {
      "application/vnd.jupyter.widget-view+json": {
       "model_id": "f497340c01c84460ae8d668fd6d5674b",
       "version_major": 2,
       "version_minor": 0
      },
      "text/plain": [
       "  0%|          |  0/5 [00:00<?,       ?it/s]"
      ]
     },
     "metadata": {},
     "output_type": "display_data"
    },
    {
     "name": "stderr",
     "output_type": "stream",
     "text": [
      "    Copnorm and demean the data\n",
      "Get list of multiplets\n"
     ]
    },
    {
     "data": {
      "application/vnd.jupyter.widget-view+json": {
       "model_id": "0760a67bd59f41edb8d41d2347a3f205",
       "version_major": 2,
       "version_minor": 0
      },
      "text/plain": [
       "  0%|          |  0/5 [00:00<?,       ?it/s]"
      ]
     },
     "metadata": {},
     "output_type": "display_data"
    },
    {
     "name": "stderr",
     "output_type": "stream",
     "text": [
      "    Copnorm and demean the data\n",
      "Get list of multiplets\n"
     ]
    },
    {
     "data": {
      "application/vnd.jupyter.widget-view+json": {
       "model_id": "f60e31a01e6f47e582e7fd6b664267b5",
       "version_major": 2,
       "version_minor": 0
      },
      "text/plain": [
       "  0%|          |  0/5 [00:00<?,       ?it/s]"
      ]
     },
     "metadata": {},
     "output_type": "display_data"
    },
    {
     "name": "stderr",
     "output_type": "stream",
     "text": [
      "    Copnorm and demean the data\n",
      "Get list of multiplets\n"
     ]
    },
    {
     "data": {
      "application/vnd.jupyter.widget-view+json": {
       "model_id": "802e2a3dad3b4993a8703b9fed5b2b6f",
       "version_major": 2,
       "version_minor": 0
      },
      "text/plain": [
       "  0%|          |  0/5 [00:00<?,       ?it/s]"
      ]
     },
     "metadata": {},
     "output_type": "display_data"
    },
    {
     "name": "stderr",
     "output_type": "stream",
     "text": [
      "    Copnorm and demean the data\n",
      "Get list of multiplets\n"
     ]
    },
    {
     "data": {
      "application/vnd.jupyter.widget-view+json": {
       "model_id": "49c1a2dd9ce84431bc3cf205f698fd28",
       "version_major": 2,
       "version_minor": 0
      },
      "text/plain": [
       "  0%|          |  0/5 [00:00<?,       ?it/s]"
      ]
     },
     "metadata": {},
     "output_type": "display_data"
    },
    {
     "name": "stderr",
     "output_type": "stream",
     "text": [
      "    Copnorm and demean the data\n",
      "Get list of multiplets\n"
     ]
    },
    {
     "data": {
      "application/vnd.jupyter.widget-view+json": {
       "model_id": "ac9a5890530841b6bd4a776c9dbac30f",
       "version_major": 2,
       "version_minor": 0
      },
      "text/plain": [
       "  0%|          |  0/5 [00:00<?,       ?it/s]"
      ]
     },
     "metadata": {},
     "output_type": "display_data"
    },
    {
     "name": "stderr",
     "output_type": "stream",
     "text": [
      "    Copnorm and demean the data\n",
      "Get list of multiplets\n"
     ]
    },
    {
     "data": {
      "application/vnd.jupyter.widget-view+json": {
       "model_id": "72c68f25d55a49a8a404dfe3eeced79a",
       "version_major": 2,
       "version_minor": 0
      },
      "text/plain": [
       "  0%|          |  0/5 [00:00<?,       ?it/s]"
      ]
     },
     "metadata": {},
     "output_type": "display_data"
    },
    {
     "name": "stderr",
     "output_type": "stream",
     "text": [
      "    Copnorm and demean the data\n",
      "Get list of multiplets\n"
     ]
    },
    {
     "data": {
      "application/vnd.jupyter.widget-view+json": {
       "model_id": "a2a7840c6995412ea086e8b5f19257dc",
       "version_major": 2,
       "version_minor": 0
      },
      "text/plain": [
       "  0%|          |  0/5 [00:00<?,       ?it/s]"
      ]
     },
     "metadata": {},
     "output_type": "display_data"
    },
    {
     "name": "stderr",
     "output_type": "stream",
     "text": [
      "    Copnorm and demean the data\n",
      "Get list of multiplets\n"
     ]
    },
    {
     "data": {
      "application/vnd.jupyter.widget-view+json": {
       "model_id": "8a4d91722ced4f90a4e6ed5964e7c1ff",
       "version_major": 2,
       "version_minor": 0
      },
      "text/plain": [
       "  0%|          |  0/5 [00:00<?,       ?it/s]"
      ]
     },
     "metadata": {},
     "output_type": "display_data"
    },
    {
     "name": "stderr",
     "output_type": "stream",
     "text": [
      "    Copnorm and demean the data\n",
      "Get list of multiplets\n"
     ]
    },
    {
     "data": {
      "application/vnd.jupyter.widget-view+json": {
       "model_id": "f7188bb0457542fba8a5babded3d7d3f",
       "version_major": 2,
       "version_minor": 0
      },
      "text/plain": [
       "  0%|          |  0/5 [00:00<?,       ?it/s]"
      ]
     },
     "metadata": {},
     "output_type": "display_data"
    },
    {
     "name": "stderr",
     "output_type": "stream",
     "text": [
      "    Copnorm and demean the data\n",
      "Get list of multiplets\n"
     ]
    },
    {
     "data": {
      "application/vnd.jupyter.widget-view+json": {
       "model_id": "1aaa2cacbcc84d41b648cfa5a7ac69ee",
       "version_major": 2,
       "version_minor": 0
      },
      "text/plain": [
       "  0%|          |  0/5 [00:00<?,       ?it/s]"
      ]
     },
     "metadata": {},
     "output_type": "display_data"
    },
    {
     "name": "stderr",
     "output_type": "stream",
     "text": [
      "    Copnorm and demean the data\n",
      "Get list of multiplets\n"
     ]
    },
    {
     "data": {
      "application/vnd.jupyter.widget-view+json": {
       "model_id": "3cbd213db195401b8b61466a16884525",
       "version_major": 2,
       "version_minor": 0
      },
      "text/plain": [
       "  0%|          |  0/5 [00:00<?,       ?it/s]"
      ]
     },
     "metadata": {},
     "output_type": "display_data"
    },
    {
     "name": "stderr",
     "output_type": "stream",
     "text": [
      "    Copnorm and demean the data\n",
      "Get list of multiplets\n"
     ]
    },
    {
     "data": {
      "application/vnd.jupyter.widget-view+json": {
       "model_id": "99a5ac2f6bc943a6b35379cb4a6d968d",
       "version_major": 2,
       "version_minor": 0
      },
      "text/plain": [
       "  0%|          |  0/5 [00:00<?,       ?it/s]"
      ]
     },
     "metadata": {},
     "output_type": "display_data"
    },
    {
     "name": "stderr",
     "output_type": "stream",
     "text": [
      "    Copnorm and demean the data\n",
      "Get list of multiplets\n"
     ]
    },
    {
     "data": {
      "application/vnd.jupyter.widget-view+json": {
       "model_id": "1ec8df4cd2464abd83b698b74400d52b",
       "version_major": 2,
       "version_minor": 0
      },
      "text/plain": [
       "  0%|          |  0/5 [00:00<?,       ?it/s]"
      ]
     },
     "metadata": {},
     "output_type": "display_data"
    },
    {
     "name": "stderr",
     "output_type": "stream",
     "text": [
      "    Copnorm and demean the data\n",
      "Get list of multiplets\n"
     ]
    },
    {
     "data": {
      "application/vnd.jupyter.widget-view+json": {
       "model_id": "7d7a6b098e594eeb954503c14ce1590f",
       "version_major": 2,
       "version_minor": 0
      },
      "text/plain": [
       "  0%|          |  0/5 [00:00<?,       ?it/s]"
      ]
     },
     "metadata": {},
     "output_type": "display_data"
    },
    {
     "name": "stderr",
     "output_type": "stream",
     "text": [
      "    Copnorm and demean the data\n",
      "Get list of multiplets\n"
     ]
    },
    {
     "data": {
      "application/vnd.jupyter.widget-view+json": {
       "model_id": "3932aab3fbfd4ebfad80d21069d70aae",
       "version_major": 2,
       "version_minor": 0
      },
      "text/plain": [
       "  0%|          |  0/5 [00:00<?,       ?it/s]"
      ]
     },
     "metadata": {},
     "output_type": "display_data"
    },
    {
     "name": "stderr",
     "output_type": "stream",
     "text": [
      "    Copnorm and demean the data\n",
      "Get list of multiplets\n"
     ]
    },
    {
     "data": {
      "application/vnd.jupyter.widget-view+json": {
       "model_id": "630bf8bc8d024de59947fb159823d9b3",
       "version_major": 2,
       "version_minor": 0
      },
      "text/plain": [
       "  0%|          |  0/5 [00:00<?,       ?it/s]"
      ]
     },
     "metadata": {},
     "output_type": "display_data"
    },
    {
     "name": "stderr",
     "output_type": "stream",
     "text": [
      "    Copnorm and demean the data\n",
      "Get list of multiplets\n"
     ]
    },
    {
     "data": {
      "application/vnd.jupyter.widget-view+json": {
       "model_id": "f5423dc889bb421b992bf523a41557de",
       "version_major": 2,
       "version_minor": 0
      },
      "text/plain": [
       "  0%|          |  0/5 [00:00<?,       ?it/s]"
      ]
     },
     "metadata": {},
     "output_type": "display_data"
    },
    {
     "name": "stderr",
     "output_type": "stream",
     "text": [
      "    Copnorm and demean the data\n",
      "Get list of multiplets\n"
     ]
    },
    {
     "data": {
      "application/vnd.jupyter.widget-view+json": {
       "model_id": "ac978a9252d646dda2738a79ff2390d1",
       "version_major": 2,
       "version_minor": 0
      },
      "text/plain": [
       "  0%|          |  0/5 [00:00<?,       ?it/s]"
      ]
     },
     "metadata": {},
     "output_type": "display_data"
    },
    {
     "name": "stderr",
     "output_type": "stream",
     "text": [
      "    Copnorm and demean the data\n",
      "Get list of multiplets\n"
     ]
    },
    {
     "data": {
      "application/vnd.jupyter.widget-view+json": {
       "model_id": "6debcfef3f3b499a9649fbbf4fd91e6e",
       "version_major": 2,
       "version_minor": 0
      },
      "text/plain": [
       "  0%|          |  0/5 [00:00<?,       ?it/s]"
      ]
     },
     "metadata": {},
     "output_type": "display_data"
    },
    {
     "name": "stderr",
     "output_type": "stream",
     "text": [
      "    Copnorm and demean the data\n",
      "Get list of multiplets\n"
     ]
    },
    {
     "data": {
      "application/vnd.jupyter.widget-view+json": {
       "model_id": "a93c8c9dde8d45c4b67c68332cd2a8c0",
       "version_major": 2,
       "version_minor": 0
      },
      "text/plain": [
       "  0%|          |  0/5 [00:00<?,       ?it/s]"
      ]
     },
     "metadata": {},
     "output_type": "display_data"
    },
    {
     "name": "stderr",
     "output_type": "stream",
     "text": [
      "    Copnorm and demean the data\n",
      "Get list of multiplets\n"
     ]
    },
    {
     "data": {
      "application/vnd.jupyter.widget-view+json": {
       "model_id": "c8b7b0e390a54510ac17c9a91d121690",
       "version_major": 2,
       "version_minor": 0
      },
      "text/plain": [
       "  0%|          |  0/5 [00:00<?,       ?it/s]"
      ]
     },
     "metadata": {},
     "output_type": "display_data"
    },
    {
     "name": "stderr",
     "output_type": "stream",
     "text": [
      "    Copnorm and demean the data\n",
      "Get list of multiplets\n"
     ]
    },
    {
     "data": {
      "application/vnd.jupyter.widget-view+json": {
       "model_id": "03365b00e72342f594d55f92045f1a7d",
       "version_major": 2,
       "version_minor": 0
      },
      "text/plain": [
       "  0%|          |  0/5 [00:00<?,       ?it/s]"
      ]
     },
     "metadata": {},
     "output_type": "display_data"
    },
    {
     "name": "stderr",
     "output_type": "stream",
     "text": [
      "    Copnorm and demean the data\n",
      "Get list of multiplets\n"
     ]
    },
    {
     "data": {
      "application/vnd.jupyter.widget-view+json": {
       "model_id": "8970a3c3605245d0b01a94ca5355406f",
       "version_major": 2,
       "version_minor": 0
      },
      "text/plain": [
       "  0%|          |  0/5 [00:00<?,       ?it/s]"
      ]
     },
     "metadata": {},
     "output_type": "display_data"
    },
    {
     "name": "stderr",
     "output_type": "stream",
     "text": [
      "    Copnorm and demean the data\n",
      "Get list of multiplets\n"
     ]
    },
    {
     "data": {
      "application/vnd.jupyter.widget-view+json": {
       "model_id": "e52c25720ab54b83bdf8fb6e780cab39",
       "version_major": 2,
       "version_minor": 0
      },
      "text/plain": [
       "  0%|          |  0/5 [00:00<?,       ?it/s]"
      ]
     },
     "metadata": {},
     "output_type": "display_data"
    },
    {
     "name": "stderr",
     "output_type": "stream",
     "text": [
      "    Copnorm and demean the data\n",
      "Get list of multiplets\n"
     ]
    },
    {
     "data": {
      "application/vnd.jupyter.widget-view+json": {
       "model_id": "a71e42f20b5e4baca394ed4ab2bf5bc0",
       "version_major": 2,
       "version_minor": 0
      },
      "text/plain": [
       "  0%|          |  0/5 [00:00<?,       ?it/s]"
      ]
     },
     "metadata": {},
     "output_type": "display_data"
    },
    {
     "name": "stderr",
     "output_type": "stream",
     "text": [
      "    Copnorm and demean the data\n",
      "Get list of multiplets\n"
     ]
    },
    {
     "data": {
      "application/vnd.jupyter.widget-view+json": {
       "model_id": "364adcb8376e4e279729c9265408eec3",
       "version_major": 2,
       "version_minor": 0
      },
      "text/plain": [
       "  0%|          |  0/5 [00:00<?,       ?it/s]"
      ]
     },
     "metadata": {},
     "output_type": "display_data"
    },
    {
     "name": "stderr",
     "output_type": "stream",
     "text": [
      "    Copnorm and demean the data\n",
      "Get list of multiplets\n"
     ]
    },
    {
     "data": {
      "application/vnd.jupyter.widget-view+json": {
       "model_id": "81f1ce883b2f4d1d91df8195b0830ef7",
       "version_major": 2,
       "version_minor": 0
      },
      "text/plain": [
       "  0%|          |  0/5 [00:00<?,       ?it/s]"
      ]
     },
     "metadata": {},
     "output_type": "display_data"
    },
    {
     "name": "stderr",
     "output_type": "stream",
     "text": [
      "    Copnorm and demean the data\n",
      "Get list of multiplets\n"
     ]
    },
    {
     "data": {
      "application/vnd.jupyter.widget-view+json": {
       "model_id": "49a2860b36c64302a8f269dea6176672",
       "version_major": 2,
       "version_minor": 0
      },
      "text/plain": [
       "  0%|          |  0/5 [00:00<?,       ?it/s]"
      ]
     },
     "metadata": {},
     "output_type": "display_data"
    },
    {
     "name": "stderr",
     "output_type": "stream",
     "text": [
      "    Copnorm and demean the data\n",
      "Get list of multiplets\n"
     ]
    },
    {
     "data": {
      "application/vnd.jupyter.widget-view+json": {
       "model_id": "8d398166148b4bf2a160447ec9e0f04b",
       "version_major": 2,
       "version_minor": 0
      },
      "text/plain": [
       "  0%|          |  0/5 [00:00<?,       ?it/s]"
      ]
     },
     "metadata": {},
     "output_type": "display_data"
    },
    {
     "name": "stderr",
     "output_type": "stream",
     "text": [
      "    Copnorm and demean the data\n",
      "Get list of multiplets\n"
     ]
    },
    {
     "data": {
      "application/vnd.jupyter.widget-view+json": {
       "model_id": "23fd788126f94b5db570eb27486435c7",
       "version_major": 2,
       "version_minor": 0
      },
      "text/plain": [
       "  0%|          |  0/5 [00:00<?,       ?it/s]"
      ]
     },
     "metadata": {},
     "output_type": "display_data"
    },
    {
     "name": "stderr",
     "output_type": "stream",
     "text": [
      "    Copnorm and demean the data\n",
      "Get list of multiplets\n"
     ]
    },
    {
     "data": {
      "application/vnd.jupyter.widget-view+json": {
       "model_id": "f664e1db5b7e4541b2f964521cee9a47",
       "version_major": 2,
       "version_minor": 0
      },
      "text/plain": [
       "  0%|          |  0/5 [00:00<?,       ?it/s]"
      ]
     },
     "metadata": {},
     "output_type": "display_data"
    },
    {
     "name": "stderr",
     "output_type": "stream",
     "text": [
      "    Copnorm and demean the data\n",
      "Get list of multiplets\n"
     ]
    },
    {
     "data": {
      "application/vnd.jupyter.widget-view+json": {
       "model_id": "45bc19c8539741c5be4642faa5f2ddce",
       "version_major": 2,
       "version_minor": 0
      },
      "text/plain": [
       "  0%|          |  0/5 [00:00<?,       ?it/s]"
      ]
     },
     "metadata": {},
     "output_type": "display_data"
    },
    {
     "name": "stderr",
     "output_type": "stream",
     "text": [
      "    Copnorm and demean the data\n",
      "Get list of multiplets\n"
     ]
    },
    {
     "data": {
      "application/vnd.jupyter.widget-view+json": {
       "model_id": "4a59a7e008624936850e36ce6f725836",
       "version_major": 2,
       "version_minor": 0
      },
      "text/plain": [
       "  0%|          |  0/5 [00:00<?,       ?it/s]"
      ]
     },
     "metadata": {},
     "output_type": "display_data"
    },
    {
     "name": "stderr",
     "output_type": "stream",
     "text": [
      "    Copnorm and demean the data\n",
      "Get list of multiplets\n"
     ]
    },
    {
     "data": {
      "application/vnd.jupyter.widget-view+json": {
       "model_id": "1a56a7f2cc82467aab51700b7ee78ea7",
       "version_major": 2,
       "version_minor": 0
      },
      "text/plain": [
       "  0%|          |  0/5 [00:00<?,       ?it/s]"
      ]
     },
     "metadata": {},
     "output_type": "display_data"
    },
    {
     "name": "stderr",
     "output_type": "stream",
     "text": [
      "    Copnorm and demean the data\n",
      "Get list of multiplets\n"
     ]
    },
    {
     "data": {
      "application/vnd.jupyter.widget-view+json": {
       "model_id": "2e3257da949c4a2d8e4ed4432c3cc03d",
       "version_major": 2,
       "version_minor": 0
      },
      "text/plain": [
       "  0%|          |  0/5 [00:00<?,       ?it/s]"
      ]
     },
     "metadata": {},
     "output_type": "display_data"
    },
    {
     "name": "stderr",
     "output_type": "stream",
     "text": [
      "    Copnorm and demean the data\n",
      "Get list of multiplets\n"
     ]
    },
    {
     "data": {
      "application/vnd.jupyter.widget-view+json": {
       "model_id": "214b77d335f54a9aadcdbeffcde39625",
       "version_major": 2,
       "version_minor": 0
      },
      "text/plain": [
       "  0%|          |  0/5 [00:00<?,       ?it/s]"
      ]
     },
     "metadata": {},
     "output_type": "display_data"
    },
    {
     "name": "stderr",
     "output_type": "stream",
     "text": [
      "    Copnorm and demean the data\n",
      "Get list of multiplets\n"
     ]
    },
    {
     "data": {
      "application/vnd.jupyter.widget-view+json": {
       "model_id": "241f657dcd1d4870898ea0e9bbbacb77",
       "version_major": 2,
       "version_minor": 0
      },
      "text/plain": [
       "  0%|          |  0/5 [00:00<?,       ?it/s]"
      ]
     },
     "metadata": {},
     "output_type": "display_data"
    },
    {
     "name": "stderr",
     "output_type": "stream",
     "text": [
      "    Copnorm and demean the data\n",
      "Get list of multiplets\n"
     ]
    },
    {
     "data": {
      "application/vnd.jupyter.widget-view+json": {
       "model_id": "ae76cda026164ab39dc283cb015fde7c",
       "version_major": 2,
       "version_minor": 0
      },
      "text/plain": [
       "  0%|          |  0/5 [00:00<?,       ?it/s]"
      ]
     },
     "metadata": {},
     "output_type": "display_data"
    },
    {
     "name": "stderr",
     "output_type": "stream",
     "text": [
      "    Copnorm and demean the data\n",
      "Get list of multiplets\n"
     ]
    },
    {
     "data": {
      "application/vnd.jupyter.widget-view+json": {
       "model_id": "21773cf8b41946ef97883ba8aa26bc88",
       "version_major": 2,
       "version_minor": 0
      },
      "text/plain": [
       "  0%|          |  0/5 [00:00<?,       ?it/s]"
      ]
     },
     "metadata": {},
     "output_type": "display_data"
    },
    {
     "name": "stderr",
     "output_type": "stream",
     "text": [
      "    Copnorm and demean the data\n",
      "Get list of multiplets\n"
     ]
    },
    {
     "data": {
      "application/vnd.jupyter.widget-view+json": {
       "model_id": "476e666470f2497c80fdc757a622d6ee",
       "version_major": 2,
       "version_minor": 0
      },
      "text/plain": [
       "  0%|          |  0/5 [00:00<?,       ?it/s]"
      ]
     },
     "metadata": {},
     "output_type": "display_data"
    },
    {
     "name": "stderr",
     "output_type": "stream",
     "text": [
      "    Copnorm and demean the data\n",
      "Get list of multiplets\n"
     ]
    },
    {
     "data": {
      "application/vnd.jupyter.widget-view+json": {
       "model_id": "4ac3227fcbf44147be90184ef4fc4063",
       "version_major": 2,
       "version_minor": 0
      },
      "text/plain": [
       "  0%|          |  0/5 [00:00<?,       ?it/s]"
      ]
     },
     "metadata": {},
     "output_type": "display_data"
    },
    {
     "name": "stderr",
     "output_type": "stream",
     "text": [
      "    Copnorm and demean the data\n",
      "Get list of multiplets\n"
     ]
    },
    {
     "data": {
      "application/vnd.jupyter.widget-view+json": {
       "model_id": "ab6dc1aee1e54bf38e521f235cebe152",
       "version_major": 2,
       "version_minor": 0
      },
      "text/plain": [
       "  0%|          |  0/5 [00:00<?,       ?it/s]"
      ]
     },
     "metadata": {},
     "output_type": "display_data"
    },
    {
     "name": "stderr",
     "output_type": "stream",
     "text": [
      "    Copnorm and demean the data\n",
      "Get list of multiplets\n"
     ]
    },
    {
     "data": {
      "application/vnd.jupyter.widget-view+json": {
       "model_id": "6eeca956800d4ca592277b5ed714c825",
       "version_major": 2,
       "version_minor": 0
      },
      "text/plain": [
       "  0%|          |  0/5 [00:00<?,       ?it/s]"
      ]
     },
     "metadata": {},
     "output_type": "display_data"
    },
    {
     "name": "stderr",
     "output_type": "stream",
     "text": [
      "    Copnorm and demean the data\n",
      "Get list of multiplets\n"
     ]
    },
    {
     "data": {
      "application/vnd.jupyter.widget-view+json": {
       "model_id": "84b155d75f6f47688c0d00ccbe1f9e75",
       "version_major": 2,
       "version_minor": 0
      },
      "text/plain": [
       "  0%|          |  0/5 [00:00<?,       ?it/s]"
      ]
     },
     "metadata": {},
     "output_type": "display_data"
    },
    {
     "name": "stderr",
     "output_type": "stream",
     "text": [
      "    Copnorm and demean the data\n",
      "Get list of multiplets\n"
     ]
    },
    {
     "data": {
      "application/vnd.jupyter.widget-view+json": {
       "model_id": "c5b55413a62f46adaa9456abaa37ba07",
       "version_major": 2,
       "version_minor": 0
      },
      "text/plain": [
       "  0%|          |  0/5 [00:00<?,       ?it/s]"
      ]
     },
     "metadata": {},
     "output_type": "display_data"
    },
    {
     "name": "stderr",
     "output_type": "stream",
     "text": [
      "    Copnorm and demean the data\n",
      "Get list of multiplets\n"
     ]
    },
    {
     "data": {
      "application/vnd.jupyter.widget-view+json": {
       "model_id": "94ccef4b262f406482686a1fce413c1d",
       "version_major": 2,
       "version_minor": 0
      },
      "text/plain": [
       "  0%|          |  0/5 [00:00<?,       ?it/s]"
      ]
     },
     "metadata": {},
     "output_type": "display_data"
    },
    {
     "name": "stderr",
     "output_type": "stream",
     "text": [
      "    Copnorm and demean the data\n",
      "Get list of multiplets\n"
     ]
    },
    {
     "data": {
      "application/vnd.jupyter.widget-view+json": {
       "model_id": "ed0a7a53066a4dbb82cc3ca60c4543d2",
       "version_major": 2,
       "version_minor": 0
      },
      "text/plain": [
       "  0%|          |  0/5 [00:00<?,       ?it/s]"
      ]
     },
     "metadata": {},
     "output_type": "display_data"
    },
    {
     "name": "stderr",
     "output_type": "stream",
     "text": [
      "    Copnorm and demean the data\n",
      "Get list of multiplets\n"
     ]
    },
    {
     "data": {
      "application/vnd.jupyter.widget-view+json": {
       "model_id": "51922c0545894f9ea6500674c82c7e69",
       "version_major": 2,
       "version_minor": 0
      },
      "text/plain": [
       "  0%|          |  0/5 [00:00<?,       ?it/s]"
      ]
     },
     "metadata": {},
     "output_type": "display_data"
    },
    {
     "name": "stderr",
     "output_type": "stream",
     "text": [
      "    Copnorm and demean the data\n",
      "Get list of multiplets\n"
     ]
    },
    {
     "data": {
      "application/vnd.jupyter.widget-view+json": {
       "model_id": "2e109506463f4765b241872f79b12b92",
       "version_major": 2,
       "version_minor": 0
      },
      "text/plain": [
       "  0%|          |  0/5 [00:00<?,       ?it/s]"
      ]
     },
     "metadata": {},
     "output_type": "display_data"
    },
    {
     "name": "stderr",
     "output_type": "stream",
     "text": [
      "    Copnorm and demean the data\n",
      "Get list of multiplets\n"
     ]
    },
    {
     "data": {
      "application/vnd.jupyter.widget-view+json": {
       "model_id": "e117f311dacc4c51a346ad70e2321a52",
       "version_major": 2,
       "version_minor": 0
      },
      "text/plain": [
       "  0%|          |  0/5 [00:00<?,       ?it/s]"
      ]
     },
     "metadata": {},
     "output_type": "display_data"
    },
    {
     "name": "stderr",
     "output_type": "stream",
     "text": [
      "    Copnorm and demean the data\n",
      "Get list of multiplets\n"
     ]
    },
    {
     "data": {
      "application/vnd.jupyter.widget-view+json": {
       "model_id": "ecf626a27f994af797eab4c987f985fb",
       "version_major": 2,
       "version_minor": 0
      },
      "text/plain": [
       "  0%|          |  0/5 [00:00<?,       ?it/s]"
      ]
     },
     "metadata": {},
     "output_type": "display_data"
    },
    {
     "name": "stderr",
     "output_type": "stream",
     "text": [
      "    Copnorm and demean the data\n",
      "Get list of multiplets\n"
     ]
    },
    {
     "data": {
      "application/vnd.jupyter.widget-view+json": {
       "model_id": "bfb9ce6044fb4da4b1ee538f923cde6c",
       "version_major": 2,
       "version_minor": 0
      },
      "text/plain": [
       "  0%|          |  0/5 [00:00<?,       ?it/s]"
      ]
     },
     "metadata": {},
     "output_type": "display_data"
    },
    {
     "name": "stderr",
     "output_type": "stream",
     "text": [
      "    Copnorm and demean the data\n",
      "Get list of multiplets\n"
     ]
    },
    {
     "data": {
      "application/vnd.jupyter.widget-view+json": {
       "model_id": "350ad9af93ed4f83be354642321d63a6",
       "version_major": 2,
       "version_minor": 0
      },
      "text/plain": [
       "  0%|          |  0/5 [00:00<?,       ?it/s]"
      ]
     },
     "metadata": {},
     "output_type": "display_data"
    },
    {
     "name": "stderr",
     "output_type": "stream",
     "text": [
      "    Copnorm and demean the data\n",
      "Get list of multiplets\n"
     ]
    },
    {
     "data": {
      "application/vnd.jupyter.widget-view+json": {
       "model_id": "b60e5f52de0d4da0a251baf243f2720e",
       "version_major": 2,
       "version_minor": 0
      },
      "text/plain": [
       "  0%|          |  0/5 [00:00<?,       ?it/s]"
      ]
     },
     "metadata": {},
     "output_type": "display_data"
    },
    {
     "name": "stderr",
     "output_type": "stream",
     "text": [
      "    Copnorm and demean the data\n",
      "Get list of multiplets\n"
     ]
    },
    {
     "data": {
      "application/vnd.jupyter.widget-view+json": {
       "model_id": "eb931487ad6e49a9a0bef0c36f9d4b95",
       "version_major": 2,
       "version_minor": 0
      },
      "text/plain": [
       "  0%|          |  0/5 [00:00<?,       ?it/s]"
      ]
     },
     "metadata": {},
     "output_type": "display_data"
    },
    {
     "name": "stderr",
     "output_type": "stream",
     "text": [
      "    Copnorm and demean the data\n",
      "Get list of multiplets\n"
     ]
    },
    {
     "data": {
      "application/vnd.jupyter.widget-view+json": {
       "model_id": "f61fc556f62a44729b6efe402bd4ce6a",
       "version_major": 2,
       "version_minor": 0
      },
      "text/plain": [
       "  0%|          |  0/5 [00:00<?,       ?it/s]"
      ]
     },
     "metadata": {},
     "output_type": "display_data"
    },
    {
     "name": "stderr",
     "output_type": "stream",
     "text": [
      "    Copnorm and demean the data\n",
      "Get list of multiplets\n"
     ]
    },
    {
     "data": {
      "application/vnd.jupyter.widget-view+json": {
       "model_id": "8875bb8b08aa4e9283e21ffe9159115e",
       "version_major": 2,
       "version_minor": 0
      },
      "text/plain": [
       "  0%|          |  0/5 [00:00<?,       ?it/s]"
      ]
     },
     "metadata": {},
     "output_type": "display_data"
    },
    {
     "name": "stderr",
     "output_type": "stream",
     "text": [
      "    Copnorm and demean the data\n",
      "Get list of multiplets\n"
     ]
    },
    {
     "data": {
      "application/vnd.jupyter.widget-view+json": {
       "model_id": "e56d27c10e3b4b8b97dda657fabbe241",
       "version_major": 2,
       "version_minor": 0
      },
      "text/plain": [
       "  0%|          |  0/5 [00:00<?,       ?it/s]"
      ]
     },
     "metadata": {},
     "output_type": "display_data"
    },
    {
     "name": "stderr",
     "output_type": "stream",
     "text": [
      "    Copnorm and demean the data\n",
      "Get list of multiplets\n"
     ]
    },
    {
     "data": {
      "application/vnd.jupyter.widget-view+json": {
       "model_id": "b854830026ff41598f138c55e86e83b2",
       "version_major": 2,
       "version_minor": 0
      },
      "text/plain": [
       "  0%|          |  0/5 [00:00<?,       ?it/s]"
      ]
     },
     "metadata": {},
     "output_type": "display_data"
    },
    {
     "name": "stderr",
     "output_type": "stream",
     "text": [
      "    Copnorm and demean the data\n",
      "Get list of multiplets\n"
     ]
    },
    {
     "data": {
      "application/vnd.jupyter.widget-view+json": {
       "model_id": "b59749f3616f4e6186fb6164cffa1576",
       "version_major": 2,
       "version_minor": 0
      },
      "text/plain": [
       "  0%|          |  0/5 [00:00<?,       ?it/s]"
      ]
     },
     "metadata": {},
     "output_type": "display_data"
    },
    {
     "name": "stderr",
     "output_type": "stream",
     "text": [
      "    Copnorm and demean the data\n",
      "Get list of multiplets\n"
     ]
    },
    {
     "data": {
      "application/vnd.jupyter.widget-view+json": {
       "model_id": "40db5afe838b463db9f8043ef4a751a6",
       "version_major": 2,
       "version_minor": 0
      },
      "text/plain": [
       "  0%|          |  0/5 [00:00<?,       ?it/s]"
      ]
     },
     "metadata": {},
     "output_type": "display_data"
    },
    {
     "name": "stderr",
     "output_type": "stream",
     "text": [
      "    Copnorm and demean the data\n",
      "Get list of multiplets\n"
     ]
    },
    {
     "data": {
      "application/vnd.jupyter.widget-view+json": {
       "model_id": "bd58eb4fb4d0432d9a99a81fa82eeb93",
       "version_major": 2,
       "version_minor": 0
      },
      "text/plain": [
       "  0%|          |  0/5 [00:00<?,       ?it/s]"
      ]
     },
     "metadata": {},
     "output_type": "display_data"
    },
    {
     "name": "stderr",
     "output_type": "stream",
     "text": [
      "    Copnorm and demean the data\n",
      "Get list of multiplets\n"
     ]
    },
    {
     "data": {
      "application/vnd.jupyter.widget-view+json": {
       "model_id": "a84cf0f86e1f472da17b1f8dbbb6cc6d",
       "version_major": 2,
       "version_minor": 0
      },
      "text/plain": [
       "  0%|          |  0/5 [00:00<?,       ?it/s]"
      ]
     },
     "metadata": {},
     "output_type": "display_data"
    },
    {
     "name": "stderr",
     "output_type": "stream",
     "text": [
      "    Copnorm and demean the data\n",
      "Get list of multiplets\n"
     ]
    },
    {
     "data": {
      "application/vnd.jupyter.widget-view+json": {
       "model_id": "cabb1f21c7de4431a3975a5e8987892e",
       "version_major": 2,
       "version_minor": 0
      },
      "text/plain": [
       "  0%|          |  0/5 [00:00<?,       ?it/s]"
      ]
     },
     "metadata": {},
     "output_type": "display_data"
    },
    {
     "name": "stderr",
     "output_type": "stream",
     "text": [
      "    Copnorm and demean the data\n",
      "Get list of multiplets\n"
     ]
    },
    {
     "data": {
      "application/vnd.jupyter.widget-view+json": {
       "model_id": "3b741634d2a64c74a61ed1f744bb0389",
       "version_major": 2,
       "version_minor": 0
      },
      "text/plain": [
       "  0%|          |  0/5 [00:00<?,       ?it/s]"
      ]
     },
     "metadata": {},
     "output_type": "display_data"
    },
    {
     "name": "stderr",
     "output_type": "stream",
     "text": [
      "    Copnorm and demean the data\n",
      "Get list of multiplets\n"
     ]
    },
    {
     "data": {
      "application/vnd.jupyter.widget-view+json": {
       "model_id": "787830fb059a483282b48ff3e7b1ed76",
       "version_major": 2,
       "version_minor": 0
      },
      "text/plain": [
       "  0%|          |  0/5 [00:00<?,       ?it/s]"
      ]
     },
     "metadata": {},
     "output_type": "display_data"
    },
    {
     "name": "stderr",
     "output_type": "stream",
     "text": [
      "    Copnorm and demean the data\n",
      "Get list of multiplets\n"
     ]
    },
    {
     "data": {
      "application/vnd.jupyter.widget-view+json": {
       "model_id": "ea41e453159e4ff2a8346a7369315636",
       "version_major": 2,
       "version_minor": 0
      },
      "text/plain": [
       "  0%|          |  0/5 [00:00<?,       ?it/s]"
      ]
     },
     "metadata": {},
     "output_type": "display_data"
    },
    {
     "name": "stderr",
     "output_type": "stream",
     "text": [
      "    Copnorm and demean the data\n",
      "Get list of multiplets\n"
     ]
    },
    {
     "data": {
      "application/vnd.jupyter.widget-view+json": {
       "model_id": "b6a14b9f951b499a9def6d889a3383b3",
       "version_major": 2,
       "version_minor": 0
      },
      "text/plain": [
       "  0%|          |  0/5 [00:00<?,       ?it/s]"
      ]
     },
     "metadata": {},
     "output_type": "display_data"
    },
    {
     "name": "stderr",
     "output_type": "stream",
     "text": [
      "    Copnorm and demean the data\n",
      "Get list of multiplets\n"
     ]
    },
    {
     "data": {
      "application/vnd.jupyter.widget-view+json": {
       "model_id": "01b05dce8fd644b4bd0ae746badbbfd1",
       "version_major": 2,
       "version_minor": 0
      },
      "text/plain": [
       "  0%|          |  0/5 [00:00<?,       ?it/s]"
      ]
     },
     "metadata": {},
     "output_type": "display_data"
    },
    {
     "name": "stderr",
     "output_type": "stream",
     "text": [
      "    Copnorm and demean the data\n",
      "Get list of multiplets\n"
     ]
    },
    {
     "data": {
      "application/vnd.jupyter.widget-view+json": {
       "model_id": "adf5b9812a0044f5a658ede18d4ab93f",
       "version_major": 2,
       "version_minor": 0
      },
      "text/plain": [
       "  0%|          |  0/5 [00:00<?,       ?it/s]"
      ]
     },
     "metadata": {},
     "output_type": "display_data"
    },
    {
     "name": "stderr",
     "output_type": "stream",
     "text": [
      "    Copnorm and demean the data\n",
      "Get list of multiplets\n"
     ]
    },
    {
     "data": {
      "application/vnd.jupyter.widget-view+json": {
       "model_id": "a60866c6c610444c9c1c91f72de9556f",
       "version_major": 2,
       "version_minor": 0
      },
      "text/plain": [
       "  0%|          |  0/5 [00:00<?,       ?it/s]"
      ]
     },
     "metadata": {},
     "output_type": "display_data"
    },
    {
     "name": "stderr",
     "output_type": "stream",
     "text": [
      "    Copnorm and demean the data\n",
      "Get list of multiplets\n"
     ]
    },
    {
     "data": {
      "application/vnd.jupyter.widget-view+json": {
       "model_id": "b838f03da1eb4e7799fa1551ede3e8c2",
       "version_major": 2,
       "version_minor": 0
      },
      "text/plain": [
       "  0%|          |  0/5 [00:00<?,       ?it/s]"
      ]
     },
     "metadata": {},
     "output_type": "display_data"
    },
    {
     "name": "stderr",
     "output_type": "stream",
     "text": [
      "    Copnorm and demean the data\n",
      "Get list of multiplets\n"
     ]
    },
    {
     "data": {
      "application/vnd.jupyter.widget-view+json": {
       "model_id": "7b1abf26333a48eea52d7393a0ea93ca",
       "version_major": 2,
       "version_minor": 0
      },
      "text/plain": [
       "  0%|          |  0/5 [00:00<?,       ?it/s]"
      ]
     },
     "metadata": {},
     "output_type": "display_data"
    },
    {
     "name": "stderr",
     "output_type": "stream",
     "text": [
      "    Copnorm and demean the data\n",
      "Get list of multiplets\n"
     ]
    },
    {
     "data": {
      "application/vnd.jupyter.widget-view+json": {
       "model_id": "7794f4b06f504382a54f5e9354c5bf3d",
       "version_major": 2,
       "version_minor": 0
      },
      "text/plain": [
       "  0%|          |  0/5 [00:00<?,       ?it/s]"
      ]
     },
     "metadata": {},
     "output_type": "display_data"
    },
    {
     "name": "stderr",
     "output_type": "stream",
     "text": [
      "    Copnorm and demean the data\n",
      "Get list of multiplets\n"
     ]
    },
    {
     "data": {
      "application/vnd.jupyter.widget-view+json": {
       "model_id": "61de7eee8cc2407ea2a3b99c183ea7c0",
       "version_major": 2,
       "version_minor": 0
      },
      "text/plain": [
       "  0%|          |  0/5 [00:00<?,       ?it/s]"
      ]
     },
     "metadata": {},
     "output_type": "display_data"
    },
    {
     "name": "stderr",
     "output_type": "stream",
     "text": [
      "    Copnorm and demean the data\n",
      "Get list of multiplets\n"
     ]
    },
    {
     "data": {
      "application/vnd.jupyter.widget-view+json": {
       "model_id": "969666990274444bb033a34e09444331",
       "version_major": 2,
       "version_minor": 0
      },
      "text/plain": [
       "  0%|          |  0/5 [00:00<?,       ?it/s]"
      ]
     },
     "metadata": {},
     "output_type": "display_data"
    },
    {
     "name": "stderr",
     "output_type": "stream",
     "text": [
      "    Copnorm and demean the data\n",
      "Get list of multiplets\n"
     ]
    },
    {
     "data": {
      "application/vnd.jupyter.widget-view+json": {
       "model_id": "dcacd8ab2bb44e87acc2b2f5b3b6c288",
       "version_major": 2,
       "version_minor": 0
      },
      "text/plain": [
       "  0%|          |  0/5 [00:00<?,       ?it/s]"
      ]
     },
     "metadata": {},
     "output_type": "display_data"
    },
    {
     "name": "stderr",
     "output_type": "stream",
     "text": [
      "    Copnorm and demean the data\n",
      "Get list of multiplets\n"
     ]
    },
    {
     "data": {
      "application/vnd.jupyter.widget-view+json": {
       "model_id": "1e6441c078ba408cb5e84ed438593846",
       "version_major": 2,
       "version_minor": 0
      },
      "text/plain": [
       "  0%|          |  0/5 [00:00<?,       ?it/s]"
      ]
     },
     "metadata": {},
     "output_type": "display_data"
    },
    {
     "name": "stderr",
     "output_type": "stream",
     "text": [
      "    Copnorm and demean the data\n",
      "Get list of multiplets\n"
     ]
    },
    {
     "data": {
      "application/vnd.jupyter.widget-view+json": {
       "model_id": "d88cb6c0d18a4e00927820f070be4dc8",
       "version_major": 2,
       "version_minor": 0
      },
      "text/plain": [
       "  0%|          |  0/5 [00:00<?,       ?it/s]"
      ]
     },
     "metadata": {},
     "output_type": "display_data"
    },
    {
     "name": "stderr",
     "output_type": "stream",
     "text": [
      "    Copnorm and demean the data\n",
      "Get list of multiplets\n"
     ]
    },
    {
     "data": {
      "application/vnd.jupyter.widget-view+json": {
       "model_id": "3d877f95000142b8a8753cc1a65cb38b",
       "version_major": 2,
       "version_minor": 0
      },
      "text/plain": [
       "  0%|          |  0/4 [00:00<?,       ?it/s]"
      ]
     },
     "metadata": {},
     "output_type": "display_data"
    },
    {
     "name": "stderr",
     "output_type": "stream",
     "text": [
      "    Copnorm and demean the data\n",
      "Get list of multiplets\n"
     ]
    },
    {
     "data": {
      "application/vnd.jupyter.widget-view+json": {
       "model_id": "79309fcacdcd4837abe299c500b2b1f8",
       "version_major": 2,
       "version_minor": 0
      },
      "text/plain": [
       "  0%|          |  0/4 [00:00<?,       ?it/s]"
      ]
     },
     "metadata": {},
     "output_type": "display_data"
    },
    {
     "name": "stderr",
     "output_type": "stream",
     "text": [
      "    Copnorm and demean the data\n",
      "Get list of multiplets\n"
     ]
    },
    {
     "data": {
      "application/vnd.jupyter.widget-view+json": {
       "model_id": "ef1656b910064c5cbbbd0065499e7065",
       "version_major": 2,
       "version_minor": 0
      },
      "text/plain": [
       "  0%|          |  0/4 [00:00<?,       ?it/s]"
      ]
     },
     "metadata": {},
     "output_type": "display_data"
    },
    {
     "name": "stderr",
     "output_type": "stream",
     "text": [
      "    Copnorm and demean the data\n",
      "Get list of multiplets\n"
     ]
    },
    {
     "data": {
      "application/vnd.jupyter.widget-view+json": {
       "model_id": "4e9b558a1d3b43f8a8c8c4d4c6e0d2cc",
       "version_major": 2,
       "version_minor": 0
      },
      "text/plain": [
       "  0%|          |  0/4 [00:00<?,       ?it/s]"
      ]
     },
     "metadata": {},
     "output_type": "display_data"
    },
    {
     "name": "stderr",
     "output_type": "stream",
     "text": [
      "    Copnorm and demean the data\n",
      "Get list of multiplets\n"
     ]
    },
    {
     "data": {
      "application/vnd.jupyter.widget-view+json": {
       "model_id": "70e8553cfb864311844ab8a80671520d",
       "version_major": 2,
       "version_minor": 0
      },
      "text/plain": [
       "  0%|          |  0/4 [00:00<?,       ?it/s]"
      ]
     },
     "metadata": {},
     "output_type": "display_data"
    },
    {
     "name": "stderr",
     "output_type": "stream",
     "text": [
      "    Copnorm and demean the data\n",
      "Get list of multiplets\n"
     ]
    },
    {
     "data": {
      "application/vnd.jupyter.widget-view+json": {
       "model_id": "b9d3c674fae446688d84bfde080dca46",
       "version_major": 2,
       "version_minor": 0
      },
      "text/plain": [
       "  0%|          |  0/4 [00:00<?,       ?it/s]"
      ]
     },
     "metadata": {},
     "output_type": "display_data"
    },
    {
     "name": "stderr",
     "output_type": "stream",
     "text": [
      "    Copnorm and demean the data\n",
      "Get list of multiplets\n"
     ]
    },
    {
     "data": {
      "application/vnd.jupyter.widget-view+json": {
       "model_id": "c283dceeb0c44aba9697f12512c0a770",
       "version_major": 2,
       "version_minor": 0
      },
      "text/plain": [
       "  0%|          |  0/4 [00:00<?,       ?it/s]"
      ]
     },
     "metadata": {},
     "output_type": "display_data"
    },
    {
     "name": "stderr",
     "output_type": "stream",
     "text": [
      "    Copnorm and demean the data\n",
      "Get list of multiplets\n"
     ]
    },
    {
     "data": {
      "application/vnd.jupyter.widget-view+json": {
       "model_id": "02b10f713ed443bebc76a37c5b5bc7c6",
       "version_major": 2,
       "version_minor": 0
      },
      "text/plain": [
       "  0%|          |  0/4 [00:00<?,       ?it/s]"
      ]
     },
     "metadata": {},
     "output_type": "display_data"
    },
    {
     "name": "stderr",
     "output_type": "stream",
     "text": [
      "    Copnorm and demean the data\n",
      "Get list of multiplets\n"
     ]
    },
    {
     "data": {
      "application/vnd.jupyter.widget-view+json": {
       "model_id": "e1de32a88aa046ad8df3ff5ded53eeb8",
       "version_major": 2,
       "version_minor": 0
      },
      "text/plain": [
       "  0%|          |  0/4 [00:00<?,       ?it/s]"
      ]
     },
     "metadata": {},
     "output_type": "display_data"
    },
    {
     "name": "stderr",
     "output_type": "stream",
     "text": [
      "    Copnorm and demean the data\n",
      "Get list of multiplets\n"
     ]
    },
    {
     "data": {
      "application/vnd.jupyter.widget-view+json": {
       "model_id": "30b8612d30d14e339e3dd3d723b8cff2",
       "version_major": 2,
       "version_minor": 0
      },
      "text/plain": [
       "  0%|          |  0/4 [00:00<?,       ?it/s]"
      ]
     },
     "metadata": {},
     "output_type": "display_data"
    },
    {
     "name": "stderr",
     "output_type": "stream",
     "text": [
      "    Copnorm and demean the data\n",
      "Get list of multiplets\n"
     ]
    },
    {
     "data": {
      "application/vnd.jupyter.widget-view+json": {
       "model_id": "ed9d79a3c2564f699d4f8fd04332c109",
       "version_major": 2,
       "version_minor": 0
      },
      "text/plain": [
       "  0%|          |  0/4 [00:00<?,       ?it/s]"
      ]
     },
     "metadata": {},
     "output_type": "display_data"
    },
    {
     "name": "stderr",
     "output_type": "stream",
     "text": [
      "    Copnorm and demean the data\n",
      "Get list of multiplets\n"
     ]
    },
    {
     "data": {
      "application/vnd.jupyter.widget-view+json": {
       "model_id": "f9c32015570c49dc8d29b8f8217c1910",
       "version_major": 2,
       "version_minor": 0
      },
      "text/plain": [
       "  0%|          |  0/4 [00:00<?,       ?it/s]"
      ]
     },
     "metadata": {},
     "output_type": "display_data"
    },
    {
     "name": "stderr",
     "output_type": "stream",
     "text": [
      "    Copnorm and demean the data\n",
      "Get list of multiplets\n"
     ]
    },
    {
     "data": {
      "application/vnd.jupyter.widget-view+json": {
       "model_id": "2e13d73fa1fe4038948a1c9712e30c8e",
       "version_major": 2,
       "version_minor": 0
      },
      "text/plain": [
       "  0%|          |  0/4 [00:00<?,       ?it/s]"
      ]
     },
     "metadata": {},
     "output_type": "display_data"
    },
    {
     "name": "stderr",
     "output_type": "stream",
     "text": [
      "    Copnorm and demean the data\n",
      "Get list of multiplets\n"
     ]
    },
    {
     "data": {
      "application/vnd.jupyter.widget-view+json": {
       "model_id": "9254de10ec0d49e9a46ad5aa797e957c",
       "version_major": 2,
       "version_minor": 0
      },
      "text/plain": [
       "  0%|          |  0/4 [00:00<?,       ?it/s]"
      ]
     },
     "metadata": {},
     "output_type": "display_data"
    },
    {
     "name": "stderr",
     "output_type": "stream",
     "text": [
      "    Copnorm and demean the data\n",
      "Get list of multiplets\n"
     ]
    },
    {
     "data": {
      "application/vnd.jupyter.widget-view+json": {
       "model_id": "3c6d0b44fb4b46adbf2de516a5fc4432",
       "version_major": 2,
       "version_minor": 0
      },
      "text/plain": [
       "  0%|          |  0/4 [00:00<?,       ?it/s]"
      ]
     },
     "metadata": {},
     "output_type": "display_data"
    },
    {
     "name": "stderr",
     "output_type": "stream",
     "text": [
      "    Copnorm and demean the data\n",
      "Get list of multiplets\n"
     ]
    },
    {
     "data": {
      "application/vnd.jupyter.widget-view+json": {
       "model_id": "09717b5ea2fb4c8bab6710b6405febf4",
       "version_major": 2,
       "version_minor": 0
      },
      "text/plain": [
       "  0%|          |  0/4 [00:00<?,       ?it/s]"
      ]
     },
     "metadata": {},
     "output_type": "display_data"
    },
    {
     "name": "stderr",
     "output_type": "stream",
     "text": [
      "    Copnorm and demean the data\n",
      "Get list of multiplets\n"
     ]
    },
    {
     "data": {
      "application/vnd.jupyter.widget-view+json": {
       "model_id": "bc1c93952c46444db0a871aca1cefa4c",
       "version_major": 2,
       "version_minor": 0
      },
      "text/plain": [
       "  0%|          |  0/4 [00:00<?,       ?it/s]"
      ]
     },
     "metadata": {},
     "output_type": "display_data"
    },
    {
     "name": "stderr",
     "output_type": "stream",
     "text": [
      "    Copnorm and demean the data\n",
      "Get list of multiplets\n"
     ]
    },
    {
     "data": {
      "application/vnd.jupyter.widget-view+json": {
       "model_id": "50de9e8b12574089b3f5a60a28570f7d",
       "version_major": 2,
       "version_minor": 0
      },
      "text/plain": [
       "  0%|          |  0/4 [00:00<?,       ?it/s]"
      ]
     },
     "metadata": {},
     "output_type": "display_data"
    },
    {
     "name": "stderr",
     "output_type": "stream",
     "text": [
      "    Copnorm and demean the data\n",
      "Get list of multiplets\n"
     ]
    },
    {
     "data": {
      "application/vnd.jupyter.widget-view+json": {
       "model_id": "95eb6f330e6e46a38add8d55e8611426",
       "version_major": 2,
       "version_minor": 0
      },
      "text/plain": [
       "  0%|          |  0/4 [00:00<?,       ?it/s]"
      ]
     },
     "metadata": {},
     "output_type": "display_data"
    },
    {
     "name": "stderr",
     "output_type": "stream",
     "text": [
      "    Copnorm and demean the data\n",
      "Get list of multiplets\n"
     ]
    },
    {
     "data": {
      "application/vnd.jupyter.widget-view+json": {
       "model_id": "e8ea357797c64430bc5701e53eeedef7",
       "version_major": 2,
       "version_minor": 0
      },
      "text/plain": [
       "  0%|          |  0/4 [00:00<?,       ?it/s]"
      ]
     },
     "metadata": {},
     "output_type": "display_data"
    },
    {
     "name": "stderr",
     "output_type": "stream",
     "text": [
      "    Copnorm and demean the data\n",
      "Get list of multiplets\n"
     ]
    },
    {
     "data": {
      "application/vnd.jupyter.widget-view+json": {
       "model_id": "9503ecef45c64c03a9c0bab3ef15410d",
       "version_major": 2,
       "version_minor": 0
      },
      "text/plain": [
       "  0%|          |  0/4 [00:00<?,       ?it/s]"
      ]
     },
     "metadata": {},
     "output_type": "display_data"
    },
    {
     "name": "stderr",
     "output_type": "stream",
     "text": [
      "    Copnorm and demean the data\n",
      "Get list of multiplets\n"
     ]
    },
    {
     "data": {
      "application/vnd.jupyter.widget-view+json": {
       "model_id": "55f490dce817404bbeb77f25faabc4a3",
       "version_major": 2,
       "version_minor": 0
      },
      "text/plain": [
       "  0%|          |  0/4 [00:00<?,       ?it/s]"
      ]
     },
     "metadata": {},
     "output_type": "display_data"
    },
    {
     "name": "stderr",
     "output_type": "stream",
     "text": [
      "    Copnorm and demean the data\n",
      "Get list of multiplets\n"
     ]
    },
    {
     "data": {
      "application/vnd.jupyter.widget-view+json": {
       "model_id": "3881702ad7a24e92b7712df025e27e84",
       "version_major": 2,
       "version_minor": 0
      },
      "text/plain": [
       "  0%|          |  0/4 [00:00<?,       ?it/s]"
      ]
     },
     "metadata": {},
     "output_type": "display_data"
    },
    {
     "name": "stderr",
     "output_type": "stream",
     "text": [
      "    Copnorm and demean the data\n",
      "Get list of multiplets\n"
     ]
    },
    {
     "data": {
      "application/vnd.jupyter.widget-view+json": {
       "model_id": "dd004db61b5f4af590f471e07cf84a92",
       "version_major": 2,
       "version_minor": 0
      },
      "text/plain": [
       "  0%|          |  0/4 [00:00<?,       ?it/s]"
      ]
     },
     "metadata": {},
     "output_type": "display_data"
    },
    {
     "name": "stderr",
     "output_type": "stream",
     "text": [
      "    Copnorm and demean the data\n",
      "Get list of multiplets\n"
     ]
    },
    {
     "data": {
      "application/vnd.jupyter.widget-view+json": {
       "model_id": "bf340f3d3cb2413a8e968dfa5329a4f0",
       "version_major": 2,
       "version_minor": 0
      },
      "text/plain": [
       "  0%|          |  0/4 [00:00<?,       ?it/s]"
      ]
     },
     "metadata": {},
     "output_type": "display_data"
    },
    {
     "name": "stderr",
     "output_type": "stream",
     "text": [
      "    Copnorm and demean the data\n",
      "Get list of multiplets\n"
     ]
    },
    {
     "data": {
      "application/vnd.jupyter.widget-view+json": {
       "model_id": "13c6e47df7f54c5f8cd6d3371c2193d9",
       "version_major": 2,
       "version_minor": 0
      },
      "text/plain": [
       "  0%|          |  0/4 [00:00<?,       ?it/s]"
      ]
     },
     "metadata": {},
     "output_type": "display_data"
    },
    {
     "name": "stderr",
     "output_type": "stream",
     "text": [
      "    Copnorm and demean the data\n",
      "Get list of multiplets\n"
     ]
    },
    {
     "data": {
      "application/vnd.jupyter.widget-view+json": {
       "model_id": "b6d1726b335e477b9ae915950e29f622",
       "version_major": 2,
       "version_minor": 0
      },
      "text/plain": [
       "  0%|          |  0/4 [00:00<?,       ?it/s]"
      ]
     },
     "metadata": {},
     "output_type": "display_data"
    },
    {
     "name": "stderr",
     "output_type": "stream",
     "text": [
      "    Copnorm and demean the data\n",
      "Get list of multiplets\n"
     ]
    },
    {
     "data": {
      "application/vnd.jupyter.widget-view+json": {
       "model_id": "7cc7c7a8b8bb42fdb013887d2d7f6d71",
       "version_major": 2,
       "version_minor": 0
      },
      "text/plain": [
       "  0%|          |  0/4 [00:00<?,       ?it/s]"
      ]
     },
     "metadata": {},
     "output_type": "display_data"
    },
    {
     "name": "stderr",
     "output_type": "stream",
     "text": [
      "    Copnorm and demean the data\n",
      "Get list of multiplets\n"
     ]
    },
    {
     "data": {
      "application/vnd.jupyter.widget-view+json": {
       "model_id": "7d14637abba548a1b200747c5afb2320",
       "version_major": 2,
       "version_minor": 0
      },
      "text/plain": [
       "  0%|          |  0/4 [00:00<?,       ?it/s]"
      ]
     },
     "metadata": {},
     "output_type": "display_data"
    },
    {
     "name": "stderr",
     "output_type": "stream",
     "text": [
      "    Copnorm and demean the data\n",
      "Get list of multiplets\n"
     ]
    },
    {
     "data": {
      "application/vnd.jupyter.widget-view+json": {
       "model_id": "056ce97e6af2466494108c7d82becaaa",
       "version_major": 2,
       "version_minor": 0
      },
      "text/plain": [
       "  0%|          |  0/4 [00:00<?,       ?it/s]"
      ]
     },
     "metadata": {},
     "output_type": "display_data"
    },
    {
     "name": "stderr",
     "output_type": "stream",
     "text": [
      "    Copnorm and demean the data\n",
      "Get list of multiplets\n"
     ]
    },
    {
     "data": {
      "application/vnd.jupyter.widget-view+json": {
       "model_id": "c42fa72956284174b81ac33b1a5e6185",
       "version_major": 2,
       "version_minor": 0
      },
      "text/plain": [
       "  0%|          |  0/4 [00:00<?,       ?it/s]"
      ]
     },
     "metadata": {},
     "output_type": "display_data"
    },
    {
     "name": "stderr",
     "output_type": "stream",
     "text": [
      "    Copnorm and demean the data\n",
      "Get list of multiplets\n"
     ]
    },
    {
     "data": {
      "application/vnd.jupyter.widget-view+json": {
       "model_id": "cb34b79dd3974f6d8142c0bd6d602e1a",
       "version_major": 2,
       "version_minor": 0
      },
      "text/plain": [
       "  0%|          |  0/4 [00:00<?,       ?it/s]"
      ]
     },
     "metadata": {},
     "output_type": "display_data"
    },
    {
     "name": "stderr",
     "output_type": "stream",
     "text": [
      "    Copnorm and demean the data\n",
      "Get list of multiplets\n"
     ]
    },
    {
     "data": {
      "application/vnd.jupyter.widget-view+json": {
       "model_id": "b5f74cfaff56460eb9db57f2fd2c1a97",
       "version_major": 2,
       "version_minor": 0
      },
      "text/plain": [
       "  0%|          |  0/4 [00:00<?,       ?it/s]"
      ]
     },
     "metadata": {},
     "output_type": "display_data"
    },
    {
     "name": "stderr",
     "output_type": "stream",
     "text": [
      "    Copnorm and demean the data\n",
      "Get list of multiplets\n"
     ]
    },
    {
     "data": {
      "application/vnd.jupyter.widget-view+json": {
       "model_id": "d7e8daf13d2640cb9fc15a850affe439",
       "version_major": 2,
       "version_minor": 0
      },
      "text/plain": [
       "  0%|          |  0/4 [00:00<?,       ?it/s]"
      ]
     },
     "metadata": {},
     "output_type": "display_data"
    },
    {
     "name": "stderr",
     "output_type": "stream",
     "text": [
      "    Copnorm and demean the data\n",
      "Get list of multiplets\n"
     ]
    },
    {
     "data": {
      "application/vnd.jupyter.widget-view+json": {
       "model_id": "377b20c4dddd47b08f7f6cd463ae4b03",
       "version_major": 2,
       "version_minor": 0
      },
      "text/plain": [
       "  0%|          |  0/4 [00:00<?,       ?it/s]"
      ]
     },
     "metadata": {},
     "output_type": "display_data"
    },
    {
     "name": "stderr",
     "output_type": "stream",
     "text": [
      "    Copnorm and demean the data\n",
      "Get list of multiplets\n"
     ]
    },
    {
     "data": {
      "application/vnd.jupyter.widget-view+json": {
       "model_id": "2c3f808a39bd48cda70fbbd7f03a19a2",
       "version_major": 2,
       "version_minor": 0
      },
      "text/plain": [
       "  0%|          |  0/4 [00:00<?,       ?it/s]"
      ]
     },
     "metadata": {},
     "output_type": "display_data"
    },
    {
     "name": "stderr",
     "output_type": "stream",
     "text": [
      "    Copnorm and demean the data\n",
      "Get list of multiplets\n"
     ]
    },
    {
     "data": {
      "application/vnd.jupyter.widget-view+json": {
       "model_id": "c73c4d29759c41f5908a478235bcbcb0",
       "version_major": 2,
       "version_minor": 0
      },
      "text/plain": [
       "  0%|          |  0/4 [00:00<?,       ?it/s]"
      ]
     },
     "metadata": {},
     "output_type": "display_data"
    },
    {
     "name": "stderr",
     "output_type": "stream",
     "text": [
      "    Copnorm and demean the data\n",
      "Get list of multiplets\n"
     ]
    },
    {
     "data": {
      "application/vnd.jupyter.widget-view+json": {
       "model_id": "73ece360ad2c44cdaf74a29e06bd9727",
       "version_major": 2,
       "version_minor": 0
      },
      "text/plain": [
       "  0%|          |  0/4 [00:00<?,       ?it/s]"
      ]
     },
     "metadata": {},
     "output_type": "display_data"
    },
    {
     "name": "stderr",
     "output_type": "stream",
     "text": [
      "    Copnorm and demean the data\n",
      "Get list of multiplets\n"
     ]
    },
    {
     "data": {
      "application/vnd.jupyter.widget-view+json": {
       "model_id": "66421174d5164e2284470c00e6f28b20",
       "version_major": 2,
       "version_minor": 0
      },
      "text/plain": [
       "  0%|          |  0/4 [00:00<?,       ?it/s]"
      ]
     },
     "metadata": {},
     "output_type": "display_data"
    },
    {
     "name": "stderr",
     "output_type": "stream",
     "text": [
      "    Copnorm and demean the data\n",
      "Get list of multiplets\n"
     ]
    },
    {
     "data": {
      "application/vnd.jupyter.widget-view+json": {
       "model_id": "4deb9014da7147c9a3b471356e5b47bc",
       "version_major": 2,
       "version_minor": 0
      },
      "text/plain": [
       "  0%|          |  0/4 [00:00<?,       ?it/s]"
      ]
     },
     "metadata": {},
     "output_type": "display_data"
    },
    {
     "name": "stderr",
     "output_type": "stream",
     "text": [
      "    Copnorm and demean the data\n",
      "Get list of multiplets\n"
     ]
    },
    {
     "data": {
      "application/vnd.jupyter.widget-view+json": {
       "model_id": "d68c0ed0003d4dd18d106fd1b351bb56",
       "version_major": 2,
       "version_minor": 0
      },
      "text/plain": [
       "  0%|          |  0/4 [00:00<?,       ?it/s]"
      ]
     },
     "metadata": {},
     "output_type": "display_data"
    },
    {
     "name": "stderr",
     "output_type": "stream",
     "text": [
      "    Copnorm and demean the data\n",
      "Get list of multiplets\n"
     ]
    },
    {
     "data": {
      "application/vnd.jupyter.widget-view+json": {
       "model_id": "121ccffc23e941488632df40f100b7f3",
       "version_major": 2,
       "version_minor": 0
      },
      "text/plain": [
       "  0%|          |  0/4 [00:00<?,       ?it/s]"
      ]
     },
     "metadata": {},
     "output_type": "display_data"
    },
    {
     "name": "stderr",
     "output_type": "stream",
     "text": [
      "    Copnorm and demean the data\n",
      "Get list of multiplets\n"
     ]
    },
    {
     "data": {
      "application/vnd.jupyter.widget-view+json": {
       "model_id": "536e5e65af874c908d4a29357c7fae2b",
       "version_major": 2,
       "version_minor": 0
      },
      "text/plain": [
       "  0%|          |  0/4 [00:00<?,       ?it/s]"
      ]
     },
     "metadata": {},
     "output_type": "display_data"
    },
    {
     "name": "stderr",
     "output_type": "stream",
     "text": [
      "    Copnorm and demean the data\n",
      "Get list of multiplets\n"
     ]
    },
    {
     "data": {
      "application/vnd.jupyter.widget-view+json": {
       "model_id": "8b37f928f2f749e7907bc0e5ed6ab836",
       "version_major": 2,
       "version_minor": 0
      },
      "text/plain": [
       "  0%|          |  0/4 [00:00<?,       ?it/s]"
      ]
     },
     "metadata": {},
     "output_type": "display_data"
    },
    {
     "name": "stderr",
     "output_type": "stream",
     "text": [
      "    Copnorm and demean the data\n",
      "Get list of multiplets\n"
     ]
    },
    {
     "data": {
      "application/vnd.jupyter.widget-view+json": {
       "model_id": "7123c42abda04c2bb264b905b7255bf6",
       "version_major": 2,
       "version_minor": 0
      },
      "text/plain": [
       "  0%|          |  0/4 [00:00<?,       ?it/s]"
      ]
     },
     "metadata": {},
     "output_type": "display_data"
    },
    {
     "name": "stderr",
     "output_type": "stream",
     "text": [
      "    Copnorm and demean the data\n",
      "Get list of multiplets\n"
     ]
    },
    {
     "data": {
      "application/vnd.jupyter.widget-view+json": {
       "model_id": "33ad29a4661e482b83ad9e7f0d0a4576",
       "version_major": 2,
       "version_minor": 0
      },
      "text/plain": [
       "  0%|          |  0/4 [00:00<?,       ?it/s]"
      ]
     },
     "metadata": {},
     "output_type": "display_data"
    },
    {
     "name": "stderr",
     "output_type": "stream",
     "text": [
      "    Copnorm and demean the data\n",
      "Get list of multiplets\n"
     ]
    },
    {
     "data": {
      "application/vnd.jupyter.widget-view+json": {
       "model_id": "21a58c71c28c4d7c82da8bd05336acca",
       "version_major": 2,
       "version_minor": 0
      },
      "text/plain": [
       "  0%|          |  0/4 [00:00<?,       ?it/s]"
      ]
     },
     "metadata": {},
     "output_type": "display_data"
    },
    {
     "name": "stderr",
     "output_type": "stream",
     "text": [
      "    Copnorm and demean the data\n",
      "Get list of multiplets\n"
     ]
    },
    {
     "data": {
      "application/vnd.jupyter.widget-view+json": {
       "model_id": "760a7809638a4ecd8aacc5e1934af407",
       "version_major": 2,
       "version_minor": 0
      },
      "text/plain": [
       "  0%|          |  0/4 [00:00<?,       ?it/s]"
      ]
     },
     "metadata": {},
     "output_type": "display_data"
    },
    {
     "name": "stderr",
     "output_type": "stream",
     "text": [
      "    Copnorm and demean the data\n",
      "Get list of multiplets\n"
     ]
    },
    {
     "data": {
      "application/vnd.jupyter.widget-view+json": {
       "model_id": "c871a20351ad404c94eff65577371158",
       "version_major": 2,
       "version_minor": 0
      },
      "text/plain": [
       "  0%|          |  0/4 [00:00<?,       ?it/s]"
      ]
     },
     "metadata": {},
     "output_type": "display_data"
    },
    {
     "name": "stderr",
     "output_type": "stream",
     "text": [
      "    Copnorm and demean the data\n",
      "Get list of multiplets\n"
     ]
    },
    {
     "data": {
      "application/vnd.jupyter.widget-view+json": {
       "model_id": "358dc0d87d2e477498b9515888aafe50",
       "version_major": 2,
       "version_minor": 0
      },
      "text/plain": [
       "  0%|          |  0/4 [00:00<?,       ?it/s]"
      ]
     },
     "metadata": {},
     "output_type": "display_data"
    },
    {
     "name": "stderr",
     "output_type": "stream",
     "text": [
      "    Copnorm and demean the data\n",
      "Get list of multiplets\n"
     ]
    },
    {
     "data": {
      "application/vnd.jupyter.widget-view+json": {
       "model_id": "41a38ffe1f494b9fb2def0182d255e13",
       "version_major": 2,
       "version_minor": 0
      },
      "text/plain": [
       "  0%|          |  0/4 [00:00<?,       ?it/s]"
      ]
     },
     "metadata": {},
     "output_type": "display_data"
    },
    {
     "name": "stderr",
     "output_type": "stream",
     "text": [
      "    Copnorm and demean the data\n",
      "Get list of multiplets\n"
     ]
    },
    {
     "data": {
      "application/vnd.jupyter.widget-view+json": {
       "model_id": "d4f975c7d2f24315b57f1575c8cf18c2",
       "version_major": 2,
       "version_minor": 0
      },
      "text/plain": [
       "  0%|          |  0/4 [00:00<?,       ?it/s]"
      ]
     },
     "metadata": {},
     "output_type": "display_data"
    },
    {
     "name": "stderr",
     "output_type": "stream",
     "text": [
      "    Copnorm and demean the data\n",
      "Get list of multiplets\n"
     ]
    },
    {
     "data": {
      "application/vnd.jupyter.widget-view+json": {
       "model_id": "3cbc4f0710944035aea3cb9b683614e8",
       "version_major": 2,
       "version_minor": 0
      },
      "text/plain": [
       "  0%|          |  0/4 [00:00<?,       ?it/s]"
      ]
     },
     "metadata": {},
     "output_type": "display_data"
    },
    {
     "name": "stderr",
     "output_type": "stream",
     "text": [
      "    Copnorm and demean the data\n",
      "Get list of multiplets\n"
     ]
    },
    {
     "data": {
      "application/vnd.jupyter.widget-view+json": {
       "model_id": "b64fc9d3e73e4a29bc7a90f06710e4ed",
       "version_major": 2,
       "version_minor": 0
      },
      "text/plain": [
       "  0%|          |  0/4 [00:00<?,       ?it/s]"
      ]
     },
     "metadata": {},
     "output_type": "display_data"
    },
    {
     "name": "stderr",
     "output_type": "stream",
     "text": [
      "    Copnorm and demean the data\n",
      "Get list of multiplets\n"
     ]
    },
    {
     "data": {
      "application/vnd.jupyter.widget-view+json": {
       "model_id": "7772cabf7ddb4fbb8a347aa59457dcd1",
       "version_major": 2,
       "version_minor": 0
      },
      "text/plain": [
       "  0%|          |  0/4 [00:00<?,       ?it/s]"
      ]
     },
     "metadata": {},
     "output_type": "display_data"
    },
    {
     "name": "stderr",
     "output_type": "stream",
     "text": [
      "    Copnorm and demean the data\n",
      "Get list of multiplets\n"
     ]
    },
    {
     "data": {
      "application/vnd.jupyter.widget-view+json": {
       "model_id": "5e7b69b067104a7c9cdac9b90a381302",
       "version_major": 2,
       "version_minor": 0
      },
      "text/plain": [
       "  0%|          |  0/4 [00:00<?,       ?it/s]"
      ]
     },
     "metadata": {},
     "output_type": "display_data"
    },
    {
     "name": "stderr",
     "output_type": "stream",
     "text": [
      "    Copnorm and demean the data\n",
      "Get list of multiplets\n"
     ]
    },
    {
     "data": {
      "application/vnd.jupyter.widget-view+json": {
       "model_id": "ff3c64e2ac1c4be6b0519031009ab00d",
       "version_major": 2,
       "version_minor": 0
      },
      "text/plain": [
       "  0%|          |  0/4 [00:00<?,       ?it/s]"
      ]
     },
     "metadata": {},
     "output_type": "display_data"
    },
    {
     "name": "stderr",
     "output_type": "stream",
     "text": [
      "    Copnorm and demean the data\n",
      "Get list of multiplets\n"
     ]
    },
    {
     "data": {
      "application/vnd.jupyter.widget-view+json": {
       "model_id": "b3fc875ba3a14850aafbf534035f3fc5",
       "version_major": 2,
       "version_minor": 0
      },
      "text/plain": [
       "  0%|          |  0/4 [00:00<?,       ?it/s]"
      ]
     },
     "metadata": {},
     "output_type": "display_data"
    },
    {
     "name": "stderr",
     "output_type": "stream",
     "text": [
      "    Copnorm and demean the data\n",
      "Get list of multiplets\n"
     ]
    },
    {
     "data": {
      "application/vnd.jupyter.widget-view+json": {
       "model_id": "b6b5748edcc34f8384a9b7c020c2e875",
       "version_major": 2,
       "version_minor": 0
      },
      "text/plain": [
       "  0%|          |  0/4 [00:00<?,       ?it/s]"
      ]
     },
     "metadata": {},
     "output_type": "display_data"
    },
    {
     "name": "stderr",
     "output_type": "stream",
     "text": [
      "    Copnorm and demean the data\n",
      "Get list of multiplets\n"
     ]
    },
    {
     "data": {
      "application/vnd.jupyter.widget-view+json": {
       "model_id": "f8db425c48434a9b89eda994a4610fcf",
       "version_major": 2,
       "version_minor": 0
      },
      "text/plain": [
       "  0%|          |  0/4 [00:00<?,       ?it/s]"
      ]
     },
     "metadata": {},
     "output_type": "display_data"
    },
    {
     "name": "stdout",
     "output_type": "stream",
     "text": [
      "{1: [-5.8650755363487406e-08, -5.8650755363487406e-08, -5.8650755363487406e-08, -5.8650755363487406e-08, -5.8650755363487406e-08, -3.1325612326327246e-08, -3.1325612326327246e-08, -3.1325612326327246e-08], 2: [0.00023512382176704705, 0.002780467038974166, 0.016614539548754692, 0.045535143464803696, 0.04685768857598305, 0.049970708787441254, 0.057310108095407486, 0.06041886657476425, 0.0736629068851471, 0.18267492949962616, 0.2144055962562561, 0.21457496285438538, 0.22033658623695374, 0.23263141512870789, 0.2739650309085846, 0.29568347334861755, 0.35659149289131165, 0.4745294749736786, 0.4971407353878021, 0.5535780787467957, 0.5602537393569946, 0.5979733467102051, 0.6507420539855957, 1.0553947687149048, 1.7883399724960327, 2.1820459365844727, 2.538770914077759, 3.0670950412750244], 3: [0.28928688168525696, 0.3118998408317566, 0.32444149255752563, 0.3534061312675476, 0.40579918026924133, 0.44673895835876465, 0.4494370222091675, 0.49586614966392517, 0.5110907554626465, 0.5821368098258972, 0.598173201084137, 0.6320641040802002, 0.6531116962432861, 0.711993396282196, 0.7123641967773438, 0.7368497252464294, 0.7503588795661926, 0.7818812131881714, 0.8072717189788818, 0.8188103437423706, 0.8266929984092712, 0.8495206236839294, 0.8624698519706726, 0.8776195049285889, 0.8884457945823669, 0.8929352164268494, 0.8962975144386292, 0.9236774444580078, 1.059351921081543, 1.1151173114776611, 1.1283812522888184, 1.5882773399353027, 1.6927870512008667, 1.7327847480773926, 1.9267407655715942, 2.176020383834839, 2.231674909591675, 2.269796848297119, 2.3479714393615723, 2.4797849655151367, 2.514753580093384, 2.5937294960021973, 2.737090826034546, 2.8299098014831543, 2.8393096923828125, 2.842020034790039, 2.8931639194488525, 3.101747512817383, 3.1544077396392822, 3.1781914234161377, 3.193375587463379, 3.28706955909729, 3.347717761993408, 3.4260990619659424, 3.5707976818084717, 4.726952075958252], 4: [1.0214847326278687, 1.0655431747436523, 1.0720269680023193, 1.1066615581512451, 1.1128467321395874, 1.1159520149230957, 1.1463950872421265, 1.147709608078003, 1.1509546041488647, 1.161974549293518, 1.188323736190796, 1.197403073310852, 1.3808019161224365, 1.4097189903259277, 1.7455123662948608, 1.8080260753631592, 1.8601312637329102, 1.9326632022857666, 1.94606614112854, 1.9719151258468628, 1.9808101654052734, 2.002288579940796, 2.018207311630249, 2.4263291358947754, 2.5213983058929443, 2.5548267364501953, 2.639127254486084, 2.7355308532714844, 2.747042655944824, 2.8294429779052734, 2.8414931297302246, 2.873857021331787, 2.8982880115509033, 2.9669241905212402, 2.968163251876831, 3.0887417793273926, 3.168896436691284, 3.184786319732666, 3.2457823753356934, 3.264098644256592, 3.2981362342834473, 3.4118173122406006, 3.4167864322662354, 3.4634461402893066, 3.4710493087768555, 3.5183563232421875, 3.5183632373809814, 3.5410571098327637, 3.574201822280884, 3.585327386856079, 3.614900588989258, 3.6486759185791016, 3.7989962100982666, 3.9148032665252686, 3.9541561603546143, 4.001121997833252, 4.029662132263184, 4.079113483428955, 4.114582538604736, 4.117507457733154, 4.232375144958496, 4.298917293548584, 5.030313014984131, 5.120838165283203, 5.213711738586426, 5.290618419647217, 5.425135612487793, 5.611689567565918, 5.902278423309326, 6.067503929138184], 5: [2.216636896133423, 2.2212507724761963, 2.2642030715942383, 2.2777044773101807, 2.297159194946289, 2.330483913421631, 3.0538651943206787, 3.138965606689453, 3.1490182876586914, 3.23374605178833, 3.401524066925049, 3.4716668128967285, 3.4954843521118164, 3.565418004989624, 3.8258674144744873, 3.921433687210083, 3.9521656036376953, 3.97381329536438, 4.0058441162109375, 4.013256549835205, 4.1077189445495605, 4.121479511260986, 4.2022013664245605, 4.286562919616699, 4.310110569000244, 4.31406307220459, 4.352567672729492, 4.377086162567139, 4.389869213104248, 4.410282135009766, 4.519110202789307, 4.623348712921143, 4.67910623550415, 4.716640949249268, 5.117393970489502, 5.175069808959961, 5.230627059936523, 5.535086154937744, 5.6314263343811035, 5.69764518737793, 5.706766605377197, 5.77266788482666, 5.791114330291748, 5.827066421508789, 5.862627029418945, 5.91902494430542, 6.147628307342529, 6.182910442352295, 6.309576988220215, 6.473309516906738, 6.477236270904541, 6.559569835662842, 6.571902751922607, 6.644687175750732, 6.748931884765625, 8.557241439819336]}\n",
      "{1: [-8.597589840064757e-08, -8.597589840064757e-08, -5.8650755363487406e-08, -5.8650755363487406e-08, -5.8650755363487406e-08, -5.8650755363487406e-08, -5.8650755363487406e-08, -3.1325612326327246e-08], 2: [-0.0006507979123853147, 0.007259238976985216, 0.016138968989253044, 0.021130461245775223, 0.021629687398672104, 0.021923089399933815, 0.034086599946022034, 0.041451241821050644, 0.04969746619462967, 0.061707016080617905, 0.08355913311243057, 0.08970330655574799, 0.09161575138568878, 0.11821217834949493, 0.11957256495952606, 0.15283524990081787, 0.20316872000694275, 0.9856122732162476, 1.4564602375030518, 1.5089964866638184, 1.541783094406128, 1.9038732051849365, 1.9211457967758179, 2.0470216274261475, 2.4591245651245117, 2.5480456352233887, 2.902796983718872, 3.6540889739990234], 3: [0.06345370411872864, 0.08481008559465408, 0.10353666543960571, 0.13283701241016388, 0.13654452562332153, 0.1379513442516327, 0.17085300385951996, 0.1721167266368866, 0.19800563156604767, 0.25411874055862427, 1.0648040771484375, 1.2973861694335938, 1.3789275884628296, 1.5752336978912354, 1.5832399129867554, 1.6882517337799072, 1.6951065063476562, 1.731756329536438, 1.754273533821106, 1.7960011959075928, 1.8194164037704468, 1.907061219215393, 1.9422471523284912, 2.0005874633789062, 2.0705347061157227, 2.0889205932617188, 2.1185262203216553, 2.1582791805267334, 2.240809679031372, 2.299187421798706, 2.3942713737487793, 2.520350694656372, 2.6230971813201904, 2.6553101539611816, 2.694274663925171, 2.711461067199707, 2.749159812927246, 2.967898368835449, 3.0047833919525146, 3.0669355392456055, 3.1101200580596924, 3.1148147583007812, 3.280338764190674, 3.576892614364624, 3.613433837890625, 3.6731929779052734, 3.735198497772217, 3.745652675628662, 3.7730143070220947, 4.448540210723877, 4.513760566711426, 4.514051914215088, 4.593659400939941, 5.166195869445801, 5.714787483215332, 6.206727981567383], 4: [1.3792657852172852, 1.4622280597686768, 1.815049171447754, 1.8534055948257446, 1.8721274137496948, 1.9328148365020752, 1.9630573987960815, 1.9746108055114746, 2.191523313522339, 2.2099084854125977, 2.2243638038635254, 2.3017966747283936, 2.3436312675476074, 2.4449145793914795, 2.696634292602539, 2.7330636978149414, 2.8613619804382324, 2.900763511657715, 3.0763120651245117, 3.131906747817993, 3.1744656562805176, 3.1799142360687256, 3.344919443130493, 3.7132904529571533, 3.789790630340576, 3.7953052520751953, 3.8616716861724854, 3.88834547996521, 3.89411997795105, 3.924678325653076, 3.9698338508605957, 3.9849495887756348, 4.0085225105285645, 4.073110580444336, 4.514523029327393, 4.567070960998535, 4.654565811157227, 4.665462017059326, 4.686490535736084, 4.708083629608154, 4.723139762878418, 4.724113464355469, 4.758820533752441, 4.791697025299072, 4.799495697021484, 4.800867080688477, 4.871189117431641, 4.878486156463623, 4.963138580322266, 5.103035926818848, 5.104014873504639, 5.411552429199219, 5.440792560577393, 5.452706813812256, 5.4540324211120605, 5.646465301513672, 5.706388473510742, 5.755022048950195, 5.812983989715576, 5.967299461364746, 6.065356731414795, 6.37562370300293, 6.407939434051514, 6.4116106033325195, 6.585115909576416, 6.664689064025879, 6.778853893280029, 7.382537364959717, 8.196324348449707, 8.341097831726074], 5: [4.027578353881836, 4.103547096252441, 4.1108078956604, 4.113927364349365, 4.189205646514893, 4.203253746032715, 4.602527618408203, 4.806158542633057, 4.844514846801758, 4.856551647186279, 4.944655895233154, 4.952126979827881, 4.9537248611450195, 4.984012603759766, 4.994176387786865, 5.042298793792725, 5.0459089279174805, 5.1679768562316895, 5.223087787628174, 5.54742431640625, 5.685353755950928, 5.726651191711426, 5.7361836433410645, 5.780240535736084, 5.912175178527832, 6.085616111755371, 6.186768054962158, 6.5843610763549805, 6.622047424316406, 6.786496639251709, 6.810240268707275, 6.896987438201904, 6.906162738800049, 6.97573709487915, 6.979753494262695, 7.063903331756592, 7.183390140533447, 7.212042331695557, 7.402340888977051, 7.660354137420654, 7.702590465545654, 7.71478796005249, 7.797422885894775, 7.8069682121276855, 8.095268249511719, 8.28305435180664, 8.441205024719238, 8.46660041809082, 8.475525856018066, 8.482624053955078, 8.54249382019043, 8.62589168548584, 8.724287033081055, 9.424832344055176, 9.4484281539917, 10.411879539489746]}\n",
      "{1: [-8.597589840064757e-08, -5.8650755363487406e-08, -5.8650755363487406e-08, -5.8650755363487406e-08, -5.8650755363487406e-08, -5.8650755363487406e-08, -5.8650755363487406e-08, -3.1325612326327246e-08], 2: [-0.0006915968842804432, 0.002450870117172599, 0.004424543119966984, 0.008085154928267002, 0.010972266085445881, 0.015266329050064087, 0.016735615208745003, 0.02029290422797203, 0.020986471325159073, 0.023462677374482155, 0.03542978689074516, 0.041269417852163315, 0.04754781723022461, 0.05332595482468605, 0.06741786748170853, 0.07812082767486572, 0.08061719685792923, 0.687311589717865, 1.1179629564285278, 1.166096806526184, 1.3307430744171143, 1.5055263042449951, 1.801773190498352, 1.81141996383667, 2.0123438835144043, 2.6599183082580566, 2.708833694458008, 2.797860860824585], 3: [0.06993083655834198, 0.07069925218820572, 0.071874238550663, 0.08858682215213776, 0.09323929995298386, 0.10088840126991272, 0.10212735831737518, 0.10311591625213623, 0.12022887915372849, 0.14662203192710876, 0.7462776899337769, 1.064193844795227, 1.152855396270752, 1.183464527130127, 1.232793927192688, 1.3926308155059814, 1.4615623950958252, 1.4771685600280762, 1.4831324815750122, 1.5271143913269043, 1.594383955001831, 1.674848198890686, 1.7371381521224976, 1.753912329673767, 1.7723901271820068, 1.864120602607727, 1.9963148832321167, 2.063149929046631, 2.096414089202881, 2.101576566696167, 2.1499087810516357, 2.1668272018432617, 2.2057971954345703, 2.225097417831421, 2.7352700233459473, 2.744804859161377, 2.7693140506744385, 2.7698705196380615, 2.770914316177368, 2.795377731323242, 2.7972123622894287, 2.8986058235168457, 2.971113681793213, 2.979173183441162, 3.0460333824157715, 3.079056978225708, 3.0893754959106445, 3.145744562149048, 3.259448766708374, 4.005875110626221, 4.097225189208984, 4.114949703216553, 4.570200443267822, 4.640532970428467, 5.16696834564209, 5.643660068511963], 4: [1.1260343790054321, 1.2206364870071411, 1.4898182153701782, 1.5292469263076782, 1.5571242570877075, 1.5945123434066772, 1.8010985851287842, 1.9044415950775146, 1.948317050933838, 1.9763123989105225, 2.058666229248047, 2.173354387283325, 2.286867380142212, 2.324895143508911, 2.5013411045074463, 2.5073931217193604, 2.8853652477264404, 2.9088687896728516, 2.915825366973877, 2.9387385845184326, 3.051323175430298, 3.0772957801818848, 3.0917344093322754, 3.149862289428711, 3.1982009410858154, 3.2106471061706543, 3.4059343338012695, 3.503652811050415, 3.5274620056152344, 3.5737557411193848, 3.610858678817749, 3.641695737838745, 3.7020962238311768, 3.7699925899505615, 4.108144283294678, 4.127972602844238, 4.232160568237305, 4.2568535804748535, 4.325467109680176, 4.488880157470703, 4.504281997680664, 4.521966934204102, 4.526187419891357, 4.556873321533203, 4.558260440826416, 4.681729316711426, 4.756022930145264, 4.757911682128906, 4.790151119232178, 4.797235488891602, 4.859718322753906, 4.885377883911133, 4.913750648498535, 4.940590858459473, 4.9889302253723145, 4.991597652435303, 5.36522912979126, 5.4723005294799805, 5.527743816375732, 5.579347133636475, 5.610012531280518, 5.8939290046691895, 5.8962931632995605, 5.939837455749512, 6.074031829833984, 6.128942489624023, 6.143599987030029, 7.008998394012451, 7.706881999969482, 8.020624160766602], 5: [3.5944316387176514, 3.6849069595336914, 3.835571050643921, 3.899923801422119, 4.098200798034668, 4.152941703796387, 4.223838806152344, 4.379295349121094, 4.385127544403076, 4.490358829498291, 4.720025062561035, 4.7942681312561035, 5.082212924957275, 5.092676639556885, 5.098438739776611, 5.1233015060424805, 5.125362396240234, 5.154656410217285, 5.174776554107666, 5.203040599822998, 5.2066473960876465, 5.22967004776001, 5.321312427520752, 5.54645299911499, 5.900053024291992, 5.91249942779541, 5.928244590759277, 6.038171291351318, 6.324917793273926, 6.3733110427856445, 6.587493896484375, 6.5875325202941895, 6.618703842163086, 6.6850080490112305, 6.689820766448975, 6.719491481781006, 6.786752223968506, 6.80417537689209, 6.926426887512207, 7.299609184265137, 7.345495223999023, 7.390617370605469, 7.452672481536865, 7.522440433502197, 7.667111396789551, 8.00516128540039, 8.028715133666992, 8.1120023727417, 8.138561248779297, 8.236332893371582, 8.431612968444824, 8.432363510131836, 8.464219093322754, 8.706135749816895, 8.759212493896484, 10.086423873901367]}\n",
      "{1: [-5.8650755363487406e-08, -5.8650755363487406e-08, -5.8650755363487406e-08, -5.8650755363487406e-08, -5.8650755363487406e-08, -5.8650755363487406e-08, -5.8650755363487406e-08, -5.8650755363487406e-08], 2: [0.0025752526707947254, 0.0026290440000593662, 0.01183596346527338, 0.013761691749095917, 0.032854992896318436, 0.037756022065877914, 0.044672612100839615, 0.07291877269744873, 0.11420154571533203, 0.12332268059253693, 0.13029541075229645, 0.17477047443389893, 0.18484142422676086, 0.26831093430519104, 0.2930959165096283, 0.3450654149055481, 0.393618643283844, 0.5569731593132019, 0.559587299823761, 0.7312049865722656, 0.8922385573387146, 1.115007996559143, 1.1555579900741577, 1.4593368768692017, 1.5637651681900024, 1.7727587223052979, 2.001725912094116, 2.2278525829315186], 3: [0.20462901890277863, 0.21905238926410675, 0.2208598405122757, 0.22563084959983826, 0.5006880760192871, 0.5011815428733826, 0.5375604033470154, 0.7060056924819946, 0.7074450850486755, 0.7208018898963928, 0.9998637437820435, 1.0502427816390991, 1.1536016464233398, 1.2154806852340698, 1.2248163223266602, 1.280809998512268, 1.381760597229004, 1.4212290048599243, 1.4219417572021484, 1.427164912223816, 1.4298465251922607, 1.4301254749298096, 1.462772250175476, 1.487678050994873, 1.496543049812317, 1.5558995008468628, 1.7449973821640015, 1.7610902786254883, 1.8529636859893799, 1.8564891815185547, 1.8608343601226807, 1.8922111988067627, 2.0691819190979004, 2.2031853199005127, 2.294182538986206, 2.321634531021118, 2.3243985176086426, 2.4010071754455566, 2.4196395874023438, 2.4626832008361816, 2.4652674198150635, 2.4843029975891113, 2.5629286766052246, 2.576064109802246, 2.5840511322021484, 2.5943052768707275, 2.6371185779571533, 2.718647003173828, 2.827338933944702, 2.828869581222534, 2.896017074584961, 2.963014602661133, 3.3386929035186768, 3.4762051105499268, 3.866110324859619, 4.0138373374938965], 4: [1.9105634689331055, 1.9624513387680054, 2.012483835220337, 2.080369710922241, 2.146951198577881, 2.2237744331359863, 2.2635669708251953, 2.3368475437164307, 2.3942296504974365, 2.413267135620117, 2.437075614929199, 2.471280574798584, 2.6202714443206787, 2.721397876739502, 2.7232887744903564, 2.767643451690674, 2.8710155487060547, 2.932570219039917, 2.9585862159729004, 2.972379446029663, 3.0936760902404785, 3.1734259128570557, 3.1797661781311035, 3.2124109268188477, 3.2408552169799805, 3.2452995777130127, 3.2517619132995605, 3.2896616458892822, 3.2899720668792725, 3.291996479034424, 3.3030202388763428, 3.493821859359741, 3.5302536487579346, 3.539315700531006, 3.620007038116455, 3.6218883991241455, 3.715576410293579, 3.7501182556152344, 3.756974697113037, 3.793362855911255, 3.8751704692840576, 3.8866026401519775, 3.89717173576355, 3.946898937225342, 3.9540109634399414, 3.966094493865967, 4.03478479385376, 4.106441497802734, 4.109675407409668, 4.1178388595581055, 4.118132591247559, 4.1685709953308105, 4.266289710998535, 4.272776126861572, 4.2822136878967285, 4.436127185821533, 4.484642028808594, 4.515781402587891, 4.626132488250732, 4.69282341003418, 4.729856014251709, 4.8050618171691895, 4.8486199378967285, 5.027176380157471, 5.065011024475098, 5.310410022735596, 5.349851608276367, 5.358104705810547, 5.697323799133301, 5.877736568450928], 5: [4.1369524002075195, 4.230088233947754, 4.31259822845459, 4.480465888977051, 4.488001346588135, 4.596833229064941, 4.682861328125, 4.804551601409912, 4.810982704162598, 4.8433966636657715, 4.9228835105896, 5.051929473876953, 5.069616794586182, 5.110965728759766, 5.129244804382324, 5.15036678314209, 5.159988880157471, 5.239312648773193, 5.259650230407715, 5.282085418701172, 5.429272651672363, 5.526980876922607, 5.630435943603516, 5.639798641204834, 5.68205451965332, 5.762765407562256, 5.803061485290527, 5.822020530700684, 5.825944423675537, 5.900539398193359, 5.941311836242676, 5.966974258422852, 6.014946937561035, 6.024712562561035, 6.049588680267334, 6.0675482749938965, 6.16981840133667, 6.2604875564575195, 6.352323532104492, 6.428234100341797, 6.490259170532227, 6.600424766540527, 6.61590051651001, 6.667223930358887, 6.670124530792236, 6.70918607711792, 6.7100629806518555, 6.841123104095459, 6.857908725738525, 6.919720649719238, 6.959993362426758, 7.082432746887207, 7.159438133239746, 7.504755020141602, 7.576112270355225, 7.791487216949463]}\n",
      "{1: [-8.597589840064757e-08, -5.8650755363487406e-08, -5.8650755363487406e-08, -5.8650755363487406e-08, -5.8650755363487406e-08, -5.8650755363487406e-08, -5.8650755363487406e-08, -3.1325612326327246e-08], 2: [-0.0007149865268729627, 0.037589676678180695, 0.0432719849050045, 0.09323810040950775, 0.13441680371761322, 0.17240583896636963, 0.2848791778087616, 0.32299453020095825, 0.32635289430618286, 0.33147671818733215, 0.42827096581459045, 0.42910611629486084, 0.5573388934135437, 0.5679283142089844, 0.5686891078948975, 0.6962708234786987, 0.7503467798233032, 0.7807817459106445, 0.8094024062156677, 0.9082624912261963, 0.9329517483711243, 1.5412054061889648, 1.54360032081604, 1.6531492471694946, 1.6540430784225464, 1.6582380533218384, 2.2399606704711914, 2.8443140983581543], 3: [0.1537276655435562, 0.39054185152053833, 0.46010375022888184, 0.8056261539459229, 0.901033878326416, 0.9140622615814209, 0.9176851511001587, 1.0016523599624634, 1.102097988128662, 1.1846590042114258, 1.2206686735153198, 1.2503794431686401, 1.3191015720367432, 1.3924394845962524, 1.4094083309173584, 1.421769142150879, 1.433593988418579, 1.4687371253967285, 1.5039138793945312, 1.5670899152755737, 1.6246607303619385, 1.6272037029266357, 1.718604326248169, 1.8860028982162476, 1.896262764930725, 1.9240822792053223, 2.099905252456665, 2.1200311183929443, 2.1405389308929443, 2.2157418727874756, 2.240778684616089, 2.2450263500213623, 2.2465415000915527, 2.331470251083374, 2.356051445007324, 2.4633235931396484, 2.5239737033843994, 2.587373733520508, 2.6900393962860107, 2.7935922145843506, 2.989626884460449, 3.0721933841705322, 3.2000534534454346, 3.2233450412750244, 3.2537591457366943, 3.434858798980713, 3.5764241218566895, 3.662487745285034, 3.7238266468048096, 3.8285696506500244, 3.8368587493896484, 3.848428249359131, 3.9016518592834473, 3.9192159175872803, 4.5320234298706055, 5.510715484619141], 4: [1.8533213138580322, 2.2097063064575195, 2.3215482234954834, 2.441107749938965, 2.5980701446533203, 2.6814377307891846, 2.6903793811798096, 2.9392027854919434, 3.0030972957611084, 3.0305068492889404, 3.0949947834014893, 3.1537299156188965, 3.1618995666503906, 3.193474531173706, 3.205061674118042, 3.2235982418060303, 3.274812698364258, 3.287803888320923, 3.417015552520752, 3.4780309200286865, 3.527592420578003, 3.596888542175293, 3.6836276054382324, 3.7823336124420166, 3.8077352046966553, 3.812283992767334, 3.8257791996002197, 3.8519880771636963, 4.054164409637451, 4.097189903259277, 4.100990295410156, 4.153664588928223, 4.165975093841553, 4.252701759338379, 4.25553560256958, 4.255558967590332, 4.300236225128174, 4.31622838973999, 4.37867546081543, 4.3889875411987305, 4.493640899658203, 4.587872505187988, 4.604941368103027, 4.6594319343566895, 4.6727094650268555, 4.7267913818359375, 4.739046573638916, 4.796349048614502, 4.8138628005981445, 4.852202892303467, 4.869354724884033, 4.883800506591797, 4.931909561157227, 4.947491645812988, 5.005272388458252, 5.065595626831055, 5.21396017074585, 5.427063941955566, 5.514798641204834, 5.51592493057251, 5.524258136749268, 5.668891906738281, 5.883180141448975, 6.072041034698486, 6.358453273773193, 6.3936944007873535, 6.551684379577637, 6.841082572937012, 7.14212703704834, 7.367141246795654], 5: [4.428874492645264, 4.737581253051758, 4.772455215454102, 5.023816108703613, 5.402113437652588, 5.454774856567383, 5.459928035736084, 5.574723243713379, 5.580259799957275, 5.753912448883057, 5.88770866394043, 5.949736595153809, 5.956434726715088, 5.9943461418151855, 6.085475921630859, 6.092641830444336, 6.099025249481201, 6.114200592041016, 6.209313869476318, 6.217225074768066, 6.219661712646484, 6.369622230529785, 6.432087421417236, 6.434849739074707, 6.462591648101807, 6.489872455596924, 6.527825355529785, 6.5587873458862305, 6.570978164672852, 6.634969234466553, 6.735042572021484, 6.7731499671936035, 6.837790489196777, 6.841775894165039, 6.868217945098877, 6.914438247680664, 7.115176677703857, 7.240368366241455, 7.250422477722168, 7.2564802169799805, 7.283936977386475, 7.516332149505615, 7.559238433837891, 7.587697982788086, 7.960158824920654, 8.028244972229004, 8.04334545135498, 8.110624313354492, 8.122986793518066, 8.123095512390137, 8.149942398071289, 8.210824966430664, 8.21508502960205, 8.974309921264648, 9.01419448852539, 9.816020965576172]}\n",
      "{1: [-8.597589840064757e-08, -5.8650755363487406e-08, -5.8650755363487406e-08, -5.8650755363487406e-08, -5.8650755363487406e-08, -5.8650755363487406e-08, -3.1325612326327246e-08, -3.1325612326327246e-08], 2: [0.010792716406285763, 0.039768487215042114, 0.08036795258522034, 0.11960579454898834, 0.24098756909370422, 0.2673347592353821, 0.2931388318538666, 0.3139016032218933, 0.3148804008960724, 0.37985923886299133, 0.47070273756980896, 0.5274143815040588, 0.5568491816520691, 0.6319171786308289, 0.7014800310134888, 0.7447500228881836, 0.8015339970588684, 0.9599359035491943, 1.3846322298049927, 1.391770839691162, 1.6111619472503662, 1.6241976022720337, 1.6854950189590454, 1.918723702430725, 2.4820969104766846, 2.9625327587127686, 3.1818692684173584, 3.318650007247925], 3: [1.1227682828903198, 1.3100336790084839, 1.4126135110855103, 1.4230091571807861, 1.487677812576294, 1.5179702043533325, 1.5719116926193237, 1.5852055549621582, 1.602773666381836, 1.6178648471832275, 1.691750168800354, 1.7263455390930176, 1.793984293937683, 1.8318142890930176, 2.0304017066955566, 2.102536201477051, 2.1084182262420654, 2.2360124588012695, 2.327788829803467, 2.339737892150879, 2.341761589050293, 2.4148850440979004, 2.442213296890259, 2.5168724060058594, 2.565769910812378, 2.5720338821411133, 2.697702407836914, 2.7016522884368896, 2.7116129398345947, 2.732012987136841, 2.755647897720337, 2.857668399810791, 2.8636929988861084, 2.9108283519744873, 3.0331871509552, 3.316568613052368, 3.509514570236206, 3.537787437438965, 3.6153128147125244, 3.6302833557128906, 3.7645962238311768, 3.904872179031372, 3.9106462001800537, 3.939373254776001, 4.133413314819336, 4.194716453552246, 4.294808387756348, 4.473768711090088, 4.640609264373779, 4.903255462646484, 4.937439918518066, 5.185684680938721, 5.24888801574707, 5.447122097015381, 5.498364448547363, 6.156070232391357], 4: [2.692152738571167, 3.0429399013519287, 3.1435279846191406, 3.2255706787109375, 3.3168864250183105, 3.5865023136138916, 3.645658254623413, 3.8187618255615234, 3.9244272708892822, 4.017092704772949, 4.094879150390625, 4.141582489013672, 4.145165920257568, 4.211430549621582, 4.21595573425293, 4.256462574005127, 4.2574567794799805, 4.3538899421691895, 4.403874397277832, 4.489620208740234, 4.543589115142822, 4.632498264312744, 4.649477481842041, 4.663516044616699, 4.822894096374512, 4.827634811401367, 4.957849502563477, 5.028686046600342, 5.032923698425293, 5.0547332763671875, 5.216646194458008, 5.263172626495361, 5.323111057281494, 5.354481220245361, 5.3584771156311035, 5.391791343688965, 5.4015116691589355, 5.566555023193359, 5.687307357788086, 5.8025383949279785, 5.827364444732666, 5.850150108337402, 5.853556156158447, 5.899738788604736, 6.006720066070557, 6.026976585388184, 6.041629314422607, 6.101004600524902, 6.109562873840332, 6.1307196617126465, 6.172006607055664, 6.215758800506592, 6.231793403625488, 6.2990522384643555, 6.392493724822998, 6.441903591156006, 6.530157089233398, 6.570088863372803, 6.582727432250977, 6.628098964691162, 6.649641513824463, 6.944788455963135, 7.000340461730957, 7.115895748138428, 7.668294429779053, 7.9610066413879395, 8.03361701965332, 8.272590637207031, 8.702150344848633, 8.828704833984375], 5: [5.738670349121094, 5.765777111053467, 6.1433892250061035, 6.1778483390808105, 6.208230018615723, 6.333627223968506, 6.396623134613037, 6.802536964416504, 6.845290184020996, 6.936974048614502, 7.07297945022583, 7.200534820556641, 7.37680721282959, 7.426976203918457, 7.436870574951172, 7.499453544616699, 7.656733512878418, 7.700533866882324, 7.713667869567871, 7.7435760498046875, 7.783824443817139, 7.86907958984375, 7.871523857116699, 7.897551536560059, 7.9408392906188965, 7.953244209289551, 7.968230724334717, 7.973952293395996, 8.027695655822754, 8.061765670776367, 8.109155654907227, 8.239505767822266, 8.30445671081543, 8.444225311279297, 8.454955101013184, 8.505401611328125, 8.544053077697754, 8.631908416748047, 8.702560424804688, 9.097371101379395, 9.099148750305176, 9.301347732543945, 9.453293800354004, 9.477442741394043, 9.582630157470703, 9.653611183166504, 9.695096015930176, 9.799838066101074, 9.830650329589844, 9.874825477600098, 9.89565372467041, 9.93911075592041, 10.02712631225586, 10.246664047241211, 10.394021987915039, 12.097606658935547]}\n",
      "{1: [-5.8650755363487406e-08, -5.8650755363487406e-08, -5.8650755363487406e-08, -5.8650755363487406e-08, -5.8650755363487406e-08, -3.1325612326327246e-08, -3.1325612326327246e-08, -3.1325612326327246e-08], 2: [-0.0004098893259651959, 0.0037892390973865986, 0.016698600724339485, 0.02558928355574608, 0.03765661641955376, 0.08364959061145782, 0.16390027105808258, 0.3199659287929535, 0.330684095621109, 0.37898245453834534, 0.42318907380104065, 0.4306773543357849, 0.4925238788127899, 0.5727754831314087, 0.6067929267883301, 0.794769287109375, 0.7954738736152649, 0.932426393032074, 1.19130277633667, 1.4171339273452759, 1.4763362407684326, 1.664140224456787, 1.7520883083343506, 1.9892879724502563, 2.4622957706451416, 2.599155902862549, 3.4284350872039795, 3.6190032958984375], 3: [1.0632011890411377, 1.3078323602676392, 1.3230259418487549, 1.3487484455108643, 1.3932746648788452, 1.403102159500122, 1.4379361867904663, 1.442115068435669, 1.4991579055786133, 1.513691782951355, 1.5197187662124634, 1.5399610996246338, 1.7078454494476318, 1.7112451791763306, 2.0263071060180664, 2.1705985069274902, 2.232478380203247, 2.242001533508301, 2.3675971031188965, 2.4335737228393555, 2.468986988067627, 2.4942917823791504, 2.5508339405059814, 2.583082914352417, 2.5966291427612305, 2.610645055770874, 2.7006795406341553, 2.728713035583496, 2.838939905166626, 2.860497236251831, 2.962714433670044, 2.9660444259643555, 2.972804546356201, 3.0671348571777344, 3.110308885574341, 3.155256986618042, 3.2938945293426514, 3.3685405254364014, 3.5851964950561523, 3.6459908485412598, 3.787731409072876, 3.8402247428894043, 4.045648097991943, 4.174994945526123, 4.258810043334961, 4.417373180389404, 4.4362263679504395, 4.442551136016846, 4.694048881530762, 4.726125717163086, 5.323013782501221, 5.480396270751953, 5.557451248168945, 5.776960849761963, 5.7876081466674805, 6.218026161193848], 4: [2.616591215133667, 2.778823137283325, 2.8721790313720703, 3.162381649017334, 3.3797895908355713, 3.8839316368103027, 3.9661357402801514, 4.021376609802246, 4.0466837882995605, 4.079550743103027, 4.084882736206055, 4.132505893707275, 4.133397102355957, 4.142185688018799, 4.14790153503418, 4.226171016693115, 4.245180606842041, 4.289692401885986, 4.298377990722656, 4.366334915161133, 4.400986671447754, 4.4337992668151855, 4.434281349182129, 4.515204429626465, 4.582124710083008, 4.591887950897217, 4.648295879364014, 4.66614294052124, 4.758082866668701, 5.186472415924072, 5.286202430725098, 5.305358409881592, 5.337497234344482, 5.362179279327393, 5.533193588256836, 5.571651935577393, 5.588801860809326, 5.591966152191162, 5.708113670349121, 5.728840351104736, 5.825153350830078, 5.85255765914917, 5.878329277038574, 5.972789764404297, 5.973391532897949, 5.9884467124938965, 6.253737449645996, 6.2622175216674805, 6.333364963531494, 6.374585151672363, 6.3864216804504395, 6.451870441436768, 6.535011291503906, 6.553702354431152, 6.666453838348389, 6.670155048370361, 6.753540515899658, 6.876613140106201, 6.909241676330566, 6.977888584136963, 7.053708076477051, 7.108550548553467, 7.136898994445801, 7.312274932861328, 7.340292930603027, 8.281399726867676, 8.322860717773438, 8.527963638305664, 8.599747657775879, 9.593435287475586], 5: [5.887639045715332, 6.03904390335083, 6.052206993103027, 6.082363128662109, 6.0955634117126465, 6.111709117889404, 6.202083587646484, 6.262383937835693, 6.810997486114502, 7.1164116859436035, 7.189138889312744, 7.270939826965332, 7.320375919342041, 7.331384658813477, 7.374152660369873, 7.397032260894775, 7.4559125900268555, 7.471881866455078, 7.497010231018066, 7.660459518432617, 7.667941570281982, 7.9441237449646, 7.984685897827148, 7.990224361419678, 8.026020050048828, 8.13211441040039, 8.190327644348145, 8.266801834106445, 8.276456832885742, 8.335030555725098, 8.336098670959473, 8.346670150756836, 8.352925300598145, 8.427192687988281, 8.485879898071289, 8.489073753356934, 8.500409126281738, 8.504947662353516, 8.613563537597656, 8.811863899230957, 9.411103248596191, 9.43825626373291, 9.659944534301758, 9.718411445617676, 9.731117248535156, 9.760689735412598, 9.795740127563477, 9.886669158935547, 9.931726455688477, 10.041179656982422, 10.096755027770996, 10.177190780639648, 10.373649597167969, 10.506951332092285, 11.085040092468262, 12.437920570373535]}\n",
      "{1: [-8.597589840064757e-08, -5.8650755363487406e-08, -5.8650755363487406e-08, -5.8650755363487406e-08, -5.8650755363487406e-08, -5.8650755363487406e-08, -5.8650755363487406e-08, -3.1325612326327246e-08], 2: [-0.0005941218696534634, 0.0019618843216449022, 0.007038812153041363, 0.030578842386603355, 0.06910734623670578, 0.09918298572301865, 0.22705629467964172, 0.24483290314674377, 0.2726086378097534, 0.3138076961040497, 0.40063267946243286, 0.46686235070228577, 0.5037698149681091, 0.5218071937561035, 0.6180218458175659, 0.6905478239059448, 1.0347695350646973, 1.0699131488800049, 1.2294760942459106, 1.2306910753250122, 1.3058794736862183, 1.4819399118423462, 1.5825307369232178, 1.8113152980804443, 2.310343027114868, 2.49129319190979, 3.2241051197052, 3.533588409423828], 3: [1.1660842895507812, 1.2130496501922607, 1.2189489603042603, 1.2693663835525513, 1.371526837348938, 1.403469443321228, 1.4761637449264526, 1.4936052560806274, 1.5154047012329102, 1.5234295129776, 1.5240145921707153, 1.5879194736480713, 1.668958306312561, 1.7696607112884521, 1.8921595811843872, 1.9725948572158813, 1.9801565408706665, 1.9982718229293823, 2.1382699012756348, 2.1967549324035645, 2.252880334854126, 2.272179126739502, 2.397157669067383, 2.4585306644439697, 2.4734716415405273, 2.6141929626464844, 2.6693639755249023, 2.7657907009124756, 2.790062665939331, 2.7977285385131836, 2.896188259124756, 2.9075498580932617, 2.985360860824585, 3.08569598197937, 3.135575294494629, 3.159900426864624, 3.230806827545166, 3.3619651794433594, 3.3869450092315674, 3.47118878364563, 3.570368528366089, 3.643195390701294, 3.794175148010254, 3.907498598098755, 4.085318565368652, 4.088237762451172, 4.189348220825195, 4.436387538909912, 4.596114635467529, 4.607460975646973, 4.756300449371338, 5.176365375518799, 5.229321479797363, 5.405076026916504, 5.553808689117432, 6.026734828948975], 4: [2.576536178588867, 2.725778579711914, 2.737858295440674, 3.178210973739624, 3.3606300354003906, 3.7766339778900146, 3.8039391040802, 3.8660848140716553, 3.8850910663604736, 3.9247891902923584, 3.963547706604004, 3.9685349464416504, 3.987616777420044, 4.01971435546875, 4.067050457000732, 4.138884544372559, 4.152979373931885, 4.182266712188721, 4.250497817993164, 4.2973809242248535, 4.304006099700928, 4.338223934173584, 4.351159572601318, 4.365866184234619, 4.374941825866699, 4.397196292877197, 4.454529762268066, 4.525192737579346, 4.598483562469482, 4.94659423828125, 5.034929275512695, 5.0587005615234375, 5.142431259155273, 5.2281174659729, 5.250705242156982, 5.359405517578125, 5.42915153503418, 5.492232322692871, 5.495246410369873, 5.536219120025635, 5.544939994812012, 5.5754899978637695, 5.723858833312988, 5.724379062652588, 5.753604888916016, 5.773393630981445, 5.8467631340026855, 5.8966169357299805, 5.978044509887695, 6.003561019897461, 6.067490577697754, 6.1950178146362305, 6.20962381362915, 6.226733684539795, 6.294145107269287, 6.391748905181885, 6.394265174865723, 6.59243106842041, 6.784876823425293, 6.879664897918701, 6.907988548278809, 6.981468677520752, 7.078053951263428, 7.220086574554443, 7.364560127258301, 7.782664775848389, 7.88128137588501, 8.029640197753906, 8.225513458251953, 9.153311729431152], 5: [5.651481628417969, 5.734809398651123, 5.757495880126953, 5.79819393157959, 5.863221168518066, 5.987903118133545, 6.119955062866211, 6.133454322814941, 6.74368143081665, 6.7977375984191895, 6.844034194946289, 6.940342426300049, 6.960704326629639, 7.015466690063477, 7.050578594207764, 7.149596691131592, 7.18081521987915, 7.272167682647705, 7.360649585723877, 7.414481163024902, 7.521299839019775, 7.591778755187988, 7.635477542877197, 7.681098937988281, 7.791131019592285, 7.844764709472656, 7.855618476867676, 7.8996734619140625, 7.9002685546875, 7.971877574920654, 7.976108074188232, 8.052083969116211, 8.06275463104248, 8.081840515136719, 8.182692527770996, 8.185596466064453, 8.282920837402344, 8.385948181152344, 8.555286407470703, 8.58037281036377, 8.821645736694336, 8.939931869506836, 9.086357116699219, 9.282492637634277, 9.320599555969238, 9.3794584274292, 9.424530982971191, 9.578306198120117, 9.701739311218262, 9.749171257019043, 9.777482032775879, 9.825862884521484, 9.99258804321289, 10.19265079498291, 10.904947280883789, 11.824840545654297]}\n",
      "{1: [-5.8650755363487406e-08, -5.8650755363487406e-08, -5.8650755363487406e-08, -5.8650755363487406e-08, -5.8650755363487406e-08, -5.8650755363487406e-08, -5.8650755363487406e-08, -3.1325612326327246e-08], 2: [0.00022472663840744644, 0.012519421987235546, 0.0261806920170784, 0.08687839657068253, 0.09994529187679291, 0.20837154984474182, 0.216268852353096, 0.2640906870365143, 0.2708132863044739, 0.4324948489665985, 0.46977829933166504, 0.5522885322570801, 0.5793233513832092, 0.6128037571907043, 0.6997483372688293, 0.8364826440811157, 0.8648929595947266, 1.037406325340271, 1.0683013200759888, 1.2317783832550049, 1.3019568920135498, 1.4124433994293213, 1.508669376373291, 1.5958480834960938, 2.3218181133270264, 2.553316831588745, 3.181929588317871, 3.414232015609741], 3: [1.1407828330993652, 1.170999526977539, 1.3195770978927612, 1.411957859992981, 1.416766881942749, 1.5333683490753174, 1.573689341545105, 1.5892142057418823, 1.6049145460128784, 1.6461001634597778, 1.7091752290725708, 1.7331451177597046, 1.887539029121399, 1.9494301080703735, 1.9959968328475952, 2.0165822505950928, 2.0170199871063232, 2.020981788635254, 2.0968048572540283, 2.140592575073242, 2.2257115840911865, 2.315884590148926, 2.573984384536743, 2.665570020675659, 2.7011373043060303, 2.8150627613067627, 2.8318288326263428, 2.8520562648773193, 2.8878655433654785, 2.9207777976989746, 2.9833648204803467, 2.9974493980407715, 3.0047576427459717, 3.033703327178955, 3.1667139530181885, 3.228214740753174, 3.2463936805725098, 3.419144630432129, 3.6085474491119385, 3.6779978275299072, 3.7292771339416504, 3.7489359378814697, 3.767638683319092, 3.7783889770507812, 3.8694398403167725, 3.978001832962036, 4.1237359046936035, 4.188415050506592, 4.540217399597168, 4.6370038986206055, 4.8484649658203125, 4.896766185760498, 4.902108192443848, 5.108119487762451, 5.178263187408447, 5.9712066650390625], 4: [2.765531063079834, 2.8925273418426514, 2.9788312911987305, 3.376188278198242, 3.5626766681671143, 3.758708953857422, 3.8406448364257812, 3.8609836101531982, 4.013946533203125, 4.020594596862793, 4.09030818939209, 4.148400783538818, 4.244120121002197, 4.2800211906433105, 4.281680107116699, 4.363936424255371, 4.422484397888184, 4.430068492889404, 4.43115234375, 4.490877628326416, 4.500561237335205, 4.549238681793213, 4.585896015167236, 4.653584957122803, 4.681119918823242, 4.752323150634766, 4.779384613037109, 4.785757541656494, 4.823362350463867, 4.912075042724609, 5.02300500869751, 5.229712963104248, 5.25224494934082, 5.276273250579834, 5.416437149047852, 5.4727559089660645, 5.547966480255127, 5.58196496963501, 5.603893756866455, 5.647297382354736, 5.6805949211120605, 5.721695423126221, 5.726440906524658, 5.739291191101074, 5.742589473724365, 5.83535099029541, 5.842402935028076, 5.917621612548828, 5.953564643859863, 5.982471466064453, 6.016286849975586, 6.145399570465088, 6.385268211364746, 6.407724380493164, 6.493209362030029, 6.556342124938965, 6.644091606140137, 6.749354839324951, 6.777703762054443, 6.782628536224365, 6.889421463012695, 6.990812301635742, 7.225574493408203, 7.327155590057373, 7.365365028381348, 7.5806169509887695, 7.607490539550781, 7.797686576843262, 7.918453693389893, 8.78053092956543], 5: [5.940412998199463, 6.0250749588012695, 6.073574542999268, 6.123264312744141, 6.161282539367676, 6.165731906890869, 6.303163528442383, 6.375176429748535, 6.8390703201293945, 6.902245998382568, 7.081061840057373, 7.086380481719971, 7.1628031730651855, 7.342127799987793, 7.342280864715576, 7.5253167152404785, 7.536355972290039, 7.59159517288208, 7.598875045776367, 7.636455059051514, 7.692655563354492, 7.744050979614258, 7.819077491760254, 7.8305745124816895, 7.848926544189453, 7.947895050048828, 7.98826265335083, 8.02936840057373, 8.075119018554688, 8.089424133300781, 8.190691947937012, 8.254002571105957, 8.33397388458252, 8.3782320022583, 8.401287078857422, 8.468820571899414, 8.50396728515625, 8.638267517089844, 8.725475311279297, 8.832026481628418, 8.878167152404785, 8.9669771194458, 9.157329559326172, 9.277209281921387, 9.465629577636719, 9.586755752563477, 9.603781700134277, 9.622297286987305, 9.654319763183594, 9.72498893737793, 9.813121795654297, 9.896650314331055, 9.978960037231445, 10.388077735900879, 10.874771118164062, 11.535248756408691]}\n",
      "{1: [-5.8650755363487406e-08, -5.8650755363487406e-08, -5.8650755363487406e-08, -5.8650755363487406e-08, -5.8650755363487406e-08, -5.8650755363487406e-08, -3.1325612326327246e-08, -3.1325612326327246e-08], 2: [0.016414141282439232, 0.021754758432507515, 0.03855105862021446, 0.055056579411029816, 0.16768981516361237, 0.22855426371097565, 0.28966864943504333, 0.3223726451396942, 0.44264838099479675, 0.5317417979240417, 0.560900092124939, 0.6230783462524414, 0.659550666809082, 0.6666903495788574, 0.7663729190826416, 0.810791015625, 0.9076046943664551, 0.9734590649604797, 1.0286805629730225, 1.0916516780853271, 1.2538741827011108, 1.4155882596969604, 1.6631896495819092, 1.9238494634628296, 2.4422664642333984, 2.5890636444091797, 2.95296311378479, 3.6122562885284424], 3: [0.9856290817260742, 1.0172934532165527, 1.2177857160568237, 1.339378833770752, 1.4284380674362183, 1.5059574842453003, 1.527096152305603, 1.5642976760864258, 1.6393533945083618, 1.7949305772781372, 1.8209818601608276, 1.8527865409851074, 1.9152008295059204, 1.939060926437378, 2.0034382343292236, 2.0455758571624756, 2.101926803588867, 2.184048652648926, 2.2796154022216797, 2.2867469787597656, 2.312086582183838, 2.463070869445801, 2.7953755855560303, 2.8474836349487305, 2.891829252243042, 2.979703426361084, 3.004183292388916, 3.0044872760772705, 3.0214524269104004, 3.107283353805542, 3.136932373046875, 3.142122507095337, 3.149730682373047, 3.2964346408843994, 3.3196375370025635, 3.3963820934295654, 3.406589984893799, 3.417407751083374, 3.472367525100708, 3.63935923576355, 3.778984308242798, 3.8858659267425537, 3.904507875442505, 3.929874897003174, 3.9426305294036865, 3.9884276390075684, 4.145883083343506, 4.30408239364624, 4.419555187225342, 4.721220970153809, 4.759339809417725, 4.914203643798828, 4.9192070960998535, 4.960438251495361, 5.261260032653809, 6.200672149658203], 4: [2.8816635608673096, 2.9931082725524902, 3.082768678665161, 3.3855671882629395, 3.6074159145355225, 3.8578741550445557, 3.9349348545074463, 4.08588981628418, 4.162900924682617, 4.174721717834473, 4.1839919090271, 4.244205951690674, 4.268120765686035, 4.282112121582031, 4.308547019958496, 4.350988864898682, 4.358527183532715, 4.3824687004089355, 4.427731990814209, 4.633200168609619, 4.710928916931152, 4.7780914306640625, 4.866909027099609, 4.920226573944092, 4.973947525024414, 5.0550923347473145, 5.080089569091797, 5.1576738357543945, 5.171369552612305, 5.184026718139648, 5.1875386238098145, 5.229971885681152, 5.386433124542236, 5.388177871704102, 5.402248859405518, 5.484297752380371, 5.601004600524902, 5.624788284301758, 5.686681747436523, 5.745639801025391, 5.748165607452393, 5.819701671600342, 5.853890895843506, 5.894729137420654, 5.973840713500977, 6.011019706726074, 6.018217086791992, 6.028347015380859, 6.1253180503845215, 6.133376121520996, 6.159257411956787, 6.295108795166016, 6.465362071990967, 6.753317356109619, 6.758261203765869, 6.81096076965332, 6.836242198944092, 6.98607873916626, 6.988719940185547, 7.072241306304932, 7.077871799468994, 7.258669853210449, 7.3558669090271, 7.439785003662109, 7.439991474151611, 7.639974594116211, 7.6508283615112305, 7.7145514488220215, 8.015276908874512, 8.807804107666016], 5: [6.163435935974121, 6.237559795379639, 6.256816387176514, 6.351003170013428, 6.352581024169922, 6.390538215637207, 6.433088302612305, 6.47743034362793, 6.956900596618652, 7.161923408508301, 7.224484920501709, 7.3660502433776855, 7.4965925216674805, 7.501105785369873, 7.522859573364258, 7.677771091461182, 7.700077533721924, 7.732220649719238, 7.774932861328125, 7.8763747215271, 7.8938374519348145, 7.914459228515625, 8.004294395446777, 8.069684982299805, 8.072602272033691, 8.099580764770508, 8.158699989318848, 8.199963569641113, 8.243215560913086, 8.249263763427734, 8.262063980102539, 8.279234886169434, 8.291242599487305, 8.753668785095215, 8.804961204528809, 8.890186309814453, 8.895258903503418, 8.912238121032715, 9.101764678955078, 9.106419563293457, 9.14411449432373, 9.176258087158203, 9.362603187561035, 9.48882007598877, 9.517068862915039, 9.70082950592041, 9.759737014770508, 9.806378364562988, 9.825906753540039, 10.021734237670898, 10.10994815826416, 10.111254692077637, 10.164067268371582, 10.931546211242676, 10.969409942626953, 11.583656311035156]}\n",
      "{1: [-8.597589840064757e-08, -5.8650755363487406e-08, -5.8650755363487406e-08, -5.8650755363487406e-08, -5.8650755363487406e-08, -5.8650755363487406e-08, -3.1325612326327246e-08, -3.1325612326327246e-08], 2: [7.517995982198045e-05, 0.013184173963963985, 0.027199938893318176, 0.03575139492750168, 0.04700696840882301, 0.052766669541597366, 0.13432186841964722, 0.14668089151382446, 0.1509302407503128, 0.15940438210964203, 0.16009002923965454, 0.18087366223335266, 0.18934668600559235, 0.23632319271564484, 0.278081476688385, 0.39413824677467346, 0.418885737657547, 0.5730487108230591, 0.5933448076248169, 0.7393053770065308, 0.8652952313423157, 0.9073272347450256, 1.104827880859375, 1.2111914157867432, 1.2852199077606201, 1.8690470457077026, 1.9533106088638306, 2.00447416305542], 3: [0.17329970002174377, 0.1853199154138565, 0.3011170029640198, 0.3031246066093445, 0.3182336091995239, 0.4163331985473633, 0.43812066316604614, 0.5427665710449219, 0.5484551191329956, 0.6563349962234497, 0.6769140958786011, 0.7332978844642639, 0.746004581451416, 0.7940765619277954, 0.8095554709434509, 0.8707860112190247, 0.9186440706253052, 0.975226879119873, 0.9920032620429993, 1.019034743309021, 1.0601643323898315, 1.060938835144043, 1.147074580192566, 1.1761428117752075, 1.2829453945159912, 1.2935142517089844, 1.3477665185928345, 1.403857946395874, 1.4066425561904907, 1.436598539352417, 1.4468761682510376, 1.4667710065841675, 1.4716722965240479, 1.4775569438934326, 1.5281331539154053, 1.5546663999557495, 1.7740099430084229, 1.9339812994003296, 2.05798602104187, 2.112731695175171, 2.1566147804260254, 2.193718433380127, 2.266895055770874, 2.3129491806030273, 2.321416139602661, 2.4195494651794434, 2.4234087467193604, 2.4910874366760254, 2.5066347122192383, 2.781348705291748, 2.783980131149292, 3.076559066772461, 3.0961966514587402, 3.1296885013580322, 3.3086845874786377, 4.087774753570557], 4: [0.992449939250946, 0.9986564517021179, 1.097108244895935, 1.1671767234802246, 1.2014397382736206, 1.2353671789169312, 1.3093011379241943, 1.3144413232803345, 1.437801718711853, 1.5193854570388794, 1.6728435754776, 1.7043384313583374, 1.715259313583374, 1.7186824083328247, 1.7832859754562378, 1.819669246673584, 1.8800331354141235, 1.972936749458313, 2.1769626140594482, 2.1972014904022217, 2.217393636703491, 2.2574827671051025, 2.2607181072235107, 2.2751686573028564, 2.2846457958221436, 2.295001745223999, 2.3536429405212402, 2.5193920135498047, 2.52386736869812, 2.573589563369751, 2.6115808486938477, 2.6591060161590576, 2.666086435317993, 2.669388771057129, 2.7428948879241943, 2.7777621746063232, 2.805219888687134, 2.822892189025879, 2.875481128692627, 2.954562187194824, 2.9675467014312744, 3.081092119216919, 3.0992250442504883, 3.124934673309326, 3.1332902908325195, 3.201212167739868, 3.205002546310425, 3.288947343826294, 3.2906365394592285, 3.323333501815796, 3.3696422576904297, 3.4233779907226562, 3.464366912841797, 3.4780242443084717, 3.483339786529541, 3.493818521499634, 3.620971202850342, 3.625155448913574, 3.701087713241577, 3.734384536743164, 3.748471260070801, 3.8715455532073975, 4.369204521179199, 4.432662487030029, 4.604221343994141, 4.621882438659668, 4.663395881652832, 4.723574161529541, 5.342040538787842, 5.521756172180176], 5: [2.54012393951416, 2.6115875244140625, 2.6726744174957275, 2.7135462760925293, 2.7298495769500732, 2.7910094261169434, 2.812577724456787, 2.9306015968322754, 3.052199602127075, 3.0787441730499268, 3.2632100582122803, 3.333405017852783, 3.426849842071533, 3.444896697998047, 3.5076053142547607, 3.535310983657837, 3.576122522354126, 3.6289005279541016, 3.7419891357421875, 3.750185012817383, 3.8517346382141113, 3.882126569747925, 3.900569438934326, 3.9404735565185547, 4.00095272064209, 4.072756290435791, 4.084283828735352, 4.100601673126221, 4.153370380401611, 4.213745594024658, 4.406589984893799, 4.49524450302124, 4.540676116943359, 4.60819673538208, 4.627781867980957, 4.794739723205566, 4.82213020324707, 4.873265743255615, 4.920754909515381, 4.936756134033203, 4.9704508781433105, 5.0076775550842285, 5.043288707733154, 5.117546081542969, 5.1401262283325195, 5.303704261779785, 5.320154666900635, 5.345024108886719, 5.550151824951172, 5.690491676330566, 5.698529243469238, 5.866211414337158, 5.961548805236816, 6.04542350769043, 6.164903163909912, 7.185094356536865]}\n",
      "{1: [-8.597589840064757e-08, -5.8650755363487406e-08, -5.8650755363487406e-08, -5.8650755363487406e-08, -5.8650755363487406e-08, -5.8650755363487406e-08, -5.8650755363487406e-08, -3.1325612326327246e-08], 2: [-0.0005555195384658873, -0.0004870704433415085, 0.010967317968606949, 0.017057567834854126, 0.057001225650310516, 0.08749120682477951, 0.08780662715435028, 0.19308792054653168, 0.1948094666004181, 0.31557005643844604, 0.3558538854122162, 0.3591201901435852, 0.38844218850135803, 0.4479323625564575, 0.4541560709476471, 0.5736602544784546, 0.6974636912345886, 0.7704988718032837, 0.9250757098197937, 0.9287559390068054, 1.3964225053787231, 1.459360122680664, 1.4835840463638306, 1.840791940689087, 1.86458158493042, 1.865122675895691, 1.8775076866149902, 4.6394853591918945], 3: [0.27271008491516113, 0.2755677402019501, 0.37195301055908203, 0.44839516282081604, 0.5156976580619812, 0.5217631459236145, 0.6331334114074707, 0.6437591910362244, 0.6775230169296265, 0.8112362623214722, 0.9120537042617798, 1.0159131288528442, 1.093164324760437, 1.4201538562774658, 1.4277623891830444, 1.4913294315338135, 1.575810194015503, 1.6096391677856445, 1.6646660566329956, 1.8251444101333618, 1.8290399312973022, 1.8621912002563477, 1.9128156900405884, 1.9662495851516724, 1.986004114151001, 2.0144834518432617, 2.0645499229431152, 2.216385841369629, 2.2322545051574707, 2.2379374504089355, 2.2981841564178467, 2.303187608718872, 2.3416454792022705, 2.343942880630493, 2.3492348194122314, 2.568284273147583, 2.5815696716308594, 2.6053011417388916, 2.6143312454223633, 2.623983144760132, 2.6490111351013184, 2.683478593826294, 2.710871934890747, 2.712230682373047, 2.727375030517578, 2.7938292026519775, 2.804016351699829, 3.3851821422576904, 3.712968111038208, 3.718919515609741, 4.641819000244141, 4.834855079650879, 4.999964714050293, 5.099705219268799, 6.131197452545166, 6.50719690322876], 4: [1.6153868436813354, 1.628114938735962, 1.7812937498092651, 2.0206193923950195, 2.028296709060669, 2.0919060707092285, 2.1125941276550293, 2.1491246223449707, 2.1888010501861572, 2.31579852104187, 2.5261166095733643, 2.538130283355713, 2.539383888244629, 2.6543948650360107, 2.6646907329559326, 2.695429563522339, 2.729381799697876, 2.7709803581237793, 2.834078073501587, 2.8679428100585938, 2.900083541870117, 2.9723286628723145, 2.9783482551574707, 2.984346389770508, 3.0041990280151367, 3.0875089168548584, 3.0894622802734375, 3.4794135093688965, 3.6714556217193604, 3.685164213180542, 3.698512554168701, 3.698869228363037, 3.7828962802886963, 3.877275228500366, 3.884584426879883, 4.06443977355957, 4.085326671600342, 4.1083879470825195, 4.118722915649414, 4.128833293914795, 4.252572536468506, 4.254863262176514, 4.281090259552002, 4.2899980545043945, 4.2960076332092285, 4.411754608154297, 4.609905242919922, 4.621831893920898, 4.632752895355225, 4.644828796386719, 4.681869983673096, 4.888155937194824, 4.90560245513916, 4.921183109283447, 5.008156776428223, 5.0119805335998535, 5.170590400695801, 5.30222749710083, 6.075930595397949, 6.2686357498168945, 6.469930171966553, 6.662685871124268, 6.87498664855957, 6.946187973022461, 7.002747535705566, 7.255273818969727, 7.268226146697998, 7.358420372009277, 7.379209995269775, 8.389949798583984], 5: [3.8661890029907227, 3.8981502056121826, 4.007707595825195, 4.071998596191406, 4.077650547027588, 4.084074974060059, 4.096273422241211, 4.256855487823486, 4.451048851013184, 4.489070892333984, 4.495379447937012, 4.496484756469727, 4.527486324310303, 4.621420860290527, 4.6318488121032715, 4.655831336975098, 4.793663024902344, 4.833414077758789, 4.894743919372559, 4.995900630950928, 5.003791809082031, 5.247785568237305, 5.277687072753906, 5.380568981170654, 5.397464752197266, 5.996498107910156, 6.000373840332031, 6.171947956085205, 6.182776927947998, 6.290566444396973, 6.3203511238098145, 6.324434757232666, 6.36322021484375, 6.574794769287109, 6.5989274978637695, 6.67780876159668, 6.8077287673950195, 6.938745975494385, 6.951603889465332, 7.204354286193848, 7.312854290008545, 7.429980278015137, 7.560349464416504, 7.639021873474121, 7.75832986831665, 8.347524642944336, 8.354232788085938, 8.537735939025879, 8.75662612915039, 8.762916564941406, 8.947019577026367, 8.960371017456055, 9.293144226074219, 9.302593231201172, 9.575948715209961, 9.685763359069824]}\n",
      "{1: [-8.597589840064757e-08, -5.8650755363487406e-08, -5.8650755363487406e-08, -5.8650755363487406e-08, -5.8650755363487406e-08, -5.8650755363487406e-08, -5.8650755363487406e-08, -5.8650755363487406e-08], 2: [-0.00017633689276408404, 0.0032330472022295, 0.0041502695530653, 0.005885574501007795, 0.01581220142543316, 0.04191077873110771, 0.043195489794015884, 0.05241217464208603, 0.05405357480049133, 0.0897207111120224, 0.13881130516529083, 0.26461607217788696, 0.26837319135665894, 0.2855071425437927, 0.43395566940307617, 0.6670492887496948, 0.6682521104812622, 0.6750402450561523, 0.7769952416419983, 0.9819248914718628, 1.2627240419387817, 1.3842424154281616, 1.4118716716766357, 1.4306814670562744, 2.1664822101593018, 2.2114193439483643, 2.25759220123291, 6.547195911407471], 3: [0.09566700458526611, 0.09602335095405579, 0.10642073303461075, 0.14499300718307495, 0.2980213165283203, 0.3811972737312317, 0.3827551007270813, 0.4958568811416626, 0.7061069011688232, 0.8388582468032837, 0.8423771262168884, 0.8457810282707214, 1.0721807479858398, 1.0775606632232666, 1.0828254222869873, 1.1921272277832031, 1.1954028606414795, 1.275486707687378, 1.3681939840316772, 1.3910045623779297, 1.4337036609649658, 1.661855936050415, 1.676360845565796, 1.7030147314071655, 1.7201552391052246, 1.7350658178329468, 1.7622194290161133, 2.226348400115967, 2.23142147064209, 2.369579553604126, 2.4226207733154297, 2.455132007598877, 2.4674251079559326, 2.4799370765686035, 2.491239547729492, 2.493659734725952, 2.498012065887451, 2.562459945678711, 2.584930181503296, 2.7678120136260986, 2.9407641887664795, 2.993802309036255, 3.0520238876342773, 3.0744125843048096, 3.339820384979248, 3.422469139099121, 3.4772136211395264, 3.859226703643799, 4.708717346191406, 4.763528347015381, 6.674004077911377, 6.7125983238220215, 6.91456937789917, 7.315182209014893, 8.165595054626465, 9.139208793640137], 4: [1.3718271255493164, 1.3729883432388306, 1.5246938467025757, 1.5480109453201294, 1.550222635269165, 1.6450215578079224, 1.8574284315109253, 1.9895784854888916, 2.081524610519409, 2.090583324432373, 2.4244253635406494, 2.4248430728912354, 2.571756362915039, 2.643308162689209, 2.7053332328796387, 2.8176398277282715, 2.8438987731933594, 2.8608672618865967, 2.877824544906616, 2.885363817214966, 3.243865489959717, 3.2956767082214355, 3.304068088531494, 3.3220877647399902, 3.4521358013153076, 3.4606382846832275, 3.481522560119629, 3.49619460105896, 3.5020720958709717, 3.7104129791259766, 3.7403335571289062, 3.763145685195923, 3.770458698272705, 3.80120587348938, 3.8344955444335938, 3.8875648975372314, 3.9105224609375, 3.966090202331543, 3.9745311737060547, 3.9984230995178223, 4.245391368865967, 4.652349948883057, 4.662717342376709, 4.685096740722656, 4.988877773284912, 4.998459339141846, 5.002557754516602, 5.04278039932251, 5.050896644592285, 5.056105613708496, 5.440614223480225, 5.874309539794922, 5.929856777191162, 6.352894306182861, 6.40981388092041, 6.866455554962158, 7.103305816650391, 7.547516345977783, 7.740869045257568, 7.8451948165893555, 8.439674377441406, 8.463737487792969, 8.880240440368652, 9.326194763183594, 9.396292686462402, 9.429940223693848, 9.82518482208252, 9.946200370788574, 10.454392433166504, 11.739355087280273], 5: [3.847729444503784, 3.853569984436035, 3.85398006439209, 3.8602285385131836, 4.002893447875977, 4.1719207763671875, 4.194423675537109, 4.265346050262451, 4.29049015045166, 4.337350368499756, 4.412464618682861, 4.426926612854004, 4.460258960723877, 4.908219337463379, 4.979746341705322, 4.995840549468994, 5.321278095245361, 5.372292518615723, 5.441988468170166, 5.4903998374938965, 5.567080020904541, 6.082123279571533, 6.114002704620361, 6.202915191650391, 6.255862712860107, 6.259440898895264, 6.3149495124816895, 6.643290042877197, 6.697976112365723, 6.7692975997924805, 6.8244524002075195, 7.017019748687744, 7.186298370361328, 7.242128849029541, 7.9744181632995605, 8.03010082244873, 8.14306354522705, 8.328291893005371, 8.883564949035645, 9.147427558898926, 9.641834259033203, 9.818497657775879, 10.098404884338379, 10.160400390625, 10.248720169067383, 10.253616333007812, 10.632954597473145, 10.743109703063965, 10.87907886505127, 10.970025062561035, 11.435213088989258, 12.021012306213379, 12.030961036682129, 12.035560607910156, 12.905342102050781, 13.396392822265625]}\n",
      "{1: [-5.8650755363487406e-08, -5.8650755363487406e-08, -5.8650755363487406e-08, -5.8650755363487406e-08, -5.8650755363487406e-08, -5.8650755363487406e-08, -3.1325612326327246e-08, -3.1325612326327246e-08], 2: [-0.0003890403313562274, 0.0064882016740739346, 0.007610560394823551, 0.008660264313220978, 0.00873966608196497, 0.025409866124391556, 0.02742137387394905, 0.060183726251125336, 0.0670100599527359, 0.06750041991472244, 0.07012797147035599, 0.11834881454706192, 0.19829769432544708, 0.207614004611969, 0.2825368642807007, 0.2847648561000824, 0.29045596718788147, 0.4620806872844696, 0.46715521812438965, 0.5358191728591919, 0.9079939723014832, 0.9294803142547607, 0.9611736536026001, 1.3140895366668701, 1.689974069595337, 1.6936391592025757, 1.7427572011947632, 5.553877353668213], 3: [0.07802750915288925, 0.09371624886989594, 0.096136175096035, 0.12764959037303925, 0.32933640480041504, 0.4455832540988922, 0.44637057185173035, 0.5325133204460144, 0.6669920086860657, 0.6672936677932739, 0.7340263724327087, 0.7340757250785828, 0.7611837983131409, 0.7737281918525696, 0.824353039264679, 0.8244565725326538, 0.8414907455444336, 0.8606410622596741, 0.9687049388885498, 1.177456021308899, 1.1943297386169434, 1.2296507358551025, 1.2568371295928955, 1.393814206123352, 1.4179095029830933, 1.4361227750778198, 1.6021937131881714, 1.8432989120483398, 1.9483987092971802, 1.9668571949005127, 1.9769084453582764, 1.98905348777771, 2.016542911529541, 2.0429699420928955, 2.0448997020721436, 2.1461968421936035, 2.152690887451172, 2.176177978515625, 2.185664653778076, 2.243265390396118, 2.3087053298950195, 2.37233567237854, 2.4461448192596436, 2.482649326324463, 2.5475587844848633, 2.5910584926605225, 2.643826961517334, 2.9483132362365723, 3.7122392654418945, 3.7734339237213135, 5.655154705047607, 5.665539741516113, 5.699409484863281, 5.892974853515625, 6.623906135559082, 7.528761386871338], 4: [1.1482049226760864, 1.1568694114685059, 1.1692101955413818, 1.3765621185302734, 1.3838989734649658, 1.4010772705078125, 1.5246378183364868, 1.7040936946868896, 1.7161428928375244, 1.8213423490524292, 2.1421539783477783, 2.460994005203247, 2.479482650756836, 2.4861092567443848, 2.4865593910217285, 2.492152452468872, 2.4946398735046387, 2.5276966094970703, 2.5338408946990967, 2.552288770675659, 2.6826627254486084, 2.7077972888946533, 2.7565793991088867, 2.8501410484313965, 2.8873038291931152, 2.909198760986328, 2.915297746658325, 2.944477081298828, 2.9463131427764893, 2.9969382286071777, 3.0094187259674072, 3.073029041290283, 3.075049638748169, 3.135035991668701, 3.1386547088623047, 3.2565934658050537, 3.303156614303589, 3.3390052318573, 3.3404595851898193, 3.440072536468506, 3.734365463256836, 3.736938714981079, 3.968707323074341, 3.9928653240203857, 4.002686500549316, 4.060312747955322, 4.258597373962402, 4.289836883544922, 4.321516513824463, 4.348605155944824, 4.6270294189453125, 4.765444278717041, 4.829931735992432, 4.980175971984863, 5.044090270996094, 5.793761730194092, 6.106658935546875, 6.309834957122803, 6.383115291595459, 6.469336986541748, 6.904287815093994, 7.135180473327637, 7.678304672241211, 7.687938690185547, 7.806143760681152, 7.907292366027832, 8.029521942138672, 8.168405532836914, 8.36190128326416, 9.567536354064941], 5: [3.110421657562256, 3.1261608600616455, 3.5083701610565186, 3.534959077835083, 3.573164463043213, 3.613166570663452, 3.6255290508270264, 3.801823854446411, 3.856506586074829, 3.893317222595215, 3.8989133834838867, 3.901596784591675, 4.167048931121826, 4.205112457275391, 4.5218892097473145, 4.539319038391113, 4.5781378746032715, 4.636634826660156, 4.902656078338623, 4.958441257476807, 4.987295627593994, 5.318729400634766, 5.384341239929199, 5.417919158935547, 5.453896999359131, 5.474165439605713, 5.491456508636475, 5.572225570678711, 5.588413238525391, 5.634899139404297, 5.648906230926514, 5.89312744140625, 5.951389789581299, 6.314696788787842, 6.80386209487915, 6.862339496612549, 6.86822509765625, 7.095749855041504, 7.433853626251221, 8.183839797973633, 8.192872047424316, 8.322959899902344, 8.331415176391602, 8.45077896118164, 8.710658073425293, 8.751859664916992, 8.781148910522461, 8.953609466552734, 8.967239379882812, 8.9856538772583, 9.73727798461914, 9.859574317932129, 10.11490249633789, 10.174954414367676, 10.626317024230957, 10.858914375305176]}\n",
      "{1: [-8.597589840064757e-08, -8.597589840064757e-08, -5.8650755363487406e-08, -5.8650755363487406e-08, -5.8650755363487406e-08, -5.8650755363487406e-08, -5.8650755363487406e-08, -5.8650755363487406e-08], 2: [0.004483704920858145, 0.022600490599870682, 0.023738881573081017, 0.034140393137931824, 0.03536491096019745, 0.036295335739851, 0.04770810529589653, 0.049736812710762024, 0.050908491015434265, 0.05119914188981056, 0.18139640986919403, 0.23268817365169525, 0.23569202423095703, 0.27334555983543396, 0.2792068421840668, 0.3375239670276642, 0.4021589756011963, 0.41671422123908997, 0.7159271836280823, 0.749248743057251, 0.7982174754142761, 0.836330771446228, 0.9535135626792908, 1.0275771617889404, 1.0714229345321655, 1.2386279106140137, 2.8189187049865723, 3.7265501022338867], 3: [0.7626845240592957, 0.8661850690841675, 0.8859145641326904, 0.9746447801589966, 1.0074611902236938, 1.0979161262512207, 1.1281931400299072, 1.1558263301849365, 1.1733903884887695, 1.201960563659668, 1.2228851318359375, 1.266533613204956, 1.4247463941574097, 1.4529811143875122, 1.552983283996582, 1.5762232542037964, 1.5880132913589478, 1.6070666313171387, 1.6144976615905762, 1.6455214023590088, 1.6813924312591553, 1.6968944072723389, 1.747879147529602, 1.7709695100784302, 1.7795867919921875, 1.805554747581482, 1.8168357610702515, 1.8850728273391724, 1.8868776559829712, 1.9150127172470093, 1.9254950284957886, 1.9574378728866577, 1.9586282968521118, 2.060713768005371, 2.0675857067108154, 2.070221185684204, 2.084364891052246, 2.230686664581299, 2.25882887840271, 2.27591872215271, 2.4622318744659424, 2.4623823165893555, 2.6643757820129395, 2.7307660579681396, 2.90450382232666, 2.904900312423706, 2.9129574298858643, 3.133751153945923, 3.1680307388305664, 3.7513716220855713, 3.7624380588531494, 3.785686731338501, 3.82352614402771, 4.153007507324219, 4.499351978302002, 4.814899921417236], 4: [2.6154117584228516, 2.6397476196289062, 2.6996164321899414, 2.701381206512451, 2.847728729248047, 2.8650600910186768, 2.8964478969573975, 2.9350783824920654, 2.9500629901885986, 2.9514105319976807, 2.9572386741638184, 2.9951767921447754, 3.025405168533325, 3.059941291809082, 3.082929849624634, 3.0968174934387207, 3.1836888790130615, 3.3280141353607178, 3.4152731895446777, 3.4438135623931885, 3.4831297397613525, 3.5075275897979736, 3.5209813117980957, 3.5388023853302, 3.5486814975738525, 3.641871452331543, 3.6431405544281006, 3.6634738445281982, 3.664062261581421, 3.7211573123931885, 3.7635371685028076, 3.7914364337921143, 3.8541386127471924, 3.8741607666015625, 3.9287333488464355, 4.001440525054932, 4.012673377990723, 4.026642799377441, 4.071244239807129, 4.098155975341797, 4.168459415435791, 4.191095352172852, 4.269611358642578, 4.278532028198242, 4.317861080169678, 4.55390739440918, 4.629919052124023, 4.662553787231445, 4.693679332733154, 4.758457183837891, 4.773250102996826, 4.80430269241333, 4.9291558265686035, 4.959925651550293, 4.961360931396484, 4.966995716094971, 4.967739105224609, 5.135594367980957, 5.209519863128662, 5.34284782409668, 5.392064571380615, 5.518949031829834, 5.526212692260742, 5.633372783660889, 5.701307773590088, 5.993922710418701, 6.0259270668029785, 6.252634048461914, 6.475551128387451, 6.633925914764404], 5: [4.6670708656311035, 4.704440116882324, 4.770054817199707, 4.88702917098999, 4.949249744415283, 5.054210186004639, 5.387356281280518, 5.485743999481201, 5.487914085388184, 5.532884120941162, 5.537898540496826, 5.6282243728637695, 5.6584792137146, 5.690413951873779, 5.7447309494018555, 5.788957595825195, 5.801727771759033, 5.838565826416016, 5.861239433288574, 5.869210243225098, 5.889936923980713, 5.897998809814453, 5.975900173187256, 5.981551647186279, 5.994510173797607, 6.052278518676758, 6.086411952972412, 6.399641036987305, 6.407147407531738, 6.427404403686523, 6.5317158699035645, 6.548577785491943, 6.630524158477783, 6.686299800872803, 6.729976654052734, 6.825654983520508, 6.8394856452941895, 6.905877590179443, 6.992354869842529, 7.025667667388916, 7.1747589111328125, 7.204885482788086, 7.277065753936768, 7.40774393081665, 7.443644046783447, 7.470356464385986, 7.665460586547852, 7.672821521759033, 7.792161464691162, 7.832305431365967, 7.960358619689941, 8.036093711853027, 8.112760543823242, 8.408997535705566, 8.52106761932373, 8.902267456054688]}\n",
      "{1: [-8.597589840064757e-08, -8.597589840064757e-08, -5.8650755363487406e-08, -5.8650755363487406e-08, -5.8650755363487406e-08, -5.8650755363487406e-08, -5.8650755363487406e-08, -5.8650755363487406e-08], 2: [0.006210277788341045, 0.008966260589659214, 0.013620111159980297, 0.04248155280947685, 0.043114446103572845, 0.07357188314199448, 0.07589055597782135, 0.0965922400355339, 0.09973986446857452, 0.12130008637905121, 0.13832645118236542, 0.15199460089206696, 0.15480561554431915, 0.18417716026306152, 0.20361773669719696, 0.4025510847568512, 0.41374579071998596, 0.6610220670700073, 0.6732844710350037, 0.7548051476478577, 0.7769650816917419, 0.7939298152923584, 1.3863307237625122, 1.5001667737960815, 1.67720365524292, 1.7713027000427246, 3.2488789558410645, 3.6467490196228027], 3: [1.0575205087661743, 1.0628626346588135, 1.1260948181152344, 1.1486574411392212, 1.214128851890564, 1.2450194358825684, 1.3260263204574585, 1.3595805168151855, 1.5696256160736084, 1.6134231090545654, 1.6142913103103638, 1.6150096654891968, 1.6589995622634888, 1.6602505445480347, 1.6616257429122925, 1.6935299634933472, 1.7156935930252075, 1.740960955619812, 1.7608895301818848, 1.7745455503463745, 1.7898274660110474, 1.817245602607727, 1.8278322219848633, 1.8835349082946777, 1.8897242546081543, 1.8996425867080688, 1.9180560111999512, 1.9209033250808716, 1.9243656396865845, 1.930436372756958, 1.9393625259399414, 1.9446014165878296, 1.9469894170761108, 1.9524965286254883, 1.965093970298767, 2.0465006828308105, 2.046971559524536, 2.0711288452148438, 2.3480992317199707, 2.36163592338562, 2.4726173877716064, 2.5078494548797607, 3.3881447315216064, 3.4785783290863037, 3.48748779296875, 3.531757116317749, 3.5513083934783936, 3.5748167037963867, 3.6461329460144043, 3.6892378330230713, 3.723522424697876, 3.7480170726776123, 4.064002990722656, 4.099301815032959, 5.214810371398926, 5.43113899230957], 4: [2.7413294315338135, 3.019327163696289, 3.0253918170928955, 3.0424885749816895, 3.0773673057556152, 3.109265089035034, 3.1909306049346924, 3.318427085876465, 3.3437986373901367, 3.4014317989349365, 3.4187424182891846, 3.4818410873413086, 3.5045053958892822, 3.507394790649414, 3.523620367050171, 3.5537681579589844, 3.5839555263519287, 3.684998035430908, 3.6854121685028076, 3.69710111618042, 3.702789068222046, 3.716343641281128, 3.7356021404266357, 3.7429654598236084, 3.744126796722412, 3.7568118572235107, 3.767481565475464, 3.8116402626037598, 3.815007448196411, 3.8212337493896484, 3.8824360370635986, 3.894423484802246, 3.9011826515197754, 3.905531883239746, 3.9187004566192627, 3.963017702102661, 3.9699463844299316, 4.0394287109375, 4.067310810089111, 4.528653621673584, 4.529609680175781, 4.6586480140686035, 4.6703267097473145, 5.033455848693848, 5.033897399902344, 5.040408134460449, 5.082362174987793, 5.098241329193115, 5.21153450012207, 5.305178642272949, 5.308939456939697, 5.332268238067627, 5.349750518798828, 5.366756439208984, 5.452630043029785, 5.455968856811523, 5.4786295890808105, 5.502848148345947, 5.576089859008789, 5.579104900360107, 5.580255031585693, 5.610454559326172, 5.66964054107666, 5.704465389251709, 5.72615385055542, 5.754176139831543, 6.136655807495117, 6.263397216796875, 7.140264511108398, 7.402593612670898], 5: [5.003268241882324, 5.182672023773193, 5.492839813232422, 5.5044755935668945, 5.515499591827393, 5.573291778564453, 5.610312461853027, 5.647754669189453, 5.663790225982666, 5.682763576507568, 5.741160869598389, 5.782202243804932, 5.799829006195068, 5.874654769897461, 5.902405738830566, 5.94644832611084, 5.955685138702393, 5.955719947814941, 6.044491291046143, 6.120016098022461, 6.452821731567383, 6.509079456329346, 6.635134220123291, 6.927192687988281, 6.932374000549316, 7.122516632080078, 7.125800132751465, 7.150036811828613, 7.163604736328125, 7.167636871337891, 7.1822943687438965, 7.21115255355835, 7.24183988571167, 7.246941566467285, 7.287372589111328, 7.310588836669922, 7.330378532409668, 7.421031951904297, 7.423092842102051, 7.454712867736816, 7.5263214111328125, 7.528304100036621, 7.535758018493652, 7.57686185836792, 7.650076866149902, 7.653080463409424, 7.682717323303223, 7.751068115234375, 7.768149375915527, 7.875235080718994, 7.910012245178223, 8.467154502868652, 8.92602825164795, 9.004105567932129, 9.097173690795898, 9.145636558532715]}\n",
      "{1: [-8.597589840064757e-08, -8.597589840064757e-08, -5.8650755363487406e-08, -5.8650755363487406e-08, -5.8650755363487406e-08, -5.8650755363487406e-08, -5.8650755363487406e-08, -5.8650755363487406e-08], 2: [0.01840776391327381, 0.02167302742600441, 0.03490963205695152, 0.036731962114572525, 0.03918464481830597, 0.06156633421778679, 0.08977939933538437, 0.1258699595928192, 0.14192652702331543, 0.14749875664710999, 0.17776000499725342, 0.17946070432662964, 0.18738703429698944, 0.21686507761478424, 0.39793720841407776, 0.44542381167411804, 0.48206645250320435, 0.5070001482963562, 0.5208930373191833, 0.5598604083061218, 0.733816921710968, 1.4417219161987305, 1.8104349374771118, 2.0456297397613525, 2.5882480144500732, 2.880054235458374, 2.980149745941162, 3.5846431255340576], 3: [1.0322480201721191, 1.1586933135986328, 1.1967555284500122, 1.2297652959823608, 1.2422378063201904, 1.249860405921936, 1.3159420490264893, 1.4195387363433838, 1.4723774194717407, 1.5170783996582031, 1.5375996828079224, 1.554182529449463, 1.5650007724761963, 1.608829140663147, 1.6431007385253906, 1.6789019107818604, 1.684814214706421, 1.6976444721221924, 1.7135155200958252, 1.737856149673462, 1.7378956079483032, 1.7561030387878418, 1.761873722076416, 1.8966730833053589, 1.912706971168518, 1.9954237937927246, 2.002037525177002, 2.0176150798797607, 2.1556637287139893, 2.2822957038879395, 2.3001248836517334, 2.3105123043060303, 2.622776985168457, 2.671647787094116, 2.7974987030029297, 2.825165033340454, 2.903538227081299, 3.135988712310791, 3.141242027282715, 3.1543123722076416, 3.1565277576446533, 3.1708574295043945, 3.174203872680664, 3.2601494789123535, 3.2799019813537598, 3.299797534942627, 3.518549919128418, 3.6229922771453857, 3.7358651161193848, 3.778538703918457, 3.809598207473755, 4.1084465980529785, 5.0608038902282715, 5.086861610412598, 5.764833450317383, 6.60255241394043], 4: [2.731719493865967, 2.8756916522979736, 2.9546070098876953, 3.05651593208313, 3.106950283050537, 3.1306934356689453, 3.2670581340789795, 3.2815492153167725, 3.306410551071167, 3.3695950508117676, 3.418959617614746, 3.4960789680480957, 3.548863410949707, 3.5858776569366455, 3.593885660171509, 3.5971004962921143, 3.6478734016418457, 3.808090925216675, 3.876185178756714, 3.8962643146514893, 3.907130241394043, 4.005201816558838, 4.093322277069092, 4.194551944732666, 4.364856719970703, 4.376313209533691, 4.394338607788086, 4.412684440612793, 4.438922882080078, 4.471614837646484, 4.483114242553711, 4.64363956451416, 4.654275894165039, 4.734167575836182, 4.745608329772949, 4.75416898727417, 4.766117095947266, 4.76685094833374, 4.794164180755615, 4.814418315887451, 4.817117214202881, 4.846405506134033, 4.8554558753967285, 5.085447311401367, 5.10744571685791, 5.173171520233154, 5.184656620025635, 5.243460655212402, 5.286829471588135, 5.3019795417785645, 5.319642543792725, 5.3487324714660645, 5.349789142608643, 5.366296291351318, 5.372541904449463, 5.387343883514404, 5.847369194030762, 5.916879653930664, 5.9294819831848145, 6.020235538482666, 6.050386428833008, 6.068418025970459, 6.292201519012451, 6.669862747192383, 6.777352333068848, 6.7774739265441895, 6.925227642059326, 6.952892303466797, 7.432020664215088, 9.077611923217773], 5: [5.080496311187744, 5.2676310539245605, 5.3955230712890625, 5.591793537139893, 5.686675548553467, 5.888716697692871, 5.948547840118408, 5.9990620613098145, 6.151941776275635, 6.256852626800537, 6.282175064086914, 6.378754138946533, 6.42985200881958, 6.4645256996154785, 6.663229942321777, 6.674856185913086, 6.696324348449707, 6.717010974884033, 6.7564849853515625, 6.76632022857666, 6.895936489105225, 6.916489124298096, 6.952890396118164, 6.957489013671875, 6.970844745635986, 6.9952521324157715, 7.0362229347229, 7.1200642585754395, 7.205132007598877, 7.221821308135986, 7.303878307342529, 7.322811126708984, 7.4174017906188965, 7.470355033874512, 7.606482982635498, 7.643779754638672, 7.663664817810059, 7.863986968994141, 7.891346454620361, 7.964409828186035, 7.973057746887207, 8.14175796508789, 8.39151668548584, 8.400044441223145, 8.41317081451416, 8.455641746520996, 8.51746940612793, 8.522137641906738, 8.540806770324707, 8.621941566467285, 9.140284538269043, 9.278268814086914, 9.42922592163086, 9.446636199951172, 9.974982261657715, 10.07371997833252]}\n",
      "{1: [-8.597589840064757e-08, -5.8650755363487406e-08, -5.8650755363487406e-08, -5.8650755363487406e-08, -5.8650755363487406e-08, -5.8650755363487406e-08, -5.8650755363487406e-08, -3.1325612326327246e-08], 2: [0.0016434505814686418, 0.018350321799516678, 0.02603498287498951, 0.027302362024784088, 0.029727529734373093, 0.04409509152173996, 0.1830749660730362, 0.2522082030773163, 0.2550203204154968, 0.2591818869113922, 0.27237096428871155, 0.27996551990509033, 0.2825930714607239, 0.32647889852523804, 0.3400319516658783, 0.34390246868133545, 0.38900870084762573, 0.5888180136680603, 0.6948243379592896, 0.7272610664367676, 1.0414247512817383, 1.4838846921920776, 1.7868022918701172, 1.8416736125946045, 2.0751774311065674, 2.732637643814087, 3.450512170791626, 3.4903268814086914], 3: [1.000910758972168, 1.0261013507843018, 1.1152262687683105, 1.127943754196167, 1.1314343214035034, 1.1740316152572632, 1.282748818397522, 1.29939866065979, 1.3389900922775269, 1.3808802366256714, 1.3878858089447021, 1.4022232294082642, 1.4261856079101562, 1.4628478288650513, 1.4761042594909668, 1.5540337562561035, 1.5553442239761353, 1.580055832862854, 1.5801550149917603, 1.5973215103149414, 1.6032681465148926, 1.7897573709487915, 1.8289042711257935, 1.8301172256469727, 1.8447456359863281, 2.0648958683013916, 2.083481788635254, 2.0890984535217285, 2.1162893772125244, 2.1501564979553223, 2.1726977825164795, 2.18669056892395, 2.1935908794403076, 2.204230546951294, 2.271805763244629, 2.4032320976257324, 2.439646005630493, 2.649594783782959, 2.782721519470215, 2.9254000186920166, 3.0178778171539307, 3.0767641067504883, 3.2807092666625977, 3.518143653869629, 3.5810837745666504, 3.6225426197052, 3.7508976459503174, 3.7913753986358643, 3.80729603767395, 3.8374340534210205, 4.230798244476318, 4.5226616859436035, 5.382672309875488, 5.769561290740967, 5.770020008087158, 7.064528942108154], 4: [2.343247652053833, 2.5152995586395264, 2.584660530090332, 2.623974561691284, 2.7901837825775146, 2.9486491680145264, 2.9808170795440674, 2.9964487552642822, 3.102940559387207, 3.1816494464874268, 3.2002272605895996, 3.2841854095458984, 3.3073744773864746, 3.396800994873047, 3.408069372177124, 3.438714027404785, 3.468367099761963, 3.483447313308716, 3.4856114387512207, 3.5248372554779053, 3.566286325454712, 3.6063625812530518, 3.6441144943237305, 3.708035707473755, 3.7142670154571533, 3.7485649585723877, 3.7824795246124268, 3.821422815322876, 3.841475248336792, 3.980649709701538, 4.069781303405762, 4.084760665893555, 4.090722560882568, 4.255463123321533, 4.271883010864258, 4.334419250488281, 4.335201740264893, 4.361649036407471, 4.427328109741211, 4.5407538414001465, 4.707662105560303, 4.93197774887085, 4.9473748207092285, 4.976660251617432, 5.031846046447754, 5.033203125, 5.09480094909668, 5.1334381103515625, 5.144834995269775, 5.1491379737854, 5.324087619781494, 5.457245826721191, 5.71226167678833, 5.714170932769775, 5.7517991065979, 5.838168144226074, 5.880884647369385, 5.906347274780273, 6.116081237792969, 6.1358113288879395, 6.142797470092773, 6.172571659088135, 6.601526737213135, 6.972672462463379, 7.059974670410156, 7.230334758758545, 7.467223167419434, 7.480377197265625, 8.136409759521484, 9.790314674377441], 5: [4.651303291320801, 4.784828186035156, 4.946502685546875, 4.984010696411133, 5.0327534675598145, 5.144200325012207, 5.15042781829834, 5.312459468841553, 5.3247785568237305, 5.434667110443115, 5.5100860595703125, 5.5737624168396, 5.686960220336914, 5.788651466369629, 5.896303653717041, 5.920173168182373, 6.16768741607666, 6.183624267578125, 6.398702144622803, 6.408461093902588, 6.495479583740234, 6.532902240753174, 6.677657127380371, 6.72877311706543, 6.930995464324951, 7.062562942504883, 7.075520038604736, 7.172028541564941, 7.207019329071045, 7.329489231109619, 7.340000629425049, 7.359810829162598, 7.389932155609131, 7.4579572677612305, 7.487417221069336, 7.5098185539245605, 7.551100730895996, 7.620187759399414, 7.661778450012207, 7.744051933288574, 7.761508464813232, 7.848369121551514, 8.0364990234375, 8.114489555358887, 8.1663818359375, 8.169087409973145, 8.612472534179688, 8.707146644592285, 8.815199851989746, 8.847643852233887, 9.055455207824707, 9.513701438903809, 9.958781242370605, 10.206320762634277, 10.212133407592773, 11.115930557250977]}\n",
      "{1: [-5.8650755363487406e-08, -5.8650755363487406e-08, -5.8650755363487406e-08, -5.8650755363487406e-08, -3.1325612326327246e-08, -3.1325612326327246e-08, -3.1325612326327246e-08, -3.1325612326327246e-08], 2: [0.035646140575408936, 0.03739430382847786, 0.04078635573387146, 0.042174600064754486, 0.10488016158342361, 0.15242351591587067, 0.15825119614601135, 0.17174288630485535, 0.22695791721343994, 0.3355833888053894, 0.3718607425689697, 0.37783437967300415, 0.3877221345901489, 0.43760764598846436, 0.44726136326789856, 0.4498603641986847, 0.4761095345020294, 0.7883639931678772, 0.8965369462966919, 0.9518517255783081, 1.3442174196243286, 1.4625084400177002, 1.7068891525268555, 2.0395541191101074, 2.7183854579925537, 3.0575668811798096, 3.313453197479248, 3.685983657836914], 3: [0.9902694821357727, 1.0458027124404907, 1.0937435626983643, 1.104716420173645, 1.180253505706787, 1.2550196647644043, 1.285065770149231, 1.3841452598571777, 1.3949670791625977, 1.4296921491622925, 1.4345502853393555, 1.4996367692947388, 1.501304268836975, 1.503989338874817, 1.514312982559204, 1.5380274057388306, 1.5570957660675049, 1.5660395622253418, 1.5956242084503174, 1.6122132539749146, 1.6648422479629517, 1.748831033706665, 1.8416941165924072, 1.9263818264007568, 2.023428201675415, 2.0784616470336914, 2.08150577545166, 2.109004020690918, 2.1657848358154297, 2.431579828262329, 2.514941930770874, 2.7552642822265625, 2.868496894836426, 3.1013002395629883, 3.1054649353027344, 3.1969621181488037, 3.3588716983795166, 3.4898858070373535, 3.5323915481567383, 3.638127088546753, 3.652209520339966, 3.6889591217041016, 3.70623779296875, 3.7513716220855713, 3.7641096115112305, 3.7893197536468506, 3.803863763809204, 3.9270195960998535, 4.063851833343506, 4.135214328765869, 4.28269624710083, 4.921790599822998, 5.298980236053467, 5.596707820892334, 5.925601482391357, 7.163407802581787], 4: [2.4483909606933594, 2.4699108600616455, 2.6191933155059814, 2.629354953765869, 2.7425825595855713, 2.7563164234161377, 3.0340077877044678, 3.0718178749084473, 3.0760927200317383, 3.1780519485473633, 3.2175142765045166, 3.2911322116851807, 3.3297674655914307, 3.4564945697784424, 3.5526180267333984, 3.6329190731048584, 3.639155626296997, 3.6754825115203857, 3.784558057785034, 3.852667808532715, 3.8656277656555176, 4.050683975219727, 4.171384334564209, 4.253936290740967, 4.312861919403076, 4.351644992828369, 4.383663177490234, 4.447501182556152, 4.5445876121521, 4.593496799468994, 4.811722755432129, 4.824649810791016, 4.869869232177734, 4.900333881378174, 4.9167609214782715, 4.926461696624756, 4.9403204917907715, 4.9523024559021, 4.973803520202637, 4.990213394165039, 5.061908721923828, 5.141940116882324, 5.2939252853393555, 5.324930667877197, 5.343367576599121, 5.451031684875488, 5.503493309020996, 5.610586166381836, 5.619761943817139, 5.663209438323975, 5.694161415100098, 5.78024959564209, 5.823015213012695, 6.000800132751465, 6.006721496582031, 6.092515468597412, 6.168819904327393, 6.315944194793701, 6.3972883224487305, 6.768892288208008, 6.795862197875977, 7.15317440032959, 7.21654748916626, 7.2556471824646, 7.351144313812256, 7.584228515625, 7.666443824768066, 7.726438522338867, 8.399996757507324, 9.838923454284668], 5: [4.767499923706055, 4.804708003997803, 5.019142150878906, 5.056252956390381, 5.418122291564941, 5.455585479736328, 5.614226341247559, 5.646848201751709, 6.042806625366211, 6.106201171875, 6.125835418701172, 6.187021255493164, 6.289802074432373, 6.688960552215576, 6.691857814788818, 6.7165045738220215, 6.805446147918701, 6.901040554046631, 6.941298007965088, 7.038107872009277, 7.166714668273926, 7.220304012298584, 7.25657320022583, 7.3207831382751465, 7.37800931930542, 7.482614040374756, 7.517070293426514, 7.5286993980407715, 7.545461654663086, 7.562018394470215, 7.591276168823242, 7.715485572814941, 7.837634563446045, 7.908524990081787, 7.918928146362305, 7.978177547454834, 8.035662651062012, 8.107583999633789, 8.115043640136719, 8.432896614074707, 8.515030860900879, 8.662494659423828, 8.81582260131836, 8.863492012023926, 8.956379890441895, 8.993751525878906, 9.058356285095215, 9.154172897338867, 9.465803146362305, 9.751317024230957, 9.930635452270508, 10.10840129852295, 10.260110855102539, 10.34133529663086, 11.303272247314453, 11.409791946411133]}\n",
      "{1: [-5.8650755363487406e-08, -5.8650755363487406e-08, -5.8650755363487406e-08, -5.8650755363487406e-08, -5.8650755363487406e-08, -3.1325612326327246e-08, -3.1325612326327246e-08, -3.1325612326327246e-08], 2: [0.05541004240512848, 0.060359492897987366, 0.06151315197348595, 0.06635893136262894, 0.07082965970039368, 0.10865256190299988, 0.1981211155653, 0.20606671273708344, 0.29067495465278625, 0.478783518075943, 0.48349425196647644, 0.4933215379714966, 0.5098423361778259, 0.5756859183311462, 0.5816071033477783, 0.6320624947547913, 0.6457054018974304, 0.9114057421684265, 1.0257214307785034, 1.1105338335037231, 1.4135878086090088, 1.5182713270187378, 1.5964189767837524, 2.0128021240234375, 2.604790687561035, 2.8943052291870117, 2.968811273574829, 3.7985708713531494], 3: [1.1664402484893799, 1.2138339281082153, 1.2790371179580688, 1.2825981378555298, 1.360701560974121, 1.395528793334961, 1.4155664443969727, 1.4322738647460938, 1.438859462738037, 1.4746631383895874, 1.489107608795166, 1.5018376111984253, 1.5332351922988892, 1.5354931354522705, 1.5357416868209839, 1.550797700881958, 1.5748558044433594, 1.6421838998794556, 1.6684938669204712, 1.749955415725708, 1.8294758796691895, 1.928520917892456, 2.0556933879852295, 2.0689663887023926, 2.072517156600952, 2.1027727127075195, 2.2467713356018066, 2.404524087905884, 2.526705026626587, 2.55635142326355, 2.6656363010406494, 2.6681387424468994, 2.9509880542755127, 3.0584261417388916, 3.11450457572937, 3.123584747314453, 3.2455413341522217, 3.3125624656677246, 3.4861831665039062, 3.5766072273254395, 3.5893747806549072, 3.5931649208068848, 3.6204726696014404, 3.640791416168213, 3.7529501914978027, 3.813685655593872, 3.926671266555786, 3.982088565826416, 4.091819763183594, 4.281439304351807, 4.379552364349365, 5.114575386047363, 5.172378063201904, 5.231236934661865, 5.725647926330566, 6.839731216430664], 4: [2.628847599029541, 2.6327967643737793, 2.7890000343322754, 2.7995779514312744, 2.901928663253784, 2.9466922283172607, 2.9827404022216797, 3.047739267349243, 3.200345277786255, 3.2615909576416016, 3.4163782596588135, 3.5538454055786133, 3.5551111698150635, 3.561741352081299, 3.6363394260406494, 3.743506908416748, 3.842417001724243, 3.988539695739746, 4.014093399047852, 4.140387535095215, 4.16107702255249, 4.170616626739502, 4.1841888427734375, 4.220342636108398, 4.462215900421143, 4.47814416885376, 4.483118057250977, 4.545952796936035, 4.54815149307251, 4.585412502288818, 4.596335411071777, 4.616281032562256, 4.636549949645996, 4.749713897705078, 4.753808498382568, 4.79620885848999, 4.83392333984375, 4.848398685455322, 4.885647773742676, 4.96294641494751, 5.132740020751953, 5.175064563751221, 5.330593109130859, 5.428821563720703, 5.471940994262695, 5.507091522216797, 5.534454822540283, 5.628803253173828, 5.692117214202881, 5.735840797424316, 5.748435974121094, 5.769326686859131, 5.8150739669799805, 5.890831470489502, 5.894725799560547, 5.915700435638428, 6.115264892578125, 6.280337333679199, 6.413306713104248, 6.587525844573975, 6.720377445220947, 6.839673042297363, 6.909128665924072, 7.022947311401367, 7.339037895202637, 7.376222133636475, 7.4966721534729, 7.703857421875, 8.248396873474121, 9.438048362731934], 5: [5.061733245849609, 5.12957239151001, 5.274986267089844, 5.338551044464111, 5.674338340759277, 5.709146499633789, 5.71599817276001, 5.784330368041992, 5.987451553344727, 6.012957572937012, 6.026439189910889, 6.177923679351807, 6.284120559692383, 6.601855754852295, 6.6824235916137695, 6.747429370880127, 6.80524206161499, 6.867730140686035, 6.906832218170166, 6.9298014640808105, 6.976626873016357, 7.022223949432373, 7.158318519592285, 7.393889904022217, 7.453542709350586, 7.47127103805542, 7.544025421142578, 7.557450771331787, 7.60667085647583, 7.643551826477051, 7.6548590660095215, 7.800185203552246, 7.835659980773926, 7.951191425323486, 7.98779821395874, 7.995129585266113, 8.009164810180664, 8.06318187713623, 8.220200538635254, 8.231080055236816, 8.375959396362305, 8.570658683776855, 8.623640060424805, 8.634512901306152, 8.89565372467041, 8.91794490814209, 9.022112846374512, 9.211370468139648, 9.234557151794434, 9.339756965637207, 9.632347106933594, 9.904139518737793, 9.993965148925781, 10.126952171325684, 10.909266471862793, 11.155107498168945]}\n",
      "{1: [-5.8650755363487406e-08, -5.8650755363487406e-08, -5.8650755363487406e-08, -5.8650755363487406e-08, -5.8650755363487406e-08, -5.8650755363487406e-08, -5.8650755363487406e-08, -5.8650755363487406e-08], 2: [0.47727417945861816, 0.5111098289489746, 0.5330448746681213, 0.5659497976303101, 0.5825944542884827, 0.5908109545707703, 0.6295655369758606, 0.6300324201583862, 0.6648327708244324, 0.6949619054794312, 0.7084647417068481, 0.7755826711654663, 1.5911026000976562, 1.612738847732544, 1.8755035400390625, 2.141643524169922, 2.1613266468048096, 2.1712875366210938, 2.2276651859283447, 2.3729043006896973, 2.463029146194458, 2.5379979610443115, 2.700437545776367, 2.702665090560913, 2.855815887451172, 2.8750412464141846, 3.128994941711426, 3.2382242679595947], 3: [2.2290492057800293, 2.3083527088165283, 2.347874402999878, 2.427344560623169, 2.4780964851379395, 2.553586006164551, 2.652121067047119, 2.7236742973327637, 2.858976125717163, 2.8883721828460693, 2.939175605773926, 2.969846248626709, 2.9882469177246094, 3.0476484298706055, 3.0649874210357666, 3.071037769317627, 3.0839037895202637, 3.1339902877807617, 3.134211540222168, 3.14375638961792, 3.179561138153076, 3.219190835952759, 3.2626404762268066, 3.285460948944092, 3.3252334594726562, 3.3389813899993896, 3.4661643505096436, 3.4664905071258545, 3.5169081687927246, 3.5383048057556152, 3.5421395301818848, 3.577571153640747, 3.7718632221221924, 3.850775957107544, 3.9954771995544434, 4.064168453216553, 4.318375587463379, 4.573723316192627, 4.588474750518799, 4.708319664001465, 4.85330867767334, 4.85806131362915, 4.9558820724487305, 5.001341342926025, 5.121222019195557, 5.131076335906982, 5.169647693634033, 5.480220794677734, 5.5344953536987305, 5.576261520385742, 5.603995323181152, 5.611064434051514, 5.836207389831543, 6.006020545959473, 6.178232192993164, 6.366783142089844], 4: [4.861819267272949, 4.977767467498779, 5.107302665710449, 5.139347553253174, 5.195623397827148, 5.286375045776367, 5.29212760925293, 5.3483710289001465, 5.358213424682617, 5.4310688972473145, 5.443068981170654, 5.493933200836182, 5.495321750640869, 5.519081115722656, 5.522946357727051, 5.572229862213135, 5.621313571929932, 5.648647785186768, 5.663642883300781, 5.684196472167969, 5.698940753936768, 5.716650009155273, 5.722744941711426, 5.773664474487305, 5.788790225982666, 5.7913289070129395, 5.839179039001465, 5.844780445098877, 5.8497467041015625, 5.852712154388428, 5.905145168304443, 5.930063724517822, 6.0965094566345215, 6.102283477783203, 6.146764278411865, 6.148898601531982, 6.216987133026123, 6.248699188232422, 6.319724082946777, 6.372203350067139, 6.392605304718018, 6.404380798339844, 6.437179088592529, 6.441867351531982, 6.451986312866211, 6.494081497192383, 6.501863956451416, 6.558590412139893, 6.627728462219238, 6.704442977905273, 6.770638942718506, 6.82741117477417, 6.903203964233398, 7.142007350921631, 7.210371017456055, 7.53845739364624, 7.7229485511779785, 7.859213352203369, 7.899926662445068, 8.122515678405762, 8.25951862335205, 8.264374732971191, 8.400483131408691, 8.413901329040527, 8.572311401367188, 8.682893753051758, 8.838383674621582, 9.138506889343262, 9.245868682861328, 9.452352523803711], 5: [7.779193878173828, 7.925944805145264, 7.9887566566467285, 8.073421478271484, 8.13195514678955, 8.280705451965332, 8.30312728881836, 8.371210098266602, 8.40572452545166, 8.421646118164062, 8.435791969299316, 8.435959815979004, 8.49722671508789, 8.543285369873047, 8.587101936340332, 8.599509239196777, 8.642539024353027, 8.726304054260254, 8.782336235046387, 8.7860746383667, 8.882970809936523, 8.923258781433105, 8.973738670349121, 8.98679256439209, 9.00855541229248, 9.026402473449707, 9.034585952758789, 9.068079948425293, 9.070477485656738, 9.128822326660156, 9.149201393127441, 9.204231262207031, 9.24074649810791, 9.272236824035645, 9.2893705368042, 9.34168815612793, 9.348320007324219, 9.404857635498047, 9.409112930297852, 9.458088874816895, 9.463781356811523, 9.507320404052734, 9.577386856079102, 9.773883819580078, 9.868926048278809, 9.923685073852539, 10.076225280761719, 10.13055419921875, 10.22706413269043, 10.2955322265625, 11.184850692749023, 11.427372932434082, 11.585894584655762, 11.986488342285156, 12.122601509094238, 12.428521156311035]}\n",
      "{1: [-5.8650755363487406e-08, -5.8650755363487406e-08, -5.8650755363487406e-08, -5.8650755363487406e-08, -5.8650755363487406e-08, -5.8650755363487406e-08, -5.8650755363487406e-08, -5.8650755363487406e-08], 2: [1.4532294273376465, 1.6340478658676147, 1.6826767921447754, 1.7141093015670776, 1.9952027797698975, 2.1510610580444336, 2.2238211631774902, 2.350545883178711, 2.446652889251709, 2.7257449626922607, 2.7503767013549805, 2.8757476806640625, 2.880115032196045, 2.911259412765503, 3.019195795059204, 3.054980993270874, 3.2861194610595703, 3.4875998497009277, 3.502504587173462, 3.5465569496154785, 3.780919313430786, 4.0624003410339355, 4.076758861541748, 4.501262187957764, 4.835930347442627, 5.020240306854248, 5.536705493927002, 5.840480327606201], 3: [4.9561238288879395, 4.993708610534668, 5.177187919616699, 5.304140567779541, 5.364370822906494, 5.397307872772217, 5.419078826904297, 5.4620585441589355, 5.490278244018555, 5.6484575271606445, 5.726041316986084, 5.739907264709473, 5.836322784423828, 6.037901401519775, 6.276793003082275, 6.544317245483398, 6.741105556488037, 6.758204460144043, 6.78786563873291, 6.897575855255127, 6.907494068145752, 7.233678817749023, 7.259040355682373, 7.277189254760742, 7.388011932373047, 7.412290096282959, 7.528972148895264, 7.666605472564697, 7.761218070983887, 7.839799880981445, 7.866678714752197, 7.88604736328125, 7.891171455383301, 7.926662445068359, 7.930827617645264, 7.958885192871094, 7.973104000091553, 7.97368860244751, 8.074938774108887, 8.215154647827148, 8.254134178161621, 8.344966888427734, 8.382307052612305, 8.438769340515137, 8.53703784942627, 8.674604415893555, 8.813210487365723, 8.830573081970215, 8.844325065612793, 9.172664642333984, 9.270768165588379, 9.320306777954102, 9.874197959899902, 10.3808012008667, 10.433707237243652, 10.860113143920898], 4: [9.417315483093262, 9.480566024780273, 9.752755165100098, 9.839868545532227, 9.875506401062012, 9.949352264404297, 10.032322883605957, 10.094009399414062, 10.21435260772705, 10.318326950073242, 10.327322959899902, 10.394121170043945, 10.40040397644043, 10.42839241027832, 10.493682861328125, 10.495025634765625, 10.518632888793945, 10.566014289855957, 10.7032470703125, 10.777445793151855, 10.786470413208008, 10.872952461242676, 10.912233352661133, 10.912237167358398, 11.116637229919434, 11.246208190917969, 11.347895622253418, 11.374651908874512, 11.495701789855957, 11.73180866241455, 11.784396171569824, 11.812986373901367, 12.219985961914062, 12.239535331726074, 12.325310707092285, 12.380542755126953, 12.435067176818848, 12.454938888549805, 12.62222671508789, 12.694891929626465, 12.713735580444336, 12.74153995513916, 12.829009056091309, 12.86067008972168, 12.866612434387207, 12.873614311218262, 12.93130874633789, 13.015262603759766, 13.027823448181152, 13.141595840454102, 13.194997787475586, 13.313915252685547, 13.334856033325195, 13.495611190795898, 13.560047149658203, 13.765541076660156, 13.867744445800781, 13.936822891235352, 14.071415901184082, 14.098722457885742, 14.225564956665039, 14.273946762084961, 14.318690299987793, 14.359668731689453, 14.425086975097656, 14.588205337524414, 14.831060409545898, 14.973834037780762, 15.115687370300293, 15.631524085998535], 5: [14.425359725952148, 14.803608894348145, 14.954694747924805, 15.0089750289917, 15.027776718139648, 15.064087867736816, 15.25123405456543, 15.314346313476562, 15.367566108703613, 15.402997016906738, 15.40684700012207, 15.44797134399414, 15.456859588623047, 15.593754768371582, 15.616690635681152, 15.833272933959961, 15.840888977050781, 15.975564002990723, 15.988006591796875, 16.182754516601562, 16.379268646240234, 16.452390670776367, 16.55661964416504, 16.635799407958984, 16.672576904296875, 16.746021270751953, 16.8642578125, 16.88275718688965, 16.92812728881836, 16.94843292236328, 17.057085037231445, 17.333410263061523, 17.378965377807617, 17.446949005126953, 17.648456573486328, 17.696529388427734, 17.8980655670166, 17.91274070739746, 18.086965560913086, 18.11846923828125, 18.260841369628906, 18.548381805419922, 18.74257469177246, 18.78132438659668, 19.123416900634766, 19.145662307739258, 19.197416305541992, 19.283401489257812, 19.375362396240234, 19.462642669677734, 19.581390380859375, 19.803926467895508, 19.880809783935547, 19.93358039855957, 20.216928482055664, 20.731218338012695]}\n",
      "{1: [-5.8650755363487406e-08, -5.8650755363487406e-08, -5.8650755363487406e-08, -5.8650755363487406e-08, -5.8650755363487406e-08, -5.8650755363487406e-08, -5.8650755363487406e-08, -3.1325612326327246e-08], 2: [1.0311133861541748, 1.1858583688735962, 1.2260633707046509, 1.253340482711792, 1.458553671836853, 1.5645925998687744, 1.6200416088104248, 2.084369421005249, 2.1868324279785156, 2.4478485584259033, 2.498328447341919, 2.633355140686035, 2.6388485431671143, 2.64802622795105, 2.7906527519226074, 2.7969624996185303, 3.0247321128845215, 3.2055537700653076, 3.2277631759643555, 3.2415077686309814, 3.4658377170562744, 3.766251564025879, 3.824247121810913, 4.3156538009643555, 4.526950836181641, 4.649740219116211, 5.2086100578308105, 5.501051902770996], 3: [4.040060520172119, 4.100626468658447, 4.307183742523193, 4.393505096435547, 4.470612049102783, 4.480667591094971, 4.520752906799316, 4.553592205047607, 4.622403144836426, 4.785472393035889, 4.836021900177002, 4.929265975952148, 4.991661548614502, 5.238404750823975, 5.507441520690918, 5.664045810699463, 5.926339626312256, 5.966777801513672, 6.086392402648926, 6.161495685577393, 6.277203559875488, 6.607351779937744, 6.718051433563232, 6.719942569732666, 6.8592705726623535, 6.861228942871094, 6.985193729400635, 7.007923603057861, 7.0380473136901855, 7.206186294555664, 7.240349292755127, 7.262066841125488, 7.301870822906494, 7.3230204582214355, 7.324276447296143, 7.361266613006592, 7.374512195587158, 7.456622123718262, 7.491390228271484, 7.685904502868652, 7.750350475311279, 7.772006034851074, 7.84071159362793, 7.900848388671875, 8.013724327087402, 8.123477935791016, 8.153061866760254, 8.2365083694458, 8.277234077453613, 8.608735084533691, 8.687775611877441, 8.776708602905273, 9.316434860229492, 9.778286933898926, 9.902297973632812, 10.158748626708984], 4: [8.160181045532227, 8.23892879486084, 8.51307487487793, 8.67490005493164, 8.694363594055176, 8.800026893615723, 8.845608711242676, 8.93460750579834, 9.118744850158691, 9.160304069519043, 9.177950859069824, 9.18913745880127, 9.202709197998047, 9.223483085632324, 9.253847122192383, 9.276460647583008, 9.325798988342285, 9.381122589111328, 9.582196235656738, 9.616110801696777, 9.62977123260498, 9.653295516967773, 9.699254989624023, 9.846975326538086, 9.939836502075195, 10.0372953414917, 10.098649024963379, 10.18314266204834, 10.439912796020508, 10.509236335754395, 10.625402450561523, 10.878287315368652, 11.082290649414062, 11.365792274475098, 11.404500007629395, 11.548392295837402, 11.555102348327637, 11.601552963256836, 11.633257865905762, 11.748198509216309, 11.77688980102539, 11.78010368347168, 11.827733993530273, 11.905782699584961, 12.002787590026855, 12.014761924743652, 12.104944229125977, 12.125256538391113, 12.167819023132324, 12.281418800354004, 12.3629789352417, 12.485379219055176, 12.505575180053711, 12.687516212463379, 12.809982299804688, 12.865934371948242, 12.950265884399414, 13.061460494995117, 13.21277141571045, 13.354199409484863, 13.364676475524902, 13.42847728729248, 13.516030311584473, 13.57018756866455, 13.603540420532227, 13.717719078063965, 14.045121192932129, 14.098774909973145, 14.268101692199707, 14.710245132446289], 5: [12.885751724243164, 13.33516788482666, 13.402703285217285, 13.509523391723633, 13.5920991897583, 13.630179405212402, 13.778125762939453, 13.794097900390625, 13.867094993591309, 13.920080184936523, 13.956725120544434, 14.057161331176758, 14.08408260345459, 14.0900239944458, 14.186720848083496, 14.360466957092285, 14.41228199005127, 14.491157531738281, 14.55699348449707, 14.780734062194824, 14.832472801208496, 14.886077880859375, 15.050086975097656, 15.163820266723633, 15.277944564819336, 15.291784286499023, 15.304697036743164, 15.420960426330566, 15.476520538330078, 15.50936222076416, 15.614302635192871, 15.878117561340332, 15.953399658203125, 16.18594741821289, 16.30280876159668, 16.499835968017578, 16.554336547851562, 16.807167053222656, 16.98285484313965, 17.045963287353516, 17.0528621673584, 17.405879974365234, 17.731056213378906, 17.745771408081055, 17.995763778686523, 18.0203914642334, 18.10717010498047, 18.146778106689453, 18.279508590698242, 18.311309814453125, 18.53331184387207, 18.652311325073242, 18.720388412475586, 18.83356285095215, 19.010025024414062, 19.707752227783203]}\n",
      "{1: [-5.8650755363487406e-08, -5.8650755363487406e-08, -5.8650755363487406e-08, -5.8650755363487406e-08, -5.8650755363487406e-08, -5.8650755363487406e-08, -5.8650755363487406e-08, -3.1325612326327246e-08], 2: [0.5381649732589722, 0.6858596801757812, 0.7316057085990906, 0.7641369104385376, 0.9612938761711121, 1.0489051342010498, 1.1034791469573975, 1.4825382232666016, 1.5913779735565186, 1.7978336811065674, 1.873953938484192, 2.020122528076172, 2.039480209350586, 2.0467302799224854, 2.189974546432495, 2.209318161010742, 2.311479330062866, 2.481335163116455, 2.4979405403137207, 2.564596176147461, 2.776054859161377, 3.1205623149871826, 3.2918107509613037, 3.6509850025177, 3.704589366912842, 3.8984315395355225, 4.437590599060059, 4.4589972496032715], 3: [2.9188807010650635, 3.0008511543273926, 3.161351442337036, 3.2221996784210205, 3.3113224506378174, 3.323850154876709, 3.381774663925171, 3.3879027366638184, 3.505613327026367, 3.5341992378234863, 3.56095290184021, 3.7003493309020996, 3.779829978942871, 4.067930221557617, 4.381168365478516, 4.488547325134277, 4.576578617095947, 4.601325511932373, 4.745736122131348, 4.839920997619629, 5.063151836395264, 5.132021903991699, 5.355677127838135, 5.415145397186279, 5.476200580596924, 5.478207588195801, 5.4994635581970215, 5.594046592712402, 5.6704325675964355, 5.74991512298584, 5.764372825622559, 5.827713966369629, 5.84138822555542, 5.869184970855713, 5.922643184661865, 5.92627477645874, 5.944492816925049, 6.069081783294678, 6.1368513107299805, 6.188616752624512, 6.273932933807373, 6.297623157501221, 6.507407188415527, 6.5366010665893555, 6.580680847167969, 6.695498466491699, 6.776831150054932, 6.8151350021362305, 6.85284948348999, 6.8892693519592285, 7.0328288078308105, 7.177714824676514, 7.439732551574707, 7.880023956298828, 8.202162742614746, 8.682584762573242], 4: [6.24760627746582, 6.324199676513672, 6.506560802459717, 6.832946300506592, 6.914088249206543, 6.95161247253418, 6.980766773223877, 7.075849533081055, 7.140136241912842, 7.157829284667969, 7.231941223144531, 7.247106075286865, 7.250922679901123, 7.2687907218933105, 7.274712562561035, 7.280121326446533, 7.457739353179932, 7.478150367736816, 7.532944202423096, 7.551476955413818, 7.7341532707214355, 7.824644088745117, 7.83167028427124, 7.849008083343506, 8.049696922302246, 8.070780754089355, 8.117449760437012, 8.200793266296387, 8.236564636230469, 8.336377143859863, 8.45097541809082, 8.66212272644043, 8.758726119995117, 9.088241577148438, 9.18006420135498, 9.230707168579102, 9.33250904083252, 9.335838317871094, 9.508005142211914, 9.525201797485352, 9.541841506958008, 9.560523986816406, 9.562410354614258, 9.654914855957031, 9.808350563049316, 9.900408744812012, 9.949318885803223, 9.967077255249023, 10.106513977050781, 10.112083435058594, 10.205713272094727, 10.301316261291504, 10.389721870422363, 10.475203514099121, 10.55512523651123, 10.595373153686523, 10.627140045166016, 10.646526336669922, 10.729869842529297, 10.878870010375977, 10.882104873657227, 10.9861478805542, 11.063339233398438, 11.265294075012207, 11.331015586853027, 11.364656448364258, 11.605597496032715, 11.693190574645996, 11.7128324508667, 11.939286231994629], 5: [10.260485649108887, 10.590782165527344, 10.714911460876465, 10.823293685913086, 10.99155044555664, 11.005206108093262, 11.032575607299805, 11.051434516906738, 11.062278747558594, 11.144973754882812, 11.216931343078613, 11.32426929473877, 11.349228858947754, 11.570112228393555, 11.600279808044434, 11.687111854553223, 11.776810646057129, 11.808547973632812, 11.898726463317871, 11.983023643493652, 12.003832817077637, 12.022697448730469, 12.112910270690918, 12.137131690979004, 12.263130187988281, 12.316740989685059, 12.416329383850098, 12.431681632995605, 12.585260391235352, 12.667482376098633, 12.684357643127441, 12.95192813873291, 13.007606506347656, 13.066763877868652, 13.255420684814453, 13.279017448425293, 13.599747657775879, 13.862637519836426, 13.969439506530762, 14.174800872802734, 14.180302619934082, 14.386519432067871, 14.554313659667969, 14.696110725402832, 14.698344230651855, 14.933730125427246, 14.936511993408203, 14.948365211486816, 15.055564880371094, 15.23043441772461, 15.300909996032715, 15.344135284423828, 15.36922550201416, 15.545612335205078, 15.611734390258789, 16.494464874267578]}\n",
      "{1: [-5.8650755363487406e-08, -5.8650755363487406e-08, -5.8650755363487406e-08, -5.8650755363487406e-08, -3.1325612326327246e-08, -3.1325612326327246e-08, -3.1325612326327246e-08, -3.1325612326327246e-08], 2: [0.14735333621501923, 0.2933184504508972, 0.3179704546928406, 0.39020660519599915, 0.47556400299072266, 0.5496513843536377, 0.640119194984436, 1.0205423831939697, 1.2785335779190063, 1.4952788352966309, 1.5573238134384155, 1.6585596799850464, 1.7900500297546387, 1.9783449172973633, 1.9923856258392334, 2.1390652656555176, 2.156373977661133, 2.2979094982147217, 2.437380313873291, 2.4650230407714844, 2.575159788131714, 2.6502785682678223, 3.1267149448394775, 3.169654130935669, 3.310534715652466, 3.558854103088379, 3.6182351112365723, 4.953500270843506], 3: [2.255497455596924, 2.6040046215057373, 2.6799490451812744, 2.688904285430908, 2.9212732315063477, 2.942117214202881, 3.1262869834899902, 3.136167526245117, 3.2488651275634766, 3.323272943496704, 3.369370698928833, 3.390983819961548, 3.5054988861083984, 3.6150259971618652, 3.7879745960235596, 3.9145689010620117, 4.133939266204834, 4.17608118057251, 4.392552375793457, 4.414639472961426, 4.445314407348633, 4.479567050933838, 4.486377716064453, 4.606509208679199, 4.798121452331543, 4.807802200317383, 4.880630016326904, 4.981606483459473, 5.277064323425293, 5.4190354347229, 5.423194408416748, 5.575281620025635, 5.6386027336120605, 5.6696367263793945, 5.710612773895264, 5.780340671539307, 5.803576946258545, 5.814301013946533, 5.947227954864502, 6.040040016174316, 6.063772201538086, 6.113864421844482, 6.114830493927002, 6.243262767791748, 6.439668655395508, 6.715297222137451, 6.717073917388916, 6.932347774505615, 7.05565881729126, 7.170496940612793, 7.259881973266602, 7.422735691070557, 7.602785587310791, 7.682298183441162, 8.22488784790039, 9.12136459350586], 4: [5.737279891967773, 5.771214962005615, 5.797093391418457, 6.05518913269043, 6.24151086807251, 6.255815029144287, 6.324471950531006, 6.43411922454834, 6.723191261291504, 6.755817413330078, 6.81376314163208, 6.837686061859131, 6.870340824127197, 6.871927261352539, 6.9235734939575195, 6.924386024475098, 7.027444362640381, 7.079878330230713, 7.087747573852539, 7.1286821365356445, 7.286738872528076, 7.315476417541504, 7.578643798828125, 7.612890243530273, 7.896740913391113, 7.92031192779541, 8.076410293579102, 8.146584510803223, 8.229337692260742, 8.277807235717773, 8.352944374084473, 8.448630332946777, 8.500658988952637, 8.526262283325195, 8.533336639404297, 8.591989517211914, 8.594874382019043, 8.601402282714844, 8.852012634277344, 8.871944427490234, 8.899378776550293, 8.968968391418457, 9.252408981323242, 9.407787322998047, 9.408195495605469, 9.554165840148926, 9.576202392578125, 9.656554222106934, 9.705069541931152, 9.836701393127441, 9.874001502990723, 9.877232551574707, 10.034335136413574, 10.139456748962402, 10.195148468017578, 10.230257987976074, 10.424448013305664, 10.502774238586426, 10.634750366210938, 11.00389289855957, 11.060872077941895, 11.065396308898926, 11.338802337646484, 11.35605239868164, 11.358274459838867, 11.665206909179688, 11.894774436950684, 12.097688674926758, 12.502355575561523, 12.713529586791992], 5: [9.896749496459961, 9.970232009887695, 9.987607955932617, 9.99480152130127, 10.005184173583984, 10.043357849121094, 10.078204154968262, 10.250713348388672, 10.426355361938477, 10.709477424621582, 10.88159465789795, 11.004473686218262, 11.031734466552734, 11.047285079956055, 11.080853462219238, 11.117926597595215, 11.158473014831543, 11.327407836914062, 11.378273963928223, 11.405046463012695, 11.412585258483887, 11.606010437011719, 11.779973030090332, 11.956604957580566, 12.03111743927002, 12.21528148651123, 12.516019821166992, 12.52318286895752, 12.529529571533203, 12.549727439880371, 12.717819213867188, 12.762816429138184, 12.802650451660156, 13.027356147766113, 13.074416160583496, 13.251971244812012, 13.300619125366211, 13.325846672058105, 13.477584838867188, 13.512237548828125, 13.696497917175293, 13.864208221435547, 13.9168119430542, 14.15975284576416, 14.223429679870605, 14.23333740234375, 14.546010971069336, 14.837726593017578, 14.952704429626465, 15.196613311767578, 15.343173027038574, 15.573175430297852, 15.857351303100586, 15.888401985168457, 16.21361541748047, 17.000415802001953]}\n",
      "{1: [-5.8650755363487406e-08, -5.8650755363487406e-08, -5.8650755363487406e-08, -5.8650755363487406e-08, -5.8650755363487406e-08, -5.8650755363487406e-08, -5.8650755363487406e-08, -3.1325612326327246e-08], 2: [0.0017662462778389454, 0.03750940039753914, 0.059045277535915375, 0.11577939242124557, 0.1454627811908722, 0.19022779166698456, 0.298615038394928, 0.6669187545776367, 0.9526621103286743, 1.1117874383926392, 1.1164630651474, 1.3214472532272339, 1.4818421602249146, 1.4824360609054565, 1.6113874912261963, 1.6761146783828735, 1.9161325693130493, 1.9491180181503296, 1.9599274396896362, 2.046386480331421, 2.2319693565368652, 2.2718706130981445, 2.4088332653045654, 2.6839418411254883, 2.8603358268737793, 3.334670305252075, 3.3990371227264404, 3.7441487312316895], 3: [1.6141180992126465, 1.6430696249008179, 1.7758100032806396, 2.033100128173828, 2.174668550491333, 2.4866182804107666, 2.5297653675079346, 2.575112819671631, 2.8084781169891357, 2.851212501525879, 2.8555688858032227, 2.903397560119629, 2.98000431060791, 2.981877326965332, 3.084238290786743, 3.28949236869812, 3.3417370319366455, 3.4982123374938965, 3.5061330795288086, 3.5412514209747314, 3.5887179374694824, 3.6665091514587402, 3.686558961868286, 3.7401463985443115, 3.944305896759033, 4.153748989105225, 4.220568656921387, 4.266490936279297, 4.274829864501953, 4.279672622680664, 4.292333126068115, 4.485076427459717, 4.549887180328369, 4.56491756439209, 4.714045524597168, 4.738199234008789, 4.752155780792236, 4.768368721008301, 4.970362663269043, 5.1334123611450195, 5.1688361167907715, 5.195328712463379, 5.2527174949646, 5.483067035675049, 5.515942573547363, 5.7056355476379395, 5.712963581085205, 5.849236011505127, 5.933967113494873, 5.956516265869141, 6.041741847991943, 6.183655261993408, 6.4090657234191895, 6.549749374389648, 6.858002662658691, 7.6146063804626465], 4: [4.7001166343688965, 4.706582546234131, 4.962526798248291, 5.075768947601318, 5.170016288757324, 5.172345161437988, 5.232644557952881, 5.40284538269043, 5.449123859405518, 5.468519687652588, 5.670803070068359, 5.691145896911621, 5.7597856521606445, 5.765141010284424, 5.818637847900391, 6.03495454788208, 6.07649564743042, 6.148175239562988, 6.173898220062256, 6.298941612243652, 6.323554992675781, 6.442683696746826, 6.503708839416504, 6.629262447357178, 6.7028937339782715, 6.744058609008789, 6.775588512420654, 6.830631256103516, 6.832427024841309, 6.848555564880371, 6.902216911315918, 6.951751708984375, 6.993832111358643, 7.012834548950195, 7.087532043457031, 7.13937520980835, 7.19168758392334, 7.3055243492126465, 7.348856449127197, 7.372437477111816, 7.386154651641846, 7.767176151275635, 7.79608678817749, 7.798485279083252, 7.8628644943237305, 7.932910919189453, 8.061474800109863, 8.199922561645508, 8.219758987426758, 8.328012466430664, 8.390870094299316, 8.391002655029297, 8.503059387207031, 8.554744720458984, 8.57872200012207, 8.620824813842773, 8.668439865112305, 8.71772289276123, 8.771671295166016, 9.045926094055176, 9.06711483001709, 9.19394302368164, 9.223125457763672, 9.485638618469238, 9.645132064819336, 10.043087005615234, 10.148981094360352, 10.196966171264648, 10.5471773147583, 10.90226936340332], 5: [8.266084671020508, 8.41930866241455, 8.529393196105957, 8.540301322937012, 8.618484497070312, 8.741011619567871, 8.810240745544434, 8.876233100891113, 8.903514862060547, 9.151710510253906, 9.344311714172363, 9.35042953491211, 9.352426528930664, 9.40593433380127, 9.499080657958984, 9.524077415466309, 9.552569389343262, 9.588688850402832, 9.603503227233887, 9.854397773742676, 9.95425796508789, 10.013995170593262, 10.133878707885742, 10.185272216796875, 10.267668724060059, 10.305290222167969, 10.490229606628418, 10.583027839660645, 10.604373931884766, 10.755118370056152, 10.758624076843262, 10.782444953918457, 10.95211410522461, 11.004254341125488, 11.022135734558105, 11.022165298461914, 11.065142631530762, 11.11033821105957, 11.123459815979004, 11.222646713256836, 11.473520278930664, 11.501546859741211, 11.597713470458984, 11.854567527770996, 12.190279960632324, 12.212484359741211, 12.333318710327148, 12.588959693908691, 12.74046516418457, 12.749252319335938, 12.898026466369629, 12.949233055114746, 13.08525562286377, 13.273300170898438, 13.63637924194336, 14.590389251708984]}\n",
      "{1: [-8.597589840064757e-08, -5.8650755363487406e-08, -5.8650755363487406e-08, -5.8650755363487406e-08, -5.8650755363487406e-08, -5.8650755363487406e-08, -5.8650755363487406e-08, -5.8650755363487406e-08], 2: [-0.0004521970695350319, -0.00024031444627325982, 0.0071226065047085285, 0.016934005543589592, 0.030589427798986435, 0.09185536205768585, 0.13132284581661224, 0.2775208055973053, 0.3952200412750244, 0.4518160820007324, 0.646840512752533, 0.7177901864051819, 0.9105008840560913, 1.105772852897644, 1.38821280002594, 1.483202338218689, 1.5425952672958374, 1.6660186052322388, 1.9228347539901733, 2.1333658695220947, 2.1687703132629395, 2.205942392349243, 2.4104039669036865, 2.4329025745391846, 2.5325803756713867, 2.9234535694122314, 3.65328311920166, 3.7742221355438232], 3: [0.9743972420692444, 0.9815385937690735, 1.052897334098816, 1.0794521570205688, 1.109065055847168, 1.2481456995010376, 2.4269392490386963, 2.4476704597473145, 2.6029484272003174, 2.643291473388672, 2.7118327617645264, 2.802518844604492, 2.859928607940674, 2.8732476234436035, 2.8989834785461426, 2.9513468742370605, 2.9592878818511963, 2.969247817993164, 3.0535356998443604, 3.1047356128692627, 3.1104252338409424, 3.135092258453369, 3.156588077545166, 3.1664581298828125, 3.1776485443115234, 3.1928586959838867, 3.3081374168395996, 3.3179404735565186, 3.416201114654541, 3.635502576828003, 3.671417474746704, 3.9347329139709473, 4.0440874099731445, 4.109648704528809, 4.225726127624512, 4.238874435424805, 4.290197372436523, 4.519279479980469, 4.536528587341309, 4.549807071685791, 4.580801010131836, 4.642982006072998, 4.770520210266113, 4.857956409454346, 4.874968528747559, 5.217770576477051, 5.229722499847412, 5.353671073913574, 5.529781341552734, 5.699665069580078, 5.955222129821777, 6.262306213378906, 6.316612243652344, 6.38862943649292, 6.605443954467773, 6.861505031585693], 4: [3.8930609226226807, 3.916163921356201, 4.118868350982666, 4.134397506713867, 4.139995574951172, 4.153416633605957, 4.196018695831299, 4.210404396057129, 4.273465156555176, 4.318542003631592, 4.448221683502197, 4.505130290985107, 4.692257404327393, 5.057051658630371, 5.270585536956787, 5.5592041015625, 5.6302971839904785, 5.738550662994385, 5.824301242828369, 5.844611644744873, 5.872195243835449, 5.881079196929932, 5.903316974639893, 5.980055809020996, 6.014327049255371, 6.049129962921143, 6.087299823760986, 6.165783405303955, 6.208307266235352, 6.32538366317749, 6.333575248718262, 6.335739612579346, 6.344884395599365, 6.3618903160095215, 6.442346096038818, 6.465179443359375, 6.609501361846924, 6.665748119354248, 6.7212958335876465, 6.722382545471191, 6.894308567047119, 6.9783549308776855, 7.070590019226074, 7.121554374694824, 7.188165187835693, 7.209773063659668, 7.214441299438477, 7.232153415679932, 7.323790073394775, 7.417995452880859, 7.481476306915283, 7.485673427581787, 7.5167412757873535, 7.5285797119140625, 7.600306987762451, 7.754248142242432, 7.860182285308838, 7.913136959075928, 8.164809226989746, 8.36240291595459, 8.582959175109863, 8.690967559814453, 8.691191673278809, 8.916143417358398, 9.239115715026855, 9.29862117767334, 9.317139625549316, 9.586530685424805, 9.677128791809082, 10.393243789672852], 5: [7.315514087677002, 7.462600231170654, 7.544538974761963, 7.585920810699463, 7.605229377746582, 7.651037693023682, 7.65395975112915, 7.682310581207275, 7.701476097106934, 7.768506050109863, 7.784657955169678, 8.152924537658691, 8.167181968688965, 8.217184066772461, 8.309601783752441, 8.413994789123535, 8.47050952911377, 8.490346908569336, 8.608564376831055, 8.710102081298828, 9.006559371948242, 9.116790771484375, 9.322710990905762, 9.38980770111084, 9.437729835510254, 9.45312786102295, 9.709290504455566, 9.779143333435059, 9.877668380737305, 9.882488250732422, 9.984238624572754, 10.2035493850708, 10.210984230041504, 10.23752498626709, 10.295218467712402, 10.320534706115723, 10.359147071838379, 10.451998710632324, 10.475395202636719, 10.48068904876709, 10.518464088439941, 10.615219116210938, 10.697577476501465, 10.786362648010254, 10.805987358093262, 10.837827682495117, 11.08722972869873, 11.158468246459961, 11.378022193908691, 11.646873474121094, 11.947402954101562, 11.964568138122559, 12.06032657623291, 12.248454093933105, 13.056783676147461, 13.757390022277832]}\n",
      "{1: [-5.8650755363487406e-08, -5.8650755363487406e-08, -5.8650755363487406e-08, -5.8650755363487406e-08, -5.8650755363487406e-08, -5.8650755363487406e-08, -5.8650755363487406e-08, -3.1325612326327246e-08], 2: [0.041499052196741104, 0.043307624757289886, 0.056817203760147095, 0.06340723484754562, 0.09803491085767746, 0.12220122665166855, 0.2234196811914444, 0.2616313397884369, 0.4486127197742462, 0.5426607728004456, 0.6852670311927795, 0.7149423360824585, 0.7959973812103271, 1.2310307025909424, 1.3675503730773926, 1.4243083000183105, 1.7478322982788086, 2.02225661277771, 2.065824031829834, 2.329019069671631, 2.3722007274627686, 2.4725000858306885, 2.857198476791382, 3.1387546062469482, 3.310450553894043, 3.409050226211548, 3.8777503967285156, 4.877874374389648], 3: [1.0422430038452148, 1.1795862913131714, 1.3111426830291748, 1.4397227764129639, 1.455673098564148, 1.5247379541397095, 2.02313494682312, 2.1532061100006104, 2.193493127822876, 2.4619123935699463, 2.4951765537261963, 2.7831006050109863, 2.7874293327331543, 2.8231005668640137, 2.90358304977417, 3.27751088142395, 3.2966017723083496, 3.3107643127441406, 3.3404762744903564, 3.347313404083252, 3.364318370819092, 3.518251657485962, 3.5511837005615234, 3.5598530769348145, 3.603632926940918, 3.7017314434051514, 3.7691562175750732, 3.89676833152771, 4.043193817138672, 4.145000457763672, 4.202219009399414, 4.35195255279541, 4.385468006134033, 4.437230587005615, 4.484113693237305, 4.7535576820373535, 4.894783020019531, 4.904332637786865, 4.964684963226318, 5.087975978851318, 5.102920055389404, 5.215575218200684, 5.526525497436523, 5.561096668243408, 5.759344577789307, 5.780121326446533, 6.191882133483887, 6.284331798553467, 6.458468437194824, 6.5674896240234375, 6.59057092666626, 7.128698825836182, 7.311596870422363, 7.5578765869140625, 8.419187545776367, 9.182439804077148], 4: [4.12062931060791, 4.129608631134033, 4.171219825744629, 4.184904098510742, 4.185242652893066, 4.260124206542969, 4.372300624847412, 4.513123512268066, 4.650506496429443, 4.811070442199707, 4.980021953582764, 5.11991548538208, 5.179044723510742, 5.238750457763672, 5.2572021484375, 5.558919906616211, 5.6801533699035645, 5.695089340209961, 5.705313682556152, 5.879700660705566, 5.985290050506592, 6.254639625549316, 6.319168567657471, 6.319367408752441, 6.508301734924316, 6.5204081535339355, 6.524260997772217, 6.664260387420654, 6.732670307159424, 6.754594326019287, 6.846376419067383, 6.8761982917785645, 7.040412425994873, 7.052163124084473, 7.123385429382324, 7.159017562866211, 7.174705505371094, 7.251554012298584, 7.315634250640869, 7.558306694030762, 7.597412109375, 7.714234352111816, 7.725088596343994, 7.7357869148254395, 8.017433166503906, 8.021544456481934, 8.06968879699707, 8.200947761535645, 8.383894920349121, 8.43826961517334, 8.544600486755371, 8.62785816192627, 8.708312034606934, 8.843899726867676, 8.993670463562012, 9.002860069274902, 9.028303146362305, 9.20854663848877, 9.349803924560547, 9.476617813110352, 9.633442878723145, 9.98960018157959, 10.272537231445312, 10.50868034362793, 10.596054077148438, 10.745149612426758, 10.863713264465332, 11.891459465026855, 11.966391563415527, 12.907647132873535], 5: [7.33160924911499, 7.364808082580566, 7.577066898345947, 7.695242404937744, 7.700346946716309, 7.979174613952637, 7.994994163513184, 7.99842643737793, 8.096095085144043, 8.42094898223877, 8.467979431152344, 8.502263069152832, 8.799036979675293, 8.812908172607422, 9.035821914672852, 9.152828216552734, 9.270020484924316, 9.320745468139648, 9.460891723632812, 9.538064002990723, 9.766708374023438, 9.818669319152832, 9.844415664672852, 10.004603385925293, 10.142754554748535, 10.327866554260254, 10.403304100036621, 10.69034194946289, 10.717062950134277, 10.822136878967285, 10.971283912658691, 11.044461250305176, 11.07304573059082, 11.076128005981445, 11.221501350402832, 11.304301261901855, 11.344043731689453, 11.505428314208984, 11.657682418823242, 11.968155860900879, 12.131050109863281, 12.285099029541016, 12.361159324645996, 12.438179969787598, 12.49024772644043, 12.981327056884766, 13.033670425415039, 13.170108795166016, 13.335477828979492, 13.336288452148438, 13.514811515808105, 14.19017505645752, 14.329154014587402, 14.405332565307617, 14.996468544006348, 16.379531860351562]}\n",
      "{1: [-8.597589840064757e-08, -5.8650755363487406e-08, -5.8650755363487406e-08, -5.8650755363487406e-08, -5.8650755363487406e-08, -5.8650755363487406e-08, -5.8650755363487406e-08, -3.1325612326327246e-08], 2: [0.011787120252847672, 0.018357545137405396, 0.01920473203063011, 0.028485048562288284, 0.03230829909443855, 0.04064511880278587, 0.12784548103809357, 1.114014983177185, 1.2918308973312378, 1.3129210472106934, 1.4739946126937866, 1.5233432054519653, 1.659056305885315, 2.3315868377685547, 2.6928517818450928, 2.7922861576080322, 2.816654920578003, 2.873598098754883, 3.3676133155822754, 3.4115045070648193, 3.5192768573760986, 3.629570484161377, 3.71156907081604, 3.7653329372406006, 3.7924697399139404, 4.126407146453857, 5.112758636474609, 5.234996795654297], 3: [1.487654685974121, 1.6739648580551147, 1.7187711000442505, 1.8499771356582642, 1.8840214014053345, 2.001927614212036, 2.5985050201416016, 2.9473490715026855, 3.0533461570739746, 3.0619938373565674, 3.1045689582824707, 3.624276876449585, 3.6293187141418457, 3.6470072269439697, 3.8410909175872803, 3.889024257659912, 4.005155563354492, 4.015382289886475, 4.316863059997559, 4.436944007873535, 4.665223121643066, 4.768825054168701, 4.773048400878906, 4.969644546508789, 5.123292922973633, 5.265913486480713, 5.295226573944092, 5.298986434936523, 5.3448357582092285, 5.484042644500732, 5.518503665924072, 5.58823823928833, 5.718301296234131, 6.013267517089844, 6.475490570068359, 6.581588268280029, 6.772929668426514, 6.905573844909668, 6.925142765045166, 7.0249552726745605, 7.322790145874023, 7.4418792724609375, 7.527151584625244, 7.970222473144531, 7.981462001800537, 8.01165771484375, 8.050931930541992, 8.079442024230957, 8.147356986999512, 8.274587631225586, 8.646392822265625, 8.999252319335938, 9.039179801940918, 9.337884902954102, 9.457566261291504, 9.792851448059082], 4: [4.809946537017822, 5.080409526824951, 5.141756057739258, 5.157448768615723, 5.346652030944824, 5.548741340637207, 5.684463977813721, 5.783369541168213, 5.871613502502441, 5.941920757293701, 5.97146463394165, 6.099950790405273, 6.3810858726501465, 6.750041961669922, 7.09417724609375, 7.172049522399902, 7.180833339691162, 7.192402362823486, 7.300045013427734, 7.589106559753418, 7.7078728675842285, 7.783742904663086, 8.215009689331055, 8.215860366821289, 8.278446197509766, 8.314510345458984, 8.343011856079102, 8.393708229064941, 8.540802001953125, 8.713752746582031, 8.904084205627441, 9.078439712524414, 9.083924293518066, 9.166214942932129, 9.241676330566406, 9.290688514709473, 9.437397003173828, 9.55418586730957, 9.575756072998047, 9.630363464355469, 9.716506004333496, 9.88571834564209, 9.95721435546875, 9.97415828704834, 10.007051467895508, 10.079354286193848, 10.103761672973633, 10.158099174499512, 10.375160217285156, 10.647555351257324, 10.886963844299316, 11.020790100097656, 11.22020435333252, 11.265140533447266, 11.685457229614258, 11.698901176452637, 11.766000747680664, 12.159707069396973, 12.23480224609375, 12.264206886291504, 12.847136497497559, 13.08952808380127, 13.142372131347656, 13.275752067565918, 13.29388427734375, 13.39220142364502, 13.541544914245605, 14.141756057739258, 14.224264144897461, 14.74172592163086], 5: [9.157004356384277, 9.465119361877441, 9.469857215881348, 9.619081497192383, 9.811256408691406, 10.007184028625488, 10.017986297607422, 10.309348106384277, 10.344472885131836, 10.407814979553223, 10.461996078491211, 10.488451957702637, 10.673879623413086, 10.782431602478027, 11.15870475769043, 11.396791458129883, 11.53227710723877, 11.644950866699219, 11.671957015991211, 11.976981163024902, 12.044035911560059, 12.09775161743164, 12.426532745361328, 12.529706001281738, 12.539681434631348, 13.146062850952148, 13.358716011047363, 13.416491508483887, 13.559520721435547, 13.566849708557129, 13.655410766601562, 13.806843757629395, 13.94365119934082, 14.023665428161621, 14.337445259094238, 14.38669204711914, 14.450139045715332, 14.487564086914062, 14.488858222961426, 14.99728012084961, 14.999781608581543, 15.28451919555664, 15.292402267456055, 15.396267890930176, 15.40167236328125, 15.498058319091797, 15.647248268127441, 16.154882431030273, 16.192089080810547, 16.743738174438477, 17.53181266784668, 17.59398078918457, 17.95789909362793, 18.359514236450195, 18.976383209228516, 19.544509887695312]}\n",
      "{1: [-5.8650755363487406e-08, -5.8650755363487406e-08, -5.8650755363487406e-08, -5.8650755363487406e-08, -5.8650755363487406e-08, -5.8650755363487406e-08, -5.8650755363487406e-08, -5.8650755363487406e-08], 2: [0.1738298535346985, 0.18263089656829834, 0.18699100613594055, 0.2085280418395996, 0.21994701027870178, 0.24086250364780426, 0.28468436002731323, 2.0241260528564453, 2.2106401920318604, 2.2131507396698, 2.4701342582702637, 2.577319383621216, 2.794173240661621, 2.8254177570343018, 3.045269250869751, 3.1107337474823, 3.2420973777770996, 3.4776840209960938, 3.639202833175659, 3.7555830478668213, 3.7789242267608643, 4.089491844177246, 4.248197078704834, 4.284181594848633, 4.298933029174805, 4.31907320022583, 5.13180685043335, 5.532055377960205], 3: [2.4703826904296875, 2.660047769546509, 2.6801929473876953, 2.885788917541504, 2.9645707607269287, 3.168462038040161, 3.269638776779175, 3.5393757820129395, 3.5818121433258057, 3.6859517097473145, 3.862121105194092, 4.1198225021362305, 4.187153339385986, 4.239831924438477, 4.461101055145264, 4.540503025054932, 4.5879292488098145, 4.704037189483643, 4.70564079284668, 5.526510238647461, 5.765908241271973, 5.83498477935791, 5.976131916046143, 6.076085567474365, 6.173202037811279, 6.3207879066467285, 6.394395351409912, 6.621208667755127, 6.6690568923950195, 6.67704963684082, 6.7846879959106445, 6.790541648864746, 7.114972114562988, 7.248460292816162, 7.346393585205078, 7.495931148529053, 7.574213981628418, 7.745183944702148, 7.8299126625061035, 7.927719593048096, 7.958705425262451, 8.267590522766113, 8.271662712097168, 8.40494155883789, 8.421680450439453, 8.52682876586914, 8.661613464355469, 8.675287246704102, 8.773845672607422, 8.885528564453125, 9.343876838684082, 9.620267868041992, 9.790666580200195, 9.833767890930176, 9.857004165649414, 9.962403297424316], 4: [6.322383880615234, 6.501898288726807, 6.572090148925781, 6.645751476287842, 6.772038459777832, 6.928301811218262, 7.1193389892578125, 7.148369789123535, 7.149466037750244, 7.238061904907227, 7.307879447937012, 7.591274261474609, 7.690842628479004, 7.842657566070557, 7.9745941162109375, 8.05441951751709, 8.273102760314941, 8.31008529663086, 8.413390159606934, 8.434508323669434, 8.738038063049316, 8.7671480178833, 8.857768058776855, 8.919696807861328, 8.99948501586914, 9.149110794067383, 9.16247844696045, 9.245447158813477, 9.307999610900879, 9.825545310974121, 10.101914405822754, 10.168463706970215, 10.252898216247559, 10.286460876464844, 10.397156715393066, 10.481827735900879, 10.560125350952148, 10.653746604919434, 10.889001846313477, 11.001826286315918, 11.199552536010742, 11.20287799835205, 11.248502731323242, 11.372971534729004, 11.50979995727539, 11.641538619995117, 11.686410903930664, 11.705135345458984, 11.7515287399292, 12.258674621582031, 12.337153434753418, 12.3768949508667, 12.583995819091797, 12.65230941772461, 12.706684112548828, 12.726917266845703, 12.92414379119873, 13.127196311950684, 13.162166595458984, 13.170701026916504, 13.709630012512207, 13.837787628173828, 13.96998405456543, 14.079795837402344, 14.2565279006958, 14.436738014221191, 14.472772598266602, 14.502473831176758, 14.73781967163086, 15.375447273254395], 5: [11.008810997009277, 11.053719520568848, 11.150620460510254, 11.424365043640137, 11.489092826843262, 11.700624465942383, 11.73046588897705, 11.777497291564941, 11.906471252441406, 12.005412101745605, 12.14084529876709, 12.20741081237793, 12.2272310256958, 12.233650207519531, 12.803817749023438, 12.862513542175293, 12.909627914428711, 13.083311080932617, 13.153763771057129, 13.22616195678711, 13.242981910705566, 13.405316352844238, 13.634303092956543, 13.641470909118652, 13.651143074035645, 14.191980361938477, 14.323482513427734, 14.455208778381348, 14.579580307006836, 14.755125999450684, 14.888039588928223, 14.944436073303223, 14.999673843383789, 15.210376739501953, 15.727946281433105, 15.85443115234375, 15.878020286560059, 16.241117477416992, 16.262527465820312, 16.28021812438965, 16.806438446044922, 16.848953247070312, 16.953704833984375, 17.123306274414062, 17.278722763061523, 17.345014572143555, 17.403297424316406, 17.481908798217773, 17.769319534301758, 18.298139572143555, 18.714147567749023, 18.750932693481445, 18.907075881958008, 19.421310424804688, 20.0600528717041, 20.34728240966797]}\n"
     ]
    }
   ],
   "source": [
    "data_directory = r'Data\\Kuramoto_data\\Traditional'\n",
    "metrics = [InfoTopo, TC, DTC, Sinfo, Oinfo, RedundancyphiID, SynergyphiID]\n",
    "timeseries_percentage = 1\n",
    "window_percentage = 0.5\n",
    "step_percentage = 0.05\n",
    "\n",
    "main(data_directory, metrics, timeseries_percentage, window_percentage, step_percentage)"
   ]
  }
 ],
 "metadata": {
  "kernelspec": {
   "display_name": "base",
   "language": "python",
   "name": "python3"
  },
  "language_info": {
   "codemirror_mode": {
    "name": "ipython",
    "version": 3
   },
   "file_extension": ".py",
   "mimetype": "text/x-python",
   "name": "python",
   "nbconvert_exporter": "python",
   "pygments_lexer": "ipython3",
   "version": "3.12.4"
  }
 },
 "nbformat": 4,
 "nbformat_minor": 5
}

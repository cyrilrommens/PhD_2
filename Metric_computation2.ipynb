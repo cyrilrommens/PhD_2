{
 "cells": [
  {
   "cell_type": "markdown",
   "id": "f3c97e84",
   "metadata": {},
   "source": [
    "Import libraries"
   ]
  },
  {
   "cell_type": "code",
   "execution_count": 49,
   "id": "eea4be5c",
   "metadata": {},
   "outputs": [],
   "source": [
    "import numpy as np\n",
    "import pandas as pd\n",
    "import os\n",
    "import pickle\n",
    "import glob\n",
    "from collections import defaultdict\n",
    "import matplotlib.pyplot as plt\n",
    "from hoi.metrics import InfoTopo, TC, DTC, Sinfo, Oinfo, RedundancyphiID, SynergyphiID\n",
    "from hoi.core import entropy_hist"
   ]
  },
  {
   "cell_type": "markdown",
   "id": "eec32e06",
   "metadata": {},
   "source": [
    "Define functions"
   ]
  },
  {
   "cell_type": "code",
   "execution_count": 64,
   "id": "465ee0a8",
   "metadata": {},
   "outputs": [],
   "source": [
    "# --- Core Functions ---\n",
    "def compute_information_metric(metric_class, data):\n",
    "    \"\"\"Compute information metric on data using a given metric class.\"\"\"\n",
    "    data_array = np.array(data, dtype=float)\n",
    "    model = metric_class(data_array)\n",
    "    result = model.fit(minsize=2, maxsize=5)\n",
    "    return result, model\n",
    "\n",
    "def divide_list_by_order(values, model):\n",
    "    \"\"\"Divide values into groups by interaction order.\"\"\"\n",
    "    orders = model.order\n",
    "    grouped = defaultdict(list)\n",
    "    for order, val in zip(orders, values):\n",
    "        grouped[order].append(val.item())\n",
    "    return {k: sorted(v) for k, v in grouped.items()}\n",
    "\n",
    "def analyse_information_metric(metric_class, data):\n",
    "    \"\"\"Analyze data using a specified metric and return grouped results.\"\"\"\n",
    "    values, model = compute_information_metric(metric_class, data)\n",
    "    return divide_list_by_order(values, model)\n",
    "\n",
    "def sliding_window_analysis(metric_class, timeseries, window_size, step_size):\n",
    "    \"\"\"Apply a metric using a sliding window over a time series.\"\"\"\n",
    "    results = []\n",
    "    for start in range(0, len(timeseries) - window_size, step_size):\n",
    "        window_data = timeseries[start:start + window_size]\n",
    "        result = analyse_information_metric(metric_class, window_data)\n",
    "        results.append(dict(result))\n",
    "    return results\n",
    "\n",
    "def average_metric_data(simulations):\n",
    "    \"\"\"Prepare averaged metric data for heatmap visualization.\"\"\"\n",
    "    key_indices = set(\n",
    "        (k, idx) for sim in simulations for step in sim for k, v in step.items() for idx in range(len(v))\n",
    "    )\n",
    "    sorted_keys = sorted(key_indices)\n",
    "\n",
    "    data = []\n",
    "    for t in range(len(simulations[0])):\n",
    "        avg_step = {\n",
    "            (k, idx): np.mean([sim[t].get(k, [0.0]*(idx+1))[idx] for sim in simulations])\n",
    "            for k, idx in sorted_keys\n",
    "        }\n",
    "        data.append([avg_step[(k, idx)] for k, idx in sorted_keys])\n",
    "\n",
    "    label_pos = {k: max(i for i, (key, _) in enumerate(sorted_keys) if key == k) for k, _ in sorted_keys}\n",
    "    labels = list(label_pos.keys())\n",
    "\n",
    "    return np.array(data), labels, label_pos\n",
    "\n",
    "def compute_simulation_averages(metric_sims):\n",
    "    \"\"\"Average metric values across simulations and time.\"\"\"\n",
    "    all_sim_averages = [\n",
    "        [np.mean([val for values in step.values() for val in values]) for step in sim]\n",
    "        for sim in metric_sims\n",
    "    ]\n",
    "    combined_avg = np.mean(all_sim_averages, axis=0)\n",
    "    return (*all_sim_averages, combined_avg)\n",
    "\n",
    "def compute_synergy_redundancy_CR(metric_results):\n",
    "    redundancy_new = []\n",
    "    synergy_new = []\n",
    "\n",
    "    for sim1, sim2 in zip(metric_results['InfoTopo'], metric_results['TC']):\n",
    "        redundancy_sim = []\n",
    "        synergy_sim = []\n",
    "        for step1, step2 in zip(sim1, sim2):\n",
    "            keys = set(step1.keys()) | set(step2.keys())\n",
    "            redundancy_step = {}\n",
    "            synergy_step = {}\n",
    "            for k in keys:\n",
    "                vals1 = step1.get(k, [])\n",
    "                vals2 = step2.get(k, [])\n",
    "                max_len = max(len(vals1), len(vals2))\n",
    "                v1 = np.array(vals1 + [0.0] * (max_len - len(vals1)))\n",
    "                v2 = np.array(vals2 + [0.0] * (max_len - len(vals2)))\n",
    "                redundancy_step[k] = ((v1 + v2) / 2).tolist()\n",
    "                synergy_step[k] = ((v2 - v1) / 2).tolist()\n",
    "            redundancy_sim.append(redundancy_step)\n",
    "            synergy_sim.append(synergy_step)\n",
    "        redundancy_new.append(redundancy_sim)\n",
    "        synergy_new.append(synergy_sim)\n",
    "\n",
    "    metric_results[\"Redundancy_CR\"] = redundancy_new\n",
    "    metric_results[\"Synergy_CR\"] = synergy_new\n",
    "\n",
    "def compute_average_TC(metric_results):\n",
    "    TC_average = []\n",
    "    for sim in metric_results['TC']:\n",
    "        TC_sim = []\n",
    "        for step in sim:\n",
    "            TC_step = {}\n",
    "            for k, vals in step.items():\n",
    "                if vals:  # Avoid division by zero\n",
    "                    avg = sum(vals) / len(vals)\n",
    "                    TC_step[k] = [avg] * len(vals)\n",
    "                else:\n",
    "                    TC_step[k] = []\n",
    "            TC_sim.append(TC_step)\n",
    "        TC_average.append(TC_sim)\n",
    "    metric_results[\"TC_average\"] = TC_average\n",
    "\n",
    "# --- Data Loading ---\n",
    "def load_csv_files_from_directory(directory):\n",
    "    return glob.glob(os.path.join(directory, '*.csv'))\n",
    "\n",
    "def read_and_trim_csv(file_path, num_rows=100):\n",
    "    return pd.read_csv(file_path).iloc[:num_rows]\n",
    "\n",
    "# --- Main Execution ---\n",
    "def main(data_dir, metrics_classes=[InfoTopo, TC, Oinfo], timeseries_percentage=1, window_percentage=0.5, step_percentage=0.1):\n",
    "    files = load_csv_files_from_directory(data_dir)\n",
    "\n",
    "    metric_results = {}\n",
    "    for metric in metrics_classes:\n",
    "        metric_name = metric.__name__\n",
    "        all_sims = []\n",
    "        for file_path in files:\n",
    "            df = read_and_trim_csv(file_path)\n",
    "            df_length = int(timeseries_percentage * len(df))\n",
    "            df = df[:df_length]\n",
    "            window = int(window_percentage * len(df))\n",
    "            step = int(step_percentage * len(df))\n",
    "            sim_result = sliding_window_analysis(metric, df, window, step)\n",
    "            all_sims.append(sim_result)\n",
    "        metric_results[metric_name] = all_sims\n",
    "\n",
    "    compute_synergy_redundancy_CR(metric_results)\n",
    "    compute_average_TC(metric_results)\n",
    "\n",
    "    heatmap_data = {k: average_metric_data(v) for k, v in metric_results.items()}\n",
    "    averages_data = {k: compute_simulation_averages(v) for k, v in metric_results.items()}\n",
    "\n",
    "    heatmap_path = os.path.join(data_dir, \"heatmap_data.pkl\")\n",
    "    averages_path = os.path.join(data_dir, \"averages_data.pkl\")\n",
    "\n",
    "    with open(heatmap_path, \"wb\") as f:\n",
    "        pickle.dump(heatmap_data, f)\n",
    "\n",
    "    with open(averages_path, \"wb\") as f:\n",
    "        pickle.dump(averages_data, f)"
   ]
  },
  {
   "cell_type": "markdown",
   "id": "a962e7f0",
   "metadata": {},
   "source": [
    "Check the length of the timeseries in the desired dataset"
   ]
  },
  {
   "cell_type": "code",
   "execution_count": 51,
   "id": "645d44be",
   "metadata": {},
   "outputs": [
    {
     "data": {
      "text/plain": [
       "100"
      ]
     },
     "execution_count": 51,
     "metadata": {},
     "output_type": "execute_result"
    }
   ],
   "source": [
    "directory = r'Data\\Artificial_data\\Redundant_timeseries'\n",
    "csv_files = glob.glob(os.path.join(directory, '*.csv'))\n",
    "df = pd.read_csv(csv_files[0])\n",
    "len(df)"
   ]
  },
  {
   "cell_type": "markdown",
   "id": "f86ae139",
   "metadata": {},
   "source": [
    "Compute and store the desired metrics"
   ]
  },
  {
   "cell_type": "code",
   "execution_count": 63,
   "id": "5b66672a",
   "metadata": {},
   "outputs": [
    {
     "name": "stderr",
     "output_type": "stream",
     "text": [
      "Compute entropy with gc\n",
      "    Copnorm and demean the data\n",
      "Get list of multiplets\n"
     ]
    },
    {
     "data": {
      "application/vnd.jupyter.widget-view+json": {
       "model_id": "d8467389dda04d69819349c712326037",
       "version_major": 2,
       "version_minor": 0
      },
      "text/plain": [
       "  0%|          |  0/5 [00:00<?,       ?it/s]"
      ]
     },
     "metadata": {},
     "output_type": "display_data"
    },
    {
     "name": "stderr",
     "output_type": "stream",
     "text": [
      "Get list of multiplets\n"
     ]
    },
    {
     "data": {
      "application/vnd.jupyter.widget-view+json": {
       "model_id": "65e16697a0dc4aeab7b241fcd793f22f",
       "version_major": 2,
       "version_minor": 0
      },
      "text/plain": [
       "  0%|          | 0/627 [00:00<?, ?it/s]"
      ]
     },
     "metadata": {},
     "output_type": "display_data"
    },
    {
     "name": "stderr",
     "output_type": "stream",
     "text": [
      "Compute entropy with gc\n",
      "    Copnorm and demean the data\n",
      "Get list of multiplets\n"
     ]
    },
    {
     "data": {
      "application/vnd.jupyter.widget-view+json": {
       "model_id": "c5565363df9543daaf013f2b4ad36526",
       "version_major": 2,
       "version_minor": 0
      },
      "text/plain": [
       "  0%|          |  0/5 [00:00<?,       ?it/s]"
      ]
     },
     "metadata": {},
     "output_type": "display_data"
    },
    {
     "name": "stderr",
     "output_type": "stream",
     "text": [
      "Get list of multiplets\n"
     ]
    },
    {
     "data": {
      "application/vnd.jupyter.widget-view+json": {
       "model_id": "78b566cd5e8a419ab5f5a5886d016e8f",
       "version_major": 2,
       "version_minor": 0
      },
      "text/plain": [
       "  0%|          | 0/627 [00:00<?, ?it/s]"
      ]
     },
     "metadata": {},
     "output_type": "display_data"
    },
    {
     "name": "stderr",
     "output_type": "stream",
     "text": [
      "Compute entropy with gc\n",
      "    Copnorm and demean the data\n",
      "Get list of multiplets\n"
     ]
    },
    {
     "data": {
      "application/vnd.jupyter.widget-view+json": {
       "model_id": "0932c7bd91c442229b11b602ede358d4",
       "version_major": 2,
       "version_minor": 0
      },
      "text/plain": [
       "  0%|          |  0/5 [00:00<?,       ?it/s]"
      ]
     },
     "metadata": {},
     "output_type": "display_data"
    },
    {
     "name": "stderr",
     "output_type": "stream",
     "text": [
      "Get list of multiplets\n"
     ]
    },
    {
     "data": {
      "application/vnd.jupyter.widget-view+json": {
       "model_id": "e16afae683b24e518bf82a72ccc11226",
       "version_major": 2,
       "version_minor": 0
      },
      "text/plain": [
       "  0%|          | 0/627 [00:00<?, ?it/s]"
      ]
     },
     "metadata": {},
     "output_type": "display_data"
    },
    {
     "name": "stderr",
     "output_type": "stream",
     "text": [
      "Compute entropy with gc\n",
      "    Copnorm and demean the data\n",
      "Get list of multiplets\n"
     ]
    },
    {
     "data": {
      "application/vnd.jupyter.widget-view+json": {
       "model_id": "9adf816a332448d9aef850dc2c2a5054",
       "version_major": 2,
       "version_minor": 0
      },
      "text/plain": [
       "  0%|          |  0/5 [00:00<?,       ?it/s]"
      ]
     },
     "metadata": {},
     "output_type": "display_data"
    },
    {
     "name": "stderr",
     "output_type": "stream",
     "text": [
      "Get list of multiplets\n"
     ]
    },
    {
     "data": {
      "application/vnd.jupyter.widget-view+json": {
       "model_id": "7d85f2d92a124b5e816962cceacb154e",
       "version_major": 2,
       "version_minor": 0
      },
      "text/plain": [
       "  0%|          | 0/627 [00:00<?, ?it/s]"
      ]
     },
     "metadata": {},
     "output_type": "display_data"
    },
    {
     "name": "stderr",
     "output_type": "stream",
     "text": [
      "Compute entropy with gc\n",
      "    Copnorm and demean the data\n",
      "Get list of multiplets\n"
     ]
    },
    {
     "data": {
      "application/vnd.jupyter.widget-view+json": {
       "model_id": "9d88eb53ffdd4de8ace4ccaca4babad8",
       "version_major": 2,
       "version_minor": 0
      },
      "text/plain": [
       "  0%|          |  0/5 [00:00<?,       ?it/s]"
      ]
     },
     "metadata": {},
     "output_type": "display_data"
    },
    {
     "name": "stderr",
     "output_type": "stream",
     "text": [
      "Get list of multiplets\n"
     ]
    },
    {
     "data": {
      "application/vnd.jupyter.widget-view+json": {
       "model_id": "115e28f0bd8c45e89e83d8b6460c50f6",
       "version_major": 2,
       "version_minor": 0
      },
      "text/plain": [
       "  0%|          | 0/627 [00:00<?, ?it/s]"
      ]
     },
     "metadata": {},
     "output_type": "display_data"
    },
    {
     "name": "stderr",
     "output_type": "stream",
     "text": [
      "Compute entropy with gc\n",
      "    Copnorm and demean the data\n",
      "Get list of multiplets\n"
     ]
    },
    {
     "data": {
      "application/vnd.jupyter.widget-view+json": {
       "model_id": "b8498ab8c3fb432c9786c46143fffae0",
       "version_major": 2,
       "version_minor": 0
      },
      "text/plain": [
       "  0%|          |  0/5 [00:00<?,       ?it/s]"
      ]
     },
     "metadata": {},
     "output_type": "display_data"
    },
    {
     "name": "stderr",
     "output_type": "stream",
     "text": [
      "Get list of multiplets\n"
     ]
    },
    {
     "data": {
      "application/vnd.jupyter.widget-view+json": {
       "model_id": "5a5ef52938294c89bde4072dba1c68a1",
       "version_major": 2,
       "version_minor": 0
      },
      "text/plain": [
       "  0%|          | 0/627 [00:00<?, ?it/s]"
      ]
     },
     "metadata": {},
     "output_type": "display_data"
    },
    {
     "name": "stderr",
     "output_type": "stream",
     "text": [
      "Compute entropy with gc\n",
      "    Copnorm and demean the data\n",
      "Get list of multiplets\n"
     ]
    },
    {
     "data": {
      "application/vnd.jupyter.widget-view+json": {
       "model_id": "de62e8dbec0e4af4b324ee6defd3f4da",
       "version_major": 2,
       "version_minor": 0
      },
      "text/plain": [
       "  0%|          |  0/5 [00:00<?,       ?it/s]"
      ]
     },
     "metadata": {},
     "output_type": "display_data"
    },
    {
     "name": "stderr",
     "output_type": "stream",
     "text": [
      "Get list of multiplets\n"
     ]
    },
    {
     "data": {
      "application/vnd.jupyter.widget-view+json": {
       "model_id": "a3a0b8b5f62b4436b5f47686353c81c2",
       "version_major": 2,
       "version_minor": 0
      },
      "text/plain": [
       "  0%|          | 0/627 [00:00<?, ?it/s]"
      ]
     },
     "metadata": {},
     "output_type": "display_data"
    },
    {
     "name": "stderr",
     "output_type": "stream",
     "text": [
      "Compute entropy with gc\n",
      "    Copnorm and demean the data\n",
      "Get list of multiplets\n"
     ]
    },
    {
     "data": {
      "application/vnd.jupyter.widget-view+json": {
       "model_id": "70631f0a6f6b48a499236acc77c7936a",
       "version_major": 2,
       "version_minor": 0
      },
      "text/plain": [
       "  0%|          |  0/5 [00:00<?,       ?it/s]"
      ]
     },
     "metadata": {},
     "output_type": "display_data"
    },
    {
     "name": "stderr",
     "output_type": "stream",
     "text": [
      "Get list of multiplets\n"
     ]
    },
    {
     "data": {
      "application/vnd.jupyter.widget-view+json": {
       "model_id": "3aacab0adeff41fbaadc7c696a629cf8",
       "version_major": 2,
       "version_minor": 0
      },
      "text/plain": [
       "  0%|          | 0/627 [00:00<?, ?it/s]"
      ]
     },
     "metadata": {},
     "output_type": "display_data"
    },
    {
     "name": "stderr",
     "output_type": "stream",
     "text": [
      "Compute entropy with gc\n",
      "    Copnorm and demean the data\n",
      "Get list of multiplets\n"
     ]
    },
    {
     "data": {
      "application/vnd.jupyter.widget-view+json": {
       "model_id": "1cd94142a6ae44618b3e1e8e627a6378",
       "version_major": 2,
       "version_minor": 0
      },
      "text/plain": [
       "  0%|          |  0/5 [00:00<?,       ?it/s]"
      ]
     },
     "metadata": {},
     "output_type": "display_data"
    },
    {
     "name": "stderr",
     "output_type": "stream",
     "text": [
      "Get list of multiplets\n"
     ]
    },
    {
     "data": {
      "application/vnd.jupyter.widget-view+json": {
       "model_id": "5ed0d821bb204b079534c2250b3b34fc",
       "version_major": 2,
       "version_minor": 0
      },
      "text/plain": [
       "  0%|          | 0/627 [00:00<?, ?it/s]"
      ]
     },
     "metadata": {},
     "output_type": "display_data"
    },
    {
     "name": "stderr",
     "output_type": "stream",
     "text": [
      "    Copnorm and demean the data\n",
      "Get list of multiplets\n"
     ]
    },
    {
     "data": {
      "application/vnd.jupyter.widget-view+json": {
       "model_id": "b2cc218d2a17460fb190f1895edccb5e",
       "version_major": 2,
       "version_minor": 0
      },
      "text/plain": [
       "  0%|          |  0/4 [00:00<?,       ?it/s]"
      ]
     },
     "metadata": {},
     "output_type": "display_data"
    },
    {
     "name": "stderr",
     "output_type": "stream",
     "text": [
      "    Copnorm and demean the data\n",
      "Get list of multiplets\n"
     ]
    },
    {
     "data": {
      "application/vnd.jupyter.widget-view+json": {
       "model_id": "3a90d3c2df16472e9ec0ad01b7c716cf",
       "version_major": 2,
       "version_minor": 0
      },
      "text/plain": [
       "  0%|          |  0/4 [00:00<?,       ?it/s]"
      ]
     },
     "metadata": {},
     "output_type": "display_data"
    },
    {
     "name": "stderr",
     "output_type": "stream",
     "text": [
      "    Copnorm and demean the data\n",
      "Get list of multiplets\n"
     ]
    },
    {
     "data": {
      "application/vnd.jupyter.widget-view+json": {
       "model_id": "6f6adaba78274bd0abb96afc84ec0c10",
       "version_major": 2,
       "version_minor": 0
      },
      "text/plain": [
       "  0%|          |  0/4 [00:00<?,       ?it/s]"
      ]
     },
     "metadata": {},
     "output_type": "display_data"
    },
    {
     "name": "stderr",
     "output_type": "stream",
     "text": [
      "    Copnorm and demean the data\n",
      "Get list of multiplets\n"
     ]
    },
    {
     "data": {
      "application/vnd.jupyter.widget-view+json": {
       "model_id": "00c87bb44c8a4dfebaac7b826398c2e6",
       "version_major": 2,
       "version_minor": 0
      },
      "text/plain": [
       "  0%|          |  0/4 [00:00<?,       ?it/s]"
      ]
     },
     "metadata": {},
     "output_type": "display_data"
    },
    {
     "name": "stderr",
     "output_type": "stream",
     "text": [
      "    Copnorm and demean the data\n",
      "Get list of multiplets\n"
     ]
    },
    {
     "data": {
      "application/vnd.jupyter.widget-view+json": {
       "model_id": "a2f3494735814402a62d12156e5208c5",
       "version_major": 2,
       "version_minor": 0
      },
      "text/plain": [
       "  0%|          |  0/4 [00:00<?,       ?it/s]"
      ]
     },
     "metadata": {},
     "output_type": "display_data"
    },
    {
     "name": "stderr",
     "output_type": "stream",
     "text": [
      "    Copnorm and demean the data\n",
      "Get list of multiplets\n"
     ]
    },
    {
     "data": {
      "application/vnd.jupyter.widget-view+json": {
       "model_id": "ef0a0f231b254fd5839812fc2d0917a0",
       "version_major": 2,
       "version_minor": 0
      },
      "text/plain": [
       "  0%|          |  0/4 [00:00<?,       ?it/s]"
      ]
     },
     "metadata": {},
     "output_type": "display_data"
    },
    {
     "name": "stderr",
     "output_type": "stream",
     "text": [
      "    Copnorm and demean the data\n",
      "Get list of multiplets\n"
     ]
    },
    {
     "data": {
      "application/vnd.jupyter.widget-view+json": {
       "model_id": "c545b15270c449ba94c70ca797d55a61",
       "version_major": 2,
       "version_minor": 0
      },
      "text/plain": [
       "  0%|          |  0/4 [00:00<?,       ?it/s]"
      ]
     },
     "metadata": {},
     "output_type": "display_data"
    },
    {
     "name": "stderr",
     "output_type": "stream",
     "text": [
      "    Copnorm and demean the data\n",
      "Get list of multiplets\n"
     ]
    },
    {
     "data": {
      "application/vnd.jupyter.widget-view+json": {
       "model_id": "49060ccfa76d4ae3a3bebb35cd0c923e",
       "version_major": 2,
       "version_minor": 0
      },
      "text/plain": [
       "  0%|          |  0/4 [00:00<?,       ?it/s]"
      ]
     },
     "metadata": {},
     "output_type": "display_data"
    },
    {
     "name": "stderr",
     "output_type": "stream",
     "text": [
      "    Copnorm and demean the data\n",
      "Get list of multiplets\n"
     ]
    },
    {
     "data": {
      "application/vnd.jupyter.widget-view+json": {
       "model_id": "a43fa0fbaad3496c896c16adef7b622d",
       "version_major": 2,
       "version_minor": 0
      },
      "text/plain": [
       "  0%|          |  0/4 [00:00<?,       ?it/s]"
      ]
     },
     "metadata": {},
     "output_type": "display_data"
    },
    {
     "name": "stderr",
     "output_type": "stream",
     "text": [
      "    Copnorm and demean the data\n",
      "Get list of multiplets\n"
     ]
    },
    {
     "data": {
      "application/vnd.jupyter.widget-view+json": {
       "model_id": "f2d14b15e06b4a73be27e1c6df2b25a8",
       "version_major": 2,
       "version_minor": 0
      },
      "text/plain": [
       "  0%|          |  0/4 [00:00<?,       ?it/s]"
      ]
     },
     "metadata": {},
     "output_type": "display_data"
    },
    {
     "name": "stderr",
     "output_type": "stream",
     "text": [
      "    Copnorm and demean the data\n",
      "Get list of multiplets\n"
     ]
    },
    {
     "data": {
      "application/vnd.jupyter.widget-view+json": {
       "model_id": "bfc788c60c6245c8acf6919aae781841",
       "version_major": 2,
       "version_minor": 0
      },
      "text/plain": [
       "  0%|          |  0/4 [00:00<?,       ?it/s]"
      ]
     },
     "metadata": {},
     "output_type": "display_data"
    },
    {
     "name": "stderr",
     "output_type": "stream",
     "text": [
      "    Copnorm and demean the data\n",
      "Get list of multiplets\n"
     ]
    },
    {
     "data": {
      "application/vnd.jupyter.widget-view+json": {
       "model_id": "fe8f238307df4338b3c87f509eb027f5",
       "version_major": 2,
       "version_minor": 0
      },
      "text/plain": [
       "  0%|          |  0/4 [00:00<?,       ?it/s]"
      ]
     },
     "metadata": {},
     "output_type": "display_data"
    },
    {
     "name": "stderr",
     "output_type": "stream",
     "text": [
      "    Copnorm and demean the data\n",
      "Get list of multiplets\n"
     ]
    },
    {
     "data": {
      "application/vnd.jupyter.widget-view+json": {
       "model_id": "54b3c6e8564344a5b2e1eef4c3d9e448",
       "version_major": 2,
       "version_minor": 0
      },
      "text/plain": [
       "  0%|          |  0/4 [00:00<?,       ?it/s]"
      ]
     },
     "metadata": {},
     "output_type": "display_data"
    },
    {
     "name": "stderr",
     "output_type": "stream",
     "text": [
      "    Copnorm and demean the data\n",
      "Get list of multiplets\n"
     ]
    },
    {
     "data": {
      "application/vnd.jupyter.widget-view+json": {
       "model_id": "d9bb3393d9c24c37a728e34755c52ef1",
       "version_major": 2,
       "version_minor": 0
      },
      "text/plain": [
       "  0%|          |  0/4 [00:00<?,       ?it/s]"
      ]
     },
     "metadata": {},
     "output_type": "display_data"
    },
    {
     "name": "stderr",
     "output_type": "stream",
     "text": [
      "    Copnorm and demean the data\n",
      "Get list of multiplets\n"
     ]
    },
    {
     "data": {
      "application/vnd.jupyter.widget-view+json": {
       "model_id": "3ea513e610a4416e8aac5641e47a1426",
       "version_major": 2,
       "version_minor": 0
      },
      "text/plain": [
       "  0%|          |  0/4 [00:00<?,       ?it/s]"
      ]
     },
     "metadata": {},
     "output_type": "display_data"
    },
    {
     "name": "stderr",
     "output_type": "stream",
     "text": [
      "    Copnorm and demean the data\n",
      "Get list of multiplets\n"
     ]
    },
    {
     "data": {
      "application/vnd.jupyter.widget-view+json": {
       "model_id": "ffa973072db1436a8453a2d8b15636d4",
       "version_major": 2,
       "version_minor": 0
      },
      "text/plain": [
       "  0%|          |  0/4 [00:00<?,       ?it/s]"
      ]
     },
     "metadata": {},
     "output_type": "display_data"
    },
    {
     "name": "stderr",
     "output_type": "stream",
     "text": [
      "    Copnorm and demean the data\n",
      "Get list of multiplets\n"
     ]
    },
    {
     "data": {
      "application/vnd.jupyter.widget-view+json": {
       "model_id": "935090d980f142308e8f9b7a34cdf689",
       "version_major": 2,
       "version_minor": 0
      },
      "text/plain": [
       "  0%|          |  0/4 [00:00<?,       ?it/s]"
      ]
     },
     "metadata": {},
     "output_type": "display_data"
    },
    {
     "name": "stderr",
     "output_type": "stream",
     "text": [
      "    Copnorm and demean the data\n",
      "Get list of multiplets\n"
     ]
    },
    {
     "data": {
      "application/vnd.jupyter.widget-view+json": {
       "model_id": "6961c0b7de3441d188f6ab3e31d1fd15",
       "version_major": 2,
       "version_minor": 0
      },
      "text/plain": [
       "  0%|          |  0/4 [00:00<?,       ?it/s]"
      ]
     },
     "metadata": {},
     "output_type": "display_data"
    },
    {
     "name": "stderr",
     "output_type": "stream",
     "text": [
      "    Copnorm and demean the data\n",
      "Get list of multiplets\n"
     ]
    },
    {
     "data": {
      "application/vnd.jupyter.widget-view+json": {
       "model_id": "a93083bdf6454770af4a2dd0cb3b3ef0",
       "version_major": 2,
       "version_minor": 0
      },
      "text/plain": [
       "  0%|          |  0/4 [00:00<?,       ?it/s]"
      ]
     },
     "metadata": {},
     "output_type": "display_data"
    },
    {
     "name": "stderr",
     "output_type": "stream",
     "text": [
      "    Copnorm and demean the data\n",
      "Get list of multiplets\n"
     ]
    },
    {
     "data": {
      "application/vnd.jupyter.widget-view+json": {
       "model_id": "adb399d2c8824e9e90deca0f1e13d885",
       "version_major": 2,
       "version_minor": 0
      },
      "text/plain": [
       "  0%|          |  0/4 [00:00<?,       ?it/s]"
      ]
     },
     "metadata": {},
     "output_type": "display_data"
    },
    {
     "name": "stderr",
     "output_type": "stream",
     "text": [
      "    Copnorm and demean the data\n",
      "Get list of multiplets\n"
     ]
    },
    {
     "data": {
      "application/vnd.jupyter.widget-view+json": {
       "model_id": "ae33a503de4d4572a2c821af960c4f96",
       "version_major": 2,
       "version_minor": 0
      },
      "text/plain": [
       "  0%|          |  0/4 [00:00<?,       ?it/s]"
      ]
     },
     "metadata": {},
     "output_type": "display_data"
    },
    {
     "name": "stderr",
     "output_type": "stream",
     "text": [
      "    Copnorm and demean the data\n",
      "Get list of multiplets\n"
     ]
    },
    {
     "data": {
      "application/vnd.jupyter.widget-view+json": {
       "model_id": "a222945230a24851afbb54bfa3469587",
       "version_major": 2,
       "version_minor": 0
      },
      "text/plain": [
       "  0%|          |  0/4 [00:00<?,       ?it/s]"
      ]
     },
     "metadata": {},
     "output_type": "display_data"
    },
    {
     "name": "stderr",
     "output_type": "stream",
     "text": [
      "    Copnorm and demean the data\n",
      "Get list of multiplets\n"
     ]
    },
    {
     "data": {
      "application/vnd.jupyter.widget-view+json": {
       "model_id": "a940baa6ef3341ba988147ac23a52d42",
       "version_major": 2,
       "version_minor": 0
      },
      "text/plain": [
       "  0%|          |  0/4 [00:00<?,       ?it/s]"
      ]
     },
     "metadata": {},
     "output_type": "display_data"
    },
    {
     "name": "stderr",
     "output_type": "stream",
     "text": [
      "    Copnorm and demean the data\n",
      "Get list of multiplets\n"
     ]
    },
    {
     "data": {
      "application/vnd.jupyter.widget-view+json": {
       "model_id": "e88b5835f94448abbe5be4d9ea9d146f",
       "version_major": 2,
       "version_minor": 0
      },
      "text/plain": [
       "  0%|          |  0/4 [00:00<?,       ?it/s]"
      ]
     },
     "metadata": {},
     "output_type": "display_data"
    },
    {
     "name": "stderr",
     "output_type": "stream",
     "text": [
      "    Copnorm and demean the data\n",
      "Get list of multiplets\n"
     ]
    },
    {
     "data": {
      "application/vnd.jupyter.widget-view+json": {
       "model_id": "2f2cc1c08db0479b99506d249070d39b",
       "version_major": 2,
       "version_minor": 0
      },
      "text/plain": [
       "  0%|          |  0/4 [00:00<?,       ?it/s]"
      ]
     },
     "metadata": {},
     "output_type": "display_data"
    },
    {
     "name": "stderr",
     "output_type": "stream",
     "text": [
      "    Copnorm and demean the data\n",
      "Get list of multiplets\n"
     ]
    },
    {
     "data": {
      "application/vnd.jupyter.widget-view+json": {
       "model_id": "3fe096cc53af443f9f007a32c833b2ba",
       "version_major": 2,
       "version_minor": 0
      },
      "text/plain": [
       "  0%|          |  0/4 [00:00<?,       ?it/s]"
      ]
     },
     "metadata": {},
     "output_type": "display_data"
    },
    {
     "name": "stderr",
     "output_type": "stream",
     "text": [
      "    Copnorm and demean the data\n",
      "Get list of multiplets\n"
     ]
    },
    {
     "data": {
      "application/vnd.jupyter.widget-view+json": {
       "model_id": "95fb41bc9e3f4c0b9855898a3666099d",
       "version_major": 2,
       "version_minor": 0
      },
      "text/plain": [
       "  0%|          |  0/4 [00:00<?,       ?it/s]"
      ]
     },
     "metadata": {},
     "output_type": "display_data"
    },
    {
     "name": "stderr",
     "output_type": "stream",
     "text": [
      "    Copnorm and demean the data\n",
      "Get list of multiplets\n"
     ]
    },
    {
     "data": {
      "application/vnd.jupyter.widget-view+json": {
       "model_id": "e2cd99c19c534c08a303591ff1d738cc",
       "version_major": 2,
       "version_minor": 0
      },
      "text/plain": [
       "  0%|          |  0/4 [00:00<?,       ?it/s]"
      ]
     },
     "metadata": {},
     "output_type": "display_data"
    },
    {
     "name": "stderr",
     "output_type": "stream",
     "text": [
      "    Copnorm and demean the data\n",
      "Get list of multiplets\n"
     ]
    },
    {
     "data": {
      "application/vnd.jupyter.widget-view+json": {
       "model_id": "b50c66ff5f6045f1bd9edb1206ddd69e",
       "version_major": 2,
       "version_minor": 0
      },
      "text/plain": [
       "  0%|          |  0/4 [00:00<?,       ?it/s]"
      ]
     },
     "metadata": {},
     "output_type": "display_data"
    },
    {
     "name": "stderr",
     "output_type": "stream",
     "text": [
      "    Copnorm and demean the data\n",
      "Get list of multiplets\n"
     ]
    },
    {
     "data": {
      "application/vnd.jupyter.widget-view+json": {
       "model_id": "488a6c060463430da1dc7c6203dcdcc5",
       "version_major": 2,
       "version_minor": 0
      },
      "text/plain": [
       "  0%|          |  0/4 [00:00<?,       ?it/s]"
      ]
     },
     "metadata": {},
     "output_type": "display_data"
    },
    {
     "name": "stderr",
     "output_type": "stream",
     "text": [
      "    Copnorm and demean the data\n",
      "Get list of multiplets\n"
     ]
    },
    {
     "data": {
      "application/vnd.jupyter.widget-view+json": {
       "model_id": "7d749545385b4be7b123d78133099528",
       "version_major": 2,
       "version_minor": 0
      },
      "text/plain": [
       "  0%|          |  0/4 [00:00<?,       ?it/s]"
      ]
     },
     "metadata": {},
     "output_type": "display_data"
    },
    {
     "name": "stderr",
     "output_type": "stream",
     "text": [
      "    Copnorm and demean the data\n",
      "Get list of multiplets\n"
     ]
    },
    {
     "data": {
      "application/vnd.jupyter.widget-view+json": {
       "model_id": "b4964c3724c145fca33839abc46d8e38",
       "version_major": 2,
       "version_minor": 0
      },
      "text/plain": [
       "  0%|          |  0/4 [00:00<?,       ?it/s]"
      ]
     },
     "metadata": {},
     "output_type": "display_data"
    },
    {
     "name": "stderr",
     "output_type": "stream",
     "text": [
      "    Copnorm and demean the data\n",
      "Get list of multiplets\n"
     ]
    },
    {
     "data": {
      "application/vnd.jupyter.widget-view+json": {
       "model_id": "57c19a6c518b46ae8d6aa82bf077f133",
       "version_major": 2,
       "version_minor": 0
      },
      "text/plain": [
       "  0%|          |  0/4 [00:00<?,       ?it/s]"
      ]
     },
     "metadata": {},
     "output_type": "display_data"
    },
    {
     "name": "stderr",
     "output_type": "stream",
     "text": [
      "    Copnorm and demean the data\n",
      "Get list of multiplets\n"
     ]
    },
    {
     "data": {
      "application/vnd.jupyter.widget-view+json": {
       "model_id": "c69116e91ad34339a5fd3f5f5df04d39",
       "version_major": 2,
       "version_minor": 0
      },
      "text/plain": [
       "  0%|          |  0/4 [00:00<?,       ?it/s]"
      ]
     },
     "metadata": {},
     "output_type": "display_data"
    },
    {
     "name": "stderr",
     "output_type": "stream",
     "text": [
      "    Copnorm and demean the data\n",
      "Get list of multiplets\n"
     ]
    },
    {
     "data": {
      "application/vnd.jupyter.widget-view+json": {
       "model_id": "9763deb97f704b26af0c8f0130f0d0fc",
       "version_major": 2,
       "version_minor": 0
      },
      "text/plain": [
       "  0%|          |  0/4 [00:00<?,       ?it/s]"
      ]
     },
     "metadata": {},
     "output_type": "display_data"
    },
    {
     "name": "stderr",
     "output_type": "stream",
     "text": [
      "    Copnorm and demean the data\n",
      "Get list of multiplets\n"
     ]
    },
    {
     "data": {
      "application/vnd.jupyter.widget-view+json": {
       "model_id": "c98a43f2db4c42f6aae23f201e16e1f9",
       "version_major": 2,
       "version_minor": 0
      },
      "text/plain": [
       "  0%|          |  0/4 [00:00<?,       ?it/s]"
      ]
     },
     "metadata": {},
     "output_type": "display_data"
    },
    {
     "name": "stderr",
     "output_type": "stream",
     "text": [
      "    Copnorm and demean the data\n",
      "Get list of multiplets\n"
     ]
    },
    {
     "data": {
      "application/vnd.jupyter.widget-view+json": {
       "model_id": "2c4d5607d83b4125b90fa11987e02159",
       "version_major": 2,
       "version_minor": 0
      },
      "text/plain": [
       "  0%|          |  0/4 [00:00<?,       ?it/s]"
      ]
     },
     "metadata": {},
     "output_type": "display_data"
    },
    {
     "name": "stderr",
     "output_type": "stream",
     "text": [
      "    Copnorm and demean the data\n",
      "Get list of multiplets\n"
     ]
    },
    {
     "data": {
      "application/vnd.jupyter.widget-view+json": {
       "model_id": "b750518f2a2f49a98ff4e6748fc59883",
       "version_major": 2,
       "version_minor": 0
      },
      "text/plain": [
       "  0%|          |  0/4 [00:00<?,       ?it/s]"
      ]
     },
     "metadata": {},
     "output_type": "display_data"
    },
    {
     "name": "stderr",
     "output_type": "stream",
     "text": [
      "    Copnorm and demean the data\n",
      "Get list of multiplets\n"
     ]
    },
    {
     "data": {
      "application/vnd.jupyter.widget-view+json": {
       "model_id": "3026ff54633149269ede032221f7356b",
       "version_major": 2,
       "version_minor": 0
      },
      "text/plain": [
       "  0%|          |  0/4 [00:00<?,       ?it/s]"
      ]
     },
     "metadata": {},
     "output_type": "display_data"
    },
    {
     "name": "stderr",
     "output_type": "stream",
     "text": [
      "    Copnorm and demean the data\n",
      "Get list of multiplets\n"
     ]
    },
    {
     "data": {
      "application/vnd.jupyter.widget-view+json": {
       "model_id": "6504916c99ee4e0bbe48be9354a005f3",
       "version_major": 2,
       "version_minor": 0
      },
      "text/plain": [
       "  0%|          |  0/4 [00:00<?,       ?it/s]"
      ]
     },
     "metadata": {},
     "output_type": "display_data"
    },
    {
     "name": "stderr",
     "output_type": "stream",
     "text": [
      "    Copnorm and demean the data\n",
      "Get list of multiplets\n"
     ]
    },
    {
     "data": {
      "application/vnd.jupyter.widget-view+json": {
       "model_id": "88ab94e743b34d42b88b2af8a9078173",
       "version_major": 2,
       "version_minor": 0
      },
      "text/plain": [
       "  0%|          |  0/4 [00:00<?,       ?it/s]"
      ]
     },
     "metadata": {},
     "output_type": "display_data"
    },
    {
     "name": "stderr",
     "output_type": "stream",
     "text": [
      "    Copnorm and demean the data\n",
      "Get list of multiplets\n"
     ]
    },
    {
     "data": {
      "application/vnd.jupyter.widget-view+json": {
       "model_id": "da4c354b80d74378a0662573740baf90",
       "version_major": 2,
       "version_minor": 0
      },
      "text/plain": [
       "  0%|          |  0/4 [00:00<?,       ?it/s]"
      ]
     },
     "metadata": {},
     "output_type": "display_data"
    },
    {
     "name": "stderr",
     "output_type": "stream",
     "text": [
      "    Copnorm and demean the data\n",
      "Get list of multiplets\n"
     ]
    },
    {
     "data": {
      "application/vnd.jupyter.widget-view+json": {
       "model_id": "c039e47a1e0a44fe8fe429c8cd850415",
       "version_major": 2,
       "version_minor": 0
      },
      "text/plain": [
       "  0%|          |  0/4 [00:00<?,       ?it/s]"
      ]
     },
     "metadata": {},
     "output_type": "display_data"
    },
    {
     "name": "stderr",
     "output_type": "stream",
     "text": [
      "    Copnorm and demean the data\n",
      "Get list of multiplets\n"
     ]
    },
    {
     "data": {
      "application/vnd.jupyter.widget-view+json": {
       "model_id": "6a72f169594e412f8f7f5be967da3060",
       "version_major": 2,
       "version_minor": 0
      },
      "text/plain": [
       "  0%|          |  0/4 [00:00<?,       ?it/s]"
      ]
     },
     "metadata": {},
     "output_type": "display_data"
    },
    {
     "name": "stderr",
     "output_type": "stream",
     "text": [
      "    Copnorm and demean the data\n",
      "Get list of multiplets\n"
     ]
    },
    {
     "data": {
      "application/vnd.jupyter.widget-view+json": {
       "model_id": "a1efae4a44f741e3ad3093f326dace5b",
       "version_major": 2,
       "version_minor": 0
      },
      "text/plain": [
       "  0%|          |  0/4 [00:00<?,       ?it/s]"
      ]
     },
     "metadata": {},
     "output_type": "display_data"
    },
    {
     "name": "stderr",
     "output_type": "stream",
     "text": [
      "    Copnorm and demean the data\n",
      "Get list of multiplets\n"
     ]
    },
    {
     "data": {
      "application/vnd.jupyter.widget-view+json": {
       "model_id": "c3133b7ac64f42b7b496f7d8c69c04a3",
       "version_major": 2,
       "version_minor": 0
      },
      "text/plain": [
       "  0%|          |  0/4 [00:00<?,       ?it/s]"
      ]
     },
     "metadata": {},
     "output_type": "display_data"
    },
    {
     "name": "stderr",
     "output_type": "stream",
     "text": [
      "    Copnorm and demean the data\n",
      "Get list of multiplets\n"
     ]
    },
    {
     "data": {
      "application/vnd.jupyter.widget-view+json": {
       "model_id": "cf17a6e2a5dc4f468ca1b1769f531f19",
       "version_major": 2,
       "version_minor": 0
      },
      "text/plain": [
       "  0%|          |  0/4 [00:00<?,       ?it/s]"
      ]
     },
     "metadata": {},
     "output_type": "display_data"
    },
    {
     "name": "stderr",
     "output_type": "stream",
     "text": [
      "    Copnorm and demean the data\n",
      "Get list of multiplets\n"
     ]
    },
    {
     "data": {
      "application/vnd.jupyter.widget-view+json": {
       "model_id": "dca3bf8f12d149df9b04c0b5cd53d971",
       "version_major": 2,
       "version_minor": 0
      },
      "text/plain": [
       "  0%|          |  0/4 [00:00<?,       ?it/s]"
      ]
     },
     "metadata": {},
     "output_type": "display_data"
    },
    {
     "name": "stderr",
     "output_type": "stream",
     "text": [
      "    Copnorm and demean the data\n",
      "Get list of multiplets\n"
     ]
    },
    {
     "data": {
      "application/vnd.jupyter.widget-view+json": {
       "model_id": "150bfda9d70246169acb4afb58a3c758",
       "version_major": 2,
       "version_minor": 0
      },
      "text/plain": [
       "  0%|          |  0/4 [00:00<?,       ?it/s]"
      ]
     },
     "metadata": {},
     "output_type": "display_data"
    },
    {
     "name": "stderr",
     "output_type": "stream",
     "text": [
      "    Copnorm and demean the data\n",
      "Get list of multiplets\n"
     ]
    },
    {
     "data": {
      "application/vnd.jupyter.widget-view+json": {
       "model_id": "65b0cac206e3442181c0e2804759b1fa",
       "version_major": 2,
       "version_minor": 0
      },
      "text/plain": [
       "  0%|          |  0/4 [00:00<?,       ?it/s]"
      ]
     },
     "metadata": {},
     "output_type": "display_data"
    },
    {
     "name": "stderr",
     "output_type": "stream",
     "text": [
      "    Copnorm and demean the data\n",
      "Get list of multiplets\n"
     ]
    },
    {
     "data": {
      "application/vnd.jupyter.widget-view+json": {
       "model_id": "096cb5706e93488eb5877d051b23ad92",
       "version_major": 2,
       "version_minor": 0
      },
      "text/plain": [
       "  0%|          |  0/4 [00:00<?,       ?it/s]"
      ]
     },
     "metadata": {},
     "output_type": "display_data"
    },
    {
     "name": "stderr",
     "output_type": "stream",
     "text": [
      "    Copnorm and demean the data\n",
      "Get list of multiplets\n"
     ]
    },
    {
     "data": {
      "application/vnd.jupyter.widget-view+json": {
       "model_id": "eeefe04cec764143b69ba115fa2efe9a",
       "version_major": 2,
       "version_minor": 0
      },
      "text/plain": [
       "  0%|          |  0/4 [00:00<?,       ?it/s]"
      ]
     },
     "metadata": {},
     "output_type": "display_data"
    },
    {
     "name": "stderr",
     "output_type": "stream",
     "text": [
      "    Copnorm and demean the data\n",
      "Get list of multiplets\n"
     ]
    },
    {
     "data": {
      "application/vnd.jupyter.widget-view+json": {
       "model_id": "b11728e159fd4ebd9b62d7b673c86e38",
       "version_major": 2,
       "version_minor": 0
      },
      "text/plain": [
       "  0%|          |  0/4 [00:00<?,       ?it/s]"
      ]
     },
     "metadata": {},
     "output_type": "display_data"
    },
    {
     "name": "stderr",
     "output_type": "stream",
     "text": [
      "    Copnorm and demean the data\n",
      "Get list of multiplets\n"
     ]
    },
    {
     "data": {
      "application/vnd.jupyter.widget-view+json": {
       "model_id": "825f41603b9f4aaaadaf140184eec752",
       "version_major": 2,
       "version_minor": 0
      },
      "text/plain": [
       "  0%|          |  0/4 [00:00<?,       ?it/s]"
      ]
     },
     "metadata": {},
     "output_type": "display_data"
    }
   ],
   "source": [
    "data_directory = r'Data\\Artificial_data\\Synergistic_timeseries'\n",
    "metrics = [InfoTopo, TC, DTC, Sinfo, Oinfo, RedundancyphiID, SynergyphiID]\n",
    "timeseries_percentage = 1\n",
    "window_percentage = 0.5\n",
    "step_percentage = 0.2\n",
    "\n",
    "main(data_directory, metrics, timeseries_percentage, window_percentage, step_percentage)"
   ]
  }
 ],
 "metadata": {
  "kernelspec": {
   "display_name": "base",
   "language": "python",
   "name": "python3"
  },
  "language_info": {
   "codemirror_mode": {
    "name": "ipython",
    "version": 3
   },
   "file_extension": ".py",
   "mimetype": "text/x-python",
   "name": "python",
   "nbconvert_exporter": "python",
   "pygments_lexer": "ipython3",
   "version": "3.12.4"
  }
 },
 "nbformat": 4,
 "nbformat_minor": 5
}
